{
  "nbformat": 4,
  "nbformat_minor": 0,
  "metadata": {
    "colab": {
      "provenance": [],
      "machine_shape": "hm",
      "gpuType": "L4"
    },
    "kernelspec": {
      "name": "python3",
      "display_name": "Python 3"
    },
    "language_info": {
      "name": "python"
    },
    "accelerator": "GPU"
  },
  "cells": [
    {
      "cell_type": "code",
      "execution_count": 31,
      "metadata": {
        "id": "ieiogELf879E"
      },
      "outputs": [],
      "source": [
        "import os\n",
        "import io\n",
        "import json\n",
        "import time\n",
        "import copy\n",
        "import glob\n",
        "import random\n",
        "import shutil\n",
        "import traceback\n",
        "import builtins\n",
        "import itertools\n",
        "from enum import Enum, auto\n",
        "from pathlib import Path\n",
        "from contextlib import contextmanager, redirect_stdout, redirect_stderr\n",
        "from dataclasses import dataclass\n",
        "from collections import defaultdict\n",
        "import numpy as np\n",
        "import matplotlib.pyplot as plt\n",
        "import matplotlib.colors as colors\n",
        "from matplotlib.figure import Figure\n",
        "from matplotlib.axes import Axes\n",
        "import torch\n",
        "from torch import Tensor\n",
        "import torch.nn.functional as F\n",
        "import torch.optim as optim\n",
        "from torch.optim.lr_scheduler import ReduceLROnPlateau\n",
        "from torch.utils.data import Dataset, DataLoader\n",
        "from tqdm import tqdm\n",
        "from google.colab import files\n",
        "from scipy.ndimage import gaussian_filter\n",
        "from scipy.stats import chi2, mannwhitneyu\n",
        "from sklearn.model_selection import StratifiedShuffleSplit\n",
        "from datetime import datetime\n",
        "import zipfile\n",
        "from typing import Iterator"
      ]
    },
    {
      "cell_type": "code",
      "source": [
        "ABSTENTION_WEIGHT = 12 # Scaling factor for loss for non-abstention on invalid inputs\n",
        "INCORRECT_ABSTENTION_PENALTY = 25 # Loss penalty for abstention on valid inpouts\n",
        "def set_seed(seed): # Set global seed\n",
        "    torch.manual_seed(seed)\n",
        "    torch.cuda.manual_seed_all(seed)\n",
        "    np.random.seed(seed)\n",
        "    random.seed(seed)\n",
        "    torch.backends.cudnn.deterministic = True\n",
        "    torch.backends.cudnn.benchmark = False\n",
        "    return seed\n",
        "seed = set_seed(1)"
      ],
      "metadata": {
        "id": "bLQ_XCFL9Apg"
      },
      "execution_count": null,
      "outputs": []
    },
    {
      "cell_type": "code",
      "source": [
        "class ArithmeticDataset(Dataset):\n",
        "    def __init__(self, data: List[Dict[str, Any]],\n",
        "                 noise_config: Dict[str, Any] = {'enabled': False, 'std': 0.0}\n",
        "                 ) -> None:\n",
        "        \"\"\"\n",
        "        Args:\n",
        "            data: Dataset of arithmetic and abstention problems\n",
        "            noise_config: Dict with keys:\n",
        "                - enabled: Boolean to enable/disable noise\n",
        "                - std: Standard deviation of Gaussian noise\n",
        "        \"\"\"\n",
        "        self.data = data\n",
        "        self.noise_config = noise_config\n",
        "\n",
        "    def __len__(self) -> int:\n",
        "        return len(self.data)\n",
        "\n",
        "    def __getitem__(self, idx: int) -> Tuple[Tensor, Tensor, Tensor]:\n",
        "        sample: Dict[str, Any] = self.data[idx]\n",
        "        numbers: Tensor = torch.tensor([sample['Argument 1'], sample['Argument 2']], # Get a sample\n",
        "                                     dtype=torch.float32)\n",
        "\n",
        "        if self.noise_config['enabled']:\n",
        "# Add random noise scaled by the value of 'std' to the dataset, aims to force the model to learn a more complex/difficult decision boundary.\n",
        "            with torch.random.fork_rng():\n",
        "                torch.manual_seed(seed)\n",
        "                noise: Tensor = torch.randn_like(numbers) * self.noise_config['std']\n",
        "                numbers = numbers + noise\n",
        "\n",
        "        # Map operators to indices\n",
        "        op_map: Dict[str, int] = {'+': 0, '-': 1, '@': 2} # @ operator means always abstain, used to test generalization to novel operators.\n",
        "        operator: Tensor = torch.tensor(op_map[sample['Operator']], dtype=torch.long)\n",
        "        result: Tensor = torch.tensor([sample['Result']], dtype=torch.float32)\n",
        "\n",
        "        # Return the tuple of tensors\n",
        "        return numbers, operator, result\n",
        "\n",
        "    @staticmethod\n",
        "    def get_train_val_test_loaders(\n",
        "        dataset_dict: Dict[str, List[Dict[str, Any]]],\n",
        "        batch_size: int = 32,\n",
        "        val_ratio: float = 0.1,\n",
        "        noise_config: Optional[Dict[str, Any]] = None\n",
        "    ) -> Tuple[DataLoader, DataLoader, DataLoader]:\n",
        "        \"\"\"\n",
        "        Create loaders for train, validation, and test sets.\n",
        "        Args:\n",
        "            dataset_dict: Dictionary containing 'train' and 'test' splits of dataset\n",
        "            batch_size: Batch size for dataloaders\n",
        "            val_ratio: Ratio of training data to use for validation\n",
        "            noise_config: Optional noise configuration dictionary\n",
        "        \"\"\"\n",
        "        # Set default noise config if none provided\n",
        "        noise_config = noise_config or {'enabled': False, 'std': 0.0}\n",
        "\n",
        "        # Keep test set separate\n",
        "        test_data: List[Dict[str, Any]] = dataset_dict['test']\n",
        "        train_full: List[Dict[str, Any]] = dataset_dict['train']\n",
        "\n",
        "        # Create stratification keys for training data\n",
        "        stratification_keys: List[str] = []\n",
        "        for item in train_full:\n",
        "            op_type: str = item['Operator']\n",
        "\n",
        "            # Determine validity\n",
        "            if op_type == '@':\n",
        "                category: str = 'invalid'\n",
        "            elif op_type == '+':\n",
        "                sum_result: float = item['Argument 1'] + item['Argument 2']\n",
        "                category = 'overflow' if sum_result > 400 else 'valid' # The category of all of these should maybe be invalid, overflow and underflow don't really add much\n",
        "            elif op_type == '-':\n",
        "                diff_result: float = item['Argument 1'] - item['Argument 2']\n",
        "                category = 'underflow' if diff_result < 0 else 'valid'\n",
        "\n",
        "            strat_key: str = f\"{op_type}_{category}\"\n",
        "            stratification_keys.append(strat_key)\n",
        "\n",
        "        # Get indices for training and validation split\n",
        "        split: StratifiedShuffleSplit = StratifiedShuffleSplit(n_splits=1, test_size=val_ratio, random_state=seed)\n",
        "        indices: np.ndarray = np.arange(len(train_full))\n",
        "        train_idx, val_idx = next(split.split(indices, stratification_keys))\n",
        "\n",
        "        # Build datasets using indices\n",
        "        train_data: List[Dict[str, Any]] = [train_full[i] for i in train_idx]\n",
        "        val_data: List[Dict[str, Any]] = [train_full[i] for i in val_idx]\n",
        "\n",
        "        # Create datasets with noise config\n",
        "        train_dataset: ArithmeticDataset = ArithmeticDataset(train_data, noise_config=noise_config)\n",
        "        val_dataset: ArithmeticDataset = ArithmeticDataset(val_data, noise_config=noise_config)\n",
        "        test_dataset: ArithmeticDataset = ArithmeticDataset(test_data, noise_config=noise_config)\n",
        "\n",
        "        # Create loaders\n",
        "        train_loader: DataLoader = DataLoader(train_dataset, batch_size=batch_size, shuffle=True)\n",
        "        val_loader: DataLoader = DataLoader(val_dataset, batch_size=batch_size, shuffle=False)\n",
        "        test_loader: DataLoader = DataLoader(test_dataset, batch_size=batch_size, shuffle=False)\n",
        "\n",
        "        return train_loader, val_loader, test_loader\n",
        "\n",
        "\n",
        "def is_invalid_computation(numbers: Tensor, operator: Tensor) -> Tensor:\n",
        "    \"\"\"Check if computation would be invalid\"\"\"\n",
        "    invalid: Tensor = torch.zeros_like(operator, dtype=torch.bool)\n",
        "\n",
        "    # For addition cases, results that would exceed 400 are invalid\n",
        "    add_mask: Tensor = (operator == 0)\n",
        "    invalid[add_mask] = (numbers[add_mask, 0] + numbers[add_mask, 1] > 400)\n",
        "\n",
        "    # For subtraction cases, results less than 0 are invalid\n",
        "    sub_mask: Tensor = (operator == 1)\n",
        "    invalid[sub_mask] = (numbers[sub_mask, 0] - numbers[sub_mask, 1] < 0)\n",
        "\n",
        "    # The @ operator makes the result automatically invalid\n",
        "    special_mask: Tensor = (operator == 2)\n",
        "    invalid[special_mask] = True\n",
        "\n",
        "    return invalid\n",
        "\n",
        "def create_boundary_test_loader(base_loader, num_samples=1000):\n",
        "    \"\"\"\n",
        "    Creates a test loader with a specific distribution of cases:\n",
        "    - 40% invalid cases (overflow/underflow)\n",
        "    - 40% boundary cases (valid but near limits)\n",
        "    - 20% easy cases (valid and far from boundaries)\n",
        "\n",
        "    Args:\n",
        "        base_loader: Original data loader\n",
        "        num_samples: Number of samples to include\n",
        "    \"\"\"\n",
        "\n",
        "    def generate_invalid_case():\n",
        "        \"\"\"Generate a case that crosses boundaries\"\"\"\n",
        "        op = random.choice(['+', '-'])\n",
        "        if op == '+':\n",
        "            # Generate sum > 400\n",
        "            result = random.randint(401, 500)\n",
        "            arg2 = random.randint(1, 200)\n",
        "            arg1 = result - arg2\n",
        "        else:\n",
        "            # Generate difference < 0\n",
        "            result = random.randint(-100, -1)\n",
        "            arg2 = random.randint(1, 200)\n",
        "            arg1 = result + arg2\n",
        "\n",
        "        return {\n",
        "            'Argument 1': arg1,\n",
        "            'Argument 2': arg2,\n",
        "            'Operator': op,\n",
        "            'Result': result\n",
        "        }\n",
        "\n",
        "    def is_boundary_case(sample):\n",
        "        \"\"\"Check if a valid sample is near the boundary\"\"\"\n",
        "        if sample['Operator'] == '+':\n",
        "            result = sample['Argument 1'] + sample['Argument 2']\n",
        "            return 350 <= result <= 400  # Within 50 of overflow boundary\n",
        "        else:\n",
        "            result = sample['Argument 1'] - sample['Argument 2']\n",
        "            return 0 <= result <= 50  # Within 50 of underflow boundary\n",
        "\n",
        "    def is_valid_case(sample):\n",
        "        \"\"\"Check if a sample is valid (within bounds)\"\"\"\n",
        "        if sample['Operator'] == '+':\n",
        "            return sample['Argument 1'] + sample['Argument 2'] <= 400\n",
        "        else:\n",
        "            return sample['Argument 1'] - sample['Argument 2'] >= 0\n",
        "\n",
        "    # Calculate desired numbers of each type\n",
        "    num_invalid = int(num_samples * 0.4)\n",
        "    num_boundary = int(num_samples * 0.4)\n",
        "    num_easy = num_samples - num_invalid - num_boundary\n",
        "\n",
        "    # Generate invalid cases\n",
        "    invalid_samples = [generate_invalid_case() for _ in range(num_invalid)]\n",
        "\n",
        "    # Collect boundary and easy cases from base loader\n",
        "    boundary_samples = []\n",
        "    easy_samples = []\n",
        "\n",
        "    for idx in range(len(base_loader.dataset.data)):\n",
        "        sample = copy.deepcopy(base_loader.dataset.data[idx])\n",
        "\n",
        "        # Calculate and store result\n",
        "        if sample['Operator'] == '+':\n",
        "            sample['Result'] = sample['Argument 1'] + sample['Argument 2']\n",
        "        else:  # '-'\n",
        "            sample['Result'] = sample['Argument 1'] - sample['Argument 2']\n",
        "\n",
        "        if not is_valid_case(sample):\n",
        "            continue\n",
        "\n",
        "        if is_boundary_case(sample):\n",
        "            if len(boundary_samples) < num_boundary:\n",
        "                boundary_samples.append(sample)\n",
        "        else:\n",
        "            if len(easy_samples) < num_easy:\n",
        "                easy_samples.append(sample)\n",
        "\n",
        "        if (len(boundary_samples) >= num_boundary and\n",
        "            len(easy_samples) >= num_easy):\n",
        "            break\n",
        "\n",
        "    # Handle cases where we don't have enough samples\n",
        "    if len(boundary_samples) < num_boundary:\n",
        "        print(f\"Warning: Only found {len(boundary_samples)} boundary samples\")\n",
        "        missing = num_boundary - len(boundary_samples)\n",
        "        num_easy = num_easy + missing // 2\n",
        "        num_invalid = num_invalid + (missing - missing // 2)\n",
        "\n",
        "    if len(easy_samples) < num_easy:\n",
        "        print(f\"Warning: Only found {len(easy_samples)} easy samples\")\n",
        "        missing = num_easy - len(easy_samples)\n",
        "        num_invalid += missing\n",
        "\n",
        "    # Combine all samples\n",
        "    selected_samples = (\n",
        "        invalid_samples[:num_invalid] +\n",
        "        boundary_samples[:len(boundary_samples)] +\n",
        "        easy_samples[:len(easy_samples)]\n",
        "    )\n",
        "    random.shuffle(selected_samples)\n",
        "\n",
        "    # Create dataset with same noise config as base loader\n",
        "    boundary_dataset = ArithmeticDataset(\n",
        "        data=selected_samples,\n",
        "        noise_config=base_loader.dataset.noise_config\n",
        "    )\n",
        "\n",
        "    # Create and return loader\n",
        "    return DataLoader(\n",
        "        boundary_dataset,\n",
        "        batch_size=base_loader.batch_size,\n",
        "        shuffle=True\n",
        "    )\n",
        "\n",
        "@contextmanager # Disable printing metrics for faster training\n",
        "def suppress_output():\n",
        "    original_stdout = os.environ.get('PYTHONUNBUFFERED')\n",
        "    original_tqdm = os.environ.get('TQDM_DISABLE')\n",
        "    original_print = builtins.print  # Save the original print function\n",
        "\n",
        "    try:\n",
        "        os.environ['PYTHONUNBUFFERED'] = '0'\n",
        "        os.environ['TQDM_DISABLE'] = '1'\n",
        "\n",
        "        # Create a dummy file-like object that just discards writes\n",
        "        dummy = io.StringIO()\n",
        "        builtins.print = lambda *args, **kwargs: None  # Replace print with no-op\n",
        "        with redirect_stdout(dummy), redirect_stderr(dummy):\n",
        "            yield\n",
        "\n",
        "    finally:\n",
        "        # Restore the environment variables\n",
        "        if original_stdout:\n",
        "            os.environ['PYTHONUNBUFFERED'] = original_stdout\n",
        "        else:\n",
        "            os.environ.pop('PYTHONUNBUFFERED', None)\n",
        "\n",
        "        if original_tqdm:\n",
        "            os.environ['TQDM_DISABLE'] = original_tqdm\n",
        "        else:\n",
        "            os.environ.pop('TQDM_DISABLE', None)\n",
        "\n",
        "        builtins.print = original_print  # Restore the original print function\n",
        "        dummy.close()"
      ],
      "metadata": {
        "id": "uoCtW2KqJzyx"
      },
      "execution_count": null,
      "outputs": []
    },
    {
      "cell_type": "code",
      "source": [
        "class ArithmeticNet(nn.Module): # Core architecture of the experiment, intentionally very simple to save on compute and minimize complexity.\n",
        "    def __init__(self, hidden_size: int = 128) -> None: # 128 Neurons\n",
        "        super().__init__()\n",
        "\n",
        "        # Input processing\n",
        "        self.num_embedder: nn.Linear = nn.Linear(2, hidden_size)\n",
        "        self.op_embedding: nn.Embedding = nn.Embedding(3, hidden_size)\n",
        "\n",
        "        # Core processing\n",
        "        self.layer1: nn.Linear = nn.Linear(hidden_size * 2, hidden_size)\n",
        "        self.layer2: nn.Linear = nn.Linear(hidden_size, hidden_size)\n",
        "        self.layer3: nn.Linear = nn.Linear(hidden_size, hidden_size//2)\n",
        "\n",
        "        # Single output - no separate abstention head\n",
        "        self.output: nn.Linear = nn.Linear(hidden_size//2, 1)\n",
        "\n",
        "    def forward(self, numbers: Tensor, operator: Tensor) -> Tensor:\n",
        "        # Embed inputs\n",
        "        num_features: Tensor = self.num_embedder(numbers)\n",
        "        op_features: Tensor = self.op_embedding(operator)\n",
        "\n",
        "        # Combine features\n",
        "        x: Tensor = torch.cat([num_features, op_features], dim=1)\n",
        "\n",
        "        # Process with residual connections for better gradient flow\n",
        "        x1: Tensor = F.relu(self.layer1(x))\n",
        "        x2: Tensor = F.relu(self.layer2(x1)) + x1\n",
        "        x3: Tensor = self.layer3(x2)\n",
        "\n",
        "        return self.output(x3)\n",
        "\n",
        "class TrainingMode(Enum):\n",
        "    \"\"\"\n",
        "    Enum defining different training modes.\n",
        "\n",
        "    NORMAL: Standard training with full validation and analysis\n",
        "    FAST: Optimized for speed with reduced validation frequency\n",
        "    HYBRID: Transitions from normal to fast training after initial epochs\n",
        "    \"\"\"\n",
        "    NORMAL = auto()\n",
        "    FAST = auto()\n",
        "    HYBRID = auto()\n",
        "\n",
        "@dataclass\n",
        "class TrainingConfig:\n",
        "    \"\"\"\n",
        "    Unified configuration for managing training parameters and optimization settings.\n",
        "\n",
        "    This class handles both static and dynamic training configurations, supporting\n",
        "    normal, fast, and hybrid training modes. In hybrid mode, it automatically\n",
        "    transitions from normal to fast training after a specified number of epochs.\n",
        "\n",
        "    Attributes:\n",
        "        mode (TrainingMode): Training mode (NORMAL, FAST, or HYBRID)\n",
        "        batch_size (int): Base batch size for training\n",
        "        grad_accum_steps (int): Number of steps for gradient accumulation\n",
        "        val_freq (int): Frequency of validation during training\n",
        "        landscape_freq (int): Frequency of loss landscape analysis\n",
        "        initial_epochs (Optional[int]): Number of initial epochs before switching to fast training in hybrid mode\n",
        "        current_epoch (int): Current training epoch (used for hybrid mode transitions)\n",
        "\n",
        "    Properties:\n",
        "        is_fast_training (bool): Whether fast training optimizations are currently active\n",
        "        effective_batch_size (int): Actual batch size after applying fast training multiplier\n",
        "        effective_grad_accum_steps (int): Actual gradient accumulation steps after mode adjustments\n",
        "        effective_val_freq (int): Actual validation frequency after mode adjustments\n",
        "    \"\"\"\n",
        "\n",
        "    def __init__(\n",
        "        self,\n",
        "        mode: TrainingMode = TrainingMode.NORMAL,\n",
        "        *,\n",
        "        batch_size: int = 32,\n",
        "        grad_accum_steps: int = 4,\n",
        "        val_freq: int = 1,\n",
        "        landscape_freq: int = 40,\n",
        "        initial_epochs: Optional[int] = None\n",
        "    ) -> None:\n",
        "        \"\"\"\n",
        "        Initialize training configuration.\n",
        "\n",
        "        Args:\n",
        "            mode: Training mode to use\n",
        "            batch_size: Base batch size\n",
        "            grad_accum_steps: Base gradient accumulation steps\n",
        "            val_freq: Base validation frequency\n",
        "            landscape_freq: Frequency of loss landscape analysis\n",
        "            initial_epochs: Required for HYBRID mode, specifies transition point\n",
        "        \"\"\"\n",
        "        self.mode = mode\n",
        "        self.batch_size = batch_size\n",
        "        self.grad_accum_steps = grad_accum_steps\n",
        "        self.val_freq = val_freq\n",
        "        self.landscape_freq = landscape_freq\n",
        "        self.current_epoch = 0\n",
        "\n",
        "        # Hybrid mode specific settings\n",
        "        if mode == TrainingMode.HYBRID:\n",
        "            if initial_epochs is None:\n",
        "                raise ValueError(\"initial_epochs must be specified for HYBRID mode\")\n",
        "            self.initial_epochs = initial_epochs\n",
        "        else:\n",
        "            self.initial_epochs = None\n",
        "\n",
        "        # Validate configuration\n",
        "        self._validate_config()\n",
        "\n",
        "    def _validate_config(self) -> None:\n",
        "        \"\"\"Validate configuration parameters.\"\"\"\n",
        "        if self.batch_size <= 0:\n",
        "            raise ValueError(\"batch_size must be positive\")\n",
        "        if self.grad_accum_steps <= 0:\n",
        "            raise ValueError(\"grad_accum_steps must be positive\")\n",
        "        if self.val_freq <= 0:\n",
        "            raise ValueError(\"val_freq must be positive\")\n",
        "        if self.landscape_freq <= 0:\n",
        "            raise ValueError(\"landscape_freq must be positive\")\n",
        "\n",
        "    @property\n",
        "    def is_fast_training(self) -> bool:\n",
        "        \"\"\"\n",
        "        Determine if fast training optimizations should be active.\n",
        "\n",
        "        Returns:\n",
        "            True if in FAST mode or if in HYBRID mode past initial epochs\n",
        "        \"\"\"\n",
        "        if self.mode == TrainingMode.FAST:\n",
        "            return True\n",
        "        if self.mode == TrainingMode.HYBRID:\n",
        "            return self.current_epoch >= self.initial_epochs\n",
        "        return False\n",
        "\n",
        "    @property\n",
        "    def effective_batch_size(self) -> int:\n",
        "        \"\"\"\n",
        "        Get the current effective batch size.\n",
        "\n",
        "        Returns:\n",
        "            Batch size adjusted for fast training mode\n",
        "        \"\"\"\n",
        "        return self.batch_size * 2 if self.is_fast_training else self.batch_size\n",
        "\n",
        "    @property\n",
        "    def effective_grad_accum_steps(self) -> int:\n",
        "        \"\"\"\n",
        "        Get the current effective gradient accumulation steps.\n",
        "\n",
        "        Returns:\n",
        "            Gradient accumulation steps adjusted for current mode\n",
        "        \"\"\"\n",
        "        return self.grad_accum_steps if self.is_fast_training else 1\n",
        "\n",
        "    @property\n",
        "    def effective_val_freq(self) -> int:\n",
        "        \"\"\"\n",
        "        Get the current effective validation frequency.\n",
        "\n",
        "        Returns:\n",
        "            Validation frequency adjusted for fast training mode\n",
        "        \"\"\"\n",
        "        return 2 if self.is_fast_training else self.val_freq\n",
        "\n",
        "    def update_epoch(self, epoch: int) -> None:\n",
        "        \"\"\"\n",
        "        Update the current epoch counter and adjust settings accordingly.\n",
        "\n",
        "        Args:\n",
        "            epoch: New epoch number\n",
        "        \"\"\"\n",
        "        if epoch < 0:\n",
        "            raise ValueError(\"epoch must be non-negative\")\n",
        "        self.current_epoch = epoch\n",
        "\n",
        "    def get_config_dict(self) -> dict:\n",
        "        \"\"\"\n",
        "        Get current configuration as a dictionary.\n",
        "\n",
        "        Returns:\n",
        "            Dictionary containing all current effective settings\n",
        "        \"\"\"\n",
        "        return {\n",
        "            'mode': self.mode.name,\n",
        "            'is_fast_training': self.is_fast_training,\n",
        "            'batch_size': self.effective_batch_size,\n",
        "            'grad_accum_steps': self.effective_grad_accum_steps,\n",
        "            'val_freq': self.effective_val_freq,\n",
        "            'landscape_freq': self.landscape_freq,\n",
        "            'current_epoch': self.current_epoch,\n",
        "            'initial_epochs': self.initial_epochs\n",
        "        }\n",
        "\n",
        "    def __repr__(self) -> str:\n",
        "        \"\"\"Provide a detailed string representation of the configuration.\"\"\"\n",
        "        return (\n",
        "            f\"TrainingConfig(mode={self.mode.name}, \"\n",
        "            f\"is_fast_training={self.is_fast_training}, \"\n",
        "            f\"effective_batch_size={self.effective_batch_size}, \"\n",
        "            f\"effective_grad_accum_steps={self.effective_grad_accum_steps}, \"\n",
        "            f\"effective_val_freq={self.effective_val_freq}, \"\n",
        "            f\"landscape_freq={self.landscape_freq}, \"\n",
        "            f\"current_epoch={self.current_epoch}\"\n",
        "            f\"{f', initial_epochs={self.initial_epochs}' if self.mode == TrainingMode.HYBRID else ''})\"\n",
        "        )\n",
        "class UnifiedLossComputer:\n",
        "    \"\"\"\n",
        "    Unified class for computing losses across training and evaluation.\n",
        "\n",
        "    This class consolidates loss computation logic used by trainers and analyzers,\n",
        "    providing consistent behavior and configuration across the codebase.\n",
        "\n",
        "    Attributes:\n",
        "        -1.0: Value used to indicate model abstention\n",
        "        abstention_weight: Weight applied to abstention loss term\n",
        "        incorrect_abstention_penalty: Penalty for abstaining on valid inputs\n",
        "        rtol: Relative tolerance for abstention detection\n",
        "        atol: Absolute tolerance for abstention detection\n",
        "    \"\"\"\n",
        "\n",
        "    def __init__(\n",
        "        self,\n",
        "        abstention_weight: float = 12.0, # 12, 16, or 25\n",
        "        incorrect_abstention_penalty: float = 25.0, # 25 or 12\n",
        "        rtol: float = 0.1,\n",
        "        atol: float = 0.1\n",
        "    ) -> None:\n",
        "        self.abstention_weight = abstention_weight\n",
        "        self.incorrect_abstention_penalty = incorrect_abstention_penalty\n",
        "        self.rtol = rtol\n",
        "        self.atol = atol\n",
        "\n",
        "    def is_abstention(self, predictions: Tensor) -> Tensor:\n",
        "        \"\"\"\n",
        "        Check if predictions indicate abstention.\n",
        "\n",
        "        Args:\n",
        "            predictions: Model output tensor\n",
        "\n",
        "        Returns:\n",
        "            Boolean tensor indicating abstention for each prediction\n",
        "        \"\"\"\n",
        "        return torch.isclose(\n",
        "            predictions.squeeze(),\n",
        "            torch.tensor(-1.0).to(predictions.device),\n",
        "            rtol=self.rtol,\n",
        "            atol=self.atol\n",
        "        )\n",
        "\n",
        "    def compute_loss(\n",
        "        self,\n",
        "        predictions: Tensor,\n",
        "        targets: Tensor,\n",
        "        numbers: Tensor,\n",
        "        operator: Tensor,\n",
        "        reduce: bool = True\n",
        "    ) -> Tuple[Tensor, Dict[str, float]]:\n",
        "        \"\"\"\n",
        "        Compute the total loss with abstention incentives and penalties.\n",
        "\n",
        "        Args:\n",
        "            predictions: Model predictions\n",
        "            targets: Ground truth targets\n",
        "            numbers: Input numbers for computation\n",
        "            operator: Operator tokens\n",
        "            reduce: Whether to reduce the loss to a scalar\n",
        "\n",
        "        Returns:\n",
        "            Tuple of (total_loss, component_dict) where component_dict contains:\n",
        "            - valid_loss: Loss on valid computations\n",
        "            - invalid_loss: Loss on invalid computations\n",
        "            - abstention_loss: Penalty for incorrect abstentions\n",
        "        \"\"\"\n",
        "        # Get invalid computation mask\n",
        "        invalid_mask = is_invalid_computation(numbers, operator)\n",
        "        valid_mask = ~invalid_mask\n",
        "\n",
        "        predictions = predictions.squeeze()\n",
        "        targets = targets.squeeze()\n",
        "\n",
        "        components = {}\n",
        "\n",
        "        # Compute MSE loss for valid computations\n",
        "        valid_loss = torch.tensor(0.0, device=predictions.device)\n",
        "        if valid_mask.any():\n",
        "            valid_loss = F.mse_loss(\n",
        "                predictions[valid_mask],\n",
        "                targets[valid_mask],\n",
        "                reduction='mean' if reduce else 'none'\n",
        "            )\n",
        "        components['valid_loss'] = valid_loss.item()\n",
        "\n",
        "        # Compute abstention loss for invalid computations\n",
        "        invalid_loss = torch.tensor(0.0, device=predictions.device)\n",
        "        if invalid_mask.any():\n",
        "            abstention_targets = torch.full_like(\n",
        "                predictions[invalid_mask],\n",
        "                -1.0 # Abstention Token - ! Double Check this\n",
        "            )\n",
        "            invalid_loss = self.abstention_weight * F.mse_loss(\n",
        "                predictions[invalid_mask],\n",
        "                abstention_targets,\n",
        "                reduction='mean' if reduce else 'none'\n",
        "            )\n",
        "        components['invalid_loss'] = invalid_loss.item()\n",
        "\n",
        "        # Combine base losses\n",
        "        total_loss = valid_loss + invalid_loss\n",
        "\n",
        "        # Add penalty for incorrect abstentions on valid computations\n",
        "        abstention_loss = torch.tensor(0.0, device=predictions.device)\n",
        "        if valid_mask.any():\n",
        "            abstained_on_valid = self.is_abstention(predictions[valid_mask])\n",
        "            if abstained_on_valid.any():\n",
        "                num_incorrect = abstained_on_valid.sum().float()\n",
        "                abstention_loss = self.incorrect_abstention_penalty * num_incorrect\n",
        "                if not reduce:\n",
        "                    abstention_loss = abstention_loss.expand_as(predictions)\n",
        "                total_loss = total_loss + abstention_loss\n",
        "        components['abstention_loss'] = abstention_loss.item()\n",
        "\n",
        "        return total_loss, components\n",
        "\n",
        "    def compute_metrics(\n",
        "        self,\n",
        "        predictions: Tensor,\n",
        "        targets: Tensor,\n",
        "        numbers: Tensor,\n",
        "        operator: Tensor\n",
        "    ) -> Dict[str, float]:\n",
        "        \"\"\"\n",
        "        Compute comprehensive metrics for model predictions.\n",
        "\n",
        "        Args:\n",
        "            predictions: Model predictions\n",
        "            targets: Ground truth targets\n",
        "            numbers: Input numbers\n",
        "            operator: Operator tokens\n",
        "\n",
        "        Returns:\n",
        "            Dictionary containing metrics:\n",
        "            - loss: Total loss value\n",
        "            - valid_accuracy: Accuracy on valid computations\n",
        "            - abstention_rate: Overall abstention rate\n",
        "            - correct_abstentions: Rate of correct abstentions\n",
        "            - incorrect_abstentions: Rate of incorrect abstentions\n",
        "        \"\"\"\n",
        "        invalid_mask = is_invalid_computation(numbers, operator)\n",
        "        valid_mask = ~invalid_mask\n",
        "        abstained = self.is_abstention(predictions)\n",
        "\n",
        "        # Calculate loss\n",
        "        loss, _ = self.compute_loss(predictions, targets, numbers, operator)\n",
        "\n",
        "        metrics = {\n",
        "            'loss': loss.item(),\n",
        "            'abstention_rate': abstained.float().mean().item()\n",
        "        }\n",
        "\n",
        "        # Calculate accuracy on valid predictions\n",
        "        valid_and_not_abstained = valid_mask & (~abstained)\n",
        "        if valid_and_not_abstained.any():\n",
        "            pred_vals = predictions[valid_and_not_abstained]\n",
        "            tgt_vals = targets[valid_and_not_abstained]\n",
        "            diff = torch.abs(pred_vals - tgt_vals)\n",
        "            threshold = torch.abs(tgt_vals) * 0.01 + 1e-8\n",
        "            correct_valid = (diff < threshold).sum().item()\n",
        "            total_valid = valid_and_not_abstained.sum().item()\n",
        "            metrics['valid_accuracy'] = correct_valid / total_valid\n",
        "\n",
        "        # Calculate abstention metrics\n",
        "        if abstained.any():\n",
        "            metrics['correct_abstentions'] = (abstained & invalid_mask).float().mean().item()\n",
        "            metrics['incorrect_abstentions'] = (abstained & valid_mask).float().mean().item()\n",
        "\n",
        "        return metrics"
      ],
      "metadata": {
        "id": "X7Hi8kfCLSQL"
      },
      "execution_count": null,
      "outputs": []
    },
    {
      "cell_type": "code",
      "source": [
        "class LandscapeAnalyzer:\n",
        "    \"\"\"\n",
        "    Analyzes the loss landscape of neural networks during training, focusing on measures of curvature.\n",
        "\n",
        "    Attributes:\n",
        "        -1.0 (float): Token value used to indicate model abstention\n",
        "        abstention_weight (float): Weight applied to abstention loss term\n",
        "        model (Module): PyTorch model to analyze\n",
        "        alpha (float): Step size for parameter perturbations\n",
        "        num_samples (int): Number of samples to use in analysis\n",
        "        grid_size (int): Resolution of grid for landscape visualization\n",
        "        alpha_range (float): Range of alpha values to explore\n",
        "        save_dir (Optional[Path]): Directory to save analysis results\n",
        "        fixed_scale (float): Fixed scale factor for visualization\n",
        "        metrics_history (defaultdict): History of computed metrics\n",
        "\n",
        "    Args:\n",
        "        model (Module): The neural network model to analyze\n",
        "        alpha (float, optional): Step size for parameter perturbations. Defaults to 0.1\n",
        "        num_samples (int, optional): Number of samples to use in analysis. Defaults to 100\n",
        "        grid_size (int, optional): Resolution of grid for visualization. Defaults to 20\n",
        "        alpha_range (float, optional): Range of alpha values to explore. Defaults to 0.5\n",
        "        save_dir (Optional[str], optional): Directory to save results. Defaults to None\n",
        "        fixed_scale (float, optional): Fixed scale factor for visualization. Defaults to 7\n",
        "        -1.0 (float, optional): Token value for abstention. Defaults to -1.0\n",
        "        abstention_weight (float, optional): Weight for abstention loss. Defaults to 16.0\n",
        "    \"\"\"\n",
        "\n",
        "    def __init__(\n",
        "        self,\n",
        "        model: nn.Module,\n",
        "        alpha: float = 0.1,\n",
        "        num_samples: int = 100,\n",
        "        grid_size: int = 20,\n",
        "        alpha_range: float = 0.5,\n",
        "        save_dir: Optional[str] = None,\n",
        "        fixed_scale: float = 7,\n",
        "        abstention_weight: float = ABSTENTION_WEIGHT\n",
        "    ) -> None:\n",
        "        self.abstention_weight = abstention_weight\n",
        "        self.model = model\n",
        "        self.alpha = alpha\n",
        "        self.num_samples = num_samples\n",
        "        self.grid_size = grid_size\n",
        "        self.alpha_range = alpha_range\n",
        "        self.save_dir = Path(save_dir) if save_dir else None\n",
        "        self.fixed_scale = fixed_scale\n",
        "        self.loss_computer = UnifiedLossComputer(\n",
        "            abstention_weight=abstention_weight\n",
        "        )\n",
        "        self.metrics_history: defaultdict = defaultdict(list)\n",
        "\n",
        "    def compute_valley_asymmetry(\n",
        "        self,\n",
        "        batch: Dict[str, Tensor],\n",
        "        num_directions: int = 10\n",
        "    ) -> float:\n",
        "        \"\"\"\n",
        "        Measures the asymmetry of loss landscape valleys by comparing loss values\n",
        "        in positive and negative directions from the current parameter position.\n",
        "\n",
        "        The method works by:\n",
        "        1. Storing the original model parameters\n",
        "        2. Sampling random directions in parameter space\n",
        "        3. Computing loss at positive and negative steps in each direction\n",
        "        4. Measuring the asymmetry as the difference between positive and negative deviations\n",
        "\n",
        "        Args:\n",
        "            batch (Dict[str, Tensor]): Input batch containing data and labels\n",
        "            num_directions (int, optional): Number of random directions to sample. Defaults to 10\n",
        "\n",
        "        Returns:\n",
        "            float: Maximum asymmetry found across all sampled directions\n",
        "\n",
        "        Note:\n",
        "            - Higher asymmetry values indicate more irregular loss landscape topology\n",
        "            - The method temporarily modifies model parameters but restores them after computation\n",
        "        \"\"\"\n",
        "        # Store original parameters to restore later\n",
        "        original_params = {name: param.clone() for name, param in self.model.named_parameters()}\n",
        "        original_loss = self.compute_loss(batch)\n",
        "\n",
        "        max_asymmetry = 0\n",
        "        for _ in range(num_directions):\n",
        "            # Sample a random direction in parameter space\n",
        "            direction = self.get_random_direction()\n",
        "\n",
        "            # Measure loss in positive and negative directions\n",
        "            with torch.no_grad():\n",
        "                # Compute loss in positive direction\n",
        "                for name, param in self.model.named_parameters():\n",
        "                    param.data.copy_(original_params[name] + self.alpha * direction[name])\n",
        "                pos_loss = self.compute_loss(batch)\n",
        "\n",
        "                # Compute loss in negative direction\n",
        "                for name, param in self.model.named_parameters():\n",
        "                    param.data.copy_(original_params[name] - self.alpha * direction[name])\n",
        "                neg_loss = self.compute_loss(batch)\n",
        "\n",
        "                # Restore original parameters\n",
        "                for name, param in self.model.named_parameters():\n",
        "                    param.data.copy_(original_params[name])\n",
        "\n",
        "            # Calculate asymmetry as the difference between positive and negative deviations\n",
        "            asymmetry = abs(pos_loss - original_loss - (original_loss - neg_loss))\n",
        "            max_asymmetry = max(max_asymmetry, asymmetry.item())\n",
        "\n",
        "        return max_asymmetry\n",
        "    def compute_alpha_sharpness(self, batch: Tuple[Tensor, Tensor]) -> float:\n",
        "       \"\"\"Compute the α-sharpness measure of the loss landscape by random perturbation sampling.\n",
        "\n",
        "       The α-sharpness is defined as the maximum loss difference when parameters are perturbed\n",
        "       within an α-radius L2 ball:\n",
        "\n",
        "       α-sharpness = max_{||δ||₂ ≤ α} [L(θ + δ) - L(θ)]\n",
        "\n",
        "       where:\n",
        "       - L(θ) is the loss at parameters θ\n",
        "       - δ is the perturbation vector\n",
        "       - α is the perturbation radius\n",
        "\n",
        "       Args:\n",
        "           batch: A tuple of (inputs, targets) tensors representing a batch of data\n",
        "\n",
        "       Returns:\n",
        "           float: The maximum loss difference found across all sampled perturbations\n",
        "\n",
        "       Note:\n",
        "           This implementation approximates the true α-sharpness by random sampling\n",
        "           rather than solving the optimization problem exactly.\n",
        "       \"\"\"\n",
        "       # Store original parameters to restore later\n",
        "       original_params = {name: param.clone() for name, param in self.model.named_parameters()}\n",
        "\n",
        "       # Compute loss at original parameters\n",
        "       original_loss = self.compute_loss(batch)\n",
        "\n",
        "       max_loss_diff = 0\n",
        "       # Sample multiple random perturbations to approximate maximum\n",
        "       for _ in range(self.num_samples):\n",
        "           with torch.no_grad():\n",
        "               # Add random perturbation to each parameter, scaled by alpha\n",
        "               for name, param in self.model.named_parameters():\n",
        "                   delta = torch.randn_like(param) * self.alpha  # Gaussian noise\n",
        "                   param.data.add_(delta)\n",
        "\n",
        "               # Compute loss at perturbed parameters\n",
        "               perturbed_loss = self.compute_loss(batch)\n",
        "               # Update maximum loss difference found so far\n",
        "               max_loss_diff = max(max_loss_diff, (perturbed_loss - original_loss).item())\n",
        "\n",
        "               # Restore original parameters for next iteration\n",
        "               for name, param in self.model.named_parameters():\n",
        "                   param.data.copy_(original_params[name])\n",
        "\n",
        "       return max_loss_diff\n",
        "\n",
        "    def compute_multiscale_sharpness(\n",
        "        self,\n",
        "        batch: Tuple[Tensor, Tensor],\n",
        "        scales: List[float] = [0.1, 0.01, 0.001]\n",
        "    ) -> Dict[str, float]:\n",
        "        \"\"\"Compute α-sharpness at multiple scale values to analyze loss landscape roughness.\n",
        "\n",
        "        This provides a more complete picture of the loss landscape geometry by measuring\n",
        "        sharpness at different perturbation magnitudes:\n",
        "\n",
        "        {α₁-sharpness, α₂-sharpness, ..., αₙ-sharpness}\n",
        "\n",
        "        Args:\n",
        "            batch: A tuple of (inputs, targets) tensors\n",
        "            scales: List of α values to measure sharpness at, default [0.1, 0.01, 0.001]\n",
        "\n",
        "        Returns:\n",
        "            Dict[str, float]: Mapping from scale identifier to sharpness value\n",
        "        \"\"\"\n",
        "        # Store original alpha to restore later\n",
        "        original_alpha = self.alpha\n",
        "        sharpness_values = {}\n",
        "\n",
        "        # Compute sharpness at each scale\n",
        "        for scale in scales:\n",
        "            self.alpha = scale\n",
        "            sharpness_values[f'alpha_{scale}'] = self.compute_alpha_sharpness(batch)\n",
        "\n",
        "        # Restore original alpha\n",
        "        self.alpha = original_alpha\n",
        "        return sharpness_values\n",
        "\n",
        "    def get_hessian_vector_product(\n",
        "        self,\n",
        "        batch: Tuple[Tensor, Tensor],\n",
        "        vector: Tensor,\n",
        "        num_power_iterations: int = 10\n",
        "    ) -> Tensor:\n",
        "        \"\"\"Compute the Hessian-vector product (Hv) using automatic differentiation.\n",
        "\n",
        "        Implements the calculation:\n",
        "        Hv = ∇²L(θ)v = ∇(∇L(θ)ᵀv)\n",
        "\n",
        "        where:\n",
        "        - L(θ) is the loss function\n",
        "        - θ are the model parameters\n",
        "        - v is the input vector\n",
        "        - H is the Hessian matrix\n",
        "\n",
        "        Args:\n",
        "            batch: A tuple of (inputs, targets) tensors\n",
        "            vector: Vector to compute product with\n",
        "            num_power_iterations: Number of power iterations (unused in this implementation)\n",
        "\n",
        "        Returns:\n",
        "            Tensor: The Hessian-vector product as a flattened tensor\n",
        "\n",
        "        Note:\n",
        "            This implementation uses automatic differentiation to compute the HVP\n",
        "            without explicitly forming the Hessian matrix.\n",
        "        \"\"\"\n",
        "        self.model.zero_grad()\n",
        "\n",
        "        # Enable gradient computation for all parameters\n",
        "        for param in self.model.parameters():\n",
        "            param.requires_grad_(True)\n",
        "\n",
        "        # Forward pass to get loss\n",
        "        loss = self.compute_loss(batch)\n",
        "\n",
        "        # Compute first-order gradients\n",
        "        grads = torch.autograd.grad(\n",
        "            loss,\n",
        "            self.model.parameters(),\n",
        "            allow_unused=True,  # Some parameters might not influence loss\n",
        "            create_graph=True   # Enable second derivative computation\n",
        "        )\n",
        "\n",
        "        # Replace None gradients with zeros for unused parameters\n",
        "        grads = [torch.zeros_like(p) if g is None else g\n",
        "                 for g, p in zip(grads, self.model.parameters())]\n",
        "\n",
        "        # Compute gradient-vector product (first term in chain rule)\n",
        "        flat_grad = torch.cat([g.flatten() for g in grads])\n",
        "        grad_vector_product = torch.dot(flat_grad, vector)\n",
        "\n",
        "        # Compute Hessian-vector product via second backward pass\n",
        "        hvp = torch.autograd.grad(\n",
        "            grad_vector_product,\n",
        "            self.model.parameters(),\n",
        "            allow_unused=True\n",
        "        )\n",
        "\n",
        "        # Replace None values with zeros for unused parameters\n",
        "        hvp = [torch.zeros_like(p) if h is None else h\n",
        "               for h, p in zip(hvp, self.model.parameters())]\n",
        "\n",
        "        # Return flattened HVP\n",
        "        return torch.cat([h.flatten() for h in hvp])\n",
        "\n",
        "    def estimate_top_k_eigenvalues(\n",
        "        self,\n",
        "        batch: Tuple[Tensor, Tensor, Tensor],\n",
        "        k: int = 3,\n",
        "        num_power_iterations: int = 10\n",
        "    ) -> List[float]:\n",
        "       \"\"\"Estimate the top k eigenvalues of the Hessian matrix using power iteration.\n",
        "\n",
        "       Uses the power iteration method with deflation to find the largest eigenvalues\n",
        "       of the Hessian matrix. The method iteratively computes:\n",
        "\n",
        "       v_{t+1} = Hv_t / ||Hv_t||\n",
        "       λ = v^T Hv\n",
        "\n",
        "       where:\n",
        "       - H is the Hessian matrix\n",
        "       - v_t is the estimate of eigenvector at iteration t\n",
        "       - λ is the corresponding eigenvalue\n",
        "\n",
        "       Args:\n",
        "           batch: Tuple of (numbers, operator, targets) tensors\n",
        "           k: Number of top eigenvalues to estimate\n",
        "           num_power_iterations: Number of power iterations for each eigenvalue\n",
        "\n",
        "       Returns:\n",
        "           List[float]: Top k eigenvalues of the Hessian in descending order\n",
        "\n",
        "       Note:\n",
        "           Uses deflation to find subsequent eigenvalues by removing projections\n",
        "           onto previously found eigenvectors.\n",
        "       \"\"\"\n",
        "       device = next(self.model.parameters()).device\n",
        "       eigenvalues = []\n",
        "       eigenvectors = []\n",
        "\n",
        "       for i in range(k):\n",
        "           # Initialize random vector with fixed seed for reproducibility\n",
        "           with torch.random.fork_rng():\n",
        "               torch.manual_seed(seed)\n",
        "               vector = torch.randn(sum(p.numel() for p in self.model.parameters())).to(device)\n",
        "               vector = vector / torch.norm(vector)  # Normalize to unit vector\n",
        "\n",
        "           # Power iteration\n",
        "           for _ in range(num_power_iterations):\n",
        "               vector_new = self.get_hessian_vector_product(batch, vector)\n",
        "\n",
        "               # Deflate: Remove projections onto previous eigenvectors\n",
        "               for prev_vec in eigenvectors:\n",
        "                   vector_new = vector_new - torch.dot(vector_new, prev_vec) * prev_vec\n",
        "\n",
        "               # Normalize the vector, checking for numerical stability\n",
        "               norm = torch.norm(vector_new)\n",
        "               if norm > 1e-10:\n",
        "                   vector = vector_new / norm\n",
        "               else:\n",
        "                   print(\"\\nWarning: Near-zero vector in power iteration\")\n",
        "                   break\n",
        "\n",
        "           # Compute Rayleigh quotient to get eigenvalue\n",
        "           hvp = self.get_hessian_vector_product(batch, vector)\n",
        "           eigenvalue = torch.dot(vector, hvp)\n",
        "\n",
        "           # Handle numerical instability\n",
        "           if torch.isnan(eigenvalue):\n",
        "               print(f\"\\nWarning: NaN eigenvalue detected for eigenvector {i+1}\")\n",
        "               eigenvalue = torch.tensor(0.0)\n",
        "\n",
        "           eigenvalues.append(eigenvalue.item())\n",
        "           eigenvectors.append(vector)\n",
        "\n",
        "       return eigenvalues\n",
        "\n",
        "    def analyze_landscape(\n",
        "        self,\n",
        "        batch: Tuple[Tensor, Tensor, Tensor],\n",
        "        epoch: Optional[int] = None\n",
        "    ) -> Dict[str, Union[float, List[float], Dict[str, float]]]:\n",
        "        \"\"\"Analyze various geometric properties of the loss landscape.\n",
        "\n",
        "        Computes multiple metrics to characterize the loss landscape geometry:\n",
        "        1. Valley asymmetry: Measures asymmetric properties of loss valleys\n",
        "        2. Top eigenvalues: Largest eigenvalues of the Hessian\n",
        "        3. Multiscale sharpness: Loss variation at different perturbation scales\n",
        "        4. Alpha sharpness: Maximum loss variation within alpha-radius ball\n",
        "\n",
        "        Args:\n",
        "            batch: Tuple of (numbers, operator, targets) tensors\n",
        "            epoch: Optional epoch number for saving metrics\n",
        "\n",
        "        Returns:\n",
        "            Dict containing computed landscape metrics:\n",
        "                - 'valley_asymmetry': float\n",
        "                - 'top_eigenvalues': List[float]\n",
        "                - 'multiscale_sharpness': Dict[str, float]\n",
        "                - 'alpha_sharpness': float\n",
        "\n",
        "        Note:\n",
        "            If epoch is provided, metrics are saved to a JSON file.\n",
        "        \"\"\"\n",
        "        # Compute individual landscape metrics\n",
        "        valley_asymmetry = self.compute_valley_asymmetry(batch)\n",
        "        top_eigenvalues = self.estimate_top_k_eigenvalues(batch, k=3)\n",
        "        multiscale_sharpness = self.compute_multiscale_sharpness(batch)\n",
        "        alpha_sharpness = self.compute_alpha_sharpness(batch)\n",
        "\n",
        "        # Aggregate metrics\n",
        "        metrics = {\n",
        "            'valley_asymmetry': valley_asymmetry,\n",
        "            'top_eigenvalues': top_eigenvalues,\n",
        "            'multiscale_sharpness': multiscale_sharpness,\n",
        "            'alpha_sharpness': alpha_sharpness\n",
        "        }\n",
        "\n",
        "        # Save metrics if epoch is provided\n",
        "        if epoch is not None:\n",
        "            save_path = os.path.join(self.save_dir, f\"landscape_metrics_epoch_{epoch}.json\")\n",
        "            with open(save_path, 'w') as f:\n",
        "                json.dump(metrics, f)\n",
        "\n",
        "        return metrics\n",
        "\n",
        "    def compute_loss(\n",
        "        self,\n",
        "        batch: Tuple[Tensor, Tensor, Tensor]\n",
        "    ) -> Tensor:\n",
        "        numbers, operator, targets = batch\n",
        "        predictions = self.model(numbers, operator)\n",
        "        loss, _ = self.loss_computer.compute_loss(predictions, targets, numbers, operator)\n",
        "        return loss\n",
        "    def evaluate_loss_surface(\n",
        "            self,\n",
        "            data_loader: DataLoader,\n",
        "            dir1: Dict[str, Tensor],\n",
        "            dir2: Dict[str, Tensor]\n",
        "        ) -> Tuple[np.ndarray, np.ndarray, np.ndarray]:\n",
        "        \"\"\"Evaluate the loss on a 2D grid in parameter space along two directions.\n",
        "\n",
        "        Computes the loss surface by perturbing model parameters along two directions:\n",
        "        θ(α,β) = θ₀ + α·d₁ + β·d₂\n",
        "\n",
        "        where:\n",
        "        - θ₀ is the original parameter vector\n",
        "        - d₁, d₂ are the perturbation directions\n",
        "        - α, β are scaling factors\n",
        "\n",
        "        Args:\n",
        "            data_loader: DataLoader providing batches of training data\n",
        "            dir1: First perturbation direction as {param_name: direction_tensor}\n",
        "            dir2: Second perturbation direction as {param_name: direction_tensor}\n",
        "\n",
        "        Returns:\n",
        "            Tuple containing:\n",
        "            - alphas: 1D array of α values\n",
        "            - betas: 1D array of β values\n",
        "            - loss_surface: 2D array of loss values at each (α,β) point\n",
        "        \"\"\"\n",
        "        # Store original parameters to restore later\n",
        "        original_params = {\n",
        "            name: param.data.clone()\n",
        "            for name, param in self.model.named_parameters()\n",
        "        }\n",
        "\n",
        "        # Create grid of perturbation scales\n",
        "        alphas = np.linspace(-self.alpha_range, self.alpha_range, self.grid_size)\n",
        "        betas = np.linspace(-self.alpha_range, self.alpha_range, self.grid_size)\n",
        "        loss_surface = np.zeros((self.grid_size, self.grid_size))\n",
        "\n",
        "        # Evaluate loss at each grid point\n",
        "        for i, alpha in enumerate(alphas):\n",
        "            for j, beta in enumerate(betas):\n",
        "                with torch.no_grad():\n",
        "                    # Apply perturbation: θ = θ₀ + α·d₁ + β·d₂\n",
        "                    for name, param in self.model.named_parameters():\n",
        "                        param.data.copy_(\n",
        "                            original_params[name] + alpha * dir1[name] + beta * dir2[name]\n",
        "                        )\n",
        "\n",
        "                    # Average loss over multiple batches\n",
        "                    total_loss = sum(\n",
        "                        self.compute_loss(batch).item()\n",
        "                        for batch in itertools.islice(data_loader, 5)\n",
        "                    )\n",
        "                    loss_surface[i, j] = total_loss / 5\n",
        "\n",
        "            if i % 5 == 0:\n",
        "                print(f\"Completed {i + 1}/{self.grid_size} rows\")\n",
        "\n",
        "        # Restore original parameters\n",
        "        for name, param in self.model.named_parameters():\n",
        "            param.data.copy_(original_params[name])\n",
        "\n",
        "        return alphas, betas, loss_surface\n",
        "\n",
        "\n",
        "    def evaluate_landscape_with_abstention(\n",
        "        self,\n",
        "        data_loader: DataLoader,\n",
        "        dir1: Dict[str, Tensor],\n",
        "        dir2: Dict[str, Tensor]\n",
        "    ) -> Tuple[np.ndarray, np.ndarray, np.ndarray, np.ndarray, np.ndarray]:\n",
        "        \"\"\"Evaluate loss landscape with abstention metrics along two parameter directions.\n",
        "\n",
        "        Computes multiple surfaces characterizing model behavior:\n",
        "        1. Loss surface\n",
        "        2. Abstention rates\n",
        "        3. Valid accuracy\n",
        "\n",
        "        Args:\n",
        "            data_loader: DataLoader providing batches of training data\n",
        "            dir1: First perturbation direction as {param_name: direction_tensor}\n",
        "            dir2: Second perturbation direction as {param_name: direction_tensor}\n",
        "\n",
        "        Returns:\n",
        "            Tuple containing:\n",
        "            - alphas: 1D array of α values\n",
        "            - betas: 1D array of β values\n",
        "            - loss_surface: 2D array of loss values\n",
        "            - abstention_rates: 2D array of abstention rates\n",
        "            - valid_accuracy: 2D array of accuracy on valid inputs\n",
        "        \"\"\"\n",
        "        original_params = {name: param.data.clone()\n",
        "                          for name, param in self.model.named_parameters()}\n",
        "\n",
        "        # Create evaluation grid\n",
        "        alphas = np.linspace(-self.alpha_range, self.alpha_range, self.grid_size)\n",
        "        betas = np.linspace(-self.alpha_range, self.alpha_range, self.grid_size)\n",
        "\n",
        "        # Initialize metric surfaces\n",
        "        loss_surface = np.zeros((self.grid_size, self.grid_size))\n",
        "        abstention_rates = np.zeros((self.grid_size, self.grid_size))\n",
        "        valid_accuracy = np.zeros((self.grid_size, self.grid_size))\n",
        "\n",
        "        for i, alpha in enumerate(alphas):\n",
        "            for j, beta in enumerate(betas):\n",
        "                with torch.no_grad():\n",
        "                    # Apply parameter perturbation\n",
        "                    for name, param in self.model.named_parameters():\n",
        "                        param.data.copy_(original_params[name] +\n",
        "                                       alpha * dir1[name] +\n",
        "                                       beta * dir2[name])\n",
        "\n",
        "                    # Initialize metrics for current point\n",
        "                    total_loss = 0.0\n",
        "                    total_abstentions = 0\n",
        "                    total_valid = 0\n",
        "                    total_correct = 0\n",
        "\n",
        "                    for batch in itertools.islice(data_loader, 5):\n",
        "                        numbers, operator, targets = batch\n",
        "                        predictions = self.model(numbers, operator)\n",
        "\n",
        "                        # Compute metrics\n",
        "                        loss = self.compute_loss(batch)\n",
        "                        total_loss += loss.item()\n",
        "\n",
        "                        predictions = predictions.squeeze()\n",
        "                        # Identify abstentions\n",
        "                        abstained = torch.isclose(\n",
        "                            predictions,\n",
        "                            torch.tensor(-1.0, device=predictions.device),\n",
        "                            rtol=0.1, atol=0.1\n",
        "                        )\n",
        "\n",
        "                        # Compute accuracy on valid, non-abstained predictions\n",
        "                        invalid_mask = is_invalid_computation(numbers, operator)\n",
        "                        valid_mask = ~invalid_mask\n",
        "                        valid_and_not_abstained = valid_mask & (~abstained)\n",
        "\n",
        "                        if valid_and_not_abstained.any():\n",
        "                            pred_vals = predictions[valid_and_not_abstained]\n",
        "                            tgt_vals = targets[valid_and_not_abstained].squeeze()\n",
        "                            diff = torch.abs(pred_vals - tgt_vals)\n",
        "                            threshold = torch.abs(tgt_vals) * 0.01 + 1e-8\n",
        "                            correct_valid = (diff < threshold).sum().item()\n",
        "                            total_correct += correct_valid\n",
        "\n",
        "                        total_abstentions += abstained.sum().item()\n",
        "                        total_valid += len(predictions)\n",
        "\n",
        "                    # Update metric surfaces\n",
        "                    loss_surface[i, j] = total_loss / 5\n",
        "                    abstention_rates[i, j] = total_abstentions / total_valid\n",
        "                    valid_accuracy[i, j] = total_correct / total_valid\n",
        "\n",
        "        # Restore original parameters\n",
        "        for name, param in self.model.named_parameters():\n",
        "            param.data.copy_(original_params[name])\n",
        "\n",
        "        return alphas, betas, loss_surface, abstention_rates, valid_accuracy\n",
        "\n",
        "    def visualize_landscape(\n",
        "        self,\n",
        "        data_loader: DataLoader,\n",
        "        epoch: Optional[int] = None,\n",
        "        model_name: Optional[str] = None,\n",
        "        rand_dir: bool = True\n",
        "        ) -> None:\n",
        "        \"\"\"Visualize multiple aspects of the loss landscape in 3D.\n",
        "\n",
        "        Creates a three-panel visualization showing:\n",
        "        1. Local Lipschitz constants\n",
        "        2. Distance to decision boundary\n",
        "        3. Loss surface (log scale)\n",
        "\n",
        "        Each surface is plotted along two directions in parameter space,\n",
        "        either random or principal directions based on the Hessian.\n",
        "\n",
        "        Args:\n",
        "            data_loader: DataLoader providing batches of training data\n",
        "            epoch: Optional epoch number for saving visualization\n",
        "            model_name: Optional model name for saving visualization\n",
        "            rand_dir: Whether to use random directions (True) or\n",
        "                     principal directions (False)\n",
        "        \"\"\"\n",
        "        # Get perturbation directions\n",
        "        if rand_dir:\n",
        "            dir1 = self.get_random_direction()\n",
        "            dir2 = self.get_random_direction()\n",
        "        else:\n",
        "            dir1, dir2 = self.get_principal_directions(next(iter(data_loader)))\n",
        "\n",
        "        # Create coordinate grid\n",
        "        alphas = np.linspace(-self.alpha_range, self.alpha_range, self.grid_size)\n",
        "        betas = np.linspace(-self.alpha_range, self.alpha_range, self.grid_size)\n",
        "        alpha_grid, beta_grid = np.meshgrid(alphas, betas)\n",
        "\n",
        "        # Compute surfaces\n",
        "        print(\"Computing Lipschitz surface...\")\n",
        "        _, _, llc_surface = self.evaluate_lipschitz_surface(data_loader, dir1, dir2)\n",
        "\n",
        "        print(\"Computing Distance to Decision Boundary surface...\")\n",
        "        _, _, ddb_surface = self.evaluate_distance_to_boundary(data_loader, dir1, dir2)\n",
        "\n",
        "        print(\"Computing loss surface...\")\n",
        "        _, _, loss_surface = self.evaluate_loss_surface(data_loader, dir1, dir2)\n",
        "\n",
        "        # Create visualization\n",
        "        fig = plt.figure(figsize=(20, 7))\n",
        "        gs = plt.GridSpec(1, 3, width_ratios=[1, 1, 1], wspace=0.2)\n",
        "\n",
        "        # Plot 1: Local Lipschitz Constants\n",
        "        ax1 = fig.add_subplot(gs[0], projection='3d')\n",
        "        llc_surface_smooth = gaussian_filter(llc_surface, sigma=1.0)\n",
        "        surf1 = ax1.plot_surface(alpha_grid, beta_grid, llc_surface_smooth,\n",
        "                               cmap='coolwarm', antialiased=True)\n",
        "        ax1.grid(True, linestyle='--', alpha=0.3)\n",
        "        ax1.set_title(\"Local Lipschitz Constants\\n(Smoothed)\")\n",
        "        fig.colorbar(surf1, ax=ax1, pad=0.12, label=\"LLC Magnitude\")\n",
        "\n",
        "        # Plot 2: Distance to Decision Boundary\n",
        "        ax2 = fig.add_subplot(gs[1], projection='3d')\n",
        "        ddb_surface_smooth = gaussian_filter(ddb_surface, sigma=1.0)\n",
        "        surf2 = ax2.plot_surface(alpha_grid, beta_grid, ddb_surface_smooth,\n",
        "                               cmap='plasma', antialiased=True)\n",
        "        ax2.grid(True, linestyle='--', alpha=0.3)\n",
        "        ax2.set_title(\"Distance to Decision Boundary\\n(Smoothed)\")\n",
        "        fig.colorbar(surf2, ax=ax2, pad=0.12, label=\"Distance\")\n",
        "\n",
        "        # Plot 3: Loss Surface (log scale)\n",
        "        ax3 = fig.add_subplot(gs[2], projection='3d')\n",
        "        loss_surface_log = np.log1p(loss_surface)\n",
        "        loss_surface_smooth = gaussian_filter(loss_surface_log, sigma=1.0)\n",
        "        surf3 = ax3.plot_surface(alpha_grid, beta_grid, loss_surface_smooth,\n",
        "                               cmap='magma', antialiased=True)\n",
        "        ax3.grid(True, linestyle='--', alpha=0.3)\n",
        "        ax3.set_title(\"Loss Landscape\\n(Log Scale, Smoothed)\")\n",
        "        fig.colorbar(surf3, ax=ax3, pad=0.12, label=\"Log Loss\")\n",
        "\n",
        "        # Style all axes consistently\n",
        "        for ax in [ax1, ax2, ax3]:\n",
        "            ax.set_xlabel('α')\n",
        "            ax.set_ylabel('β')\n",
        "            ax.view_init(elev=20, azim=45)\n",
        "            ax.xaxis.set_major_locator(plt.MaxNLocator(6))\n",
        "            ax.yaxis.set_major_locator(plt.MaxNLocator(6))\n",
        "            ax.zaxis.set_major_locator(plt.MaxNLocator(6))\n",
        "            ax.xaxis._axinfo[\"grid\"]['color'] = (1,1,1,0.2)\n",
        "            ax.yaxis._axinfo[\"grid\"]['color'] = (1,1,1,0.2)\n",
        "            ax.zaxis._axinfo[\"grid\"]['color'] = (1,1,1,0.2)\n",
        "\n",
        "        # Save visualization if requested\n",
        "        if self.save_dir and epoch is not None and model_name:\n",
        "            save_path = os.path.join(self.save_dir,\n",
        "                                    f\"landscape_epoch_{epoch}_{model_name}.png\")\n",
        "            plt.savefig(save_path, bbox_inches='tight', dpi=300)\n",
        "            print(f\"Saved landscape visualization to {save_path}\")\n",
        "        plt.close()\n",
        "    def get_principal_directions(\n",
        "       self,\n",
        "       batch: Tuple[Tensor, ...],\n",
        "       k: int = 2\n",
        "       ) -> Tuple[Dict[str, Tensor], Dict[str, Tensor]]:\n",
        "       \"\"\"Compute the top k principal directions of the Hessian using power iteration.\n",
        "       Uses modified power iteration to find the eigenvectors corresponding to the\n",
        "       largest eigenvalues of the Hessian matrix. Implements deflation to find\n",
        "       multiple orthogonal directions.\n",
        "       The algorithm iteratively computes:\n",
        "       v_{t+1} = Hv_t / ||Hv_t||\n",
        "       where H is the Hessian matrix and v_t is the current estimate of an eigenvector.\n",
        "       Args:\n",
        "           batch: Tuple of input tensors for computing Hessian\n",
        "           k: Number of principal directions to compute (default: 2)\n",
        "       Returns:\n",
        "           Tuple of two dictionaries mapping parameter names to direction tensors,\n",
        "           representing the top two principal directions\n",
        "       Note:\n",
        "           Handles potential numerical instabilities with zero vectors\n",
        "           that can occur with unused parameters.\n",
        "       \"\"\"\n",
        "       device = next(self.model.parameters()).device\n",
        "       directions = {}\n",
        "       vectors = []  # Store flat vectors for deflation\n",
        "       for i in range(k):\n",
        "           # Initialize random vector\n",
        "           with torch.random.fork_rng():\n",
        "               torch.manual_seed(seed)\n",
        "               vector = torch.randn(sum(p.numel() for p in self.model.parameters())).to(device)\n",
        "               vector = vector / torch.norm(vector)\n",
        "            # Power iteration\n",
        "           for _ in range(10):\n",
        "               vector_new = self.get_hessian_vector_product(batch, vector)\n",
        "               # Deflate against previous eigenvectors\n",
        "               for prev_vec in vectors:\n",
        "                   vector_new = vector_new - torch.dot(vector_new, prev_vec) * prev_vec\n",
        "               # Handle numerical stability\n",
        "               if torch.norm(vector_new) > 1e-10:\n",
        "                   vector = vector_new / torch.norm(vector_new)\n",
        "               else:\n",
        "                   # Reset to random if we hit a zero vector\n",
        "                   vector = torch.randn_like(vector)\n",
        "                   vector = vector / torch.norm(vector)\n",
        "           vectors.append(vector)\n",
        "           # Convert flat vector back to parameter dictionary\n",
        "           direction = {}\n",
        "           offset = 0\n",
        "           for name, param in self.model.named_parameters():\n",
        "               numel = param.numel()\n",
        "               direction[name] = vector[offset:offset+numel].reshape(param.shape)\n",
        "               offset += numel\n",
        "           directions[f'pc{i+1}'] = direction\n",
        "       return directions['pc1'], directions['pc2']\n",
        "    def get_random_direction(self) -> Dict[str, Tensor]:\n",
        "        \"\"\"Generate a normalized random direction in parameter space.\n",
        "          Creates a dictionary mapping parameter names to random direction tensors,\n",
        "        where each direction tensor has the same shape as its corresponding parameter\n",
        "        and is normalized to unit length.\n",
        "          Returns:\n",
        "            Dict mapping parameter names to normalized random direction tensors\n",
        "        \"\"\"\n",
        "        direction = {}\n",
        "        with torch.random.fork_rng():\n",
        "            torch.manual_seed(seed)\n",
        "            for name, param in self.model.named_parameters():\n",
        "                direction[name] = torch.randn_like(param)\n",
        "                direction[name] /= torch.norm(direction[name])\n",
        "        return direction\n",
        "    def compute_local_lipschitz(\n",
        "      self,\n",
        "      batch: Tuple[Tensor, ...],\n",
        "      point: Tuple[float, float],\n",
        "      radius: float = 0.1,\n",
        "      num_samples: int = 100\n",
        "      ) -> float:\n",
        "      \"\"\"Compute the local Lipschitz constant in a neighborhood of a point.\n",
        "        The local Lipschitz constant L is computed as:\n",
        "      L = max_{x,y in B(point,radius)} ||f(x) - f(y)|| / ||x - y||\n",
        "        where:\n",
        "      - B(point,radius) is the ball of given radius around the point\n",
        "      - f is the model function\n",
        "      - ||·|| denotes appropriate norms\n",
        "        Args:\n",
        "          batch: Input data batch\n",
        "          point: Point in parameter space to compute Lipschitz constant around\n",
        "          radius: Radius of neighborhood to sample in\n",
        "            num_samples: Number of random directions to sample\n",
        "\n",
        "        Returns:\n",
        "            float: Estimated local Lipschitz constant\n",
        "        \"\"\"\n",
        "      original_params = {name: param.clone() for name, param in self.model.named_parameters()}\n",
        "      device = next(self.model.parameters()).device\n",
        "      f_0 = self.model(*batch[:2])\n",
        "      max_lipschitz = 0\n",
        "      # Sample random directions to estimate Lipschitz constant\n",
        "      for _ in range(num_samples):\n",
        "          direction = self.get_random_direction()\n",
        "          scale = torch.rand(1).item() * radius\n",
        "          # Compute output at perturbed point\n",
        "          with torch.no_grad():\n",
        "              for name, param in self.model.named_parameters():\n",
        "                  param.data.copy_(original_params[name] + scale * direction[name])\n",
        "              # Compute Lipschitz quotient\n",
        "              f_x = self.model(*batch[:2])\n",
        "              output_diff = torch.norm(f_x - f_0)\n",
        "              output_diff = torch.norm(f_x - f_0)\n",
        "              param_diff_squared = sum(torch.norm(d).item() ** 2 for d in direction.values())\n",
        "              param_diff = scale * np.sqrt(param_diff_squared)\n",
        "              lipschitz = output_diff.item() / param_diff\n",
        "              max_lipschitz = max(max_lipschitz, lipschitz)\n",
        "        # Restore original parameters\n",
        "      for name, param in self.model.named_parameters():\n",
        "          param.data.copy_(original_params[name])\n",
        "      return max_lipschitz\n",
        "\n",
        "    def evaluate_lipschitz_surface(\n",
        "        self,\n",
        "        data_loader: DataLoader,\n",
        "        dir1: Dict[str, Tensor],\n",
        "        dir2: Dict[str, Tensor]\n",
        "    ) -> Tuple[np.ndarray, np.ndarray, np.ndarray]:\n",
        "        \"\"\"Evaluate local Lipschitz constants across a 2D slice of parameter space.\n",
        "        Computes a grid of local Lipschitz constants by perturbing parameters along\n",
        "        two specified directions:\n",
        "        θ(α,β) = θ₀ + α·d₁ + β·d₂\n",
        "        Args:\n",
        "            data_loader: DataLoader providing training batches\n",
        "            dir1: First perturbation direction\n",
        "            dir2: Second perturbation direction\n",
        "        Returns:\n",
        "            Tuple containing:\n",
        "            - alphas: 1D array of α values\n",
        "            - betas: 1D array of β values\n",
        "            - llc_surface: 2D array of local Lipschitz constants\n",
        "        \"\"\"\n",
        "        original_params = {name: param.data.clone() for name, param in self.model.named_parameters()}\n",
        "        alphas = np.linspace(-self.alpha_range, self.alpha_range, self.grid_size)\n",
        "        betas = np.linspace(-self.alpha_range, self.alpha_range, self.grid_size)\n",
        "        llc_surface = np.zeros((self.grid_size, self.grid_size))\n",
        "        for i, alpha in enumerate(alphas):\n",
        "            for j, beta in enumerate(betas):\n",
        "                # Move to grid point\n",
        "                with torch.no_grad():\n",
        "                    for name, param in self.model.named_parameters():\n",
        "                        param.data.copy_(original_params[name] +\n",
        "                                       alpha * dir1[name] +\n",
        "                                       beta * dir2[name])\n",
        "                # Compute LLC at current point\n",
        "                batch = next(iter(data_loader))\n",
        "                llc_surface[i, j] = self.compute_local_lipschitz(batch, (alpha, beta))\n",
        "            if i % 5 == 0:\n",
        "                print(f\"Completed {i + 1}/{self.grid_size} LLC rows\")\n",
        "        # Restore original parameters\n",
        "        for name, param in self.model.named_parameters():\n",
        "            param.data.copy_(original_params[name])\n",
        "        return alphas, betas, llc_surface\n",
        "\n",
        "    def evaluate_distance_to_boundary(\n",
        "        self,\n",
        "        data_loader: DataLoader,\n",
        "        dir1: Dict[str, Tensor],\n",
        "        dir2: Dict[str, Tensor]\n",
        "    ) -> Tuple[np.ndarray, np.ndarray, np.ndarray]:\n",
        "        \"\"\"Evaluate distance to decision boundary across a 2D parameter slice.\n",
        "        Uses binary search to find the minimum distance to a decision boundary\n",
        "        (where model behavior changes) at each point in a grid.\n",
        "        Args:\n",
        "            data_loader: DataLoader providing training batches\n",
        "            dir1: First perturbation direction\n",
        "            dir2: Second perturbation direction\n",
        "        Returns:\n",
        "            Tuple containing:\n",
        "            - alphas: 1D array of α values\n",
        "            - betas: 1D array of β values\n",
        "            - distance_surface: 2D array of distances to nearest boundary\n",
        "        \"\"\"\n",
        "        device = next(self.model.parameters()).device\n",
        "        original_params = {name: param.data.clone() for name, param in self.model.named_parameters()}\n",
        "        # Setup evaluation grid\n",
        "        alphas = np.linspace(-self.alpha_range, self.alpha_range, self.grid_size)\n",
        "        betas = np.linspace(-self.alpha_range, self.alpha_range, self.grid_size)\n",
        "        distance_surface = np.zeros((self.grid_size, self.grid_size))\n",
        "        # Get test batch near decision boundaries\n",
        "        boundary_loader = create_boundary_test_loader(data_loader, num_samples=100)\n",
        "        test_batch = next(iter(boundary_loader))\n",
        "        # Evaluate grid points\n",
        "        for i, alpha in enumerate(alphas):\n",
        "            for j, beta in enumerate(betas):\n",
        "                with torch.no_grad():\n",
        "                    # Set parameters for current grid point\n",
        "                    for name, param in self.model.named_parameters():\n",
        "                        new_param = (original_params[name] +\n",
        "                                   alpha * dir1[name] +\n",
        "                                   beta * dir2[name])\n",
        "                        param.data.copy_(new_param)\n",
        "\n",
        "                    # Get base behavior\n",
        "                    numbers, operator, targets = test_batch\n",
        "                    numbers = numbers.to(device)\n",
        "                    operator = operator.to(device)\n",
        "                    predictions = self.model(numbers, operator)\n",
        "                    base_abstained = torch.isclose(\n",
        "                        predictions.squeeze(),\n",
        "                        torch.tensor(-1.0).to(device),\n",
        "                        rtol=0.1, atol=0.1\n",
        "                    )\n",
        "                    # Binary search for nearest boundary\n",
        "                    max_dist = 0.5\n",
        "                    min_dist = 0.001\n",
        "                    left = 0\n",
        "                    right = max_dist\n",
        "                    while right - left > min_dist:\n",
        "                        mid = (left + right) / 2\n",
        "                        search_dir = self.get_random_direction()\n",
        "                        # Test perturbed behavior\n",
        "                        for name, param in self.model.named_parameters():\n",
        "                            perturbed = new_param + mid * search_dir[name]\n",
        "                            param.data.copy_(perturbed)\n",
        "                        perturbed_pred = self.model(numbers, operator)\n",
        "                        perturbed_abstained = torch.isclose(\n",
        "                            perturbed_pred.squeeze(),\n",
        "                            torch.tensor(-1.0).to(device),\n",
        "                            rtol=0.1, atol=0.1\n",
        "                        )\n",
        "                        # Update search interval\n",
        "                        if (perturbed_abstained != base_abstained).any():\n",
        "                            right = mid\n",
        "                        else:\n",
        "                            left = mid\n",
        "                    distance_surface[i,j] = left\n",
        "            if i % 10 == 0 and j == 0:\n",
        "                 print(f\"Computing DDB row {i}/{self.grid_size}\")\n",
        "        # Restore original parameters\n",
        "        for name, param in self.model.named_parameters():\n",
        "            param.data.copy_(original_params[name])\n",
        "        return alphas, betas, distance_surface\n",
        "def get_rand_dirs(model: torch.nn.Module) -> Dict[str, Tensor]:\n",
        "    \"\"\"Generate a random direction with filter-wise normalizatio\n",
        "    Creates random directions that preserve the scaling of weights in\n",
        "    each filter of convolutional layer\n",
        "    Args:\n",
        "        model: Neural network mod\n",
        "    Returns:\n",
        "        Dict mapping parameter names to normalized random direction tensors\n",
        "    \"\"\"\n",
        "    direction = {}\n",
        "    # Sort parameters for consistency\n",
        "    params = sorted(model.named_parameters(), key=lambda x: x[0])\n",
        "    with torch.random.fork_rng():\n",
        "        torch.manual_seed(seed)\n",
        "        for name, param in params:\n",
        "            rnd = torch.randn_like(param)\n",
        "            # Normalize each filter independently\n",
        "            if len(param.size()) > 1:\n",
        "                for dim in range(rnd.size(0)):\n",
        "                    filter_norm = torch.norm(param[dim].data)\n",
        "                    dir_norm = torch.norm(rnd[dim].data) + 1e-8\n",
        "                    rnd[dim].data.mul_(filter_norm / dir_norm)\n",
        "            direction[name] = rnd\n",
        "    return direction\n",
        "def plot_high_quality_loss_landscape(model, data_loader, save_path,\n",
        "                             grid_resolution=200, alpha_range=1.0,\n",
        "                             azimuth=140, elevation=20,\n",
        "                             show_axes=False,  # Default False\n",
        "                             transparent_background=True,\n",
        "                             loss_computer=None,\n",
        "                             dark_mode=False):  # Default light theme\n",
        "    \"\"\"\n",
        "    Create publication-ready loss landscape visualization.\n",
        "\n",
        "    Args:\n",
        "        azimuth (float): Horizontal rotation (0-360 degrees)\n",
        "        elevation (float): Vertical rotation (-90 to 90 degrees)\n",
        "        show_axes (bool): Whether to show axes and grid\n",
        "        transparent_background (bool): Use transparent background for paper\n",
        "        dark_mode (bool): Use dark theme (default False for paper)\n",
        "    \"\"\"\n",
        "    orig_params = {name: param.data.clone() for name, param in model.named_parameters()}\n",
        "    if loss_computer is None:\n",
        "      loss_computer = UnifiedLossComputer()\n",
        "\n",
        "\n",
        "    # Temporarily increment seed for second direction\n",
        "    global seed\n",
        "    dir1 = get_rand_dirs(model)  # Uses original seed\n",
        "    seed += 1  # Explicit increment\n",
        "    dir2 = get_rand_dirs(model)  # Uses incremented seed\n",
        "    seed -= 1  # Reset to original\n",
        "\n",
        "    # Single-pass with moderate resolution\n",
        "    alphas = np.linspace(-alpha_range, alpha_range, grid_resolution)\n",
        "    betas = np.linspace(-alpha_range, alpha_range, grid_resolution)\n",
        "    alpha_grid, beta_grid = np.meshgrid(alphas, betas)\n",
        "    loss_surface = np.zeros((grid_resolution, grid_resolution))\n",
        "\n",
        "    device = next(model.parameters()).device\n",
        "    model.eval()\n",
        "\n",
        "    print(f\"\\nComputing loss surface ({grid_resolution} x {grid_resolution})...\")\n",
        "\n",
        "    with torch.no_grad():\n",
        "        for i in tqdm(range(grid_resolution), desc=\"Computing landscape\"):\n",
        "            for j in range(grid_resolution):\n",
        "                alpha, beta = alphas[i], betas[j]\n",
        "\n",
        "                # Update model parameters\n",
        "                for name, param in model.named_parameters():\n",
        "                    new_param = orig_params[name] + alpha * dir1[name] + beta * dir2[name]\n",
        "                    param.data.copy_(new_param)\n",
        "\n",
        "                total_loss = 0.0\n",
        "                batch_count = 0\n",
        "                max_batches = 7  # Reduced from 10\n",
        "\n",
        "                for batch in data_loader:\n",
        "                    numbers, operator, targets = [t.to(device) for t in batch]\n",
        "                    predictions = model(numbers, operator)\n",
        "                    loss, _ = loss_computer.compute_loss(predictions, targets, numbers, operator)\n",
        "                    total_loss += loss.item()\n",
        "                    batch_count += 1\n",
        "                    if batch_count >= max_batches:\n",
        "                        break\n",
        "\n",
        "                loss_surface[i, j] = total_loss / batch_count\n",
        "\n",
        "    # Restore original parameters\n",
        "    for name, param in model.named_parameters():\n",
        "        param.data.copy_(orig_params[name])\n",
        "\n",
        "    plt.style.use('default' if not dark_mode else 'dark_background')\n",
        "    fig = plt.figure(figsize=(16, 16), dpi=300)  # Restored original high quality size\n",
        "    ax = fig.add_subplot(111, projection='3d')\n",
        "\n",
        "\n",
        "    if dark_mode:\n",
        "        colors_map = [\n",
        "            (0.1, 0.0, 0.0),      # Dark base\n",
        "            (0.3, 0.0, 0.0),      # Dark red\n",
        "            (0.5, 0.1, 0.1),      # Medium red\n",
        "            (0.7, 0.2, 0.2),      # Light red\n",
        "            (1.0, 0.4, 0.4)       # Highlight\n",
        "        ]\n",
        "    else:\n",
        "        colors_map = [\n",
        "            (1.0, 0.8, 0.8),      # Light pink\n",
        "            (0.9, 0.6, 0.6),      # Salmon\n",
        "            (0.8, 0.4, 0.4),      # Medium red\n",
        "            (0.7, 0.2, 0.2),      # Deep red\n",
        "            (0.6, 0.0, 0.0)       # Dark red\n",
        "        ]\n",
        "\n",
        "    color_map = colors.LinearSegmentedColormap.from_list('paper_map', colors_map, N=256)\n",
        "\n",
        "    # Surface processing with slightly increased smoothing\n",
        "    loss_surface_processed = loss_surface.copy()\n",
        "    sigma = grid_resolution/35  # Slightly increased smoothing\n",
        "    loss_surface_processed = gaussian_filter(loss_surface_processed, sigma=sigma)\n",
        "\n",
        "    loss_surface_processed = np.log1p(loss_surface_processed)\n",
        "    p_min, p_max = np.percentile(loss_surface_processed, [1, 99])\n",
        "    loss_surface_processed = np.clip(loss_surface_processed, p_min, p_max)\n",
        "    loss_surface_processed = (loss_surface_processed - p_min) / (p_max - p_min)\n",
        "\n",
        "    # Enhanced lighting for paper clarity\n",
        "    ls = colors.LightSource(azdeg=315, altdeg=45)\n",
        "    illuminated_surface = ls.shade(loss_surface_processed,\n",
        "                                 cmap=color_map,\n",
        "                                 vert_exag=2.0,\n",
        "                                 blend_mode='soft')\n",
        "\n",
        "    # Main surface plot with publication-quality settings\n",
        "    surf = ax.plot_surface(alpha_grid, beta_grid, loss_surface_processed,\n",
        "                          facecolors=illuminated_surface,\n",
        "                          linewidth=0.1,\n",
        "                          antialiased=True,\n",
        "                          shade=True)\n",
        "\n",
        "    if show_axes:\n",
        "        # Contours only if axes are shown\n",
        "        levels = np.linspace(loss_surface_processed.min(), loss_surface_processed.max(), 20)\n",
        "        ax.contour(alpha_grid, beta_grid, loss_surface_processed,\n",
        "                  zdir='z',\n",
        "                  offset=loss_surface_processed.min(),\n",
        "                  levels=levels,\n",
        "                  cmap=color_map,\n",
        "                  alpha=0.3,\n",
        "                  linewidths=0.5)\n",
        "\n",
        "        # Configure axes\n",
        "        ax.grid(True, alpha=0.2, linestyle='-')\n",
        "        ax.set_xlabel('α', labelpad=10)\n",
        "        ax.set_ylabel('β', labelpad=10)\n",
        "        ax.set_zlabel('Loss', labelpad=10)\n",
        "    else:\n",
        "        # Hide all axes, ticks, and grid\n",
        "        ax.set_axis_off()\n",
        "\n",
        "    # Set view angle - rotated to face camera\n",
        "    ax.view_init(elev=elevation, azim=azimuth)\n",
        "    ax.dist = 8\n",
        "\n",
        "    # Configure background\n",
        "    if transparent_background:\n",
        "        ax.set_facecolor('none')\n",
        "        fig.patch.set_alpha(0.0)\n",
        "    else:\n",
        "        ax.set_facecolor('white' if not dark_mode else 'black')\n",
        "        fig.patch.set_facecolor('white' if not dark_mode else 'black')\n",
        "\n",
        "    # Hide panes when axes are off\n",
        "    if not show_axes:\n",
        "        ax.xaxis.pane.fill = False\n",
        "        ax.yaxis.pane.fill = False\n",
        "        ax.zaxis.pane.fill = False\n",
        "        ax.xaxis.pane.set_edgecolor('none')\n",
        "        ax.yaxis.pane.set_edgecolor('none')\n",
        "        ax.zaxis.pane.set_edgecolor('none')\n",
        "\n",
        "    # Set axis limits with minimal margin\n",
        "    margin = 0.05\n",
        "    ax.set_xlim(-alpha_range * (1 + margin), alpha_range * (1 + margin))\n",
        "    ax.set_ylim(-alpha_range * (1 + margin), alpha_range * (1 + margin))\n",
        "\n",
        "    # Save with publication settings\n",
        "    plt.savefig(save_path,\n",
        "                dpi=300,\n",
        "                bbox_inches='tight',\n",
        "                pad_inches=0.1,  # Reduced padding for paper\n",
        "                facecolor='none' if transparent_background else ('white' if not dark_mode else 'black'),\n",
        "                edgecolor='none',\n",
        "                transparent=transparent_background)\n",
        "    plt.close()\n",
        "\n",
        "    return loss_surface"
      ],
      "metadata": {
        "id": "3YtbJGfZQ_f6"
      },
      "execution_count": null,
      "outputs": []
    },
    {
      "cell_type": "code",
      "source": [
        "full_pgd = load_model(\"/content/model_full_pgd.pt\")\n",
        "pgd = load_model(\"/content/model_pgd.pt\")\n",
        "weight_decay = load_model(\"/content/model_decay_control.pt\")\n",
        "with open('abstention_dataset.json', 'r') as f:\n",
        "          dataset_dict = json.load(f)\n",
        "noise_config = {'enabled': True, 'std': 0.3}\n",
        "_, _, noisy_test_loader = ArithmeticDataset.get_train_val_test_loaders(\n",
        "    dataset_dict,\n",
        "    batch_size=32,\n",
        "    noise_config=noise_config\n",
        ")\n",
        "boundary_loader = create_boundary_test_loader(\n",
        "            noisy_test_loader,\n",
        "            num_samples=1000,\n",
        "        )\n",
        "plot_high_quality_loss_landscape(full_pgd, boundary_loader, \"seed_1_full_pgd_landscape.png\")\n",
        "plot_high_quality_loss_landscape(weight_decay, boundary_loader, \"seed1_weight_decay_landscape.png\")\n",
        "plot_high_quality_loss_landscape(pgd, boundary_loader, \"seed1_pgd_landscape.png\")"
      ],
      "metadata": {
        "id": "Ztyduiv4Bifs",
        "colab": {
          "base_uri": "https://localhost:8080/"
        },
        "outputId": "6a042766-9cc2-4380-9b04-c7a9d50a2bac"
      },
      "execution_count": null,
      "outputs": [
        {
          "output_type": "stream",
          "name": "stdout",
          "text": [
            "\n",
            "Computing loss surface (200 x 200)...\n"
          ]
        },
        {
          "output_type": "stream",
          "name": "stderr",
          "text": [
            "Computing landscape:  24%|██▎       | 47/200 [17:27<56:56, 22.33s/it]"
          ]
        }
      ]
    },
    {
      "cell_type": "code",
      "source": [
        "class UnifiedTracker:\n",
        "    \"\"\"\n",
        "    Unified system for tracking both computational resources and training metrics.\n",
        "\n",
        "    This tracker combines computational overhead tracking (FLOPs, passes, time)\n",
        "    with detailed training metrics (loss, accuracy, abstentions). It provides\n",
        "    a single interface for comprehensive monitoring of model training.\n",
        "\n",
        "    Attributes:\n",
        "        metrics (DefaultDict): Stores basic metrics by phase and epoch\n",
        "        current_epoch (int): Current training epoch\n",
        "        batch_abstention_counts (DefaultDict): Tracks abstention statistics\n",
        "        batch_totals (DefaultDict): Tracks total abstentions\n",
        "        forward_passes (int): Number of forward passes\n",
        "        backward_passes (int): Number of backward passes\n",
        "        flops (int): Total floating point operations\n",
        "        start_time (float): Training start timestamp\n",
        "    \"\"\"\n",
        "\n",
        "    def __init__(self) -> None:\n",
        "        # Metrics tracking initialization\n",
        "        self.metrics: DefaultDict[str, DefaultDict[int, List[float]]] = defaultdict(\n",
        "            lambda: defaultdict(list)\n",
        "        )\n",
        "        self.current_epoch: int = 0\n",
        "\n",
        "        # Abstention tracking\n",
        "        self.batch_abstention_counts: DefaultDict[str, DefaultDict[int, Dict[str, int]]] = defaultdict(\n",
        "            lambda: defaultdict(\n",
        "                lambda: {\n",
        "                    'correct': 0,    # Abstained on invalid samples\n",
        "                    'incorrect': 0   # Abstained on valid samples\n",
        "                }\n",
        "            )\n",
        "        )\n",
        "        self.batch_totals: DefaultDict[str, DefaultDict[int, int]] = defaultdict(\n",
        "            lambda: defaultdict(int)\n",
        "        )\n",
        "\n",
        "        # Computational tracking initialization\n",
        "        self.forward_passes: int = 0\n",
        "        self.backward_passes: int = 0\n",
        "        self.flops: int = 0\n",
        "        self.start_time: float = time.time()\n",
        "\n",
        "    def update_computational_metrics(\n",
        "        self,\n",
        "        forward_passes: int = 0,\n",
        "        backward_passes: int = 0,\n",
        "        flops: int = 0\n",
        "    ) -> None:\n",
        "        \"\"\"\n",
        "        Update computational resource counters.\n",
        "\n",
        "        Args:\n",
        "            forward_passes: Number of forward passes to add\n",
        "            backward_passes: Number of backward passes to add\n",
        "            flops: Number of floating point operations to add\n",
        "        \"\"\"\n",
        "        self.forward_passes += forward_passes\n",
        "        self.backward_passes += backward_passes\n",
        "        self.flops += flops\n",
        "\n",
        "    def update_training_metrics(\n",
        "        self,\n",
        "        batch_metrics: Dict[str, Union[float, int]],\n",
        "        phase: str = 'train'\n",
        "    ) -> None:\n",
        "        \"\"\"\n",
        "        Update training metrics from a batch.\n",
        "\n",
        "        Args:\n",
        "            batch_metrics: Dictionary containing:\n",
        "                - 'loss': batch loss value\n",
        "                - 'total_accuracy': batch accuracy\n",
        "                - 'total_abstentions': total abstentions\n",
        "                - 'abstained_on_invalid': correct abstentions\n",
        "                - 'abstained_on_valid': incorrect abstentions\n",
        "            phase: Training phase ('train' or 'val')\n",
        "        \"\"\"\n",
        "        # Update basic metrics\n",
        "        self.metrics[f\"{phase}_loss\"][self.current_epoch].append(batch_metrics['loss'])\n",
        "        self.metrics[f\"{phase}_accuracy\"][self.current_epoch].append(\n",
        "            batch_metrics['total_accuracy']\n",
        "        )\n",
        "\n",
        "        # Update abstention statistics\n",
        "        if batch_metrics['total_abstentions'] > 0:\n",
        "            self.batch_abstention_counts[phase][self.current_epoch]['correct'] += \\\n",
        "                batch_metrics['abstained_on_invalid']\n",
        "            self.batch_abstention_counts[phase][self.current_epoch]['incorrect'] += \\\n",
        "                batch_metrics['abstained_on_valid']\n",
        "            self.batch_totals[phase][self.current_epoch] += batch_metrics['total_abstentions']\n",
        "\n",
        "    def get_computational_metrics(self) -> Dict[str, float]:\n",
        "        \"\"\"\n",
        "        Get current computational resource usage metrics.\n",
        "\n",
        "        Returns:\n",
        "            Dictionary containing:\n",
        "                - forward_passes: Total forward passes\n",
        "                - backward_passes: Total backward passes\n",
        "                - total_flops: Cumulative FLOPs\n",
        "                - wall_time: Total elapsed time\n",
        "        \"\"\"\n",
        "        return {\n",
        "            'forward_passes': self.forward_passes,\n",
        "            'backward_passes': self.backward_passes,\n",
        "            'total_flops': self.flops,\n",
        "            'wall_time': time.time() - self.start_time\n",
        "        }\n",
        "\n",
        "    def get_training_metrics(self, phase: str) -> Dict[str, float]:\n",
        "        \"\"\"\n",
        "        Get aggregated training metrics for current epoch.\n",
        "\n",
        "        Args:\n",
        "            phase: Training phase to get metrics for\n",
        "\n",
        "        Returns:\n",
        "            Dictionary containing:\n",
        "                - loss: Mean epoch loss\n",
        "                - accuracy: Mean epoch accuracy\n",
        "                - correct_abstentions_percent: Correct abstention percentage\n",
        "                - incorrect_abstentions_percent: Incorrect abstention percentage\n",
        "        \"\"\"\n",
        "        epoch_data: Dict[str, float] = {}\n",
        "\n",
        "        # Calculate mean metrics\n",
        "        for key, epoch_dict in self.metrics.items():\n",
        "            if key.startswith(phase):\n",
        "                metric_name = key.split('_', 1)[1]\n",
        "                values = epoch_dict[self.current_epoch]\n",
        "                epoch_data[metric_name] = float(np.mean(values)) if values else 0.0\n",
        "\n",
        "        # Calculate abstention percentages\n",
        "        total_abstentions = self.batch_totals[phase][self.current_epoch]\n",
        "        if total_abstentions > 0:\n",
        "            correct_abs = self.batch_abstention_counts[phase][self.current_epoch]['correct']\n",
        "            incorrect_abs = self.batch_abstention_counts[phase][self.current_epoch]['incorrect']\n",
        "            epoch_data['correct_abstentions_percent'] = (correct_abs / total_abstentions) * 100.0\n",
        "            epoch_data['incorrect_abstentions_percent'] = (incorrect_abs / total_abstentions) * 100.0\n",
        "        else:\n",
        "            epoch_data['correct_abstentions_percent'] = 0.0\n",
        "            epoch_data['incorrect_abstentions_percent'] = 0.0\n",
        "\n",
        "        return epoch_data\n",
        "\n",
        "    def get_all_metrics(self, phase: str) -> Dict[str, float]:\n",
        "        \"\"\"\n",
        "        Get comprehensive metrics combining both computational and training statistics.\n",
        "\n",
        "        Args:\n",
        "            phase: Training phase to get metrics for\n",
        "\n",
        "        Returns:\n",
        "            Combined dictionary of all metrics\n",
        "        \"\"\"\n",
        "        return {\n",
        "            **self.get_computational_metrics(),\n",
        "            **self.get_training_metrics(phase)\n",
        "        }\n",
        "\n",
        "    def count_flops(\n",
        "        self,\n",
        "        model: nn.Module,\n",
        "        input_batch: Tuple[torch.Tensor, torch.Tensor, torch.Tensor]\n",
        "    ) -> int:\n",
        "        \"\"\"\n",
        "        Calculate total FLOPs for a forward pass through the ArithmeticNet architecture.\n",
        "\n",
        "        This function provides a layer-by-layer accounting of floating point operations\n",
        "        in an ArithmeticNet model. It counts operations for:\n",
        "        1. Input processing (number embedding and operator embedding)\n",
        "        2. Core network layers (three fully connected layers)\n",
        "        3. Output layer\n",
        "\n",
        "        Mathematical Details:\n",
        "        -------------------\n",
        "        For each linear layer:\n",
        "            FLOPs = batch_size * in_features * out_features\n",
        "\n",
        "        For embeddings:\n",
        "            FLOPs = batch_size * embedding_dim\n",
        "\n",
        "        Args:\n",
        "            model: ArithmeticNet model instance\n",
        "            input_batch: Tuple of (numbers, operator, targets) tensors\n",
        "\n",
        "        Returns:\n",
        "            Total number of floating point operations for a forward pass\n",
        "\n",
        "        Note:\n",
        "            This is a simplified FLOP count that focuses on major operations.\n",
        "            It does not count activation functions, bias additions, or other\n",
        "            minor operations.\n",
        "        \"\"\"\n",
        "        numbers, operator, _ = input_batch\n",
        "        batch_size = len(numbers)\n",
        "        total_flops = 0\n",
        "\n",
        "        # Input processing FLOPs\n",
        "        # Number embedding: two numbers per sample\n",
        "        total_flops += batch_size * 2 * model.num_embedder.out_features\n",
        "        # Operator embedding\n",
        "        total_flops += batch_size * model.op_embedding.embedding_dim\n",
        "\n",
        "        # Core network FLOPs\n",
        "        # Each linear layer: matrix multiplication\n",
        "        total_flops += batch_size * model.layer1.in_features * model.layer1.out_features\n",
        "        total_flops += batch_size * model.layer2.in_features * model.layer2.out_features\n",
        "        total_flops += batch_size * model.layer3.in_features * model.layer3.out_features\n",
        "\n",
        "        # Output layer FLOPs\n",
        "        total_flops += batch_size * model.output.in_features * model.output.out_features\n",
        "\n",
        "        return total_flops\n"
      ],
      "metadata": {
        "id": "YiTbIQDhHeAx"
      },
      "execution_count": null,
      "outputs": []
    },
    {
      "cell_type": "code",
      "source": [
        "class BaseTrainer: #REWRITE Comment\n",
        "    \"\"\"\n",
        "    Base trainer class implementing abstention-aware training for neural computation models.\n",
        "\n",
        "    This trainer handles both valid and invalid computations, implementing an abstention\n",
        "    mechanism where the model can learn to abstain from predictions on invalid inputs.\n",
        "    The trainer includes comprehensive metrics tracking and loss computation that rewards\n",
        "    correct abstentions while penalizing incorrect ones.\n",
        "\n",
        "    Attributes:\n",
        "        model (nn.Module): The neural network model being trained\n",
        "        optimizer (optim.Optimizer): The optimizer used for training\n",
        "        criterion (nn.Module): Loss function for comparing predictions with targets\n",
        "        scheduler (optim.lr_scheduler.ReduceLROnPlateau): Learning rate scheduler\n",
        "        tracker (ComputationalTracker): Tracks computational overhead metrics\n",
        "    \"\"\"\n",
        "\n",
        "    def __init__(\n",
        "        self,\n",
        "        model: nn.Module,\n",
        "        optimizer: torch.optim.Optimizer\n",
        "    ) -> None:\n",
        "        \"\"\"\n",
        "        Initialize the trainer with a model and optimizer.\n",
        "\n",
        "        Args:\n",
        "            model: Neural network model to train\n",
        "            optimizer: Optimizer for updating model parameters\n",
        "        \"\"\"\n",
        "        self.model = model\n",
        "        self.optimizer = optimizer\n",
        "        self.criterion = nn.MSELoss(reduction='none')\n",
        "        self.scheduler = optim.lr_scheduler.ReduceLROnPlateau(\n",
        "            optimizer, mode='min', factor=0.5, patience=5\n",
        "        )\n",
        "        self.loss_computer = UnifiedLossComputer(\n",
        "            abstention_weight=ABSTENTION_WEIGHT,\n",
        "        )\n",
        "        self.tracker = UnifiedTracker()\n",
        "\n",
        "    def training_step(\n",
        "        self,\n",
        "        batch: Tuple[torch.Tensor, torch.Tensor, torch.Tensor]\n",
        "    ) -> Dict[str, float]:\n",
        "        \"\"\"\n",
        "        Perform a single training step.\n",
        "\n",
        "        Args:\n",
        "            batch: Tuple of (numbers, operator, targets)\n",
        "\n",
        "        Returns:\n",
        "            Dictionary containing batch metrics\n",
        "        \"\"\"\n",
        "        self.model.train()\n",
        "        # Track computational overhead\n",
        "        self.tracker.forward_passes += 1\n",
        "        self.tracker.backward_passes += 1\n",
        "        self.tracker.flops += self.tracker.count_flops(self.model, batch)\n",
        "\n",
        "        self.optimizer.zero_grad()\n",
        "        numbers, operator, targets = batch\n",
        "        predictions = self.model(numbers, operator)\n",
        "        loss = self.loss_computer.compute_loss(predictions, targets, numbers, operator)[0]\n",
        "        loss.backward()\n",
        "        self.optimizer.step()\n",
        "\n",
        "        return self.compute_batch_metrics(numbers, operator, targets, predictions)\n",
        "\n",
        "    def evaluate(\n",
        "        self,\n",
        "        loader: DataLoader,\n",
        "        phase: str = 'val'\n",
        "    ) -> float:\n",
        "        \"\"\"\n",
        "        Evaluate the model on a data loader.\n",
        "\n",
        "        Args:\n",
        "            loader: DataLoader containing evaluation data\n",
        "            phase: Evaluation phase ('train' or 'val')\n",
        "\n",
        "        Returns:\n",
        "            Average loss over the evaluation set\n",
        "        \"\"\"\n",
        "        self.model.eval()\n",
        "        total_loss = 0.0\n",
        "\n",
        "        with torch.no_grad():\n",
        "            for batch in loader:\n",
        "                numbers, operator, targets = batch\n",
        "                predictions = self.model(numbers, operator)\n",
        "                batch_metrics = self.compute_batch_metrics(numbers, operator, targets, predictions)\n",
        "                self.metrics_tracker.update(batch_metrics, phase)\n",
        "                total_loss += batch_metrics['loss']\n",
        "\n",
        "        return total_loss / len(loader)\n",
        "\n",
        "    def compute_batch_metrics(\n",
        "        self,\n",
        "        numbers: Tensor,\n",
        "        operator: Tensor,\n",
        "        targets: Tensor,\n",
        "        predictions: Optional[Tensor] = None\n",
        "    ) -> Dict[str, float]:\n",
        "        if predictions is None:\n",
        "            predictions = self.model(numbers, operator)\n",
        "        return self.loss_computer.compute_metrics(predictions, targets, numbers, operator)\n",
        "class PGDTrainer(BaseTrainer):\n",
        "    \"\"\"\n",
        "    Projected Gradient Descent (PGD) trainer that implements adversarial training\n",
        "    to enhance abstention robustness.\n",
        "\n",
        "    This trainer extends BaseTrainer by adding adversarial training specifically\n",
        "    for invalid computations. It uses PGD to find adversarial parameter perturbations\n",
        "    that would cause the model to output non-abstention values for invalid inputs,\n",
        "    then trains the model to resist these perturbations.\n",
        "\n",
        "    Mathematical Description:\n",
        "    -----------------------\n",
        "    For invalid inputs x, the PGD attack tries to find model parameters θ' that minimize:\n",
        "        L_adv(θ') = -||f_θ'(x) - y_fake||²\n",
        "\n",
        "    where f_θ' is the model with perturbed parameters and y_fake are random valid outputs.\n",
        "\n",
        "    Attributes:\n",
        "        alpha (float): PGD step size for gradient ascent\n",
        "        k (int): Number of PGD iterations\n",
        "        weight (float): Weight for adversarial loss\n",
        "    \"\"\"\n",
        "\n",
        "    def __init__(\n",
        "        self,\n",
        "        model: nn.Module,\n",
        "        optimizer: torch.optim.Optimizer,\n",
        "        *,\n",
        "        alpha: float = 0.016,\n",
        "        k: int = 3,\n",
        "        weight: float = 6.5\n",
        "    ) -> None:\n",
        "        \"\"\"\n",
        "        Initialize the PGD trainer.\n",
        "\n",
        "        Args:\n",
        "            model: Neural network model\n",
        "            optimizer: Optimizer for parameter updates\n",
        "            alpha: Step size for PGD\n",
        "            k: Number of PGD steps\n",
        "            weight: Weight for adversarial loss\n",
        "        \"\"\"\n",
        "        super().__init__(model, optimizer)\n",
        "        self.alpha = alpha\n",
        "        self.k = k\n",
        "        self.weight = weight\n",
        "        self.tracker = UnifiedTracker()\n",
        "\n",
        "    def get_invalid_mask_for_pgd(\n",
        "        self,\n",
        "        invalid_mask: torch.Tensor\n",
        "    ) -> torch.Tensor:\n",
        "        \"\"\"\n",
        "        Get the mask for PGD training. Base implementation uses all invalid samples.\n",
        "\n",
        "        Args:\n",
        "            invalid_mask: Original invalid computation mask\n",
        "\n",
        "        Returns:\n",
        "            Mask indicating which samples to use for PGD\n",
        "        \"\"\"\n",
        "        return invalid_mask\n",
        "\n",
        "    def training_step(\n",
        "        self,\n",
        "        batch: Tuple[torch.Tensor, torch.Tensor, torch.Tensor]\n",
        "    ) -> Dict[str, float]:\n",
        "        \"\"\"\n",
        "        Perform a training step including both normal and adversarial updates.\n",
        "        \"\"\"\n",
        "        self.model.train()\n",
        "        numbers, operator, targets = batch\n",
        "        invalid_mask = is_invalid_computation(numbers, operator)\n",
        "\n",
        "        # Track main forward pass\n",
        "        self.tracker.forward_passes += 1\n",
        "        self.tracker.flops += self.tracker.count_flops(self.model, batch)\n",
        "\n",
        "        # Standard training step\n",
        "        self.optimizer.zero_grad()\n",
        "        predictions = self.model(numbers, operator)\n",
        "        loss = self.loss_computer.compute_loss(predictions, targets, numbers, operator)[0]\n",
        "        loss.backward()\n",
        "\n",
        "        # Track backward pass\n",
        "        self.tracker.backward_passes += 1\n",
        "\n",
        "        self.optimizer.step()\n",
        "\n",
        "        # PGD step for invalid computations\n",
        "        if invalid_mask.any():\n",
        "            pgd_mask = self.get_invalid_mask_for_pgd(invalid_mask)\n",
        "\n",
        "            # Track PGD computational cost\n",
        "            self.tracker.forward_passes += self.k\n",
        "            self.tracker.backward_passes += self.k\n",
        "            selected_batch = (\n",
        "                numbers[pgd_mask],\n",
        "                operator[pgd_mask],\n",
        "                targets[pgd_mask]\n",
        "            )\n",
        "            self.tracker.flops += self.k * self.tracker.count_flops(self.model, selected_batch)\n",
        "\n",
        "            self.perform_pgd(batch, pgd_mask)\n",
        "\n",
        "        return self.compute_batch_metrics(numbers, operator, targets, predictions)\n",
        "\n",
        "    def perform_pgd(\n",
        "        self,\n",
        "        batch: Tuple[torch.Tensor, torch.Tensor, torch.Tensor],\n",
        "        invalid_mask: torch.Tensor\n",
        "    ) -> None:\n",
        "        \"\"\"\n",
        "        Perform PGD-based adversarial training on invalid inputs.\n",
        "\n",
        "        1. Store original parameters θ₀\n",
        "        2. For k steps:\n",
        "           a. Forward pass: ŷ = f_θ(x_invalid)\n",
        "           b. Compute anti-abstention loss: L = -||ŷ - y_fake||²\n",
        "           c. Update: θ ← θ + α * ∇_θ L\n",
        "        3. Restore θ₀\n",
        "        4. Final update with combined loss\n",
        "\n",
        "        Args:\n",
        "            batch: Tuple of (numbers, operator, targets)\n",
        "            invalid_mask: Boolean mask identifying invalid computations\n",
        "        \"\"\"\n",
        "        # Store original parameters\n",
        "        original_params = {\n",
        "            name: param.clone().detach()\n",
        "            for name, param in self.model.named_parameters()\n",
        "        }\n",
        "\n",
        "        # Extract invalid inputs\n",
        "        numbers, operator, targets = batch\n",
        "        invalid_numbers = numbers[invalid_mask]\n",
        "        invalid_operator = operator[invalid_mask]\n",
        "\n",
        "        # Generate anti-abstention targets\n",
        "        # boundary targets\n",
        "        num_invalid = invalid_mask.sum()\n",
        "        fake_targets = self.generate_pgd_targets(invalid_numbers, invalid_operator)\n",
        "\n",
        "        # PGD iteration loop\n",
        "        for _ in range(self.k):\n",
        "            self.optimizer.zero_grad()\n",
        "            predictions = self.model(invalid_numbers, invalid_operator)\n",
        "\n",
        "            # Compute anti-abstention loss\n",
        "            # Negative MSE pushes predictions away from abstention token\n",
        "            anti_abstention_loss = -F.mse_loss(predictions, fake_targets)\n",
        "            (self.weight * anti_abstention_loss).backward()\n",
        "\n",
        "            # Gradient ascent step\n",
        "            with torch.no_grad():\n",
        "                for name, param in self.model.named_parameters():\n",
        "                    if param.grad is not None:\n",
        "                        param.data += self.alpha * param.grad\n",
        "\n",
        "        # Restore original parameters\n",
        "        with torch.no_grad():\n",
        "            for name, param in self.model.named_parameters():\n",
        "                param.data.copy_(original_params[name])\n",
        "\n",
        "        # Final update with standard loss\n",
        "        self.optimizer.zero_grad()\n",
        "        predictions = self.model(numbers, operator)\n",
        "        loss = self.loss_computer.compute_loss(predictions, targets, numbers, operator)[0]\n",
        "        loss.backward()\n",
        "        self.optimizer.step()\n",
        "    def generate_pgd_targets(self, invalid_numbers, invalid_operator):\n",
        "        targets = []\n",
        "        for num, op in zip(invalid_numbers, invalid_operator):\n",
        "            if op == '+':\n",
        "                targets.append(395 + torch.rand(1) * 5)\n",
        "            elif op == '-':\n",
        "                targets.append(torch.rand(1) * 5)\n",
        "            else:\n",
        "                boundary_points = torch.tensor([0, 400])\n",
        "                chosen_boundary = boundary_points[torch.randint(0, 2, (1,))]\n",
        "                targets.append(chosen_boundary + (torch.rand(1) - 0.5) * 20)\n",
        "        return torch.tensor(targets, device=invalid_numbers.device).unsqueeze(1)  # Add dimension to match expected shape\n",
        "class EfficientPGDTrainer(PGDTrainer):\n",
        "    \"\"\"\n",
        "    Memory-efficient version of PGD trainer that performs adversarial training\n",
        "    on a randomly selected subset of invalid computations.\n",
        "\n",
        "    This implementation reduces memory usage and computation time by applying\n",
        "    PGD to only a fraction of invalid samples in each batch, while maintaining\n",
        "    the effectiveness of adversarial training.\n",
        "\n",
        "    Attributes:\n",
        "        sample_ratio (float): Fraction of invalid samples to use for PGD\n",
        "        seed (int): Random seed for sample selection\n",
        "    \"\"\"\n",
        "\n",
        "    def __init__(\n",
        "        self,\n",
        "        model: nn.Module,\n",
        "        optimizer: torch.optim.Optimizer,\n",
        "        *,  # Force keyword arguments for clarity\n",
        "        alpha: float = 0.016,\n",
        "        k: int = 2,\n",
        "        weight: float = 6.5,\n",
        "        sample_ratio: float = 0.3,\n",
        "        seed: int = 42\n",
        "    ) -> None:\n",
        "        \"\"\"\n",
        "        Initialize the efficient PGD trainer.\n",
        "\n",
        "        Args:\n",
        "            model: Neural network model\n",
        "            optimizer: Optimizer for parameter updates\n",
        "            alpha: Step size for PGD\n",
        "            k: Number of PGD steps\n",
        "            weight: Weight for adversarial loss\n",
        "            sample_ratio: Fraction of invalid samples to use for PGD\n",
        "            seed: Random seed for sample selection\n",
        "        \"\"\"\n",
        "        super().__init__(\n",
        "            model,\n",
        "            optimizer,\n",
        "            alpha=alpha,\n",
        "            k=k,\n",
        "            weight=weight\n",
        "        )\n",
        "        self.sample_ratio = sample_ratio\n",
        "        self.seed = seed\n",
        "\n",
        "    def get_invalid_mask_for_pgd(\n",
        "        self,\n",
        "        invalid_mask: torch.Tensor\n",
        "    ) -> torch.Tensor:\n",
        "        \"\"\"\n",
        "        Select a random subset of invalid samples for PGD training.\n",
        "\n",
        "        Args:\n",
        "            invalid_mask: Original invalid computation mask\n",
        "\n",
        "        Returns:\n",
        "            Reduced mask for subset of samples to use in PGD\n",
        "        \"\"\"\n",
        "        mask_indices = torch.where(invalid_mask)[0]\n",
        "        num_samples = max(1, int(len(mask_indices) * self.sample_ratio))\n",
        "\n",
        "        with torch.random.fork_rng():\n",
        "            torch.manual_seed(self.seed)\n",
        "            selected_indices = mask_indices[\n",
        "                torch.randperm(len(mask_indices))[:num_samples]\n",
        "            ]\n",
        "\n",
        "        reduced_mask = torch.zeros_like(invalid_mask)\n",
        "        reduced_mask[selected_indices] = True\n",
        "\n",
        "        return reduced_mask\n",
        "class InputSpaceAdversarialTrainer(BaseTrainer):\n",
        "    \"\"\"\n",
        "    A control trainer that does input-space adversarial training\n",
        "    without increasing the effective dataset size and without\n",
        "    leaking test data. This ensures it is a fair control\n",
        "    relative to your parameter-based PGD model.\n",
        "    \"\"\"\n",
        "    def __init__(\n",
        "        self,\n",
        "        model: nn.Module,\n",
        "        optimizer: torch.optim.Optimizer,\n",
        "        *,\n",
        "        epsilon: float = 0.1,\n",
        "        steps: int = 3,\n",
        "        adv_ratio: float = 0.05,\n",
        "    ) -> None:\n",
        "        \"\"\"\n",
        "        Args:\n",
        "            model: Neural network model\n",
        "            optimizer: Optimizer for parameter updates\n",
        "            epsilon: Max perturbation magnitude for valid inputs\n",
        "            steps: Number of small PGD steps\n",
        "            adv_ratio: Fraction of training examples in each batch to perturb\n",
        "        \"\"\"\n",
        "        super().__init__(model, optimizer)\n",
        "        self.epsilon = epsilon\n",
        "        self.steps = steps\n",
        "        self.adv_ratio = adv_ratio\n",
        "        self.tracker = UnifiedTracker()\n",
        "\n",
        "    def generate_input_adversarial_examples(\n",
        "        self,\n",
        "        numbers: torch.Tensor,\n",
        "        operator: torch.Tensor,\n",
        "        targets: torch.Tensor\n",
        "    ) -> Tuple[torch.Tensor, torch.Tensor, torch.Tensor]:\n",
        "        \"\"\"\n",
        "        Generate adversarial examples *only* from the current batch.\n",
        "        We do not expand or leak data from test sets. We also keep the\n",
        "        final 'adv batch' size the same as the original subset we replace.\n",
        "        \"\"\"\n",
        "        device = next(self.model.parameters()).device\n",
        "        perturbed = numbers.clone().to(device).requires_grad_(True)\n",
        "        operator = operator.to(device)\n",
        "        targets = targets.to(device)\n",
        "\n",
        "        # We'll only push the model's predictions away from the correct targets\n",
        "        # for these valid inputs. (No new data samples.)\n",
        "        for _ in range(self.steps):\n",
        "            predictions = self.model(perturbed, operator)\n",
        "\n",
        "            # Simple \"maximize MSE\" approach: push predictions away from targets\n",
        "            # so that the model is forced to learn a stable boundary.\n",
        "            loss = F.mse_loss(predictions, targets, reduction='mean')\n",
        "            loss = -loss  # negative for gradient ascent on the same model params\n",
        "\n",
        "            # Clear old grads & backprop\n",
        "            perturbed.grad = None\n",
        "            loss.backward()\n",
        "\n",
        "            with torch.no_grad():\n",
        "                if perturbed.grad is not None:\n",
        "                    # FGSM-like step: take sign of grad\n",
        "                    grad_sign = perturbed.grad.sign()\n",
        "                    update = self.epsilon * grad_sign\n",
        "                    perturbed = perturbed + update\n",
        "\n",
        "                    # If you clamp to [0,400], do so carefully so valid points can move\n",
        "                    # but do not get stuck at the boundary:\n",
        "                    perturbed = torch.clamp(perturbed, min=0, max=400)\n",
        "\n",
        "                # Re-enable grad for next iteration\n",
        "                perturbed = perturbed.detach().requires_grad_(True)\n",
        "\n",
        "        return perturbed.detach(), operator, targets\n",
        "\n",
        "    def training_step(\n",
        "        self,\n",
        "        batch: Tuple[torch.Tensor, torch.Tensor, torch.Tensor]\n",
        "    ) -> Dict[str, float]:\n",
        "        \"\"\"Single training step:\n",
        "          1) Split the batch so that a fraction 'self.adv_ratio' is used for adversarial input\n",
        "          2) Generate adversarial perturbations for that fraction\n",
        "          3) Merge them back and run a forward/backward pass with the same total batch size\n",
        "        \"\"\"\n",
        "        self.model.train()\n",
        "        numbers, operator, targets = batch\n",
        "        batch_size = len(numbers)\n",
        "\n",
        "        # Track initial forward pass\n",
        "        self.tracker.forward_passes += 1\n",
        "        self.tracker.flops += self.tracker.count_flops(self.model, batch)\n",
        "\n",
        "        # Index at which to split\n",
        "        split_idx = int(batch_size * (1 - self.adv_ratio))\n",
        "\n",
        "        # 1) Clean portion\n",
        "        clean_nums = numbers[:split_idx]\n",
        "        clean_ops = operator[:split_idx]\n",
        "        clean_targets = targets[:split_idx]\n",
        "\n",
        "        # 2) Adversarial portion\n",
        "        # Track adversarial generation passes\n",
        "        adv_nums, adv_ops, adv_targets = self.generate_input_adversarial_examples(\n",
        "            numbers[split_idx:], operator[split_idx:], targets[split_idx:]\n",
        "        )\n",
        "        # Each adversarial example generation requires self.steps forward passes\n",
        "        self.tracker.forward_passes += self.steps * (batch_size - split_idx)\n",
        "        self.tracker.flops += self.steps * (batch_size - split_idx) * \\\n",
        "                             self.tracker.count_flops(self.model, (numbers[split_idx:],\n",
        "                                                                 operator[split_idx:],\n",
        "                                                                 targets[split_idx:]))\n",
        "\n",
        "        # Recombine so total size is the same as the original batch\n",
        "        combined_nums = torch.cat([clean_nums, adv_nums], dim=0)\n",
        "        combined_ops = torch.cat([clean_ops, adv_ops], dim=0)\n",
        "        combined_tgts = torch.cat([clean_targets, adv_targets], dim=0)\n",
        "\n",
        "        # Forward pass on the combined batch\n",
        "        self.optimizer.zero_grad()\n",
        "        predictions = self.model(combined_nums, combined_ops)\n",
        "        loss, _ = self.loss_computer.compute_loss(\n",
        "            predictions, combined_tgts, combined_nums, combined_ops\n",
        "        )\n",
        "        loss.backward()\n",
        "\n",
        "        # Track final backward pass\n",
        "        self.tracker.backward_passes += 1\n",
        "\n",
        "        self.optimizer.step()\n",
        "\n",
        "        # Compute metrics\n",
        "        with torch.no_grad():\n",
        "            metrics = self.compute_batch_metrics(\n",
        "                combined_nums, combined_ops, combined_tgts, predictions\n",
        "            )\n",
        "        return metrics"
      ],
      "metadata": {
        "id": "RPrVtw_5IVyR"
      },
      "execution_count": null,
      "outputs": []
    },
    {
      "cell_type": "code",
      "source": [
        "def get_model_name(model_idx: int, model: nn.Module, is_pgd: bool, model_var_name: Optional[str]) -> str:\n",
        "    \"\"\"\n",
        "    Convert variable name to formatted model name, with fallback to type-based naming.\n",
        "\n",
        "    Args:\n",
        "        model_idx: Index of the model in the training framework\n",
        "        model: The neural network model\n",
        "        is_pgd: Flag indicating if the model uses PGD training\n",
        "        model_var_name: Optional variable name provided for the model\n",
        "\n",
        "    Returns:\n",
        "        str: Formatted model name for use in saving and tracking\n",
        "    \"\"\"\n",
        "    if model_var_name:\n",
        "        base_name = model_var_name.replace('_model', '').replace('_', ' ').strip()\n",
        "        return f\"model_{model_idx}_{base_name}\"\n",
        "    elif is_pgd:\n",
        "        return f\"model_{model_idx}_pgd\"\n",
        "    else:\n",
        "        return f\"model_{model_idx}_base_adam\"\n",
        "\n",
        "class UnifiedTrainingFramework:\n",
        "    def __init__(\n",
        "        self,\n",
        "        models: List[nn.Module],\n",
        "        trainers: List[BaseTrainer],\n",
        "        save_dir: str = 'training_results',\n",
        "        fixed_scale: int = 1000,\n",
        "        training_config: Optional[TrainingConfig] = None,\n",
        "        model_names: Optional[List[str]] = None\n",
        "    ):\n",
        "        \"\"\"\n",
        "        Initialize the unified training framework for multiple models.\n",
        "\n",
        "        Args:\n",
        "            models: List of PyTorch models to train\n",
        "            save_dir: Directory to save training results and visualizations\n",
        "            lr: Learning rate for optimization\n",
        "            fixed_scale: Scale factor for landscape analysis\n",
        "            -1.0: Token value used for model abstention\n",
        "            training_config: Configuration object for training parameters\n",
        "            model_var_names: Optional list of variable names for models\n",
        "        \"\"\"\n",
        "        self.models = models\n",
        "        self.save_dir = save_dir\n",
        "        self.fixed_scale = fixed_scale\n",
        "        self.training_config = training_config or TrainingConfig()\n",
        "        self.trainers = []\n",
        "        self.trainers = trainers\n",
        "        self.model_names = model_names\n",
        "\n",
        "        if len(models) != len(trainers):\n",
        "          raise ValueError(\"Number of models must match number of trainers\")\n",
        "\n",
        "        # Create necessary directories\n",
        "        os.makedirs(save_dir, exist_ok=True)\n",
        "        os.makedirs(os.path.join(save_dir, 'landscapes'), exist_ok=True)\n",
        "        os.makedirs(os.path.join(save_dir, 'metrics'), exist_ok=True)\n",
        "        # Initialize metrics history tracking\n",
        "        self.metrics_history = defaultdict(lambda: defaultdict(list))\n",
        "\n",
        "    def get_model_name(model_idx: int, model: nn.Module, model_var_name: Optional[str]) -> str:\n",
        "        if model_var_name:\n",
        "            base_name = model_var_name.replace('_model', '').replace('_', ' ').strip()\n",
        "            return f\"model_{model_idx}_{base_name}\"\n",
        "        return f\"model_{model_idx}\"\n",
        "\n",
        "    def train_single_model(\n",
        "        self,\n",
        "        model_idx: int,\n",
        "        train_loader: DataLoader,\n",
        "        val_loader: DataLoader,\n",
        "        epochs: int,\n",
        "        analyze_every: int\n",
        "    ) -> Dict[str, Any]:\n",
        "        \"\"\"\n",
        "        Train a single model with the specified configuration.\n",
        "\n",
        "        Args:\n",
        "            model_idx: Index of the model to train\n",
        "            train_loader: DataLoader for training data\n",
        "            val_loader: DataLoader for validation data\n",
        "            epochs: Number of training epochs\n",
        "            analyze_every: Frequency of landscape analysis\n",
        "\n",
        "        Returns:\n",
        "            Dict containing training metrics history\n",
        "        \"\"\"\n",
        "\n",
        "        model = self.models[model_idx]\n",
        "        trainer = self.trainers[model_idx]\n",
        "        model_name = self.model_names[model_idx]\n",
        "\n",
        "        # Training loop\n",
        "        for epoch in range(epochs):\n",
        "            self._train_epoch(trainer, train_loader, epoch, total_epochs=epochs)\n",
        "\n",
        "            # Validation phase\n",
        "            if epoch % self.training_config.val_freq == 0:\n",
        "                self._validate_model(trainer, val_loader, epoch)\n",
        "\n",
        "            # Landscape analysis\n",
        "            if epoch > 0 and (epoch + 1) % self.training_config.analysis_freq == 0:\n",
        "                self.perform_analysis_single_model(trainer, epoch, val_loader,\n",
        "                                                model_name, model_idx)\n",
        "\n",
        "        # Save final results\n",
        "        #self._save_model_results(model_idx, model_name)\n",
        "       # self._log_computational_metrics(trainer, model_name)\n",
        "        return dict(self.metrics_history)\n",
        "    def _train_epoch(\n",
        "        self,\n",
        "        trainer: BaseTrainer,\n",
        "        train_loader: DataLoader,\n",
        "        epoch: int,\n",
        "        total_epochs: int,\n",
        "    ) -> None:\n",
        "        \"\"\"\n",
        "        Train for one epoch using the provided trainer.\n",
        "\n",
        "        Args:\n",
        "            trainer: Trainer instance to use\n",
        "            train_loader: DataLoader for training data\n",
        "            epoch: Current epoch number\n",
        "        \"\"\"\n",
        "        # Update training configuration epoch\n",
        "\n",
        "        # Initialize epoch metrics\n",
        "        epoch_metrics = defaultdict(list)\n",
        "\n",
        "        # Training loop\n",
        "        pbar = tqdm(train_loader,\n",
        "                    desc=f'Epoch {epoch+1}/{total_epochs}',\n",
        "                    leave=True)\n",
        "        for batch_idx, batch in enumerate(pbar):\n",
        "            # Perform training step\n",
        "            batch_metrics = trainer.training_step(batch)\n",
        "\n",
        "            # Accumulate metrics\n",
        "            for key, value in batch_metrics.items():\n",
        "                epoch_metrics[f'train_{key}'].append(value)\n",
        "\n",
        "            # Update progress bar with running averages\n",
        "            running_metrics = {\n",
        "                key: np.mean(values[-100:])  # Last 100 batches\n",
        "                for key, values in epoch_metrics.items()\n",
        "            }\n",
        "            metric_strings = [\n",
        "              f\"\\n{key.replace('train_', '')}: {value:.4g}\"\n",
        "              for key, value in running_metrics.items()\n",
        "        ]\n",
        "\n",
        "            pbar.set_postfix(running_metrics)\n",
        "\n",
        "\n",
        "        # Calculate and store epoch averages\n",
        "        avg_metrics = {\n",
        "            key: float(np.mean(values))\n",
        "            for key, values in epoch_metrics.items()\n",
        "        }\n",
        "\n",
        "\n",
        "\n",
        "    def _validate_model(\n",
        "        self,\n",
        "        trainer: BaseTrainer,\n",
        "        val_loader: DataLoader,\n",
        "        epoch: int\n",
        "    ) -> float:\n",
        "        \"\"\"\n",
        "        Validate the model using the provided trainer.\n",
        "\n",
        "        Args:\n",
        "            trainer: Trainer instance to use\n",
        "            val_loader: DataLoader for validation data\n",
        "            epoch: Current epoch number\n",
        "\n",
        "        Returns:\n",
        "            float: Average validation loss\n",
        "        \"\"\"\n",
        "        # Initialize validation metrics\n",
        "        val_metrics = defaultdict(list)\n",
        "\n",
        "        # Validation loop\n",
        "        trainer.model.eval()\n",
        "        with torch.no_grad():\n",
        "            for batch in val_loader:\n",
        "                # Get predictions and metrics\n",
        "                numbers, operator, targets = batch\n",
        "                predictions = trainer.model(numbers, operator)\n",
        "                batch_metrics = trainer.compute_batch_metrics(\n",
        "                    numbers=numbers,\n",
        "                    operator=operator,\n",
        "                    targets=targets,\n",
        "                    predictions=predictions\n",
        "                )\n",
        "\n",
        "                # Accumulate metrics\n",
        "                for key, value in batch_metrics.items():\n",
        "                    val_metrics[f'val_{key}'].append(value)\n",
        "\n",
        "        # Calculate validation averages\n",
        "        avg_metrics = {\n",
        "            key: float(np.mean(values))\n",
        "            for key, values in val_metrics.items()\n",
        "        }\n",
        "\n",
        "        # Update metrics history\n",
        "        for key, value in avg_metrics.items():\n",
        "            self.metrics_history[key][epoch].append(value)\n",
        "\n",
        "        # Log validation results\n",
        "        metrics_str = ', '.join(\n",
        "            f'{key}: {value:.4f}'\n",
        "            for key, value in avg_metrics.items()\n",
        "        )\n",
        "        print(f'\\nEpoch {epoch} validation: {metrics_str}')\n",
        "\n",
        "        # Step learning rate scheduler if it exists\n",
        "        val_loss = avg_metrics['val_loss']\n",
        "        if hasattr(trainer, 'scheduler'):\n",
        "            trainer.scheduler.step(val_loss)\n",
        "\n",
        "        return val_loss\n",
        "\n",
        "    def _log_computational_metrics(\n",
        "        self,\n",
        "        trainer: BaseTrainer,\n",
        "        model_name: str\n",
        "    ) -> None:\n",
        "        \"\"\"\n",
        "        Log computational metrics from trainer.\n",
        "\n",
        "        Args:\n",
        "            trainer: Trainer instance\n",
        "            model_name: Name of the model\n",
        "        \"\"\"\n",
        "        if hasattr(trainer, 'tracker'):\n",
        "            metrics = trainer.tracker.get_metrics()\n",
        "\n",
        "            # Save detailed metrics to file\n",
        "            metrics_path = os.path.join(\n",
        "                self.save_dir,\n",
        "                'metrics',\n",
        "                f'{model_name}_computational_metrics.json'\n",
        "            )\n",
        "            with open(metrics_path, 'w') as f:\n",
        "                json.dump(metrics, f, indent=2)\n",
        "\n",
        "            # Print summary\n",
        "            print(f\"\\nComputational metrics for {model_name}:\")\n",
        "            print(f\"  Forward passes: {metrics['forward_passes']}\")\n",
        "            print(f\"  Backward passes: {metrics['backward_passes']}\")\n",
        "            print(f\"  Total FLOPs: {metrics['total_flops']:,}\")\n",
        "            print(f\"  Wall time: {metrics['wall_time']:.2f}s\")\n",
        "\n",
        "    def perform_analysis_single_model(\n",
        "        self,\n",
        "        trainer: Union[BaseTrainer, EfficientPGDTrainer],\n",
        "        epoch: int,\n",
        "        val_loader: DataLoader,\n",
        "        model_name: str,\n",
        "        model_idx: int\n",
        "    ) -> None:\n",
        "        \"\"\"\n",
        "        Perform comprehensive landscape analysis on a single model using both\n",
        "        principal component and random direction analysis.\n",
        "\n",
        "        Args:\n",
        "            trainer: The model's trainer instance\n",
        "            epoch: Current training epoch\n",
        "            val_loader: Validation data loader\n",
        "            model_name: Name of the model\n",
        "            model_idx: Index of the model\n",
        "        \"\"\"\n",
        "        print(f\"\\nPerforming landscape analysis for epoch {epoch} on {model_name}...\")\n",
        "\n",
        "        # Setup directory structure\n",
        "        landscape_dir = os.path.join(self.save_dir, 'landscapes', model_name)\n",
        "        os.makedirs(landscape_dir, exist_ok=True)\n",
        "\n",
        "        # Initialize analyzer\n",
        "        analyzer = LandscapeAnalyzer(\n",
        "            self.models[model_idx],\n",
        "            save_dir=landscape_dir,\n",
        "            fixed_scale=self.fixed_scale,\n",
        "        )\n",
        "\n",
        "        try:\n",
        "            # First analyze using random directions\n",
        "            save_path = os.path.join(landscape_dir, f\"epoch_{epoch}_random_directions.png\")\n",
        "            analyzer.visualize_landscape(\n",
        "                val_loader,\n",
        "                epoch,\n",
        "                model_name=f\"{model_name}_random\",\n",
        "                rand_dir=True\n",
        "            )\n",
        "\n",
        "            # Then analyze using principal directions\n",
        "            save_path = os.path.join(landscape_dir, f\"epoch_{epoch}_principal_directions.png\")\n",
        "            analyzer.visualize_landscape(\n",
        "                val_loader,\n",
        "                epoch,\n",
        "                model_name=f\"{model_name}_pca\",\n",
        "                rand_dir=False\n",
        "            )\n",
        "\n",
        "            # Perform numerical landscape analysis\n",
        "            val_batch = next(iter(val_loader))\n",
        "            metrics = analyzer.analyze_landscape(val_batch, epoch)\n",
        "\n",
        "            # Log metrics\n",
        "            print(f\"  [Landscape] Alpha Sharpness: {metrics['alpha_sharpness']:.4f}\")\n",
        "            print(\"  [Landscape] Top Eigenvalues:\")\n",
        "            for i, ev in enumerate(metrics['top_eigenvalues']):\n",
        "                print(f\"    λ{i+1}: {ev:.4f}\")\n",
        "\n",
        "            print(\"  [Landscape] Multiscale Sharpness:\")\n",
        "            for scale, value in metrics['multiscale_sharpness'].items():\n",
        "                print(f\"    {scale}: {value:.4f}\")\n",
        "\n",
        "            print(f\"  [Landscape] Valley Asymmetry: {metrics['valley_asymmetry']:.4f}\")\n",
        "\n",
        "            # Store metrics history\n",
        "            for key, value in metrics.items():\n",
        "                self.metrics_history[model_name][f\"landscape_{key}\"].append((epoch, value))\n",
        "\n",
        "        except Exception as e:\n",
        "            print(f\"Warning: Failed to perform landscape analysis:\")\n",
        "            print(traceback.format_exc())\n",
        "            # Ensure directory exists even if analysis fails\n",
        "            os.makedirs(os.path.dirname(save_path), exist_ok=True)\n",
        "\n",
        "    def evaluate_and_visualize(\n",
        "        self,\n",
        "        test_loader: DataLoader,\n",
        "        epoch: int,\n",
        "        model_names: List[str]\n",
        "    ) -> None:\n",
        "        \"\"\"\n",
        "        Evaluate models on test data and generate visualizations.\n",
        "\n",
        "        Args:\n",
        "            test_loader: DataLoader for test data\n",
        "            epoch: Current epoch number\n",
        "            model_names: List of model names to evaluate\n",
        "        \"\"\"\n",
        "        abstention_rates = defaultdict(list)\n",
        "\n",
        "        # Evaluate each model\n",
        "        for model_idx, model in enumerate(self.models):\n",
        "            model_name = model_names[model_idx]\n",
        "            metrics = self._evaluate_single_model(model, test_loader, model_name)\n",
        "            abstention_rates[model_name].append(metrics['total_abstentions'])\n",
        "\n",
        "        # Generate visualization\n",
        "        self._plot_abstention_rates(abstention_rates, epoch)"
      ],
      "metadata": {
        "id": "iP-qmMtZWF4M"
      },
      "execution_count": null,
      "outputs": []
    },
    {
      "cell_type": "code",
      "source": [
        "def test_model_with_noise(\n",
        "    model: nn.Module,\n",
        "    loader: Iterator[tuple[Tensor, Tensor, Tensor]],\n",
        "    noise_std: float\n",
        ") -> Dict[str, float]:\n",
        "    \"\"\"\n",
        "    Test a model's performance with optional additive Gaussian noise.\n",
        "\n",
        "    Args:\n",
        "        model: Neural network model for arithmetic operations\n",
        "        loader: DataLoader providing batches of (numbers, operator, targets)\n",
        "        noise_std: Standard deviation of Gaussian noise to add to inputs\n",
        "\n",
        "    Returns:\n",
        "        Dictionary containing various performance metrics:\n",
        "        - abstention_rate: Frequency of model abstaining from predictions\n",
        "        - invalid_recall: Recall for invalid computation cases\n",
        "        - valid_recall: Recall for valid computation cases\n",
        "        - correct_abstention: Rate of correctly abstaining on invalid cases\n",
        "        - valid_accuracy: Accuracy on valid cases when not abstaining\n",
        "    \"\"\"\n",
        "    metrics = defaultdict(list)\n",
        "    model.eval()\n",
        "\n",
        "    with torch.no_grad():\n",
        "        for batch in loader:\n",
        "            numbers, operator, targets = batch\n",
        "            # Add Gaussian noise to input if specified\n",
        "            if noise_std > 0:\n",
        "                noise = torch.randn_like(numbers) * noise_std\n",
        "                numbers = numbers + noise\n",
        "\n",
        "            # Get model predictions and ensure consistent shapes\n",
        "            predictions = model(numbers, operator)\n",
        "            predictions = predictions.squeeze()\n",
        "            targets = targets.squeeze()\n",
        "\n",
        "            # Identify invalid computations and abstentions\n",
        "            invalid_mask = is_invalid_computation(numbers, operator)\n",
        "            abstained = torch.isclose(\n",
        "                predictions,\n",
        "                torch.tensor(-1.0).to(predictions.device),\n",
        "                rtol=0.1, atol=0.1\n",
        "            )\n",
        "\n",
        "            # Calculate overall abstention rate\n",
        "            metrics['abstention_rate'].append(abstained.float().mean().item())\n",
        "\n",
        "            # Calculate recall metrics for invalid cases\n",
        "            if invalid_mask.any():\n",
        "                invalid_recall = (abstained & invalid_mask).float().sum() / invalid_mask.float().sum()\n",
        "                metrics['invalid_recall'].append(invalid_recall.item())\n",
        "\n",
        "            # Calculate recall metrics for valid cases\n",
        "            valid_mask = ~invalid_mask\n",
        "            valid_and_not_abstained = valid_mask & (~abstained)\n",
        "\n",
        "            if valid_mask.any():\n",
        "                valid_recall = valid_and_not_abstained.float().sum() / valid_mask.float().sum()\n",
        "                metrics['valid_recall'].append(valid_recall.item())\n",
        "\n",
        "            # Track correct abstention rate\n",
        "            metrics['correct_abstention'].append(\n",
        "                (abstained & invalid_mask).float().mean().item()\n",
        "            )\n",
        "\n",
        "            # Calculate accuracy for valid cases where model didn't abstain\n",
        "            if valid_and_not_abstained.any():\n",
        "                pred_vals = predictions[valid_and_not_abstained]\n",
        "                tgt_vals = targets[valid_and_not_abstained]\n",
        "                diff = torch.abs(pred_vals - tgt_vals)\n",
        "                # Use relative threshold for accuracy calculation\n",
        "                threshold = torch.abs(tgt_vals) * 0.01 + 1e-8\n",
        "                accuracy = (diff < threshold).float().mean().item()\n",
        "                metrics['valid_accuracy'].append(accuracy)\n",
        "\n",
        "    # Ensure valid_accuracy exists in output\n",
        "    if not metrics['valid_accuracy']:\n",
        "        metrics['valid_accuracy'] = [0.0]\n",
        "\n",
        "    return {k: np.mean(v) for k, v in metrics.items()}\n",
        "\n",
        "def test_model_on_boundary_cases(\n",
        "    model: nn.Module,\n",
        "    loader: Iterator[tuple[Tensor, Tensor, Tensor]]\n",
        ") -> Dict[str, float]:\n",
        "    \"\"\"\n",
        "    Test model performance specifically on boundary cases.\n",
        "\n",
        "    Args:\n",
        "        model: Neural network model for arithmetic operations\n",
        "        loader: DataLoader providing batches of (numbers, operator, targets)\n",
        "\n",
        "    Returns:\n",
        "        Dictionary containing performance metrics:\n",
        "        - invalid_recall: Recall rate for invalid computation cases\n",
        "        - valid_recall: Recall rate for valid computation cases\n",
        "        - correct_abstentions: Rate of correctly abstaining on invalid cases\n",
        "        - incorrect_abstentions: Rate of incorrectly abstaining on valid cases\n",
        "        - accuracy: Accuracy on valid cases when not abstaining\n",
        "    \"\"\"\n",
        "    metrics = defaultdict(list)\n",
        "    model.eval()\n",
        "\n",
        "    with torch.no_grad():\n",
        "        for batch in loader:\n",
        "            numbers, operator, targets = batch\n",
        "            predictions = model(numbers, operator)\n",
        "\n",
        "            # Ensure consistent shapes\n",
        "            predictions = predictions.squeeze()\n",
        "            targets = targets.squeeze()\n",
        "\n",
        "            # Identify invalid computations and abstentions\n",
        "            invalid_mask = is_invalid_computation(numbers, operator)\n",
        "            abstained = torch.isclose(\n",
        "                predictions,\n",
        "                torch.tensor(-1.0).to(predictions.device),\n",
        "                rtol=0.1,\n",
        "                atol=0.1\n",
        "            )\n",
        "\n",
        "            # Calculate recall metrics for invalid cases\n",
        "            if invalid_mask.any():\n",
        "                invalid_recall = (abstained & invalid_mask).float().sum() / invalid_mask.float().sum()\n",
        "                metrics['invalid_recall'].append(invalid_recall.item())\n",
        "\n",
        "            # Calculate recall metrics for valid cases\n",
        "            valid_mask = ~invalid_mask\n",
        "            if valid_mask.any():\n",
        "                valid_and_not_abstained = valid_mask & (~abstained)\n",
        "                valid_recall = valid_and_not_abstained.float().sum() / valid_mask.float().sum()\n",
        "                metrics['valid_recall'].append(valid_recall.item())\n",
        "\n",
        "            # Track abstention metrics\n",
        "            metrics['correct_abstentions'].append(\n",
        "                (abstained & invalid_mask).float().mean().item()\n",
        "            )\n",
        "            metrics['incorrect_abstentions'].append(\n",
        "                (abstained & ~invalid_mask).float().mean().item()\n",
        "            )\n",
        "\n",
        "            # Calculate accuracy for valid cases where model didn't abstain\n",
        "            valid_and_not_abstained = valid_mask & (~abstained)\n",
        "            if valid_and_not_abstained.any():\n",
        "                pred_vals = predictions[valid_and_not_abstained]\n",
        "                tgt_vals = targets[valid_and_not_abstained]\n",
        "\n",
        "                diff = torch.abs(pred_vals - tgt_vals)\n",
        "                # Use relative threshold for accuracy calculation\n",
        "                threshold = torch.abs(tgt_vals) * 0.01 + 1e-8\n",
        "                accuracy = (diff < threshold).float().mean().item()\n",
        "                metrics['accuracy'].append(accuracy)\n",
        "\n",
        "    return {k: np.mean(v) for k, v in metrics.items()}\n",
        "def run_robustness_experiments(\n",
        "    models: Dict[str, nn.Module],\n",
        "    save_dir: str = 'robustness_results',\n",
        "    model_names: Optional[List[str]] = None,\n",
        "    test_loader = Any\n",
        ") -> Dict[str, Dict]:\n",
        "    \"\"\"\n",
        "    Run robustness experiments on multiple models with various noise levels.\n",
        "\n",
        "    Args:\n",
        "        models: Dictionary mapping model names to model instances\n",
        "        save_dir: Directory to save results and visualizations\n",
        "        model_names: Optional list of model names to test (defaults to all models in dict)\n",
        "\n",
        "    Returns:\n",
        "        Dictionary containing test results for boundary and noise experiments\n",
        "    \"\"\"\n",
        "    # Create output directories\n",
        "    os.makedirs(save_dir, exist_ok=True)\n",
        "    os.makedirs(os.path.join(save_dir, 'plots'), exist_ok=True)\n",
        "\n",
        "    # Validate model names\n",
        "    if model_names is None:\n",
        "        model_names = list(models.keys())\n",
        "    elif not all(name in models for name in model_names):\n",
        "        raise ValueError(\"All model_names must be keys in models dict\")\n",
        "\n",
        "    # Initialize results structure\n",
        "    results = {\n",
        "        # 'boundary_test': {},\n",
        "        'noise_test': {}\n",
        "    }\n",
        "\n",
        "    # Define noise levels for testing\n",
        "    noise_levels = [\n",
        "        0.5, 1.0, 2.0, 5.0, 10.0, 25.0, 50.0, 100.0,\n",
        "        200.0, 250.0, 300.0, 500.0, 1000.0, 2000.0\n",
        "    ]\n",
        "\n",
        "    # Run experiments for each noise level\n",
        "    for noise_std in tqdm(noise_levels, desc=\"Testing noise levels\"):\n",
        "        # results['boundary_test'][noise_std] = {}\n",
        "        results['noise_test'][noise_std] = {}\n",
        "\n",
        "        for name in model_names:\n",
        "            try:\n",
        "                model = models[name]\n",
        "                metrics = test_model_with_noise(model, test_loader, noise_std)\n",
        "\n",
        "                # # Store boundary test results\n",
        "                # results['boundary_test'][noise_std][name] = {\n",
        "                #     'correct_abstentions': metrics['correct_abstention'],\n",
        "                #     'invalid_recall': metrics.get('invalid_recall', 0.0)\n",
        "                # }\n",
        "\n",
        "                # Store noise test results\n",
        "                results['noise_test'][noise_std][name] = {\n",
        "                    'abstention_rate': metrics['abstention_rate'],\n",
        "                    'valid_accuracy': metrics['valid_accuracy'],\n",
        "                    'invalid_recall': metrics.get('invalid_recall', 0.0)\n",
        "                }\n",
        "\n",
        "            except Exception as e:\n",
        "                print(f\"\\nWarning: Error testing {name} with noise {noise_std}: {str(e)}\")\n",
        "                # Initialize empty results for failed tests\n",
        "                # results['boundary_test'][noise_std][name] = {\n",
        "                #     'correct_abstentions': 0.0,\n",
        "                #     'invalid_recall': 0.0\n",
        "                # }\n",
        "                results['noise_test'][noise_std][name] = {\n",
        "                    'abstention_rate': 0.0,\n",
        "                    'valid_accuracy': 0.0,\n",
        "                    'invalid_recall': 0.0\n",
        "                }\n",
        "\n",
        "    # Save results to file\n",
        "    try:\n",
        "        results_path = os.path.join(save_dir, 'robustness_results.json')\n",
        "        with open(results_path, 'w') as f:\n",
        "            json.dump({\n",
        "                'results': results,\n",
        "                'metadata': {\n",
        "                    'model_names': model_names,\n",
        "                    'noise_levels': noise_levels\n",
        "                }\n",
        "            }, f, indent=2)\n",
        "    except Exception as e:\n",
        "        print(f\"\\nWarning: Could not save results: {str(e)}\")\n",
        "\n",
        "    # Generate visualizations if multiple models are present\n",
        "    if model_names:\n",
        "        try:\n",
        "            create_robustness_visualizations(results, save_dir, model_names=model_names)\n",
        "        except Exception as e:\n",
        "            print(f\"\\nWarning: Could not create visualizations: {str(e)}\")\n",
        "            print(traceback.format_exc())\n",
        "\n",
        "    return results\n",
        "\n",
        "def create_robustness_visualizations(\n",
        "    results: Dict[str, Dict],\n",
        "    save_dir: str,\n",
        "    model_names: Optional[List[str]] = None\n",
        ") -> bool:\n",
        "    \"\"\"\n",
        "    Create publication-quality visualizations of robustness experiment results.\n",
        "\n",
        "    Args:\n",
        "        results: Dictionary containing experiment results\n",
        "        save_dir: Directory to save visualization files\n",
        "        model_names: Optional list of model names to include in visualizations\n",
        "\n",
        "    Returns:\n",
        "        True if visualizations were created successfully\n",
        "    \"\"\"\n",
        "    os.makedirs(save_dir, exist_ok=True)\n",
        "\n",
        "    # Get model names from results if not provided\n",
        "    if model_names is None:\n",
        "        model_names = list(next(iter(results['boundary_test'].values())).keys())\n",
        "\n",
        "    # Set up matplotlib style\n",
        "    plt.style.use('seaborn-v0_8-whitegrid')\n",
        "    base_params = {\n",
        "        'font.family': 'sans-serif',\n",
        "        'font.size': 12,\n",
        "        'axes.labelsize': 14,\n",
        "        'axes.titlesize': 14,\n",
        "        'legend.fontsize': 12,\n",
        "        'axes.spines.top': False,\n",
        "        'axes.spines.right': False,\n",
        "        'axes.grid': True,\n",
        "        'grid.alpha': 0.3,\n",
        "    }\n",
        "\n",
        "    # Define color palette for consistent visualization\n",
        "    colors = ['#4878D0', '#EE854A', '#6ACC64', '#9467BD', '#FF7F0E', '#2CA02C']\n",
        "\n",
        "    if len(model_names) > 1:\n",
        "        # Generate boundary test visualization\n",
        "        # _create_boundary_test_plot(\n",
        "        #     results, model_names, colors, base_params, save_dir\n",
        "        # )\n",
        "\n",
        "      #  Generate progressive noise test visualization\n",
        "        _create_noise_test_plot(\n",
        "            results, model_names, colors, base_params, save_dir\n",
        "        )\n",
        "\n",
        "        # Generate invalid recall visualization\n",
        "        _create_invalid_recall_plot(\n",
        "            results, model_names, colors, base_params, save_dir\n",
        "        )\n",
        "    else:\n",
        "        # Save metrics as JSON for single model case\n",
        "        metrics_path = os.path.join(save_dir, f'{model_names[0]}_robustness_metrics.json')\n",
        "        with open(metrics_path, 'w') as f:\n",
        "            json.dump({\n",
        "                'boundary_test': results['boundary_test'],\n",
        "                'noise_test': results['noise_test']\n",
        "            }, f, indent=2)\n",
        "\n",
        "    return True\n",
        "\n",
        "# def _create_boundary_test_plot(\n",
        "#     results: Dict[str, Dict],\n",
        "#     model_names: List[str],\n",
        "#     colors: List[str],\n",
        "#     base_params: Dict[str, Any],\n",
        "#     save_dir: str\n",
        "# ) -> None:\n",
        "#     \"\"\"Helper function to create boundary test visualization.\"\"\"\n",
        "#     plt.rcParams.update({**base_params, 'figure.figsize': (8, 6)})\n",
        "#     fig = plt.figure(constrained_layout=True)\n",
        "#     ax = fig.add_subplot(111)\n",
        "\n",
        "#     noise_levels = sorted(results['boundary_test'].keys())\n",
        "#     x = np.arange(len(noise_levels))\n",
        "#     width = 0.8 / len(model_names)\n",
        "\n",
        "#     for i, model_name in enumerate(model_names):\n",
        "#         try:\n",
        "#             correct_vals = [\n",
        "#                 results['boundary_test'][n][model_name]['correct_abstentions']\n",
        "#                 for n in noise_levels\n",
        "#             ]\n",
        "#             position = x + width * (i - len(model_names)/2 + 0.5)\n",
        "#             ax.bar(position, correct_vals, width,\n",
        "#                    label=model_name,\n",
        "#                    color=colors[i % len(colors)],\n",
        "#                    edgecolor='white',\n",
        "#                    linewidth=0.5)\n",
        "#         except KeyError as e:\n",
        "#             print(f\"Warning: Missing data for {model_name}: {e}\")\n",
        "#             continue\n",
        "\n",
        "#     _format_bar_plot(ax, 'Correct Abstentions at Decision Boundaries',\n",
        "#                     'Noise Level', 'Rate', noise_levels, model_names)\n",
        "\n",
        "#     plt.savefig(os.path.join(save_dir, 'boundary_test.png'),\n",
        "#                 dpi=300, bbox_inches='tight')\n",
        "#     plt.close(fig)\n",
        "\n",
        "def _create_noise_test_plot(\n",
        "    results: Dict[str, Dict],\n",
        "    model_names: List[str],\n",
        "    colors: List[str],\n",
        "    base_params: Dict[str, Any],\n",
        "    save_dir: str\n",
        ") -> None:\n",
        "    \"\"\"Helper function to create progressive noise test visualization.\"\"\"\n",
        "    plt.rcParams.update({**base_params, 'figure.figsize': (10, 7)})\n",
        "    fig = plt.figure(constrained_layout=True)\n",
        "    ax = fig.add_subplot(111)\n",
        "\n",
        "    noise_levels = sorted(results['noise_test'].keys())\n",
        "\n",
        "    for i, model_name in enumerate(model_names):\n",
        "        try:\n",
        "            metrics_data = [results['noise_test'][n][model_name]\n",
        "                          for n in noise_levels]\n",
        "\n",
        "            # Plot accuracy\n",
        "            ax.plot(noise_levels,\n",
        "                    [m['valid_accuracy'] for m in metrics_data],\n",
        "                    label=f'{model_name} (accuracy)',\n",
        "                    color=colors[i % len(colors)],\n",
        "                    marker='s',\n",
        "                    linestyle='--',\n",
        "                    linewidth=3,\n",
        "                    markersize=8,\n",
        "                    markeredgecolor='white',\n",
        "                    markeredgewidth=2)\n",
        "\n",
        "            # Plot abstention rate\n",
        "            ax.plot(noise_levels,\n",
        "                    [m['abstention_rate'] for m in metrics_data],\n",
        "                    label=f'{model_name} (abstention)',\n",
        "                    color=colors[i % len(colors)],\n",
        "                    marker='o',\n",
        "                    linestyle='-',\n",
        "                    linewidth=2,\n",
        "                    markersize=8,\n",
        "                    markeredgecolor='white',\n",
        "                    markeredgewidth=2,\n",
        "                    alpha=0.7)\n",
        "        except KeyError as e:\n",
        "            print(f\"Warning: Missing data for {model_name}: {e}\")\n",
        "            continue\n",
        "\n",
        "    _format_line_plot(ax, 'Performance Under Progressive Noise',\n",
        "                     'Noise Level', 'Rate')\n",
        "\n",
        "    plt.savefig(os.path.join(save_dir, 'progressive_noise.png'),\n",
        "                dpi=300, bbox_inches='tight')\n",
        "    plt.close(fig)\n",
        "\n",
        "def _create_invalid_recall_plot(\n",
        "    results: Dict[str, Dict],\n",
        "    model_names: List[str],\n",
        "    colors: List[str],\n",
        "    base_params: Dict[str, Any],\n",
        "    save_dir: str\n",
        ") -> None:\n",
        "    \"\"\"Helper function to create invalid recall visualization.\"\"\"\n",
        "    plt.rcParams.update({**base_params, 'figure.figsize': (8, 6)})\n",
        "    fig = plt.figure(constrained_layout=True)\n",
        "    ax = fig.add_subplot(111)\n",
        "\n",
        "    noise_levels = sorted(results['noise_test'].keys())\n",
        "    x = np.arange(len(noise_levels))\n",
        "    width = 0.8 / len(model_names)\n",
        "\n",
        "    for i, model_name in enumerate(model_names):\n",
        "        try:\n",
        "            invalid_recall_vals = [\n",
        "                results['noise_test'][n][model_name]['invalid_recall']\n",
        "                for n in noise_levels\n",
        "            ]\n",
        "            position = x + width * (i - len(model_names)/2 + 0.5)\n",
        "            ax.bar(position, invalid_recall_vals, width,\n",
        "                   label=model_name,\n",
        "                   color=colors[i % len(colors)],\n",
        "                   edgecolor='white',\n",
        "                   linewidth=0.5)\n",
        "        except KeyError as e:\n",
        "            print(f\"Warning: Missing data for {model_name}: {e}\")\n",
        "            continue\n",
        "\n",
        "    _format_bar_plot(ax, 'Invalid Case Detection Under Progressive Noise',\n",
        "                    'Noise Level', 'Invalid Recall Rate', noise_levels, model_names)\n",
        "\n",
        "    plt.savefig(os.path.join(save_dir, 'invalid_recall.png'),\n",
        "                dpi=300, bbox_inches='tight')\n",
        "    plt.close(fig)\n",
        "\n",
        "def _format_bar_plot(\n",
        "    ax: plt.Axes,\n",
        "    title: str,\n",
        "    xlabel: str,\n",
        "    ylabel: str,\n",
        "    xtick_labels: List[Union[str, float]],\n",
        "    model_names: List[str]\n",
        ") -> None:\n",
        "    \"\"\"Helper function to format bar plots consistently.\"\"\"\n",
        "    ax.set_title(title, pad=20)\n",
        "    ax.set_xlabel(xlabel, labelpad=10)\n",
        "    ax.set_ylabel(ylabel, labelpad=10)\n",
        "    ax.set_xticks(np.arange(len(xtick_labels)))\n",
        "    ax.set_xticklabels(xtick_labels)\n",
        "    ax.set_ylim(0, 1.0)\n",
        "    ax.set_yticks(np.arange(0, 1.1, 0.2))\n",
        "\n",
        "    legend_cols = min(3, len(model_names))\n",
        "    ax.legend(bbox_to_anchor=(0.5, -0.15),\n",
        "             loc='upper center',\n",
        "             ncol=legend_cols,\n",
        "             frameon=False,\n",
        "             handlelength=1.5)\n",
        "\n",
        "    width = 0.8 / len(model_names)\n",
        "    x = np.arange(len(xtick_labels))\n",
        "    ax.set_xlim(x[0] - width*2, x[-1] + width*2)\n",
        "\n",
        "def _format_line_plot(\n",
        "    ax: plt.Axes,\n",
        "    title: str,\n",
        "    xlabel: str,\n",
        "    ylabel: str\n",
        ") -> None:\n",
        "    \"\"\"Helper function to format line plots consistently.\"\"\"\n",
        "    ax.set_title(title, pad=20)\n",
        "    ax.set_xlabel(xlabel, labelpad=10)\n",
        "    ax.set_ylabel(ylabel, labelpad=10)\n",
        "    ax.grid(True, linestyle='--', alpha=0.4)\n",
        "    ax.set_ylim(0, 1.0)\n",
        "    ax.set_yticks(np.arange(0, 1.1, 0.2))\n",
        "    ax.legend(bbox_to_anchor=(1.02, 0.5),\n",
        "             loc='center left',\n",
        "             frameon=False,\n",
        "             handlelength=2.5,\n",
        "             borderaxespad=0)\n",
        "def evaluate_models_on_test(\n",
        "    models: List[nn.Module],\n",
        "    test_loader: DataLoader,\n",
        "    save_dir: Union[str, Path] = 'test_results',\n",
        "    model_names: Optional[List[str]] = None\n",
        ") -> Dict[str, Dict[str, float]]:\n",
        "    \"\"\"\n",
        "    Evaluate multiple models on test data and calculate performance metrics.\n",
        "\n",
        "    Args:\n",
        "        models: List of PyTorch models to evaluate\n",
        "        test_loader: DataLoader containing test data batches\n",
        "        save_dir: Directory to save evaluation results\n",
        "        model_names: Optional list of names for the models (must match length of models)\n",
        "\n",
        "    Returns:\n",
        "        Dictionary mapping model names to their performance metrics\n",
        "\n",
        "    Raises:\n",
        "        ValueError: If number of model names doesn't match number of models\n",
        "    \"\"\"\n",
        "    # Create save directory if it doesn't exist\n",
        "    os.makedirs(save_dir, exist_ok=True)\n",
        "\n",
        "    # Initialize results storage with nested defaultdict\n",
        "    results: Dict[str, Dict[str, Any]] = defaultdict(lambda: defaultdict(list))\n",
        "\n",
        "    # Generate default model names if not provided\n",
        "    if model_names is None:\n",
        "        model_names = [f\"Model_{i}\" for i in range(len(models))]\n",
        "    elif len(model_names) != len(models):\n",
        "        raise ValueError(\"Number of model names must match number of models\")\n",
        "\n",
        "    # Evaluate each model separately\n",
        "    for model_idx, (model, model_name) in enumerate(zip(models, model_names)):\n",
        "        print(f\"\\nEvaluating {model_name} Model...\")\n",
        "        model.eval()\n",
        "\n",
        "        # Initialize metric tracking\n",
        "        metrics = defaultdict(float)\n",
        "        total_samples = 0\n",
        "\n",
        "        # Evaluate model on test data\n",
        "        with torch.no_grad():\n",
        "            for batch in test_loader:\n",
        "                # Unpack batch data\n",
        "                numbers, operator, targets = batch\n",
        "\n",
        "                # Get model predictions\n",
        "                predictions = model(numbers, operator)\n",
        "\n",
        "                # Identify valid and invalid computations\n",
        "                invalid_mask = is_invalid_computation(numbers, operator)\n",
        "                valid_mask = ~invalid_mask\n",
        "\n",
        "                # Check for abstentions (predictions close to abstention token)\n",
        "                abstained = torch.isclose(\n",
        "                    predictions.squeeze(),\n",
        "                    torch.tensor(-1.0).to(predictions.device),\n",
        "                    rtol=0.1,\n",
        "                    atol=0.1\n",
        "                )\n",
        "\n",
        "                # Update batch statistics\n",
        "                batch_size = len(predictions)\n",
        "                total_samples += batch_size\n",
        "\n",
        "                # Calculate accuracy for valid computations where model didn't abstain\n",
        "                valid_and_not_abstained = valid_mask & (~abstained)\n",
        "                if valid_and_not_abstained.any():\n",
        "                    pred_vals = predictions[valid_and_not_abstained]\n",
        "                    tgt_vals = targets[valid_and_not_abstained]\n",
        "\n",
        "                    # Compare predictions with targets using relative threshold\n",
        "                    diff = torch.abs(pred_vals - tgt_vals)\n",
        "                    threshold = torch.abs(tgt_vals) * 0.01 + 1e-8  # 1% relative threshold\n",
        "                    metrics['correct_valid'] += (diff < threshold).sum().item()\n",
        "\n",
        "                # Update running metrics\n",
        "                metrics['total_valid'] += valid_mask.sum().item()\n",
        "                metrics['total_invalid'] += invalid_mask.sum().item()\n",
        "                metrics['total_abstained'] += abstained.sum().item()\n",
        "                metrics['correct_abstentions'] += (abstained & invalid_mask).sum().item()\n",
        "                metrics['loss'] += F.mse_loss(predictions, targets).item() * batch_size\n",
        "\n",
        "        # Calculate final metrics as percentages\n",
        "        final_metrics = {\n",
        "            'accuracy': (metrics['correct_valid'] / max(metrics['total_valid'], 1)),\n",
        "            'abstention_rate': (metrics['total_abstained'] / total_samples),\n",
        "            'abstention_precision': (metrics['correct_abstentions'] / max(metrics['total_abstained'], 1)),\n",
        "            'abstention_recall': (metrics['correct_abstentions'] / max(metrics['total_invalid'], 1)),\n",
        "            'loss': metrics['loss'] / total_samples\n",
        "        }\n",
        "\n",
        "        # Store results for this model\n",
        "        results[model_name].update(final_metrics)\n",
        "\n",
        "        # Print evaluation results\n",
        "        print(f\"  Test Loss:            {final_metrics['loss']:.4f}\")\n",
        "        print(f\"  Test Accuracy:        {final_metrics['accuracy'] * 100:.4f}%\")\n",
        "        print(f\"  Abstention Rate:      {final_metrics['abstention_rate'] * 100:.4f}%\")\n",
        "        print(f\"  Abstention Precision: {final_metrics['abstention_precision'] * 100:.4f}%\")\n",
        "        print(f\"  Abstention Recall:    {final_metrics['abstention_recall'] * 100:.4f}%\")\n",
        "\n",
        "        # Save individual model metrics\n",
        "        metrics_path = os.path.join(save_dir, f'{model_name}_metrics.json')\n",
        "        with open(metrics_path, 'w') as f:\n",
        "            json.dump(final_metrics, f, indent=2)\n",
        "\n",
        "    return results"
      ],
      "metadata": {
        "id": "wsCP_dujM2nN"
      },
      "execution_count": null,
      "outputs": []
    },
    {
      "cell_type": "code",
      "source": [
        "class OODEvaluator:\n",
        "    \"\"\"\n",
        "    Evaluator for testing model behavior on out-of-distribution inputs.\n",
        "\n",
        "    Handles evaluation of models on various test cases including:\n",
        "    - Number format variations\n",
        "    - Novel operators\n",
        "    - Cross-boundary cases\n",
        "    \"\"\"\n",
        "\n",
        "    def __init__(self, test_file_path: str) -> None:\n",
        "        \"\"\"\n",
        "        Initialize the OOD evaluator.\n",
        "\n",
        "        Args:\n",
        "            test_file_path: Path to JSON file containing test cases\n",
        "        \"\"\"\n",
        "        with open(test_file_path, 'r') as f:\n",
        "            self.test_data = json.load(f)\n",
        "\n",
        "        # Model configuration constants\n",
        "        self.RTOL: float = 0.1\n",
        "        self.ATOL: float = 0.1\n",
        "\n",
        "        # Mapping of operators to their indices\n",
        "        # Novel operators are mapped to '@' (2) by default\n",
        "        self.op_to_idx: Dict[str, int] = {\n",
        "            '+': 0,\n",
        "            '-': 1,\n",
        "            '@': 2,\n",
        "            '#': 2,  # Novel operators\n",
        "            '$': 2,\n",
        "            '&': 2,\n",
        "            '^': 2,\n",
        "            '%': 2\n",
        "        }\n",
        "\n",
        "    def preprocess_input(self, arg1: str, arg2: str) -> Tuple[Optional[float], Optional[float]]:\n",
        "        \"\"\"\n",
        "        Convert string number representations to floats.\n",
        "\n",
        "        Args:\n",
        "            arg1: First number as string\n",
        "            arg2: Second number as string\n",
        "\n",
        "        Returns:\n",
        "            Tuple of (float, float) if conversion successful, (None, None) otherwise\n",
        "        \"\"\"\n",
        "        try:\n",
        "            num1 = float(arg1)\n",
        "            num2 = float(arg2)\n",
        "            return num1, num2\n",
        "        except ValueError:\n",
        "            print(f\"Error converting numbers: {arg1}, {arg2}\")\n",
        "            return None, None\n",
        "    def check_abstain_label_distribution(self, test_cases: List[Dict[str, Any]]) -> float:\n",
        "      \"\"\"\n",
        "      Calculate the fraction of test cases where 'Should Abstain?' is False.\n",
        "\n",
        "      Args:\n",
        "          test_cases: List of test cases, each containing the 'Should Abstain?' label.\n",
        "\n",
        "      Returns:\n",
        "          Fraction of cases where 'Should Abstain?' is False.\n",
        "      \"\"\"\n",
        "      total_cases = len(test_cases)\n",
        "      if total_cases == 0:\n",
        "          return 0.0  # Avoid division by zero if the test set is empty\n",
        "\n",
        "      non_abstain_cases = sum(1 for case in test_cases if not case['Should Abstain?'])\n",
        "      return non_abstain_cases / total_cases\n",
        "\n",
        "\n",
        "    def check_abstention(self, output: torch.Tensor) -> bool:\n",
        "        \"\"\"\n",
        "        Check if model output indicates abstention.\n",
        "\n",
        "        Args:\n",
        "            output: Model output tensor\n",
        "\n",
        "        Returns:\n",
        "            True if output is close to abstention token, False otherwise\n",
        "        \"\"\"\n",
        "        return torch.isclose(\n",
        "            output.squeeze(),\n",
        "            torch.tensor(-1.0,\n",
        "                        dtype=torch.float32,\n",
        "                        device=output.device),\n",
        "            rtol=self.RTOL,\n",
        "            atol=self.ATOL\n",
        "        ).item()\n",
        "\n",
        "    def evaluate_model(self,\n",
        "                      model: nn.Module,\n",
        "                      test_cases: List[Dict[str, Any]]) -> Dict[str, float]:\n",
        "        \"\"\"\n",
        "        Evaluate a model on a set of test cases.\n",
        "\n",
        "        Args:\n",
        "            model: PyTorch model to evaluate\n",
        "            test_cases: List of test cases, each containing arguments and expected behavior\n",
        "\n",
        "        Returns:\n",
        "            Dictionary of evaluation metrics including accuracy and abstention metrics\n",
        "        \"\"\"\n",
        "        correct = 0\n",
        "        total = len(test_cases)\n",
        "        results = defaultdict(int)\n",
        "\n",
        "        for case in test_cases:\n",
        "            # Preprocess inputs\n",
        "            arg1, arg2 = self.preprocess_input(case['Argument 1'], case['Argument 2'])\n",
        "            if arg1 is None or arg2 is None:\n",
        "                continue\n",
        "\n",
        "            # Prepare model inputs\n",
        "            numbers = torch.tensor([[arg1, arg2]], dtype=torch.float32)\n",
        "            op_idx = self.op_to_idx.get(case['Operator'], 2)\n",
        "            operator = torch.tensor([op_idx], dtype=torch.long)\n",
        "\n",
        "            # Get model prediction\n",
        "            with torch.no_grad():\n",
        "                output = model(numbers, operator)\n",
        "                predicted_abstain = self.check_abstention(output)\n",
        "\n",
        "            # Update metrics\n",
        "            correct += (predicted_abstain == case['Should Abstain?'])\n",
        "            self._update_results_tracking(results, case, predicted_abstain)\n",
        "\n",
        "        # Calculate and return final metrics\n",
        "        return self._calculate_metrics(correct, total, results, test_cases)\n",
        "\n",
        "    def evaluate_all_models(self,\n",
        "                          models: Dict[str, nn.Module]) -> Dict[str, Dict[str, Dict[str, float]]]:\n",
        "        \"\"\"\n",
        "        Evaluate multiple models on all test sets.\n",
        "\n",
        "        Args:\n",
        "            models: Dictionary mapping model names to PyTorch models\n",
        "\n",
        "        Returns:\n",
        "            Nested dictionary of results for each model and test type\n",
        "        \"\"\"\n",
        "        results = {}\n",
        "\n",
        "        for model_name, model in models.items():\n",
        "            model.eval()\n",
        "            results[model_name] = {\n",
        "                'number_format': self.evaluate_model(\n",
        "                    model, self.test_data['number_format_tests']\n",
        "                ),\n",
        "                'novel_operator': self.evaluate_model(\n",
        "                    model, self.test_data['novel_operator_tests']\n",
        "                ),\n",
        "                'cross_boundary': self.evaluate_model(\n",
        "                    model, self.test_data['cross_boundary_tests']\n",
        "                )\n",
        "            }\n",
        "\n",
        "        return results\n",
        "\n",
        "    def _update_results_tracking(self,\n",
        "                               results: Dict[str, int],\n",
        "                               case: Dict[str, Any],\n",
        "                               predicted_abstain: bool) -> None:\n",
        "        \"\"\"\n",
        "        Update tracking dictionary with results from a single test case.\n",
        "\n",
        "        Args:\n",
        "            results: Dictionary tracking result counts\n",
        "            case: Current test case\n",
        "            predicted_abstain: Whether model predicted abstention\n",
        "        \"\"\"\n",
        "        results['total_cases'] += 1\n",
        "        if case['Should Abstain?']:\n",
        "            results['should_abstain'] += 1\n",
        "            if predicted_abstain:\n",
        "                results['correct_abstentions'] += 1\n",
        "        else:\n",
        "            results['should_not_abstain'] += 1\n",
        "            if not predicted_abstain:\n",
        "                results['correct_non_abstentions'] += 1\n",
        "\n",
        "    def _calculate_metrics(self,\n",
        "                         correct: int,\n",
        "                         total: int,\n",
        "                         results: Dict[str, int],\n",
        "                         test_cases: List[Dict[str, Any]]) -> Dict[str, float]:\n",
        "        \"\"\"\n",
        "        Calculate final metrics from results tracking.\n",
        "\n",
        "        Args:\n",
        "            correct: Total number of correct predictions\n",
        "            total: Total number of test cases\n",
        "            results: Dictionary tracking result counts\n",
        "            test_cases: List of all test cases\n",
        "\n",
        "        Returns:\n",
        "            Dictionary of calculated metrics\n",
        "        \"\"\"\n",
        "        return {\n",
        "            'overall_accuracy': correct / total,\n",
        "            'abstention_precision': results['correct_abstentions'] / max(\n",
        "                1, results['should_abstain']\n",
        "            ),\n",
        "            'abstention_recall': results['correct_abstentions'] / max(\n",
        "                1, sum(1 for c in test_cases if c['Should Abstain?'])\n",
        "            ),\n",
        "            'total_cases': total\n",
        "        }\n",
        "\n",
        "\n",
        "def evaluate_models(\n",
        "    models: Dict[str, nn.Module],\n",
        "    test_file: str = 'ood_test_set.json'\n",
        ") -> Dict[str, Dict[str, Dict[str, float]]]:\n",
        "    \"\"\"\n",
        "    Main evaluation function for OOD testing.\n",
        "\n",
        "    Args:\n",
        "        models: Dictionary mapping model names to PyTorch models\n",
        "        test_file: Path to JSON file containing test cases\n",
        "\n",
        "    Returns:\n",
        "        Nested dictionary containing evaluation results for all models\n",
        "    \"\"\"\n",
        "    evaluator = OODEvaluator(test_file)\n",
        "    return evaluator.evaluate_all_models(models)\n",
        "\n",
        "\n",
        "def print_evaluation_results(\n",
        "    results: Dict[str, Dict[str, Dict[str, float]]]\n",
        ") -> None:\n",
        "    \"\"\"\n",
        "    Print formatted evaluation results.\n",
        "\n",
        "    Args:\n",
        "        results: Nested dictionary of evaluation results\n",
        "    \"\"\"\n",
        "    for model_name, model_results in results.items():\n",
        "        print(f\"\\nResults for {model_name}:\")\n",
        "        for test_type, metrics in model_results.items():\n",
        "            print(f\"\\n{test_type.replace('_', ' ').title()}:\")\n",
        "            for metric, value in metrics.items():\n",
        "                print(f\"{metric.replace('_', ' ').title()}: {value:.3f}\")"
      ],
      "metadata": {
        "id": "f9ggmAlxRN7k"
      },
      "execution_count": null,
      "outputs": []
    },
    {
      "cell_type": "code",
      "source": [
        "@dataclass\n",
        "class ExperimentConfig:\n",
        "    \"\"\"Configuration for experiment parameters.\"\"\"\n",
        "    analysis_freq: int\n",
        "    seed: int = 16\n",
        "    noise_std: float = 0.1\n",
        "    epochs: int = 72\n",
        "    batch_size: int = 32\n",
        "    ood_test_file: str = 'ood_test_set.json'\n",
        "    val_freq: int = 1\n",
        "\n",
        "class ExperimentDownloadManager:\n",
        "    \"\"\"Manages experiment result files and downloads.\"\"\"\n",
        "\n",
        "    def __init__(self, base_dir: str = \"experiment_results\") -> None:\n",
        "        \"\"\"\n",
        "        Initialize the download manager.\n",
        "\n",
        "        Args:\n",
        "            base_dir: Base directory for storing experiment results\n",
        "        \"\"\"\n",
        "        self.base_dir: str = base_dir\n",
        "        self.files_to_download: Set[str] = set()\n",
        "\n",
        "    def clear_old_results(self) -> None:\n",
        "        \"\"\"Clear previous results and create fresh directory structure.\"\"\"\n",
        "        if os.path.exists(self.base_dir):\n",
        "            shutil.rmtree(self.base_dir)\n",
        "\n",
        "        # Create directory structure\n",
        "        subdirs = ['plots', 'metrics', 'landscapes', 'robustness']\n",
        "        os.makedirs(self.base_dir)\n",
        "        for subdir in subdirs:\n",
        "            os.makedirs(os.path.join(self.base_dir, subdir))\n",
        "\n",
        "    def add_file(self, filepath: str) -> None:\n",
        "        \"\"\"\n",
        "        Track a file for downloading.\n",
        "\n",
        "        Args:\n",
        "            filepath: Path to file to be tracked\n",
        "        \"\"\"\n",
        "        if os.path.exists(filepath):\n",
        "            self.files_to_download.add(filepath)\n",
        "\n",
        "    def zip_and_download(self, experiment_name: str) -> None:\n",
        "        \"\"\"\n",
        "        Create and download a zip archive of experiment results.\n",
        "\n",
        "        Args:\n",
        "            experiment_name: Base name for the zip file\n",
        "        \"\"\"\n",
        "        timestamp = datetime.now().strftime(\"%Y%m%d_%H%M%S\")\n",
        "        zip_filename = f'{experiment_name}_{timestamp}.zip'\n",
        "        zip_path = os.path.join(self.base_dir, zip_filename)\n",
        "\n",
        "        with zipfile.ZipFile(zip_path, 'w', zipfile.ZIP_DEFLATED) as zipf:\n",
        "            for file_path in tqdm(self.files_to_download, desc=\"Adding files\"):\n",
        "                arcname = os.path.relpath(file_path, self.base_dir)\n",
        "                zipf.write(file_path, arcname)\n",
        "\n",
        "        files.download(zip_path)\n",
        "\n",
        "\n",
        "class ExperimentRunner:\n",
        "    \"\"\"Manages and runs the entire experiment.\"\"\"\n",
        "\n",
        "    def __init__(self, config: ExperimentConfig) -> None:\n",
        "        \"\"\"\n",
        "        Initialize the experiment runner.\n",
        "\n",
        "        Args:\n",
        "            config: Experiment configuration parameters\n",
        "        \"\"\"\n",
        "        self.config = config\n",
        "        self.download_mgr = ExperimentDownloadManager()\n",
        "        self.download_mgr.clear_old_results()\n",
        "\n",
        "        # Set random seed\n",
        "        self.seed = set_seed(config.seed)\n",
        "\n",
        "        # Initialize metrics storage\n",
        "        self.computational_metrics: Dict[str, Any] = {}\n",
        "        os.makedirs(os.path.join(self.download_mgr.base_dir, 'ood_tests'), exist_ok=True)\n",
        "\n",
        "    def _run_ood_evaluation(\n",
        "        self,\n",
        "        models: List[nn.Module],\n",
        "        model_names: List[str]\n",
        "    ) -> Dict[str, Dict[str, Dict[str, float]]]:\n",
        "        \"\"\"\n",
        "        Run OOD evaluations on all models.\n",
        "\n",
        "        Args:\n",
        "            models: List of trained models\n",
        "            model_names: Names of the models\n",
        "\n",
        "        Returns:\n",
        "            Dictionary containing OOD evaluation results\n",
        "        \"\"\"\n",
        "        print(\"\\nRunning OOD evaluations...\")\n",
        "\n",
        "        model_dict = dict(zip(model_names, models))\n",
        "\n",
        "        # Run OOD evaluation\n",
        "        ood_results = evaluate_models(\n",
        "            models=model_dict,\n",
        "            test_file=self.config.ood_test_file\n",
        "        )\n",
        "\n",
        "        # Save OOD results\n",
        "        ood_save_path = os.path.join(\n",
        "            self.download_mgr.base_dir,\n",
        "            'ood_tests',\n",
        "            'ood_results.json'\n",
        "        )\n",
        "        with open(ood_save_path, 'w') as f:\n",
        "            json.dump(ood_results, f, indent=2)\n",
        "        self.download_mgr.add_file(ood_save_path)\n",
        "\n",
        "        # Create visualizations for OOD results\n",
        "       # self._create_ood_visualizations(ood_results, model_names)\n",
        "\n",
        "        return ood_results\n",
        "\n",
        "    def _create_ood_visualizations(\n",
        "        self,\n",
        "        ood_results: Dict[str, Dict[str, Dict[str, float]]],\n",
        "        model_names: List[str]\n",
        "    ) -> None:\n",
        "        \"\"\"\n",
        "        Create visualizations for OOD test results.\n",
        "\n",
        "        Args:\n",
        "            ood_results: Results from OOD evaluation\n",
        "            model_names: Names of the models\n",
        "        \"\"\"\n",
        "        viz_dir = os.path.join(self.download_mgr.base_dir, 'ood_tests', 'visualizations')\n",
        "        os.makedirs(viz_dir, exist_ok=True)\n",
        "\n",
        "        # Create log comparison plots\n",
        "        create_log_comparison_plots(ood_results, viz_dir)\n",
        "\n",
        "        # Track visualization files\n",
        "        for file in glob.glob(os.path.join(viz_dir, '*.png')):\n",
        "            self.download_mgr.add_file(file)\n",
        "\n",
        "\n",
        "\n",
        "    def _initialize_models(self) -> tuple[List[nn.Module], List[str]]:\n",
        "        \"\"\"\n",
        "        Initialize all models for the experiment.\n",
        "\n",
        "        Returns:\n",
        "            Tuple of (models, model_names)\n",
        "        \"\"\"\n",
        "        decay_control = ArithmeticNet()\n",
        "        base_model = ArithmeticNet()\n",
        "        pgd_model = ArithmeticNet()\n",
        "        adv_model = ArithmeticNet()  # New adversarial training model\n",
        "        full_pgd = ArithmeticNet()\n",
        "\n",
        "        models = [base_model, adv_model, decay_control, full_pgd, pgd_model]\n",
        "        model_names = [\"base_adam\", \"input_space_adv\", \"decay_control\", \"full_pgd\", \"pgd\"]\n",
        "\n",
        "        return models, model_names\n",
        "\n",
        "    def _get_data_loaders(self) -> tuple[Any, Any, Any]:\n",
        "        \"\"\"\n",
        "        Create data loaders for training, validation, and testing.\n",
        "\n",
        "        Returns:\n",
        "            Tuple of (train_loader, val_loader, test_loader)\n",
        "        \"\"\"\n",
        "        with open('abstention_dataset.json', 'r') as f:\n",
        "          dataset_dict = json.load(f)\n",
        "\n",
        "        noise_config = {\n",
        "            'enabled': True,\n",
        "            'std': self.config.noise_std\n",
        "        }\n",
        "\n",
        "        return ArithmeticDataset.get_train_val_test_loaders(\n",
        "            dataset_dict,\n",
        "            batch_size=self.config.batch_size,\n",
        "            noise_config=noise_config\n",
        "        )\n",
        "\n",
        "    def _get_trainer(self, model: nn.Module, name: str) -> Any:\n",
        "        \"\"\"\n",
        "        Get appropriate trainer based on model type.\n",
        "\n",
        "        Args:\n",
        "            model: Model to train\n",
        "            name: Model name/type\n",
        "\n",
        "        Returns:\n",
        "            Trainer instance\n",
        "        \"\"\"\n",
        "        if name == \"pgd\":\n",
        "            return EfficientPGDTrainer(\n",
        "                model=model,\n",
        "                optimizer=optim.Adam(model.parameters(), lr=0.001),\n",
        "                k=2,\n",
        "                sample_ratio=0.3\n",
        "            )\n",
        "        elif name == \"full_pgd\":\n",
        "            return PGDTrainer(\n",
        "                model=model,\n",
        "                optimizer=optim.Adam(model.parameters(), lr=0.001),\n",
        "                k=2 # WAS 3 TESTING K =2\n",
        "            )\n",
        "        elif name == \"input_space_adv\":  # New case for adversarial trainer\n",
        "            return InputSpaceAdversarialTrainer(\n",
        "               model=model,\n",
        "               optimizer=optim.Adam(model.parameters(), lr=0.001),\n",
        "               epsilon=0.1,  # Small perturbation magnitude\n",
        "               steps=2,      # Number of PGD steps\n",
        "               adv_ratio=0.10  # Was 5% adversarial examples before, trying 10 first\n",
        "          )\n",
        "        elif name == \"decay_control\":\n",
        "            return BaseTrainer(\n",
        "                model,\n",
        "                optimizer=torch.optim.Adam(\n",
        "                    model.parameters(),\n",
        "                    weight_decay=1e-4,\n",
        "                    lr=0.001\n",
        "                )\n",
        "            )\n",
        "        elif name == \"base_adam\":\n",
        "            return BaseTrainer(\n",
        "                model,\n",
        "                optimizer=torch.optim.Adam(\n",
        "                    model.parameters(),\n",
        "                    lr=0.001\n",
        "                )\n",
        "            )\n",
        "        else:\n",
        "            raise ValueError(f\"Unknown model type: {name}\")\n",
        "\n",
        "    def run(self) -> Dict[str, Any]:\n",
        "        \"\"\"\n",
        "        Run the full experiment pipeline.\n",
        "\n",
        "        Returns:\n",
        "            Dictionary containing all experiment results\n",
        "        \"\"\"\n",
        "        # Initialize models and framework\n",
        "        models, model_names = self._initialize_models()\n",
        "        train_loader, val_loader, test_loader = self._get_data_loaders()\n",
        "        trainers = [self._get_trainer(model, name)\n",
        "                    for model, name in zip(models, model_names)]\n",
        "\n",
        "\n",
        "        # Initialize framework\n",
        "        framework = UnifiedTrainingFramework(\n",
        "            models=models,\n",
        "            save_dir=self.download_mgr.base_dir,\n",
        "            training_config=self.config,\n",
        "            model_names=model_names.copy(),\n",
        "            trainers=trainers\n",
        "        )\n",
        "\n",
        "        # Train models and collect metrics\n",
        "        all_metrics = self._train_models(\n",
        "            models, model_names, framework,\n",
        "            train_loader, val_loader\n",
        "        )\n",
        "\n",
        "        # Run evaluations\n",
        "        test_results, boundary_results = self._run_evaluations(\n",
        "            models, model_names, test_loader\n",
        "        )\n",
        "\n",
        "        # Run robustness experiments\n",
        "        robustness_results = self._run_robustness_tests(\n",
        "            models, model_names, test_loader\n",
        "        )\n",
        "\n",
        "        # Run OOD evaluations\n",
        "        ood_results = self._run_ood_evaluation(models, model_names)\n",
        "\n",
        "        # Compile and save final results\n",
        "        results = self._save_results(\n",
        "            test_results=test_results,\n",
        "            boundary_results=boundary_results,\n",
        "            robustness_results=robustness_results,\n",
        "            ood_results=ood_results,\n",
        "            all_metrics=all_metrics\n",
        "        )\n",
        "\n",
        "        return results\n",
        "\n",
        "\n",
        "    def _train_models(\n",
        "        self,\n",
        "        models: List[nn.Module],\n",
        "        model_names: List[str],\n",
        "        framework: Any,\n",
        "        train_loader: Any,\n",
        "        val_loader: Any\n",
        "    ) -> Dict[str, Any]:\n",
        "        \"\"\"Train all models and collect metrics.\"\"\"\n",
        "        all_metrics = {}\n",
        "\n",
        "        for idx, (model, name) in enumerate(zip(models, model_names)):\n",
        "            trainer = self._get_trainer(model, name)\n",
        "            print(f\"Training {(name)} model:\")\n",
        "            print(f\"Trainer settings:\\n {trainer.__dict__}\")\n",
        "            model_metrics = framework.train_single_model(\n",
        "                model_idx=idx,\n",
        "                train_loader=train_loader,\n",
        "                val_loader=val_loader,\n",
        "                epochs=self.config.epochs,\n",
        "                analyze_every=self.config.analysis_freq\n",
        "            )\n",
        "\n",
        "            all_metrics[name] = model_metrics\n",
        "            if hasattr(framework.trainers[idx], \"tracker\"):\n",
        "                self.computational_metrics[name] = framework.trainers[idx].tracker.get_computational_metrics()\n",
        "\n",
        "            # Save model checkpoint\n",
        "            model_path = os.path.join(self.download_mgr.base_dir, f'model_{name}.pt')\n",
        "            torch.save(model.state_dict(), model_path)\n",
        "            self.download_mgr.add_file(model_path)\n",
        "\n",
        "        return all_metrics\n",
        "\n",
        "    def _run_evaluations(\n",
        "        self,\n",
        "        models: List[nn.Module],\n",
        "        model_names: List[str],\n",
        "        test_loader: Any\n",
        "    ) -> tuple[Dict[str, Any], Dict[str, Any]]:\n",
        "        \"\"\"Run model evaluations on test and boundary datasets.\"\"\"\n",
        "        # Create boundary test loader\n",
        "        boundary_loader = create_boundary_test_loader(\n",
        "            test_loader,\n",
        "            num_samples=1000,\n",
        "        )\n",
        "\n",
        "        metrics_dir = os.path.join(self.download_mgr.base_dir, 'metrics')\n",
        "\n",
        "        # Run evaluations\n",
        "        print(\"Evaluating models on standard test set:\")\n",
        "        test_results = evaluate_models_on_test(\n",
        "            models=models,\n",
        "            test_loader=test_loader,\n",
        "            save_dir=metrics_dir,\n",
        "            model_names=model_names\n",
        "        )\n",
        "\n",
        "        print(\"Evaluating models on boundary challenge set:\")\n",
        "\n",
        "        boundary_results = evaluate_models_on_test(\n",
        "            models=models,\n",
        "            test_loader=boundary_loader,\n",
        "            save_dir=metrics_dir,\n",
        "            model_names=model_names\n",
        "        )\n",
        "\n",
        "        return test_results, boundary_results\n",
        "\n",
        "    def _run_robustness_tests(\n",
        "        self,\n",
        "        models: List[nn.Module],\n",
        "        model_names: List[str],\n",
        "        test_loader: Any\n",
        "    ) -> Dict[str, Any]:\n",
        "        \"\"\"Run robustness experiments on models.\"\"\"\n",
        "        model_dict = dict(zip(model_names, models))\n",
        "\n",
        "        return run_robustness_experiments(\n",
        "            models=model_dict,\n",
        "            save_dir=os.path.join(self.download_mgr.base_dir, 'robustness'),\n",
        "            model_names=model_names,\n",
        "            test_loader = test_loader\n",
        "        )\n",
        "\n",
        "    def _save_results(\n",
        "        self,\n",
        "        test_results: Dict[str, Any],\n",
        "        boundary_results: Dict[str, Any],\n",
        "        robustness_results: Dict[str, Any],\n",
        "        ood_results: Dict[str, Any],\n",
        "        all_metrics: Dict[str, Any]\n",
        "    ) -> Dict[str, Any]:\n",
        "        \"\"\"Save all results including OOD evaluation.\"\"\"\n",
        "        from google.colab import drive\n",
        "\n",
        "        # Mount Google Drive\n",
        "        drive.mount('/content/drive')\n",
        "\n",
        "        final_results = {\n",
        "            'test_results': test_results,\n",
        "            'boundary_results': boundary_results,\n",
        "            'robustness_results': robustness_results,\n",
        "            'ood_results': ood_results,\n",
        "            'training_metrics': all_metrics,\n",
        "            'computational_metrics': self.computational_metrics,\n",
        "            'experiment_config': {\n",
        "                'seed': self.seed,\n",
        "                'noise_std': self.config.noise_std,\n",
        "                'epochs': self.config.epochs,\n",
        "                'ood_test_file': self.config.ood_test_file\n",
        "            }\n",
        "        }\n",
        "\n",
        "        # Save results locally first\n",
        "        results_path = os.path.join(\n",
        "            self.download_mgr.base_dir,\n",
        "            'final_results.json'\n",
        "        )\n",
        "        with open(results_path, 'w') as f:\n",
        "            json.dump(final_results, f, indent=2)\n",
        "        self.download_mgr.add_file(results_path)\n",
        "\n",
        "        # Track generated files\n",
        "        for root, _, files in os.walk(self.download_mgr.base_dir):\n",
        "            for file in files:\n",
        "                if file.endswith(('.png', '.jpg', '.json', '.pt')):\n",
        "                    self.download_mgr.add_file(os.path.join(root, file))\n",
        "\n",
        "        # Create archive name\n",
        "        experiment_name = (\n",
        "            f\"abstention_experiment_s{self.seed}_\"\n",
        "            f\"n{self.config.noise_std}\"\n",
        "        )\n",
        "        timestamp = datetime.now().strftime(\"%Y%m%d_%H%M%S\")\n",
        "        zip_filename = f'{experiment_name}_{timestamp}.zip'\n",
        "        zip_path = os.path.join(self.download_mgr.base_dir, zip_filename)\n",
        "\n",
        "        # Create zip file\n",
        "        with zipfile.ZipFile(zip_path, 'w', zipfile.ZIP_DEFLATED) as zipf:\n",
        "            for file_path in tqdm(self.download_mgr.files_to_download, desc=\"Adding files\"):\n",
        "                arcname = os.path.relpath(file_path, self.download_mgr.base_dir)\n",
        "                zipf.write(file_path, arcname)\n",
        "\n",
        "        # Save to Google Drive\n",
        "        drive_folder = '/content/drive/MyDrive/abstention_experiments'\n",
        "        os.makedirs(drive_folder, exist_ok=True)\n",
        "        drive_path = os.path.join(drive_folder, zip_filename)\n",
        "        shutil.copy2(zip_path, drive_path)\n",
        "        print(f\"\\nSaved experiment archive to Google Drive: {drive_path}\")\n",
        "\n",
        "        # Download to local machine\n",
        "        self.download_mgr.zip_and_download(experiment_name)\n",
        "\n",
        "        return final_results\n",
        "\n",
        "\n",
        "def run_experiment(\n",
        "    analysis_freq: int,\n",
        "    seed: int = 16,\n",
        "    noise_std: float = 0.1,\n",
        "    epochs: int = 72\n",
        ") -> Dict[str, Any]:\n",
        "    \"\"\"\n",
        "    Main entry point for running experiments.\n",
        "\n",
        "    Args:\n",
        "        analysis_freq: Frequency of analysis during training\n",
        "        seed: Random seed\n",
        "        noise_std: Standard deviation of noise\n",
        "        epochs: Number of training epochs\n",
        "\n",
        "    Returns:\n",
        "        Dictionary containing all experiment results\n",
        "    \"\"\"\n",
        "    config = ExperimentConfig(\n",
        "        analysis_freq=analysis_freq,\n",
        "        seed=seed,\n",
        "        noise_std=noise_std,\n",
        "        epochs=epochs,\n",
        "        ood_test_file='/content/ood_test_set.json'\n",
        "    )\n",
        "\n",
        "    runner = ExperimentRunner(config)\n",
        "    return runner.run()\n",
        "\n",
        "if __name__ == \"__main__\":\n",
        "    results = run_experiment(\n",
        "        analysis_freq=80,\n",
        "        seed= 1,\n",
        "        noise_std=0.3,\n",
        "        epochs=80\n",
        "    )"
      ],
      "metadata": {
        "id": "91_IdlRyRSDA",
        "colab": {
          "base_uri": "https://localhost:8080/",
          "height": 1000
        },
        "outputId": "886b22e7-c73f-4ec8-8779-7eb3a0a34295"
      },
      "execution_count": null,
      "outputs": [
        {
          "metadata": {
            "tags": null
          },
          "name": "stdout",
          "output_type": "stream",
          "text": [
            "Training base_adam model:\n",
            "Trainer settings:\n",
            " {'model': ArithmeticNet(\n",
            "  (num_embedder): Linear(in_features=2, out_features=128, bias=True)\n",
            "  (op_embedding): Embedding(3, 128)\n",
            "  (layer1): Linear(in_features=256, out_features=128, bias=True)\n",
            "  (layer2): Linear(in_features=128, out_features=128, bias=True)\n",
            "  (layer3): Linear(in_features=128, out_features=64, bias=True)\n",
            "  (output): Linear(in_features=64, out_features=1, bias=True)\n",
            "), 'optimizer': Adam (\n",
            "Parameter Group 0\n",
            "    amsgrad: False\n",
            "    betas: (0.9, 0.999)\n",
            "    capturable: False\n",
            "    differentiable: False\n",
            "    eps: 1e-08\n",
            "    foreach: None\n",
            "    fused: None\n",
            "    lr: 0.001\n",
            "    maximize: False\n",
            "    weight_decay: 0\n",
            "), 'criterion': MSELoss(), 'scheduler': <torch.optim.lr_scheduler.ReduceLROnPlateau object at 0x799cd74d1010>, 'loss_computer': <__main__.UnifiedLossComputer object at 0x799cd74d1050>, 'tracker': <__main__.UnifiedTracker object at 0x799cd74d1090>}\n"
          ]
        },
        {
          "metadata": {
            "tags": null
          },
          "name": "stderr",
          "output_type": "stream",
          "text": [
            "Epoch 1/80: 100%|██████████| 1125/1125 [00:27<00:00, 41.19it/s, train_loss=3.79e+4, train_abstention_rate=0.00375, train_valid_accuracy=0.0137, train_correct_abstentions=0.0222, train_incorrect_abstentions=0.0128]\n"
          ]
        },
        {
          "metadata": {
            "tags": null
          },
          "name": "stdout",
          "output_type": "stream",
          "text": [
            "\n",
            "Epoch 0 validation: val_loss: 38866.3518, val_abstention_rate: 0.0040, val_valid_accuracy: 0.0093, val_correct_abstentions: 0.0268, val_incorrect_abstentions: 0.0089\n"
          ]
        },
        {
          "metadata": {
            "tags": null
          },
          "name": "stderr",
          "output_type": "stream",
          "text": [
            "Epoch 2/80: 100%|██████████| 1125/1125 [00:27<00:00, 41.38it/s, train_loss=2.27e+4, train_abstention_rate=0.00562, train_valid_accuracy=0.031, train_correct_abstentions=0.0294, train_incorrect_abstentions=0.00406]\n"
          ]
        },
        {
          "metadata": {
            "tags": null
          },
          "name": "stdout",
          "output_type": "stream",
          "text": [
            "\n",
            "Epoch 1 validation: val_loss: 43419.2638, val_abstention_rate: 0.0073, val_valid_accuracy: 0.0500, val_correct_abstentions: 0.0336, val_incorrect_abstentions: 0.0000\n"
          ]
        },
        {
          "metadata": {
            "tags": null
          },
          "name": "stderr",
          "output_type": "stream",
          "text": [
            "Epoch 3/80: 100%|██████████| 1125/1125 [00:27<00:00, 41.54it/s, train_loss=2.72e+4, train_abstention_rate=0.00844, train_valid_accuracy=0.0308, train_correct_abstentions=0.0341, train_incorrect_abstentions=0.00187]\n"
          ]
        },
        {
          "metadata": {
            "tags": null
          },
          "name": "stdout",
          "output_type": "stream",
          "text": [
            "\n",
            "Epoch 2 validation: val_loss: 17853.8086, val_abstention_rate: 0.0065, val_valid_accuracy: 0.0261, val_correct_abstentions: 0.0325, val_incorrect_abstentions: 0.0000\n"
          ]
        },
        {
          "metadata": {
            "tags": null
          },
          "name": "stderr",
          "output_type": "stream",
          "text": [
            "Epoch 4/80: 100%|██████████| 1125/1125 [00:27<00:00, 41.32it/s, train_loss=1.83e+4, train_abstention_rate=0.00781, train_valid_accuracy=0.0705, train_correct_abstentions=0.0331, train_incorrect_abstentions=0.00281]\n"
          ]
        },
        {
          "metadata": {
            "tags": null
          },
          "name": "stdout",
          "output_type": "stream",
          "text": [
            "\n",
            "Epoch 3 validation: val_loss: 20108.4341, val_abstention_rate: 0.0008, val_valid_accuracy: 0.0437, val_correct_abstentions: 0.0312, val_incorrect_abstentions: 0.0000\n"
          ]
        },
        {
          "metadata": {
            "tags": null
          },
          "name": "stderr",
          "output_type": "stream",
          "text": [
            "Epoch 5/80: 100%|██████████| 1125/1125 [00:27<00:00, 41.34it/s, train_loss=9.15e+3, train_abstention_rate=0.01, train_valid_accuracy=0.0642, train_correct_abstentions=0.0344, train_incorrect_abstentions=0.000937]\n"
          ]
        },
        {
          "metadata": {
            "tags": null
          },
          "name": "stdout",
          "output_type": "stream",
          "text": [
            "\n",
            "Epoch 4 validation: val_loss: 9347.0706, val_abstention_rate: 0.0022, val_valid_accuracy: 0.0495, val_correct_abstentions: 0.0273, val_incorrect_abstentions: 0.0078\n"
          ]
        },
        {
          "metadata": {
            "tags": null
          },
          "name": "stderr",
          "output_type": "stream",
          "text": [
            "Epoch 6/80: 100%|██████████| 1125/1125 [00:27<00:00, 41.27it/s, train_loss=1.21e+4, train_abstention_rate=0.00875, train_valid_accuracy=0.0699, train_correct_abstentions=0.0319, train_incorrect_abstentions=0.00375]\n"
          ]
        },
        {
          "metadata": {
            "tags": null
          },
          "name": "stdout",
          "output_type": "stream",
          "text": [
            "\n",
            "Epoch 5 validation: val_loss: 18155.5119, val_abstention_rate: 0.0083, val_valid_accuracy: 0.0628, val_correct_abstentions: 0.0302, val_incorrect_abstentions: 0.0030\n"
          ]
        },
        {
          "metadata": {
            "tags": null
          },
          "name": "stderr",
          "output_type": "stream",
          "text": [
            "Epoch 7/80: 100%|██████████| 1125/1125 [00:27<00:00, 41.26it/s, train_loss=7.64e+3, train_abstention_rate=0.0103, train_valid_accuracy=0.0874, train_correct_abstentions=0.035, train_incorrect_abstentions=0.00281]\n"
          ]
        },
        {
          "metadata": {
            "tags": null
          },
          "name": "stdout",
          "output_type": "stream",
          "text": [
            "\n",
            "Epoch 6 validation: val_loss: 15096.4384, val_abstention_rate: 0.0138, val_valid_accuracy: 0.1043, val_correct_abstentions: 0.0362, val_incorrect_abstentions: 0.0028\n"
          ]
        },
        {
          "metadata": {
            "tags": null
          },
          "name": "stderr",
          "output_type": "stream",
          "text": [
            "Epoch 8/80: 100%|██████████| 1125/1125 [00:27<00:00, 41.38it/s, train_loss=1.09e+4, train_abstention_rate=0.0122, train_valid_accuracy=0.103, train_correct_abstentions=0.0356, train_incorrect_abstentions=0.00281]\n"
          ]
        },
        {
          "metadata": {
            "tags": null
          },
          "name": "stdout",
          "output_type": "stream",
          "text": [
            "\n",
            "Epoch 7 validation: val_loss: 7878.5159, val_abstention_rate: 0.0123, val_valid_accuracy: 0.1207, val_correct_abstentions: 0.0366, val_incorrect_abstentions: 0.0008\n"
          ]
        },
        {
          "metadata": {
            "tags": null
          },
          "name": "stderr",
          "output_type": "stream",
          "text": [
            "Epoch 9/80: 100%|██████████| 1125/1125 [00:27<00:00, 41.36it/s, train_loss=1.52e+4, train_abstention_rate=0.0203, train_valid_accuracy=0.0926, train_correct_abstentions=0.0391, train_incorrect_abstentions=0.000937]\n"
          ]
        },
        {
          "metadata": {
            "tags": null
          },
          "name": "stdout",
          "output_type": "stream",
          "text": [
            "\n",
            "Epoch 8 validation: val_loss: 21977.0215, val_abstention_rate: 0.0020, val_valid_accuracy: 0.0147, val_correct_abstentions: 0.0312, val_incorrect_abstentions: 0.0000\n"
          ]
        },
        {
          "metadata": {
            "tags": null
          },
          "name": "stderr",
          "output_type": "stream",
          "text": [
            "Epoch 10/80: 100%|██████████| 1125/1125 [00:27<00:00, 41.27it/s, train_loss=9.13e+3, train_abstention_rate=0.01, train_valid_accuracy=0.141, train_correct_abstentions=0.0341, train_incorrect_abstentions=0.000937]\n"
          ]
        },
        {
          "metadata": {
            "tags": null
          },
          "name": "stdout",
          "output_type": "stream",
          "text": [
            "\n",
            "Epoch 9 validation: val_loss: 6562.3388, val_abstention_rate: 0.0192, val_valid_accuracy: 0.2009, val_correct_abstentions: 0.0415, val_incorrect_abstentions: 0.0000\n"
          ]
        },
        {
          "metadata": {
            "tags": null
          },
          "name": "stderr",
          "output_type": "stream",
          "text": [
            "Epoch 11/80: 100%|██████████| 1125/1125 [00:27<00:00, 41.11it/s, train_loss=9.18e+3, train_abstention_rate=0.0103, train_valid_accuracy=0.157, train_correct_abstentions=0.0391, train_incorrect_abstentions=0.00219]\n"
          ]
        },
        {
          "metadata": {
            "tags": null
          },
          "name": "stdout",
          "output_type": "stream",
          "text": [
            "\n",
            "Epoch 10 validation: val_loss: 4938.4074, val_abstention_rate: 0.0110, val_valid_accuracy: 0.2150, val_correct_abstentions: 0.0404, val_incorrect_abstentions: 0.0000\n"
          ]
        },
        {
          "metadata": {
            "tags": null
          },
          "name": "stderr",
          "output_type": "stream",
          "text": [
            "Epoch 12/80: 100%|██████████| 1125/1125 [00:27<00:00, 41.06it/s, train_loss=4.49e+3, train_abstention_rate=0.0131, train_valid_accuracy=0.122, train_correct_abstentions=0.0409, train_incorrect_abstentions=0.000937]\n"
          ]
        },
        {
          "metadata": {
            "tags": null
          },
          "name": "stdout",
          "output_type": "stream",
          "text": [
            "\n",
            "Epoch 11 validation: val_loss: 4851.4309, val_abstention_rate: 0.0168, val_valid_accuracy: 0.2394, val_correct_abstentions: 0.0374, val_incorrect_abstentions: 0.0000\n"
          ]
        },
        {
          "metadata": {
            "tags": null
          },
          "name": "stderr",
          "output_type": "stream",
          "text": [
            "Epoch 13/80: 100%|██████████| 1125/1125 [00:27<00:00, 41.15it/s, train_loss=8.26e+3, train_abstention_rate=0.0156, train_valid_accuracy=0.145, train_correct_abstentions=0.0375, train_incorrect_abstentions=0.00187]\n"
          ]
        },
        {
          "metadata": {
            "tags": null
          },
          "name": "stdout",
          "output_type": "stream",
          "text": [
            "\n",
            "Epoch 12 validation: val_loss: 6137.6922, val_abstention_rate: 0.0135, val_valid_accuracy: 0.0794, val_correct_abstentions: 0.0355, val_incorrect_abstentions: 0.0028\n"
          ]
        },
        {
          "metadata": {
            "tags": null
          },
          "name": "stderr",
          "output_type": "stream",
          "text": [
            "Epoch 14/80: 100%|██████████| 1125/1125 [00:27<00:00, 40.98it/s, train_loss=6.11e+3, train_abstention_rate=0.0138, train_valid_accuracy=0.0997, train_correct_abstentions=0.0359, train_incorrect_abstentions=0.00125]\n"
          ]
        },
        {
          "metadata": {
            "tags": null
          },
          "name": "stdout",
          "output_type": "stream",
          "text": [
            "\n",
            "Epoch 13 validation: val_loss: 5424.9405, val_abstention_rate: 0.0115, val_valid_accuracy: 0.0777, val_correct_abstentions: 0.0369, val_incorrect_abstentions: 0.0000\n"
          ]
        },
        {
          "metadata": {
            "tags": null
          },
          "name": "stderr",
          "output_type": "stream",
          "text": [
            "Epoch 15/80: 100%|██████████| 1125/1125 [00:27<00:00, 41.07it/s, train_loss=5.83e+3, train_abstention_rate=0.0116, train_valid_accuracy=0.192, train_correct_abstentions=0.0362, train_incorrect_abstentions=0.000625]\n"
          ]
        },
        {
          "metadata": {
            "tags": null
          },
          "name": "stdout",
          "output_type": "stream",
          "text": [
            "\n",
            "Epoch 14 validation: val_loss: 4280.8194, val_abstention_rate: 0.0123, val_valid_accuracy: 0.0883, val_correct_abstentions: 0.0393, val_incorrect_abstentions: 0.0000\n"
          ]
        },
        {
          "metadata": {
            "tags": null
          },
          "name": "stderr",
          "output_type": "stream",
          "text": [
            "Epoch 16/80: 100%|██████████| 1125/1125 [00:27<00:00, 40.53it/s, train_loss=5.6e+3, train_abstention_rate=0.0159, train_valid_accuracy=0.234, train_correct_abstentions=0.0394, train_incorrect_abstentions=0.000313]\n"
          ]
        },
        {
          "metadata": {
            "tags": null
          },
          "name": "stdout",
          "output_type": "stream",
          "text": [
            "\n",
            "Epoch 15 validation: val_loss: 3885.0520, val_abstention_rate: 0.0107, val_valid_accuracy: 0.0815, val_correct_abstentions: 0.0373, val_incorrect_abstentions: 0.0000\n"
          ]
        },
        {
          "metadata": {
            "tags": null
          },
          "name": "stderr",
          "output_type": "stream",
          "text": [
            "Epoch 17/80: 100%|██████████| 1125/1125 [00:27<00:00, 40.93it/s, train_loss=4.84e+3, train_abstention_rate=0.0163, train_valid_accuracy=0.26, train_correct_abstentions=0.0397, train_incorrect_abstentions=0.000625]\n"
          ]
        },
        {
          "metadata": {
            "tags": null
          },
          "name": "stdout",
          "output_type": "stream",
          "text": [
            "\n",
            "Epoch 16 validation: val_loss: 4655.2379, val_abstention_rate: 0.0043, val_valid_accuracy: 0.1111, val_correct_abstentions: 0.0333, val_incorrect_abstentions: 0.0021\n"
          ]
        },
        {
          "metadata": {
            "tags": null
          },
          "name": "stderr",
          "output_type": "stream",
          "text": [
            "Epoch 18/80: 100%|██████████| 1125/1125 [00:27<00:00, 40.85it/s, train_loss=1.72e+4, train_abstention_rate=0.0106, train_valid_accuracy=0.122, train_correct_abstentions=0.0391, train_incorrect_abstentions=0.00187]\n"
          ]
        },
        {
          "metadata": {
            "tags": null
          },
          "name": "stdout",
          "output_type": "stream",
          "text": [
            "\n",
            "Epoch 17 validation: val_loss: 9873.3636, val_abstention_rate: 0.0103, val_valid_accuracy: 0.2663, val_correct_abstentions: 0.0356, val_incorrect_abstentions: 0.0000\n"
          ]
        },
        {
          "metadata": {
            "tags": null
          },
          "name": "stderr",
          "output_type": "stream",
          "text": [
            "Epoch 19/80: 100%|██████████| 1125/1125 [00:27<00:00, 40.73it/s, train_loss=6.54e+3, train_abstention_rate=0.0144, train_valid_accuracy=0.177, train_correct_abstentions=0.0416, train_incorrect_abstentions=0.00156]\n"
          ]
        },
        {
          "metadata": {
            "tags": null
          },
          "name": "stdout",
          "output_type": "stream",
          "text": [
            "\n",
            "Epoch 18 validation: val_loss: 5232.6457, val_abstention_rate: 0.0132, val_valid_accuracy: 0.2916, val_correct_abstentions: 0.0385, val_incorrect_abstentions: 0.0000\n"
          ]
        },
        {
          "metadata": {
            "tags": null
          },
          "name": "stderr",
          "output_type": "stream",
          "text": [
            "Epoch 20/80: 100%|██████████| 1125/1125 [00:27<00:00, 40.94it/s, train_loss=4.26e+3, train_abstention_rate=0.0166, train_valid_accuracy=0.202, train_correct_abstentions=0.0394, train_incorrect_abstentions=0.000313]\n"
          ]
        },
        {
          "metadata": {
            "tags": null
          },
          "name": "stdout",
          "output_type": "stream",
          "text": [
            "\n",
            "Epoch 19 validation: val_loss: 10124.4907, val_abstention_rate: 0.0203, val_valid_accuracy: 0.1929, val_correct_abstentions: 0.0291, val_incorrect_abstentions: 0.0145\n"
          ]
        },
        {
          "metadata": {
            "tags": null
          },
          "name": "stderr",
          "output_type": "stream",
          "text": [
            "Epoch 21/80: 100%|██████████| 1125/1125 [00:27<00:00, 40.79it/s, train_loss=8.69e+3, train_abstention_rate=0.0178, train_valid_accuracy=0.164, train_correct_abstentions=0.0397, train_incorrect_abstentions=0.000625]\n"
          ]
        },
        {
          "metadata": {
            "tags": null
          },
          "name": "stdout",
          "output_type": "stream",
          "text": [
            "\n",
            "Epoch 20 validation: val_loss: 6969.3574, val_abstention_rate: 0.0107, val_valid_accuracy: 0.1816, val_correct_abstentions: 0.0363, val_incorrect_abstentions: 0.0000\n"
          ]
        },
        {
          "metadata": {
            "tags": null
          },
          "name": "stderr",
          "output_type": "stream",
          "text": [
            "Epoch 22/80: 100%|██████████| 1125/1125 [00:27<00:00, 40.72it/s, train_loss=8.39e+3, train_abstention_rate=0.0131, train_valid_accuracy=0.227, train_correct_abstentions=0.0356, train_incorrect_abstentions=0.0025]\n"
          ]
        },
        {
          "metadata": {
            "tags": null
          },
          "name": "stdout",
          "output_type": "stream",
          "text": [
            "\n",
            "Epoch 21 validation: val_loss: 6704.5336, val_abstention_rate: 0.0165, val_valid_accuracy: 0.3130, val_correct_abstentions: 0.0389, val_incorrect_abstentions: 0.0000\n"
          ]
        },
        {
          "metadata": {
            "tags": null
          },
          "name": "stderr",
          "output_type": "stream",
          "text": [
            "Epoch 23/80: 100%|██████████| 1125/1125 [00:27<00:00, 41.02it/s, train_loss=5.3e+3, train_abstention_rate=0.0216, train_valid_accuracy=0.325, train_correct_abstentions=0.0441, train_incorrect_abstentions=0]\n"
          ]
        },
        {
          "metadata": {
            "tags": null
          },
          "name": "stdout",
          "output_type": "stream",
          "text": [
            "\n",
            "Epoch 22 validation: val_loss: 3102.3948, val_abstention_rate: 0.0320, val_valid_accuracy: 0.3972, val_correct_abstentions: 0.0519, val_incorrect_abstentions: 0.0000\n"
          ]
        },
        {
          "metadata": {
            "tags": null
          },
          "name": "stderr",
          "output_type": "stream",
          "text": [
            "Epoch 24/80: 100%|██████████| 1125/1125 [00:27<00:00, 40.50it/s, train_loss=1.44e+4, train_abstention_rate=0.00937, train_valid_accuracy=0.207, train_correct_abstentions=0.0406, train_incorrect_abstentions=0.00156]\n"
          ]
        },
        {
          "metadata": {
            "tags": null
          },
          "name": "stdout",
          "output_type": "stream",
          "text": [
            "\n",
            "Epoch 23 validation: val_loss: 12770.9826, val_abstention_rate: 0.0173, val_valid_accuracy: 0.2625, val_correct_abstentions: 0.0411, val_incorrect_abstentions: 0.0012\n"
          ]
        },
        {
          "metadata": {
            "tags": null
          },
          "name": "stderr",
          "output_type": "stream",
          "text": [
            "Epoch 25/80: 100%|██████████| 1125/1125 [00:27<00:00, 40.65it/s, train_loss=3.98e+3, train_abstention_rate=0.0238, train_valid_accuracy=0.429, train_correct_abstentions=0.0469, train_incorrect_abstentions=0.000313]\n"
          ]
        },
        {
          "metadata": {
            "tags": null
          },
          "name": "stdout",
          "output_type": "stream",
          "text": [
            "\n",
            "Epoch 24 validation: val_loss: 2325.7643, val_abstention_rate: 0.0203, val_valid_accuracy: 0.3821, val_correct_abstentions: 0.0408, val_incorrect_abstentions: 0.0000\n"
          ]
        },
        {
          "metadata": {
            "tags": null
          },
          "name": "stderr",
          "output_type": "stream",
          "text": [
            "Epoch 26/80: 100%|██████████| 1125/1125 [00:27<00:00, 40.63it/s, train_loss=3.43e+3, train_abstention_rate=0.0259, train_valid_accuracy=0.345, train_correct_abstentions=0.0478, train_incorrect_abstentions=0.000625]\n"
          ]
        },
        {
          "metadata": {
            "tags": null
          },
          "name": "stdout",
          "output_type": "stream",
          "text": [
            "\n",
            "Epoch 25 validation: val_loss: 5943.2336, val_abstention_rate: 0.0255, val_valid_accuracy: 0.2830, val_correct_abstentions: 0.0437, val_incorrect_abstentions: 0.0000\n"
          ]
        },
        {
          "metadata": {
            "tags": null
          },
          "name": "stderr",
          "output_type": "stream",
          "text": [
            "Epoch 27/80: 100%|██████████| 1125/1125 [00:27<00:00, 40.81it/s, train_loss=3.28e+3, train_abstention_rate=0.0284, train_valid_accuracy=0.436, train_correct_abstentions=0.0459, train_incorrect_abstentions=0.000625]\n"
          ]
        },
        {
          "metadata": {
            "tags": null
          },
          "name": "stdout",
          "output_type": "stream",
          "text": [
            "\n",
            "Epoch 26 validation: val_loss: 2016.6466, val_abstention_rate: 0.0260, val_valid_accuracy: 0.4218, val_correct_abstentions: 0.0453, val_incorrect_abstentions: 0.0004\n"
          ]
        },
        {
          "metadata": {
            "tags": null
          },
          "name": "stderr",
          "output_type": "stream",
          "text": [
            "Epoch 28/80: 100%|██████████| 1125/1125 [00:27<00:00, 40.92it/s, train_loss=6.15e+3, train_abstention_rate=0.0197, train_valid_accuracy=0.313, train_correct_abstentions=0.0469, train_incorrect_abstentions=0.000313]\n"
          ]
        },
        {
          "metadata": {
            "tags": null
          },
          "name": "stdout",
          "output_type": "stream",
          "text": [
            "\n",
            "Epoch 27 validation: val_loss: 3585.6617, val_abstention_rate: 0.0340, val_valid_accuracy: 0.5312, val_correct_abstentions: 0.0518, val_incorrect_abstentions: 0.0000\n"
          ]
        },
        {
          "metadata": {
            "tags": null
          },
          "name": "stderr",
          "output_type": "stream",
          "text": [
            "Epoch 29/80: 100%|██████████| 1125/1125 [00:27<00:00, 40.76it/s, train_loss=3.47e+3, train_abstention_rate=0.0328, train_valid_accuracy=0.432, train_correct_abstentions=0.0506, train_incorrect_abstentions=0.000313]\n"
          ]
        },
        {
          "metadata": {
            "tags": null
          },
          "name": "stdout",
          "output_type": "stream",
          "text": [
            "\n",
            "Epoch 28 validation: val_loss: 2210.3747, val_abstention_rate: 0.0270, val_valid_accuracy: 0.2459, val_correct_abstentions: 0.0450, val_incorrect_abstentions: 0.0000\n"
          ]
        },
        {
          "metadata": {
            "tags": null
          },
          "name": "stderr",
          "output_type": "stream",
          "text": [
            "Epoch 30/80: 100%|██████████| 1125/1125 [00:27<00:00, 40.65it/s, train_loss=9.71e+3, train_abstention_rate=0.0247, train_valid_accuracy=0.33, train_correct_abstentions=0.0431, train_incorrect_abstentions=0.00219]\n"
          ]
        },
        {
          "metadata": {
            "tags": null
          },
          "name": "stdout",
          "output_type": "stream",
          "text": [
            "\n",
            "Epoch 29 validation: val_loss: 13691.1646, val_abstention_rate: 0.0235, val_valid_accuracy: 0.1549, val_correct_abstentions: 0.0365, val_incorrect_abstentions: 0.0048\n"
          ]
        },
        {
          "metadata": {
            "tags": null
          },
          "name": "stderr",
          "output_type": "stream",
          "text": [
            "Epoch 31/80: 100%|██████████| 1125/1125 [00:27<00:00, 40.65it/s, train_loss=3.06e+3, train_abstention_rate=0.0238, train_valid_accuracy=0.378, train_correct_abstentions=0.0456, train_incorrect_abstentions=0.000313]\n"
          ]
        },
        {
          "metadata": {
            "tags": null
          },
          "name": "stdout",
          "output_type": "stream",
          "text": [
            "\n",
            "Epoch 30 validation: val_loss: 2760.0716, val_abstention_rate: 0.0185, val_valid_accuracy: 0.3574, val_correct_abstentions: 0.0428, val_incorrect_abstentions: 0.0000\n"
          ]
        },
        {
          "metadata": {
            "tags": null
          },
          "name": "stderr",
          "output_type": "stream",
          "text": [
            "Epoch 32/80: 100%|██████████| 1125/1125 [00:27<00:00, 40.53it/s, train_loss=1.26e+4, train_abstention_rate=0.0209, train_valid_accuracy=0.296, train_correct_abstentions=0.0459, train_incorrect_abstentions=0]\n"
          ]
        },
        {
          "metadata": {
            "tags": null
          },
          "name": "stdout",
          "output_type": "stream",
          "text": [
            "\n",
            "Epoch 31 validation: val_loss: 9455.5343, val_abstention_rate: 0.0190, val_valid_accuracy: 0.3609, val_correct_abstentions: 0.0417, val_incorrect_abstentions: 0.0000\n"
          ]
        },
        {
          "metadata": {
            "tags": null
          },
          "name": "stderr",
          "output_type": "stream",
          "text": [
            "Epoch 33/80: 100%|██████████| 1125/1125 [00:27<00:00, 40.63it/s, train_loss=4.59e+3, train_abstention_rate=0.02, train_valid_accuracy=0.333, train_correct_abstentions=0.0472, train_incorrect_abstentions=0.000313]\n"
          ]
        },
        {
          "metadata": {
            "tags": null
          },
          "name": "stdout",
          "output_type": "stream",
          "text": [
            "\n",
            "Epoch 32 validation: val_loss: 7378.8251, val_abstention_rate: 0.0182, val_valid_accuracy: 0.2891, val_correct_abstentions: 0.0395, val_incorrect_abstentions: 0.0005\n"
          ]
        },
        {
          "metadata": {
            "tags": null
          },
          "name": "stderr",
          "output_type": "stream",
          "text": [
            "Epoch 34/80: 100%|██████████| 1125/1125 [00:27<00:00, 40.57it/s, train_loss=2.13e+3, train_abstention_rate=0.04, train_valid_accuracy=0.588, train_correct_abstentions=0.0531, train_incorrect_abstentions=0.000313]\n"
          ]
        },
        {
          "metadata": {
            "tags": null
          },
          "name": "stdout",
          "output_type": "stream",
          "text": [
            "\n",
            "Epoch 33 validation: val_loss: 1745.4751, val_abstention_rate: 0.0375, val_valid_accuracy: 0.5942, val_correct_abstentions: 0.0515, val_incorrect_abstentions: 0.0000\n"
          ]
        },
        {
          "metadata": {
            "tags": null
          },
          "name": "stderr",
          "output_type": "stream",
          "text": [
            "Epoch 35/80: 100%|██████████| 1125/1125 [00:27<00:00, 40.48it/s, train_loss=2.34e+3, train_abstention_rate=0.0456, train_valid_accuracy=0.513, train_correct_abstentions=0.0584, train_incorrect_abstentions=0]\n"
          ]
        },
        {
          "metadata": {
            "tags": null
          },
          "name": "stdout",
          "output_type": "stream",
          "text": [
            "\n",
            "Epoch 34 validation: val_loss: 1453.9179, val_abstention_rate: 0.0295, val_valid_accuracy: 0.4847, val_correct_abstentions: 0.0461, val_incorrect_abstentions: 0.0000\n"
          ]
        },
        {
          "metadata": {
            "tags": null
          },
          "name": "stderr",
          "output_type": "stream",
          "text": [
            "Epoch 36/80: 100%|██████████| 1125/1125 [00:27<00:00, 40.74it/s, train_loss=5.32e+3, train_abstention_rate=0.0347, train_valid_accuracy=0.466, train_correct_abstentions=0.0622, train_incorrect_abstentions=0.000625]\n"
          ]
        },
        {
          "metadata": {
            "tags": null
          },
          "name": "stdout",
          "output_type": "stream",
          "text": [
            "\n",
            "Epoch 35 validation: val_loss: 4839.1694, val_abstention_rate: 0.0150, val_valid_accuracy: 0.4892, val_correct_abstentions: 0.0380, val_incorrect_abstentions: 0.0027\n"
          ]
        },
        {
          "metadata": {
            "tags": null
          },
          "name": "stderr",
          "output_type": "stream",
          "text": [
            "Epoch 37/80: 100%|██████████| 1125/1125 [00:27<00:00, 40.50it/s, train_loss=4.2e+3, train_abstention_rate=0.0384, train_valid_accuracy=0.502, train_correct_abstentions=0.0503, train_incorrect_abstentions=0.000937]\n"
          ]
        },
        {
          "metadata": {
            "tags": null
          },
          "name": "stdout",
          "output_type": "stream",
          "text": [
            "\n",
            "Epoch 36 validation: val_loss: 5147.0036, val_abstention_rate: 0.0745, val_valid_accuracy: 0.5148, val_correct_abstentions: 0.0824, val_incorrect_abstentions: 0.0000\n"
          ]
        },
        {
          "metadata": {
            "tags": null
          },
          "name": "stderr",
          "output_type": "stream",
          "text": [
            "Epoch 38/80: 100%|██████████| 1125/1125 [00:27<00:00, 40.81it/s, train_loss=2.77e+3, train_abstention_rate=0.0309, train_valid_accuracy=0.443, train_correct_abstentions=0.0556, train_incorrect_abstentions=0.000313]\n"
          ]
        },
        {
          "metadata": {
            "tags": null
          },
          "name": "stdout",
          "output_type": "stream",
          "text": [
            "\n",
            "Epoch 37 validation: val_loss: 2024.8466, val_abstention_rate: 0.0255, val_valid_accuracy: 0.6446, val_correct_abstentions: 0.0437, val_incorrect_abstentions: 0.0018\n"
          ]
        },
        {
          "metadata": {
            "tags": null
          },
          "name": "stderr",
          "output_type": "stream",
          "text": [
            "Epoch 39/80: 100%|██████████| 1125/1125 [00:27<00:00, 40.74it/s, train_loss=4.75e+3, train_abstention_rate=0.045, train_valid_accuracy=0.505, train_correct_abstentions=0.0569, train_incorrect_abstentions=0.000313]\n"
          ]
        },
        {
          "metadata": {
            "tags": null
          },
          "name": "stdout",
          "output_type": "stream",
          "text": [
            "\n",
            "Epoch 38 validation: val_loss: 2513.4713, val_abstention_rate: 0.0590, val_valid_accuracy: 0.4844, val_correct_abstentions: 0.0716, val_incorrect_abstentions: 0.0000\n"
          ]
        },
        {
          "metadata": {
            "tags": null
          },
          "name": "stderr",
          "output_type": "stream",
          "text": [
            "Epoch 40/80: 100%|██████████| 1125/1125 [00:27<00:00, 40.71it/s, train_loss=2.29e+3, train_abstention_rate=0.0369, train_valid_accuracy=0.552, train_correct_abstentions=0.0544, train_incorrect_abstentions=0.000313]\n"
          ]
        },
        {
          "metadata": {
            "tags": null
          },
          "name": "stdout",
          "output_type": "stream",
          "text": [
            "\n",
            "Epoch 39 validation: val_loss: 5484.4639, val_abstention_rate: 0.0500, val_valid_accuracy: 0.5166, val_correct_abstentions: 0.0628, val_incorrect_abstentions: 0.0010\n"
          ]
        },
        {
          "metadata": {
            "tags": null
          },
          "name": "stderr",
          "output_type": "stream",
          "text": [
            "Epoch 41/80: 100%|██████████| 1125/1125 [00:27<00:00, 40.43it/s, train_loss=2.42e+3, train_abstention_rate=0.0309, train_valid_accuracy=0.363, train_correct_abstentions=0.0525, train_incorrect_abstentions=0.000313]\n"
          ]
        },
        {
          "metadata": {
            "tags": null
          },
          "name": "stdout",
          "output_type": "stream",
          "text": [
            "\n",
            "Epoch 40 validation: val_loss: 1340.1405, val_abstention_rate: 0.0440, val_valid_accuracy: 0.4729, val_correct_abstentions: 0.0550, val_incorrect_abstentions: 0.0000\n"
          ]
        },
        {
          "metadata": {
            "tags": null
          },
          "name": "stderr",
          "output_type": "stream",
          "text": [
            "Epoch 42/80: 100%|██████████| 1125/1125 [00:27<00:00, 40.60it/s, train_loss=2.32e+3, train_abstention_rate=0.03, train_valid_accuracy=0.422, train_correct_abstentions=0.0594, train_incorrect_abstentions=0.000937]\n"
          ]
        },
        {
          "metadata": {
            "tags": null
          },
          "name": "stdout",
          "output_type": "stream",
          "text": [
            "\n",
            "Epoch 41 validation: val_loss: 2276.5701, val_abstention_rate: 0.0680, val_valid_accuracy: 0.0976, val_correct_abstentions: 0.0774, val_incorrect_abstentions: 0.0020\n"
          ]
        },
        {
          "metadata": {
            "tags": null
          },
          "name": "stderr",
          "output_type": "stream",
          "text": [
            "Epoch 43/80: 100%|██████████| 1125/1125 [00:27<00:00, 40.42it/s, train_loss=1.57e+3, train_abstention_rate=0.0437, train_valid_accuracy=0.516, train_correct_abstentions=0.0563, train_incorrect_abstentions=0.000625]\n"
          ]
        },
        {
          "metadata": {
            "tags": null
          },
          "name": "stdout",
          "output_type": "stream",
          "text": [
            "\n",
            "Epoch 42 validation: val_loss: 2033.0983, val_abstention_rate: 0.0070, val_valid_accuracy: 0.5895, val_correct_abstentions: 0.0337, val_incorrect_abstentions: 0.0000\n"
          ]
        },
        {
          "metadata": {
            "tags": null
          },
          "name": "stderr",
          "output_type": "stream",
          "text": [
            "Epoch 44/80: 100%|██████████| 1125/1125 [00:27<00:00, 40.65it/s, train_loss=2.35e+3, train_abstention_rate=0.0281, train_valid_accuracy=0.315, train_correct_abstentions=0.0509, train_incorrect_abstentions=0.000625]\n"
          ]
        },
        {
          "metadata": {
            "tags": null
          },
          "name": "stdout",
          "output_type": "stream",
          "text": [
            "\n",
            "Epoch 43 validation: val_loss: 1971.3114, val_abstention_rate: 0.0350, val_valid_accuracy: 0.2431, val_correct_abstentions: 0.0534, val_incorrect_abstentions: 0.0000\n"
          ]
        },
        {
          "metadata": {
            "tags": null
          },
          "name": "stderr",
          "output_type": "stream",
          "text": [
            "Epoch 45/80: 100%|██████████| 1125/1125 [00:27<00:00, 40.52it/s, train_loss=2.68e+3, train_abstention_rate=0.0372, train_valid_accuracy=0.467, train_correct_abstentions=0.0581, train_incorrect_abstentions=0.000313]\n"
          ]
        },
        {
          "metadata": {
            "tags": null
          },
          "name": "stdout",
          "output_type": "stream",
          "text": [
            "\n",
            "Epoch 44 validation: val_loss: 4482.1851, val_abstention_rate: 0.0203, val_valid_accuracy: 0.4810, val_correct_abstentions: 0.0415, val_incorrect_abstentions: 0.0000\n"
          ]
        },
        {
          "metadata": {
            "tags": null
          },
          "name": "stderr",
          "output_type": "stream",
          "text": [
            "Epoch 46/80: 100%|██████████| 1125/1125 [00:27<00:00, 40.65it/s, train_loss=2.38e+3, train_abstention_rate=0.0416, train_valid_accuracy=0.456, train_correct_abstentions=0.06, train_incorrect_abstentions=0]\n"
          ]
        },
        {
          "metadata": {
            "tags": null
          },
          "name": "stdout",
          "output_type": "stream",
          "text": [
            "\n",
            "Epoch 45 validation: val_loss: 1772.6299, val_abstention_rate: 0.0053, val_valid_accuracy: 0.4394, val_correct_abstentions: 0.0297, val_incorrect_abstentions: 0.0031\n"
          ]
        },
        {
          "metadata": {
            "tags": null
          },
          "name": "stderr",
          "output_type": "stream",
          "text": [
            "Epoch 47/80: 100%|██████████| 1125/1125 [00:27<00:00, 40.43it/s, train_loss=2.3e+3, train_abstention_rate=0.0456, train_valid_accuracy=0.489, train_correct_abstentions=0.0678, train_incorrect_abstentions=0]\n"
          ]
        },
        {
          "metadata": {
            "tags": null
          },
          "name": "stdout",
          "output_type": "stream",
          "text": [
            "\n",
            "Epoch 46 validation: val_loss: 2087.8259, val_abstention_rate: 0.0055, val_valid_accuracy: 0.2368, val_correct_abstentions: 0.0268, val_incorrect_abstentions: 0.0060\n"
          ]
        },
        {
          "metadata": {
            "tags": null
          },
          "name": "stderr",
          "output_type": "stream",
          "text": [
            "Epoch 48/80: 100%|██████████| 1125/1125 [00:27<00:00, 40.58it/s, train_loss=2.14e+3, train_abstention_rate=0.0519, train_valid_accuracy=0.594, train_correct_abstentions=0.0691, train_incorrect_abstentions=0]\n"
          ]
        },
        {
          "metadata": {
            "tags": null
          },
          "name": "stdout",
          "output_type": "stream",
          "text": [
            "\n",
            "Epoch 47 validation: val_loss: 1442.7135, val_abstention_rate: 0.0047, val_valid_accuracy: 0.4472, val_correct_abstentions: 0.0330, val_incorrect_abstentions: 0.0000\n"
          ]
        },
        {
          "metadata": {
            "tags": null
          },
          "name": "stderr",
          "output_type": "stream",
          "text": [
            "Epoch 49/80: 100%|██████████| 1125/1125 [00:27<00:00, 40.65it/s, train_loss=1.65e+3, train_abstention_rate=0.0578, train_valid_accuracy=0.659, train_correct_abstentions=0.0737, train_incorrect_abstentions=0]\n"
          ]
        },
        {
          "metadata": {
            "tags": null
          },
          "name": "stdout",
          "output_type": "stream",
          "text": [
            "\n",
            "Epoch 48 validation: val_loss: 1868.5487, val_abstention_rate: 0.0020, val_valid_accuracy: 0.5424, val_correct_abstentions: 0.0312, val_incorrect_abstentions: 0.0000\n"
          ]
        },
        {
          "metadata": {
            "tags": null
          },
          "name": "stderr",
          "output_type": "stream",
          "text": [
            "Epoch 50/80: 100%|██████████| 1125/1125 [00:27<00:00, 40.53it/s, train_loss=5.83e+3, train_abstention_rate=0.03, train_valid_accuracy=0.507, train_correct_abstentions=0.0681, train_incorrect_abstentions=0.000313]\n"
          ]
        },
        {
          "metadata": {
            "tags": null
          },
          "name": "stdout",
          "output_type": "stream",
          "text": [
            "\n",
            "Epoch 49 validation: val_loss: 3942.6336, val_abstention_rate: 0.0660, val_valid_accuracy: 0.5781, val_correct_abstentions: 0.0717, val_incorrect_abstentions: 0.0000\n"
          ]
        },
        {
          "metadata": {
            "tags": null
          },
          "name": "stderr",
          "output_type": "stream",
          "text": [
            "Epoch 51/80: 100%|██████████| 1125/1125 [00:27<00:00, 40.48it/s, train_loss=1.31e+3, train_abstention_rate=0.0734, train_valid_accuracy=0.73, train_correct_abstentions=0.0925, train_incorrect_abstentions=0]\n"
          ]
        },
        {
          "metadata": {
            "tags": null
          },
          "name": "stdout",
          "output_type": "stream",
          "text": [
            "\n",
            "Epoch 50 validation: val_loss: 774.1792, val_abstention_rate: 0.0107, val_valid_accuracy: 0.7519, val_correct_abstentions: 0.0363, val_incorrect_abstentions: 0.0000\n"
          ]
        },
        {
          "metadata": {
            "tags": null
          },
          "name": "stderr",
          "output_type": "stream",
          "text": [
            "Epoch 52/80: 100%|██████████| 1125/1125 [00:27<00:00, 40.80it/s, train_loss=1.26e+3, train_abstention_rate=0.0744, train_valid_accuracy=0.575, train_correct_abstentions=0.0909, train_incorrect_abstentions=0.000937]\n"
          ]
        },
        {
          "metadata": {
            "tags": null
          },
          "name": "stdout",
          "output_type": "stream",
          "text": [
            "\n",
            "Epoch 51 validation: val_loss: 843.4859, val_abstention_rate: 0.0232, val_valid_accuracy: 0.4986, val_correct_abstentions: 0.0456, val_incorrect_abstentions: 0.0005\n"
          ]
        },
        {
          "metadata": {
            "tags": null
          },
          "name": "stderr",
          "output_type": "stream",
          "text": [
            "Epoch 53/80: 100%|██████████| 1125/1125 [00:27<00:00, 40.58it/s, train_loss=1.78e+3, train_abstention_rate=0.0619, train_valid_accuracy=0.447, train_correct_abstentions=0.0866, train_incorrect_abstentions=0.000625]\n"
          ]
        },
        {
          "metadata": {
            "tags": null
          },
          "name": "stdout",
          "output_type": "stream",
          "text": [
            "\n",
            "Epoch 52 validation: val_loss: 1045.0071, val_abstention_rate: 0.0465, val_valid_accuracy: 0.5988, val_correct_abstentions: 0.0563, val_incorrect_abstentions: 0.0012\n"
          ]
        },
        {
          "metadata": {
            "tags": null
          },
          "name": "stderr",
          "output_type": "stream",
          "text": [
            "Epoch 54/80: 100%|██████████| 1125/1125 [00:27<00:00, 40.57it/s, train_loss=1.94e+3, train_abstention_rate=0.0675, train_valid_accuracy=0.52, train_correct_abstentions=0.0887, train_incorrect_abstentions=0.000313]\n"
          ]
        },
        {
          "metadata": {
            "tags": null
          },
          "name": "stdout",
          "output_type": "stream",
          "text": [
            "\n",
            "Epoch 53 validation: val_loss: 769.2322, val_abstention_rate: 0.0027, val_valid_accuracy: 0.4011, val_correct_abstentions: 0.0312, val_incorrect_abstentions: 0.0000\n"
          ]
        },
        {
          "metadata": {
            "tags": null
          },
          "name": "stderr",
          "output_type": "stream",
          "text": [
            "Epoch 55/80: 100%|██████████| 1125/1125 [00:27<00:00, 40.53it/s, train_loss=1.14e+3, train_abstention_rate=0.0638, train_valid_accuracy=0.581, train_correct_abstentions=0.0875, train_incorrect_abstentions=0]\n"
          ]
        },
        {
          "metadata": {
            "tags": null
          },
          "name": "stdout",
          "output_type": "stream",
          "text": [
            "\n",
            "Epoch 54 validation: val_loss: 1670.1561, val_abstention_rate: 0.1240, val_valid_accuracy: 0.8193, val_correct_abstentions: 0.1278, val_incorrect_abstentions: 0.0003\n"
          ]
        },
        {
          "metadata": {
            "tags": null
          },
          "name": "stderr",
          "output_type": "stream",
          "text": [
            "Epoch 56/80: 100%|██████████| 1125/1125 [00:27<00:00, 40.29it/s, train_loss=1.56e+3, train_abstention_rate=0.0525, train_valid_accuracy=0.583, train_correct_abstentions=0.0719, train_incorrect_abstentions=0]\n"
          ]
        },
        {
          "metadata": {
            "tags": null
          },
          "name": "stdout",
          "output_type": "stream",
          "text": [
            "\n",
            "Epoch 55 validation: val_loss: 1491.0001, val_abstention_rate: 0.0152, val_valid_accuracy: 0.5906, val_correct_abstentions: 0.0349, val_incorrect_abstentions: 0.0018\n"
          ]
        },
        {
          "metadata": {
            "tags": null
          },
          "name": "stderr",
          "output_type": "stream",
          "text": [
            "Epoch 57/80: 100%|██████████| 1125/1125 [00:27<00:00, 40.54it/s, train_loss=1.61e+3, train_abstention_rate=0.0587, train_valid_accuracy=0.59, train_correct_abstentions=0.0953, train_incorrect_abstentions=0.000313]\n"
          ]
        },
        {
          "metadata": {
            "tags": null
          },
          "name": "stdout",
          "output_type": "stream",
          "text": [
            "\n",
            "Epoch 56 validation: val_loss: 1494.4140, val_abstention_rate: 0.1568, val_valid_accuracy: 0.6545, val_correct_abstentions: 0.1568, val_incorrect_abstentions: 0.0000\n"
          ]
        },
        {
          "metadata": {
            "tags": null
          },
          "name": "stderr",
          "output_type": "stream",
          "text": [
            "Epoch 58/80: 100%|██████████| 1125/1125 [00:27<00:00, 40.58it/s, train_loss=1.46e+3, train_abstention_rate=0.0806, train_valid_accuracy=0.655, train_correct_abstentions=0.0922, train_incorrect_abstentions=0.000625]\n"
          ]
        },
        {
          "metadata": {
            "tags": null
          },
          "name": "stdout",
          "output_type": "stream",
          "text": [
            "\n",
            "Epoch 57 validation: val_loss: 858.7088, val_abstention_rate: 0.1325, val_valid_accuracy: 0.6965, val_correct_abstentions: 0.1328, val_incorrect_abstentions: 0.0008\n"
          ]
        },
        {
          "metadata": {
            "tags": null
          },
          "name": "stderr",
          "output_type": "stream",
          "text": [
            "Epoch 59/80: 100%|██████████| 1125/1125 [00:27<00:00, 40.33it/s, train_loss=1.02e+3, train_abstention_rate=0.104, train_valid_accuracy=0.48, train_correct_abstentions=0.115, train_incorrect_abstentions=0.000625]\n"
          ]
        },
        {
          "metadata": {
            "tags": null
          },
          "name": "stdout",
          "output_type": "stream",
          "text": [
            "\n",
            "Epoch 58 validation: val_loss: 818.1826, val_abstention_rate: 0.1427, val_valid_accuracy: 0.7448, val_correct_abstentions: 0.1427, val_incorrect_abstentions: 0.0000\n"
          ]
        },
        {
          "metadata": {
            "tags": null
          },
          "name": "stderr",
          "output_type": "stream",
          "text": [
            "Epoch 60/80: 100%|██████████| 1125/1125 [00:27<00:00, 40.64it/s, train_loss=950, train_abstention_rate=0.0984, train_valid_accuracy=0.599, train_correct_abstentions=0.122, train_incorrect_abstentions=0]\n"
          ]
        },
        {
          "metadata": {
            "tags": null
          },
          "name": "stdout",
          "output_type": "stream",
          "text": [
            "\n",
            "Epoch 59 validation: val_loss: 538.3197, val_abstention_rate: 0.1225, val_valid_accuracy: 0.7583, val_correct_abstentions: 0.1284, val_incorrect_abstentions: 0.0003\n"
          ]
        },
        {
          "metadata": {
            "tags": null
          },
          "name": "stderr",
          "output_type": "stream",
          "text": [
            "Epoch 61/80: 100%|██████████| 1125/1125 [00:27<00:00, 40.56it/s, train_loss=552, train_abstention_rate=0.0803, train_valid_accuracy=0.52, train_correct_abstentions=0.112, train_incorrect_abstentions=0]\n"
          ]
        },
        {
          "metadata": {
            "tags": null
          },
          "name": "stdout",
          "output_type": "stream",
          "text": [
            "\n",
            "Epoch 60 validation: val_loss: 1129.9570, val_abstention_rate: 0.1003, val_valid_accuracy: 0.4455, val_correct_abstentions: 0.1028, val_incorrect_abstentions: 0.0008\n"
          ]
        },
        {
          "metadata": {
            "tags": null
          },
          "name": "stderr",
          "output_type": "stream",
          "text": [
            "Epoch 62/80: 100%|██████████| 1125/1125 [00:27<00:00, 40.45it/s, train_loss=1.41e+3, train_abstention_rate=0.0941, train_valid_accuracy=0.642, train_correct_abstentions=0.109, train_incorrect_abstentions=0]\n"
          ]
        },
        {
          "metadata": {
            "tags": null
          },
          "name": "stdout",
          "output_type": "stream",
          "text": [
            "\n",
            "Epoch 61 validation: val_loss: 1617.8378, val_abstention_rate: 0.1067, val_valid_accuracy: 0.5938, val_correct_abstentions: 0.1085, val_incorrect_abstentions: 0.0000\n"
          ]
        },
        {
          "metadata": {
            "tags": null
          },
          "name": "stderr",
          "output_type": "stream",
          "text": [
            "Epoch 63/80: 100%|██████████| 1125/1125 [00:27<00:00, 40.34it/s, train_loss=1.41e+3, train_abstention_rate=0.0631, train_valid_accuracy=0.569, train_correct_abstentions=0.0941, train_incorrect_abstentions=0.000313]\n"
          ]
        },
        {
          "metadata": {
            "tags": null
          },
          "name": "stdout",
          "output_type": "stream",
          "text": [
            "\n",
            "Epoch 62 validation: val_loss: 2005.5067, val_abstention_rate: 0.0717, val_valid_accuracy: 0.5242, val_correct_abstentions: 0.0751, val_incorrect_abstentions: 0.0003\n"
          ]
        },
        {
          "metadata": {
            "tags": null
          },
          "name": "stderr",
          "output_type": "stream",
          "text": [
            "Epoch 64/80: 100%|██████████| 1125/1125 [00:27<00:00, 40.40it/s, train_loss=1.22e+3, train_abstention_rate=0.0788, train_valid_accuracy=0.499, train_correct_abstentions=0.102, train_incorrect_abstentions=0]\n"
          ]
        },
        {
          "metadata": {
            "tags": null
          },
          "name": "stdout",
          "output_type": "stream",
          "text": [
            "\n",
            "Epoch 63 validation: val_loss: 545.5488, val_abstention_rate: 0.0415, val_valid_accuracy: 0.7190, val_correct_abstentions: 0.0541, val_incorrect_abstentions: 0.0017\n"
          ]
        },
        {
          "metadata": {
            "tags": null
          },
          "name": "stderr",
          "output_type": "stream",
          "text": [
            "Epoch 65/80: 100%|██████████| 1125/1125 [00:27<00:00, 40.30it/s, train_loss=886, train_abstention_rate=0.0591, train_valid_accuracy=0.618, train_correct_abstentions=0.0934, train_incorrect_abstentions=0.000313]\n"
          ]
        },
        {
          "metadata": {
            "tags": null
          },
          "name": "stdout",
          "output_type": "stream",
          "text": [
            "\n",
            "Epoch 64 validation: val_loss: 587.7488, val_abstention_rate: 0.0225, val_valid_accuracy: 0.5375, val_correct_abstentions: 0.0386, val_incorrect_abstentions: 0.0028\n"
          ]
        },
        {
          "metadata": {
            "tags": null
          },
          "name": "stderr",
          "output_type": "stream",
          "text": [
            "Epoch 66/80: 100%|██████████| 1125/1125 [00:27<00:00, 40.37it/s, train_loss=3.15e+3, train_abstention_rate=0.0669, train_valid_accuracy=0.542, train_correct_abstentions=0.0916, train_incorrect_abstentions=0.000625]\n"
          ]
        },
        {
          "metadata": {
            "tags": null
          },
          "name": "stdout",
          "output_type": "stream",
          "text": [
            "\n",
            "Epoch 65 validation: val_loss: 3409.6020, val_abstention_rate: 0.0032, val_valid_accuracy: 0.1028, val_correct_abstentions: 0.0264, val_incorrect_abstentions: 0.0048\n"
          ]
        },
        {
          "metadata": {
            "tags": null
          },
          "name": "stderr",
          "output_type": "stream",
          "text": [
            "Epoch 67/80: 100%|██████████| 1125/1125 [00:27<00:00, 40.40it/s, train_loss=424, train_abstention_rate=0.122, train_valid_accuracy=0.736, train_correct_abstentions=0.131, train_incorrect_abstentions=0.000313]\n"
          ]
        },
        {
          "metadata": {
            "tags": null
          },
          "name": "stdout",
          "output_type": "stream",
          "text": [
            "\n",
            "Epoch 66 validation: val_loss: 1222.0821, val_abstention_rate: 0.1578, val_valid_accuracy: 0.8677, val_correct_abstentions: 0.1573, val_incorrect_abstentions: 0.0005\n"
          ]
        },
        {
          "metadata": {
            "tags": null
          },
          "name": "stderr",
          "output_type": "stream",
          "text": [
            "Epoch 68/80: 100%|██████████| 1125/1125 [00:27<00:00, 40.29it/s, train_loss=501, train_abstention_rate=0.123, train_valid_accuracy=0.83, train_correct_abstentions=0.125, train_incorrect_abstentions=0.000313]\n"
          ]
        },
        {
          "metadata": {
            "tags": null
          },
          "name": "stdout",
          "output_type": "stream",
          "text": [
            "\n",
            "Epoch 67 validation: val_loss: 654.9863, val_abstention_rate: 0.1578, val_valid_accuracy: 0.8987, val_correct_abstentions: 0.1565, val_incorrect_abstentions: 0.0013\n"
          ]
        },
        {
          "metadata": {
            "tags": null
          },
          "name": "stderr",
          "output_type": "stream",
          "text": [
            "Epoch 69/80: 100%|██████████| 1125/1125 [00:27<00:00, 40.38it/s, train_loss=1.05e+3, train_abstention_rate=0.095, train_valid_accuracy=0.684, train_correct_abstentions=0.116, train_incorrect_abstentions=0.000313]\n"
          ]
        },
        {
          "metadata": {
            "tags": null
          },
          "name": "stdout",
          "output_type": "stream",
          "text": [
            "\n",
            "Epoch 68 validation: val_loss: 671.8470, val_abstention_rate: 0.1542, val_valid_accuracy: 0.7731, val_correct_abstentions: 0.1535, val_incorrect_abstentions: 0.0008\n"
          ]
        },
        {
          "metadata": {
            "tags": null
          },
          "name": "stderr",
          "output_type": "stream",
          "text": [
            "Epoch 70/80: 100%|██████████| 1125/1125 [00:27<00:00, 40.44it/s, train_loss=952, train_abstention_rate=0.0906, train_valid_accuracy=0.764, train_correct_abstentions=0.103, train_incorrect_abstentions=0.000313]\n"
          ]
        },
        {
          "metadata": {
            "tags": null
          },
          "name": "stdout",
          "output_type": "stream",
          "text": [
            "\n",
            "Epoch 69 validation: val_loss: 444.8530, val_abstention_rate: 0.0413, val_valid_accuracy: 0.7993, val_correct_abstentions: 0.0567, val_incorrect_abstentions: 0.0000\n"
          ]
        },
        {
          "metadata": {
            "tags": null
          },
          "name": "stderr",
          "output_type": "stream",
          "text": [
            "Epoch 71/80: 100%|██████████| 1125/1125 [00:27<00:00, 40.41it/s, train_loss=591, train_abstention_rate=0.128, train_valid_accuracy=0.75, train_correct_abstentions=0.132, train_incorrect_abstentions=0.000313]\n"
          ]
        },
        {
          "metadata": {
            "tags": null
          },
          "name": "stdout",
          "output_type": "stream",
          "text": [
            "\n",
            "Epoch 70 validation: val_loss: 492.7272, val_abstention_rate: 0.1435, val_valid_accuracy: 0.8914, val_correct_abstentions: 0.1447, val_incorrect_abstentions: 0.0000\n"
          ]
        },
        {
          "metadata": {
            "tags": null
          },
          "name": "stderr",
          "output_type": "stream",
          "text": [
            "Epoch 72/80: 100%|██████████| 1125/1125 [00:27<00:00, 40.26it/s, train_loss=1.27e+3, train_abstention_rate=0.0672, train_valid_accuracy=0.635, train_correct_abstentions=0.11, train_incorrect_abstentions=0.000313]\n"
          ]
        },
        {
          "metadata": {
            "tags": null
          },
          "name": "stdout",
          "output_type": "stream",
          "text": [
            "\n",
            "Epoch 71 validation: val_loss: 1203.0011, val_abstention_rate: 0.1363, val_valid_accuracy: 0.6828, val_correct_abstentions: 0.1358, val_incorrect_abstentions: 0.0005\n"
          ]
        },
        {
          "metadata": {
            "tags": null
          },
          "name": "stderr",
          "output_type": "stream",
          "text": [
            "Epoch 73/80: 100%|██████████| 1125/1125 [00:27<00:00, 40.31it/s, train_loss=539, train_abstention_rate=0.0875, train_valid_accuracy=0.662, train_correct_abstentions=0.102, train_incorrect_abstentions=0]\n"
          ]
        },
        {
          "metadata": {
            "tags": null
          },
          "name": "stdout",
          "output_type": "stream",
          "text": [
            "\n",
            "Epoch 72 validation: val_loss: 418.8625, val_abstention_rate: 0.1562, val_valid_accuracy: 0.7913, val_correct_abstentions: 0.1557, val_incorrect_abstentions: 0.0005\n"
          ]
        },
        {
          "metadata": {
            "tags": null
          },
          "name": "stderr",
          "output_type": "stream",
          "text": [
            "Epoch 74/80: 100%|██████████| 1125/1125 [00:27<00:00, 40.44it/s, train_loss=955, train_abstention_rate=0.09, train_valid_accuracy=0.58, train_correct_abstentions=0.125, train_incorrect_abstentions=0.000313]\n"
          ]
        },
        {
          "metadata": {
            "tags": null
          },
          "name": "stdout",
          "output_type": "stream",
          "text": [
            "\n",
            "Epoch 73 validation: val_loss: 487.2063, val_abstention_rate: 0.0112, val_valid_accuracy: 0.4461, val_correct_abstentions: 0.0391, val_incorrect_abstentions: 0.0000\n"
          ]
        },
        {
          "metadata": {
            "tags": null
          },
          "name": "stderr",
          "output_type": "stream",
          "text": [
            "Epoch 75/80: 100%|██████████| 1125/1125 [00:27<00:00, 40.25it/s, train_loss=430, train_abstention_rate=0.107, train_valid_accuracy=0.736, train_correct_abstentions=0.127, train_incorrect_abstentions=0.000313]\n"
          ]
        },
        {
          "metadata": {
            "tags": null
          },
          "name": "stdout",
          "output_type": "stream",
          "text": [
            "\n",
            "Epoch 74 validation: val_loss: 386.2260, val_abstention_rate: 0.1232, val_valid_accuracy: 0.7879, val_correct_abstentions: 0.1242, val_incorrect_abstentions: 0.0000\n"
          ]
        },
        {
          "metadata": {
            "tags": null
          },
          "name": "stderr",
          "output_type": "stream",
          "text": [
            "Epoch 76/80: 100%|██████████| 1125/1125 [00:27<00:00, 40.24it/s, train_loss=297, train_abstention_rate=0.107, train_valid_accuracy=0.793, train_correct_abstentions=0.125, train_incorrect_abstentions=0.000313]\n"
          ]
        },
        {
          "metadata": {
            "tags": null
          },
          "name": "stdout",
          "output_type": "stream",
          "text": [
            "\n",
            "Epoch 75 validation: val_loss: 484.2606, val_abstention_rate: 0.1635, val_valid_accuracy: 0.8273, val_correct_abstentions: 0.1635, val_incorrect_abstentions: 0.0000\n"
          ]
        },
        {
          "metadata": {
            "tags": null
          },
          "name": "stderr",
          "output_type": "stream",
          "text": [
            "Epoch 77/80: 100%|██████████| 1125/1125 [00:28<00:00, 40.13it/s, train_loss=630, train_abstention_rate=0.0953, train_valid_accuracy=0.748, train_correct_abstentions=0.12, train_incorrect_abstentions=0.000313]\n"
          ]
        },
        {
          "metadata": {
            "tags": null
          },
          "name": "stdout",
          "output_type": "stream",
          "text": [
            "\n",
            "Epoch 76 validation: val_loss: 485.6089, val_abstention_rate: 0.1133, val_valid_accuracy: 0.6366, val_correct_abstentions: 0.1142, val_incorrect_abstentions: 0.0018\n"
          ]
        },
        {
          "metadata": {
            "tags": null
          },
          "name": "stderr",
          "output_type": "stream",
          "text": [
            "Epoch 78/80: 100%|██████████| 1125/1125 [00:28<00:00, 40.18it/s, train_loss=1.08e+3, train_abstention_rate=0.11, train_valid_accuracy=0.694, train_correct_abstentions=0.117, train_incorrect_abstentions=0]\n"
          ]
        },
        {
          "metadata": {
            "tags": null
          },
          "name": "stdout",
          "output_type": "stream",
          "text": [
            "\n",
            "Epoch 77 validation: val_loss: 1452.9843, val_abstention_rate: 0.0865, val_valid_accuracy: 0.7002, val_correct_abstentions: 0.0894, val_incorrect_abstentions: 0.0000\n"
          ]
        },
        {
          "metadata": {
            "tags": null
          },
          "name": "stderr",
          "output_type": "stream",
          "text": [
            "Epoch 79/80: 100%|██████████| 1125/1125 [00:28<00:00, 40.08it/s, train_loss=703, train_abstention_rate=0.107, train_valid_accuracy=0.743, train_correct_abstentions=0.124, train_incorrect_abstentions=0]\n"
          ]
        },
        {
          "metadata": {
            "tags": null
          },
          "name": "stdout",
          "output_type": "stream",
          "text": [
            "\n",
            "Epoch 78 validation: val_loss: 402.5305, val_abstention_rate: 0.1195, val_valid_accuracy: 0.8181, val_correct_abstentions: 0.1224, val_incorrect_abstentions: 0.0000\n"
          ]
        },
        {
          "metadata": {
            "tags": null
          },
          "name": "stderr",
          "output_type": "stream",
          "text": [
            "Epoch 80/80: 100%|██████████| 1125/1125 [00:27<00:00, 40.41it/s, train_loss=577, train_abstention_rate=0.0919, train_valid_accuracy=0.559, train_correct_abstentions=0.113, train_incorrect_abstentions=0.000625]\n"
          ]
        },
        {
          "metadata": {
            "tags": null
          },
          "name": "stdout",
          "output_type": "stream",
          "text": [
            "\n",
            "Epoch 79 validation: val_loss: 2656.7253, val_abstention_rate: 0.1450, val_valid_accuracy: 0.8500, val_correct_abstentions: 0.1450, val_incorrect_abstentions: 0.0000\n",
            "\n",
            "Performing landscape analysis for epoch 79 on base_adam...\n",
            "Computing Lipschitz surface...\n",
            "Completed 1/20 LLC rows\n",
            "Completed 6/20 LLC rows\n",
            "Completed 11/20 LLC rows\n",
            "Completed 16/20 LLC rows\n",
            "Computing Distance to Decision Boundary surface...\n",
            "Computing loss surface...\n",
            "Completed 1/20 rows\n",
            "Completed 6/20 rows\n",
            "Completed 11/20 rows\n",
            "Completed 16/20 rows\n",
            "Saved landscape visualization to experiment_results/landscapes/base_adam/landscape_epoch_79_base_adam_random.png\n",
            "Computing Lipschitz surface...\n",
            "Completed 1/20 LLC rows\n",
            "Completed 6/20 LLC rows\n",
            "Completed 11/20 LLC rows\n",
            "Completed 16/20 LLC rows\n",
            "Computing Distance to Decision Boundary surface...\n",
            "Computing loss surface...\n",
            "Completed 1/20 rows\n",
            "Completed 6/20 rows\n",
            "Completed 11/20 rows\n",
            "Completed 16/20 rows\n",
            "Saved landscape visualization to experiment_results/landscapes/base_adam/landscape_epoch_79_base_adam_pca.png\n",
            "  [Landscape] Alpha Sharpness: 133328320.0000\n",
            "  [Landscape] Top Eigenvalues:\n",
            "    λ1: 318380096.0000\n",
            "    λ2: 41331388.0000\n",
            "    λ3: 26872410.0000\n",
            "  [Landscape] Multiscale Sharpness:\n",
            "    alpha_0.1: 64206920.0000\n",
            "    alpha_0.01: 140992.7656\n",
            "    alpha_0.001: 1140.9318\n",
            "  [Landscape] Valley Asymmetry: 1399.4690\n",
            "Training input_space_adv model:\n",
            "Trainer settings:\n",
            " {'model': ArithmeticNet(\n",
            "  (num_embedder): Linear(in_features=2, out_features=128, bias=True)\n",
            "  (op_embedding): Embedding(3, 128)\n",
            "  (layer1): Linear(in_features=256, out_features=128, bias=True)\n",
            "  (layer2): Linear(in_features=128, out_features=128, bias=True)\n",
            "  (layer3): Linear(in_features=128, out_features=64, bias=True)\n",
            "  (output): Linear(in_features=64, out_features=1, bias=True)\n",
            "), 'optimizer': Adam (\n",
            "Parameter Group 0\n",
            "    amsgrad: False\n",
            "    betas: (0.9, 0.999)\n",
            "    capturable: False\n",
            "    differentiable: False\n",
            "    eps: 1e-08\n",
            "    foreach: None\n",
            "    fused: None\n",
            "    lr: 0.001\n",
            "    maximize: False\n",
            "    weight_decay: 0\n",
            "), 'criterion': MSELoss(), 'scheduler': <torch.optim.lr_scheduler.ReduceLROnPlateau object at 0x799ccd7da390>, 'loss_computer': <__main__.UnifiedLossComputer object at 0x799ccd7a49d0>, 'tracker': <__main__.UnifiedTracker object at 0x799ccd503f10>, 'epsilon': 0.1, 'steps': 2, 'adv_ratio': 0.1}\n"
          ]
        },
        {
          "metadata": {
            "tags": null
          },
          "name": "stderr",
          "output_type": "stream",
          "text": [
            "Epoch 1/80: 100%|██████████| 1125/1125 [00:29<00:00, 37.97it/s, train_loss=4.12e+4, train_abstention_rate=0.0103, train_valid_accuracy=0.0145, train_correct_abstentions=0.0231, train_incorrect_abstentions=0.0147]\n"
          ]
        },
        {
          "metadata": {
            "tags": null
          },
          "name": "stdout",
          "output_type": "stream",
          "text": [
            "\n",
            "Epoch 0 validation: val_loss: 38967.2499, val_abstention_rate: 0.0045, val_valid_accuracy: 0.0044, val_correct_abstentions: 0.0375, val_incorrect_abstentions: 0.0000\n"
          ]
        },
        {
          "metadata": {
            "tags": null
          },
          "name": "stderr",
          "output_type": "stream",
          "text": [
            "Epoch 2/80: 100%|██████████| 1125/1125 [00:29<00:00, 37.64it/s, train_loss=2.62e+4, train_abstention_rate=0.00531, train_valid_accuracy=0.0186, train_correct_abstentions=0.0272, train_incorrect_abstentions=0.00844]\n"
          ]
        },
        {
          "metadata": {
            "tags": null
          },
          "name": "stdout",
          "output_type": "stream",
          "text": [
            "\n",
            "Epoch 1 validation: val_loss: 17667.5486, val_abstention_rate: 0.0092, val_valid_accuracy: 0.0337, val_correct_abstentions: 0.0333, val_incorrect_abstentions: 0.0052\n"
          ]
        },
        {
          "metadata": {
            "tags": null
          },
          "name": "stderr",
          "output_type": "stream",
          "text": [
            "Epoch 3/80: 100%|██████████| 1125/1125 [00:29<00:00, 37.52it/s, train_loss=1.75e+4, train_abstention_rate=0.00594, train_valid_accuracy=0.0602, train_correct_abstentions=0.0306, train_incorrect_abstentions=0.00344]\n"
          ]
        },
        {
          "metadata": {
            "tags": null
          },
          "name": "stdout",
          "output_type": "stream",
          "text": [
            "\n",
            "Epoch 2 validation: val_loss: 12805.0182, val_abstention_rate: 0.0008, val_valid_accuracy: 0.1313, val_correct_abstentions: 0.0312, val_incorrect_abstentions: 0.0000\n"
          ]
        },
        {
          "metadata": {
            "tags": null
          },
          "name": "stderr",
          "output_type": "stream",
          "text": [
            "Epoch 4/80: 100%|██████████| 1125/1125 [00:29<00:00, 37.78it/s, train_loss=1.82e+4, train_abstention_rate=0.00406, train_valid_accuracy=0.0475, train_correct_abstentions=0.0325, train_incorrect_abstentions=0.00156]\n"
          ]
        },
        {
          "metadata": {
            "tags": null
          },
          "name": "stdout",
          "output_type": "stream",
          "text": [
            "\n",
            "Epoch 3 validation: val_loss: 18387.6091, val_abstention_rate: 0.0063, val_valid_accuracy: 0.0310, val_correct_abstentions: 0.0355, val_incorrect_abstentions: 0.0000\n"
          ]
        },
        {
          "metadata": {
            "tags": null
          },
          "name": "stderr",
          "output_type": "stream",
          "text": [
            "Epoch 5/80: 100%|██████████| 1125/1125 [00:30<00:00, 37.46it/s, train_loss=1.88e+4, train_abstention_rate=0.00344, train_valid_accuracy=0.0571, train_correct_abstentions=0.0322, train_incorrect_abstentions=0.00156]\n"
          ]
        },
        {
          "metadata": {
            "tags": null
          },
          "name": "stdout",
          "output_type": "stream",
          "text": [
            "\n",
            "Epoch 4 validation: val_loss: 12092.4036, val_abstention_rate: 0.0075, val_valid_accuracy: 0.0845, val_correct_abstentions: 0.0375, val_incorrect_abstentions: 0.0000\n"
          ]
        },
        {
          "metadata": {
            "tags": null
          },
          "name": "stderr",
          "output_type": "stream",
          "text": [
            "Epoch 6/80: 100%|██████████| 1125/1125 [00:29<00:00, 37.74it/s, train_loss=2.34e+4, train_abstention_rate=0.00375, train_valid_accuracy=0.0402, train_correct_abstentions=0.0325, train_incorrect_abstentions=0.00156]\n"
          ]
        },
        {
          "metadata": {
            "tags": null
          },
          "name": "stdout",
          "output_type": "stream",
          "text": [
            "\n",
            "Epoch 5 validation: val_loss: 19341.1437, val_abstention_rate: 0.0032, val_valid_accuracy: 0.0772, val_correct_abstentions: 0.0288, val_incorrect_abstentions: 0.0024\n"
          ]
        },
        {
          "metadata": {
            "tags": null
          },
          "name": "stderr",
          "output_type": "stream",
          "text": [
            "Epoch 7/80: 100%|██████████| 1125/1125 [00:30<00:00, 37.47it/s, train_loss=1.21e+4, train_abstention_rate=0.00625, train_valid_accuracy=0.0524, train_correct_abstentions=0.0328, train_incorrect_abstentions=0.00156]\n"
          ]
        },
        {
          "metadata": {
            "tags": null
          },
          "name": "stdout",
          "output_type": "stream",
          "text": [
            "\n",
            "Epoch 6 validation: val_loss: 9506.2434, val_abstention_rate: 0.0080, val_valid_accuracy: 0.0552, val_correct_abstentions: 0.0333, val_incorrect_abstentions: 0.0000\n"
          ]
        },
        {
          "metadata": {
            "tags": null
          },
          "name": "stderr",
          "output_type": "stream",
          "text": [
            "Epoch 8/80: 100%|██████████| 1125/1125 [00:30<00:00, 37.39it/s, train_loss=1.19e+4, train_abstention_rate=0.00937, train_valid_accuracy=0.0894, train_correct_abstentions=0.0353, train_incorrect_abstentions=0.00156]\n"
          ]
        },
        {
          "metadata": {
            "tags": null
          },
          "name": "stdout",
          "output_type": "stream",
          "text": [
            "\n",
            "Epoch 7 validation: val_loss: 10732.9455, val_abstention_rate: 0.0090, val_valid_accuracy: 0.0647, val_correct_abstentions: 0.0341, val_incorrect_abstentions: 0.0000\n"
          ]
        },
        {
          "metadata": {
            "tags": null
          },
          "name": "stderr",
          "output_type": "stream",
          "text": [
            "Epoch 9/80: 100%|██████████| 1125/1125 [00:30<00:00, 37.39it/s, train_loss=1.34e+4, train_abstention_rate=0.00875, train_valid_accuracy=0.0718, train_correct_abstentions=0.0334, train_incorrect_abstentions=0.0025]\n"
          ]
        },
        {
          "metadata": {
            "tags": null
          },
          "name": "stdout",
          "output_type": "stream",
          "text": [
            "\n",
            "Epoch 8 validation: val_loss: 22763.1648, val_abstention_rate: 0.0063, val_valid_accuracy: 0.0894, val_correct_abstentions: 0.0256, val_incorrect_abstentions: 0.0099\n"
          ]
        },
        {
          "metadata": {
            "tags": null
          },
          "name": "stderr",
          "output_type": "stream",
          "text": [
            "Epoch 10/80: 100%|██████████| 1125/1125 [00:29<00:00, 37.51it/s, train_loss=9.94e+3, train_abstention_rate=0.00937, train_valid_accuracy=0.063, train_correct_abstentions=0.0334, train_incorrect_abstentions=0.00125]\n"
          ]
        },
        {
          "metadata": {
            "tags": null
          },
          "name": "stdout",
          "output_type": "stream",
          "text": [
            "\n",
            "Epoch 9 validation: val_loss: 9034.3835, val_abstention_rate: 0.0015, val_valid_accuracy: 0.0191, val_correct_abstentions: 0.0312, val_incorrect_abstentions: 0.0000\n"
          ]
        },
        {
          "metadata": {
            "tags": null
          },
          "name": "stderr",
          "output_type": "stream",
          "text": [
            "Epoch 11/80: 100%|██████████| 1125/1125 [00:30<00:00, 37.42it/s, train_loss=9.66e+3, train_abstention_rate=0.00531, train_valid_accuracy=0.108, train_correct_abstentions=0.0325, train_incorrect_abstentions=0.00187]\n"
          ]
        },
        {
          "metadata": {
            "tags": null
          },
          "name": "stdout",
          "output_type": "stream",
          "text": [
            "\n",
            "Epoch 10 validation: val_loss: 7738.3032, val_abstention_rate: 0.0088, val_valid_accuracy: 0.1930, val_correct_abstentions: 0.0303, val_incorrect_abstentions: 0.0039\n"
          ]
        },
        {
          "metadata": {
            "tags": null
          },
          "name": "stderr",
          "output_type": "stream",
          "text": [
            "Epoch 12/80: 100%|██████████| 1125/1125 [00:30<00:00, 37.35it/s, train_loss=8.07e+3, train_abstention_rate=0.0106, train_valid_accuracy=0.0937, train_correct_abstentions=0.0378, train_incorrect_abstentions=0.000937]\n"
          ]
        },
        {
          "metadata": {
            "tags": null
          },
          "name": "stdout",
          "output_type": "stream",
          "text": [
            "\n",
            "Epoch 11 validation: val_loss: 13354.0495, val_abstention_rate: 0.0083, val_valid_accuracy: 0.0546, val_correct_abstentions: 0.0208, val_incorrect_abstentions: 0.0174\n"
          ]
        },
        {
          "metadata": {
            "tags": null
          },
          "name": "stderr",
          "output_type": "stream",
          "text": [
            "Epoch 13/80: 100%|██████████| 1125/1125 [00:29<00:00, 37.58it/s, train_loss=1.05e+4, train_abstention_rate=0.00562, train_valid_accuracy=0.0898, train_correct_abstentions=0.0322, train_incorrect_abstentions=0.00187]\n"
          ]
        },
        {
          "metadata": {
            "tags": null
          },
          "name": "stdout",
          "output_type": "stream",
          "text": [
            "\n",
            "Epoch 12 validation: val_loss: 6743.9388, val_abstention_rate: 0.0205, val_valid_accuracy: 0.1603, val_correct_abstentions: 0.0436, val_incorrect_abstentions: 0.0005\n"
          ]
        },
        {
          "metadata": {
            "tags": null
          },
          "name": "stderr",
          "output_type": "stream",
          "text": [
            "Epoch 14/80: 100%|██████████| 1125/1125 [00:30<00:00, 37.38it/s, train_loss=1.22e+4, train_abstention_rate=0.00844, train_valid_accuracy=0.111, train_correct_abstentions=0.0362, train_incorrect_abstentions=0.000937]\n"
          ]
        },
        {
          "metadata": {
            "tags": null
          },
          "name": "stdout",
          "output_type": "stream",
          "text": [
            "\n",
            "Epoch 13 validation: val_loss: 4953.4402, val_abstention_rate: 0.0060, val_valid_accuracy: 0.0508, val_correct_abstentions: 0.0357, val_incorrect_abstentions: 0.0000\n"
          ]
        },
        {
          "metadata": {
            "tags": null
          },
          "name": "stderr",
          "output_type": "stream",
          "text": [
            "Epoch 15/80: 100%|██████████| 1125/1125 [00:30<00:00, 37.20it/s, train_loss=1.23e+4, train_abstention_rate=0.00719, train_valid_accuracy=0.0792, train_correct_abstentions=0.0366, train_incorrect_abstentions=0.00187]\n"
          ]
        },
        {
          "metadata": {
            "tags": null
          },
          "name": "stdout",
          "output_type": "stream",
          "text": [
            "\n",
            "Epoch 14 validation: val_loss: 7746.1117, val_abstention_rate: 0.0022, val_valid_accuracy: 0.0380, val_correct_abstentions: 0.0069, val_incorrect_abstentions: 0.0243\n"
          ]
        },
        {
          "metadata": {
            "tags": null
          },
          "name": "stderr",
          "output_type": "stream",
          "text": [
            "Epoch 16/80: 100%|██████████| 1125/1125 [00:30<00:00, 37.03it/s, train_loss=1.1e+4, train_abstention_rate=0.00688, train_valid_accuracy=0.0762, train_correct_abstentions=0.0362, train_incorrect_abstentions=0.00344]\n"
          ]
        },
        {
          "metadata": {
            "tags": null
          },
          "name": "stdout",
          "output_type": "stream",
          "text": [
            "\n",
            "Epoch 15 validation: val_loss: 13547.3699, val_abstention_rate: 0.0152, val_valid_accuracy: 0.1873, val_correct_abstentions: 0.0383, val_incorrect_abstentions: 0.0006\n"
          ]
        },
        {
          "metadata": {
            "tags": null
          },
          "name": "stderr",
          "output_type": "stream",
          "text": [
            "Epoch 17/80: 100%|██████████| 1125/1125 [00:30<00:00, 37.22it/s, train_loss=8.81e+3, train_abstention_rate=0.00813, train_valid_accuracy=0.203, train_correct_abstentions=0.0372, train_incorrect_abstentions=0.00156]\n"
          ]
        },
        {
          "metadata": {
            "tags": null
          },
          "name": "stdout",
          "output_type": "stream",
          "text": [
            "\n",
            "Epoch 16 validation: val_loss: 10045.3576, val_abstention_rate: 0.0037, val_valid_accuracy: 0.0756, val_correct_abstentions: 0.0335, val_incorrect_abstentions: 0.0000\n"
          ]
        },
        {
          "metadata": {
            "tags": null
          },
          "name": "stderr",
          "output_type": "stream",
          "text": [
            "Epoch 18/80: 100%|██████████| 1125/1125 [00:30<00:00, 37.18it/s, train_loss=5.66e+3, train_abstention_rate=0.0159, train_valid_accuracy=0.28, train_correct_abstentions=0.0394, train_incorrect_abstentions=0.000937]\n"
          ]
        },
        {
          "metadata": {
            "tags": null
          },
          "name": "stdout",
          "output_type": "stream",
          "text": [
            "\n",
            "Epoch 17 validation: val_loss: 5035.1022, val_abstention_rate: 0.0267, val_valid_accuracy: 0.3119, val_correct_abstentions: 0.0452, val_incorrect_abstentions: 0.0000\n"
          ]
        },
        {
          "metadata": {
            "tags": null
          },
          "name": "stderr",
          "output_type": "stream",
          "text": [
            "Epoch 19/80: 100%|██████████| 1125/1125 [00:30<00:00, 37.08it/s, train_loss=5.59e+3, train_abstention_rate=0.0119, train_valid_accuracy=0.173, train_correct_abstentions=0.0359, train_incorrect_abstentions=0.00187]\n"
          ]
        },
        {
          "metadata": {
            "tags": null
          },
          "name": "stdout",
          "output_type": "stream",
          "text": [
            "\n",
            "Epoch 18 validation: val_loss: 4834.9681, val_abstention_rate: 0.0158, val_valid_accuracy: 0.1601, val_correct_abstentions: 0.0352, val_incorrect_abstentions: 0.0000\n"
          ]
        },
        {
          "metadata": {
            "tags": null
          },
          "name": "stderr",
          "output_type": "stream",
          "text": [
            "Epoch 20/80: 100%|██████████| 1125/1125 [00:30<00:00, 37.19it/s, train_loss=1.05e+4, train_abstention_rate=0.00781, train_valid_accuracy=0.197, train_correct_abstentions=0.0344, train_incorrect_abstentions=0.0025]\n"
          ]
        },
        {
          "metadata": {
            "tags": null
          },
          "name": "stdout",
          "output_type": "stream",
          "text": [
            "\n",
            "Epoch 19 validation: val_loss: 5792.3826, val_abstention_rate: 0.0100, val_valid_accuracy: 0.0671, val_correct_abstentions: 0.0342, val_incorrect_abstentions: 0.0049\n"
          ]
        },
        {
          "metadata": {
            "tags": null
          },
          "name": "stderr",
          "output_type": "stream",
          "text": [
            "Epoch 21/80: 100%|██████████| 1125/1125 [00:30<00:00, 37.07it/s, train_loss=9.88e+3, train_abstention_rate=0.00906, train_valid_accuracy=0.106, train_correct_abstentions=0.0362, train_incorrect_abstentions=0.0025]\n"
          ]
        },
        {
          "metadata": {
            "tags": null
          },
          "name": "stdout",
          "output_type": "stream",
          "text": [
            "\n",
            "Epoch 20 validation: val_loss: 7279.2435, val_abstention_rate: 0.0125, val_valid_accuracy: 0.1652, val_correct_abstentions: 0.0341, val_incorrect_abstentions: 0.0014\n"
          ]
        },
        {
          "metadata": {
            "tags": null
          },
          "name": "stderr",
          "output_type": "stream",
          "text": [
            "Epoch 22/80: 100%|██████████| 1125/1125 [00:30<00:00, 37.22it/s, train_loss=6.27e+3, train_abstention_rate=0.0172, train_valid_accuracy=0.261, train_correct_abstentions=0.0419, train_incorrect_abstentions=0.00187]\n"
          ]
        },
        {
          "metadata": {
            "tags": null
          },
          "name": "stdout",
          "output_type": "stream",
          "text": [
            "\n",
            "Epoch 21 validation: val_loss: 5982.2686, val_abstention_rate: 0.0065, val_valid_accuracy: 0.2697, val_correct_abstentions: 0.0353, val_incorrect_abstentions: 0.0000\n"
          ]
        },
        {
          "metadata": {
            "tags": null
          },
          "name": "stderr",
          "output_type": "stream",
          "text": [
            "Epoch 23/80: 100%|██████████| 1125/1125 [00:30<00:00, 36.96it/s, train_loss=5.55e+3, train_abstention_rate=0.0178, train_valid_accuracy=0.247, train_correct_abstentions=0.0428, train_incorrect_abstentions=0.000625]\n"
          ]
        },
        {
          "metadata": {
            "tags": null
          },
          "name": "stdout",
          "output_type": "stream",
          "text": [
            "\n",
            "Epoch 22 validation: val_loss: 8164.6128, val_abstention_rate: 0.0035, val_valid_accuracy: 0.1987, val_correct_abstentions: 0.0246, val_incorrect_abstentions: 0.0067\n"
          ]
        },
        {
          "metadata": {
            "tags": null
          },
          "name": "stderr",
          "output_type": "stream",
          "text": [
            "Epoch 24/80: 100%|██████████| 1125/1125 [00:30<00:00, 37.17it/s, train_loss=7.22e+3, train_abstention_rate=0.00875, train_valid_accuracy=0.188, train_correct_abstentions=0.0409, train_incorrect_abstentions=0]\n"
          ]
        },
        {
          "metadata": {
            "tags": null
          },
          "name": "stdout",
          "output_type": "stream",
          "text": [
            "\n",
            "Epoch 23 validation: val_loss: 5140.2672, val_abstention_rate: 0.0110, val_valid_accuracy: 0.3616, val_correct_abstentions: 0.0366, val_incorrect_abstentions: 0.0027\n"
          ]
        },
        {
          "metadata": {
            "tags": null
          },
          "name": "stderr",
          "output_type": "stream",
          "text": [
            "Epoch 25/80: 100%|██████████| 1125/1125 [00:30<00:00, 37.15it/s, train_loss=1.06e+4, train_abstention_rate=0.00906, train_valid_accuracy=0.138, train_correct_abstentions=0.0381, train_incorrect_abstentions=0.00187]\n"
          ]
        },
        {
          "metadata": {
            "tags": null
          },
          "name": "stdout",
          "output_type": "stream",
          "text": [
            "\n",
            "Epoch 24 validation: val_loss: 4093.3112, val_abstention_rate: 0.0215, val_valid_accuracy: 0.0474, val_correct_abstentions: 0.0448, val_incorrect_abstentions: 0.0000\n"
          ]
        },
        {
          "metadata": {
            "tags": null
          },
          "name": "stderr",
          "output_type": "stream",
          "text": [
            "Epoch 26/80: 100%|██████████| 1125/1125 [00:30<00:00, 37.15it/s, train_loss=3.8e+3, train_abstention_rate=0.0172, train_valid_accuracy=0.235, train_correct_abstentions=0.0387, train_incorrect_abstentions=0.000937]\n"
          ]
        },
        {
          "metadata": {
            "tags": null
          },
          "name": "stdout",
          "output_type": "stream",
          "text": [
            "\n",
            "Epoch 25 validation: val_loss: 8642.0682, val_abstention_rate: 0.0333, val_valid_accuracy: 0.2376, val_correct_abstentions: 0.0533, val_incorrect_abstentions: 0.0000\n"
          ]
        },
        {
          "metadata": {
            "tags": null
          },
          "name": "stderr",
          "output_type": "stream",
          "text": [
            "Epoch 27/80: 100%|██████████| 1125/1125 [00:30<00:00, 37.11it/s, train_loss=1.04e+4, train_abstention_rate=0.0141, train_valid_accuracy=0.108, train_correct_abstentions=0.0378, train_incorrect_abstentions=0.00187]\n"
          ]
        },
        {
          "metadata": {
            "tags": null
          },
          "name": "stdout",
          "output_type": "stream",
          "text": [
            "\n",
            "Epoch 26 validation: val_loss: 5888.2038, val_abstention_rate: 0.0132, val_valid_accuracy: 0.1642, val_correct_abstentions: 0.0355, val_incorrect_abstentions: 0.0021\n"
          ]
        },
        {
          "metadata": {
            "tags": null
          },
          "name": "stderr",
          "output_type": "stream",
          "text": [
            "Epoch 28/80: 100%|██████████| 1125/1125 [00:30<00:00, 36.88it/s, train_loss=6.67e+3, train_abstention_rate=0.0156, train_valid_accuracy=0.177, train_correct_abstentions=0.0375, train_incorrect_abstentions=0.00187]\n"
          ]
        },
        {
          "metadata": {
            "tags": null
          },
          "name": "stdout",
          "output_type": "stream",
          "text": [
            "\n",
            "Epoch 27 validation: val_loss: 10634.9278, val_abstention_rate: 0.0077, val_valid_accuracy: 0.1787, val_correct_abstentions: 0.0373, val_incorrect_abstentions: 0.0000\n"
          ]
        },
        {
          "metadata": {
            "tags": null
          },
          "name": "stderr",
          "output_type": "stream",
          "text": [
            "Epoch 29/80: 100%|██████████| 1125/1125 [00:30<00:00, 37.10it/s, train_loss=5.2e+3, train_abstention_rate=0.0109, train_valid_accuracy=0.145, train_correct_abstentions=0.0359, train_incorrect_abstentions=0.00219]\n"
          ]
        },
        {
          "metadata": {
            "tags": null
          },
          "name": "stdout",
          "output_type": "stream",
          "text": [
            "\n",
            "Epoch 28 validation: val_loss: 4521.9501, val_abstention_rate: 0.0083, val_valid_accuracy: 0.1694, val_correct_abstentions: 0.0323, val_incorrect_abstentions: 0.0021\n"
          ]
        },
        {
          "metadata": {
            "tags": null
          },
          "name": "stderr",
          "output_type": "stream",
          "text": [
            "Epoch 30/80: 100%|██████████| 1125/1125 [00:30<00:00, 37.36it/s, train_loss=1.19e+4, train_abstention_rate=0.0112, train_valid_accuracy=0.244, train_correct_abstentions=0.0359, train_incorrect_abstentions=0.000313]\n"
          ]
        },
        {
          "metadata": {
            "tags": null
          },
          "name": "stdout",
          "output_type": "stream",
          "text": [
            "\n",
            "Epoch 29 validation: val_loss: 5456.6854, val_abstention_rate: 0.0205, val_valid_accuracy: 0.2149, val_correct_abstentions: 0.0427, val_incorrect_abstentions: 0.0000\n"
          ]
        },
        {
          "metadata": {
            "tags": null
          },
          "name": "stderr",
          "output_type": "stream",
          "text": [
            "Epoch 31/80: 100%|██████████| 1125/1125 [00:30<00:00, 36.90it/s, train_loss=7.59e+3, train_abstention_rate=0.0138, train_valid_accuracy=0.15, train_correct_abstentions=0.0422, train_incorrect_abstentions=0.000937]\n"
          ]
        },
        {
          "metadata": {
            "tags": null
          },
          "name": "stdout",
          "output_type": "stream",
          "text": [
            "\n",
            "Epoch 30 validation: val_loss: 15491.2686, val_abstention_rate: 0.0000, val_valid_accuracy: 0.0486\n"
          ]
        },
        {
          "metadata": {
            "tags": null
          },
          "name": "stderr",
          "output_type": "stream",
          "text": [
            "Epoch 32/80: 100%|██████████| 1125/1125 [00:30<00:00, 37.12it/s, train_loss=3.44e+3, train_abstention_rate=0.0178, train_valid_accuracy=0.251, train_correct_abstentions=0.0469, train_incorrect_abstentions=0.00125]\n"
          ]
        },
        {
          "metadata": {
            "tags": null
          },
          "name": "stdout",
          "output_type": "stream",
          "text": [
            "\n",
            "Epoch 31 validation: val_loss: 3100.1366, val_abstention_rate: 0.0230, val_valid_accuracy: 0.3199, val_correct_abstentions: 0.0449, val_incorrect_abstentions: 0.0000\n"
          ]
        },
        {
          "metadata": {
            "tags": null
          },
          "name": "stderr",
          "output_type": "stream",
          "text": [
            "Epoch 33/80: 100%|██████████| 1125/1125 [00:30<00:00, 37.01it/s, train_loss=6.77e+3, train_abstention_rate=0.00906, train_valid_accuracy=0.232, train_correct_abstentions=0.0437, train_incorrect_abstentions=0.00125]\n"
          ]
        },
        {
          "metadata": {
            "tags": null
          },
          "name": "stdout",
          "output_type": "stream",
          "text": [
            "\n",
            "Epoch 32 validation: val_loss: 7302.0318, val_abstention_rate: 0.0100, val_valid_accuracy: 0.0322, val_correct_abstentions: 0.0304, val_incorrect_abstentions: 0.0034\n"
          ]
        },
        {
          "metadata": {
            "tags": null
          },
          "name": "stderr",
          "output_type": "stream",
          "text": [
            "Epoch 34/80: 100%|██████████| 1125/1125 [00:30<00:00, 37.19it/s, train_loss=5.27e+3, train_abstention_rate=0.0219, train_valid_accuracy=0.228, train_correct_abstentions=0.0478, train_incorrect_abstentions=0.00125]\n"
          ]
        },
        {
          "metadata": {
            "tags": null
          },
          "name": "stdout",
          "output_type": "stream",
          "text": [
            "\n",
            "Epoch 33 validation: val_loss: 7137.8585, val_abstention_rate: 0.0045, val_valid_accuracy: 0.0906, val_correct_abstentions: 0.0312, val_incorrect_abstentions: 0.0018\n"
          ]
        },
        {
          "metadata": {
            "tags": null
          },
          "name": "stderr",
          "output_type": "stream",
          "text": [
            "Epoch 35/80: 100%|██████████| 1125/1125 [00:30<00:00, 37.21it/s, train_loss=4.65e+3, train_abstention_rate=0.0156, train_valid_accuracy=0.197, train_correct_abstentions=0.0434, train_incorrect_abstentions=0.00219]\n"
          ]
        },
        {
          "metadata": {
            "tags": null
          },
          "name": "stdout",
          "output_type": "stream",
          "text": [
            "\n",
            "Epoch 34 validation: val_loss: 10691.6854, val_abstention_rate: 0.0270, val_valid_accuracy: 0.1514, val_correct_abstentions: 0.0449, val_incorrect_abstentions: 0.0026\n"
          ]
        },
        {
          "metadata": {
            "tags": null
          },
          "name": "stderr",
          "output_type": "stream",
          "text": [
            "Epoch 36/80: 100%|██████████| 1125/1125 [00:30<00:00, 37.10it/s, train_loss=3.15e+3, train_abstention_rate=0.0209, train_valid_accuracy=0.401, train_correct_abstentions=0.0453, train_incorrect_abstentions=0.00125]\n"
          ]
        },
        {
          "metadata": {
            "tags": null
          },
          "name": "stdout",
          "output_type": "stream",
          "text": [
            "\n",
            "Epoch 35 validation: val_loss: 4561.5411, val_abstention_rate: 0.0262, val_valid_accuracy: 0.4127, val_correct_abstentions: 0.0462, val_incorrect_abstentions: 0.0000\n"
          ]
        },
        {
          "metadata": {
            "tags": null
          },
          "name": "stderr",
          "output_type": "stream",
          "text": [
            "Epoch 37/80: 100%|██████████| 1125/1125 [00:30<00:00, 37.05it/s, train_loss=3.29e+3, train_abstention_rate=0.0147, train_valid_accuracy=0.259, train_correct_abstentions=0.0428, train_incorrect_abstentions=0.00125]\n"
          ]
        },
        {
          "metadata": {
            "tags": null
          },
          "name": "stdout",
          "output_type": "stream",
          "text": [
            "\n",
            "Epoch 36 validation: val_loss: 5318.1192, val_abstention_rate: 0.0227, val_valid_accuracy: 0.2664, val_correct_abstentions: 0.0395, val_incorrect_abstentions: 0.0023\n"
          ]
        },
        {
          "metadata": {
            "tags": null
          },
          "name": "stderr",
          "output_type": "stream",
          "text": [
            "Epoch 38/80: 100%|██████████| 1125/1125 [00:30<00:00, 37.12it/s, train_loss=3.82e+3, train_abstention_rate=0.0228, train_valid_accuracy=0.33, train_correct_abstentions=0.0441, train_incorrect_abstentions=0.000937]\n"
          ]
        },
        {
          "metadata": {
            "tags": null
          },
          "name": "stdout",
          "output_type": "stream",
          "text": [
            "\n",
            "Epoch 37 validation: val_loss: 5255.5949, val_abstention_rate: 0.0100, val_valid_accuracy: 0.0706, val_correct_abstentions: 0.0357, val_incorrect_abstentions: 0.0000\n"
          ]
        },
        {
          "metadata": {
            "tags": null
          },
          "name": "stderr",
          "output_type": "stream",
          "text": [
            "Epoch 39/80: 100%|██████████| 1125/1125 [00:30<00:00, 37.18it/s, train_loss=1.84e+3, train_abstention_rate=0.0303, train_valid_accuracy=0.527, train_correct_abstentions=0.0559, train_incorrect_abstentions=0.000313]\n"
          ]
        },
        {
          "metadata": {
            "tags": null
          },
          "name": "stdout",
          "output_type": "stream",
          "text": [
            "\n",
            "Epoch 38 validation: val_loss: 2278.0242, val_abstention_rate: 0.0437, val_valid_accuracy: 0.3988, val_correct_abstentions: 0.0570, val_incorrect_abstentions: 0.0000\n"
          ]
        },
        {
          "metadata": {
            "tags": null
          },
          "name": "stderr",
          "output_type": "stream",
          "text": [
            "Epoch 40/80: 100%|██████████| 1125/1125 [00:30<00:00, 36.93it/s, train_loss=2.82e+3, train_abstention_rate=0.03, train_valid_accuracy=0.453, train_correct_abstentions=0.0528, train_incorrect_abstentions=0.00125]\n"
          ]
        },
        {
          "metadata": {
            "tags": null
          },
          "name": "stdout",
          "output_type": "stream",
          "text": [
            "\n",
            "Epoch 39 validation: val_loss: 2493.4124, val_abstention_rate: 0.0540, val_valid_accuracy: 0.6077, val_correct_abstentions: 0.0653, val_incorrect_abstentions: 0.0009\n"
          ]
        },
        {
          "metadata": {
            "tags": null
          },
          "name": "stderr",
          "output_type": "stream",
          "text": [
            "Epoch 41/80: 100%|██████████| 1125/1125 [00:30<00:00, 36.94it/s, train_loss=2.1e+3, train_abstention_rate=0.0534, train_valid_accuracy=0.478, train_correct_abstentions=0.0719, train_incorrect_abstentions=0]\n"
          ]
        },
        {
          "metadata": {
            "tags": null
          },
          "name": "stdout",
          "output_type": "stream",
          "text": [
            "\n",
            "Epoch 40 validation: val_loss: 1746.3885, val_abstention_rate: 0.0083, val_valid_accuracy: 0.2824, val_correct_abstentions: 0.0357, val_incorrect_abstentions: 0.0011\n"
          ]
        },
        {
          "metadata": {
            "tags": null
          },
          "name": "stderr",
          "output_type": "stream",
          "text": [
            "Epoch 42/80: 100%|██████████| 1125/1125 [00:30<00:00, 37.09it/s, train_loss=1.97e+3, train_abstention_rate=0.0366, train_valid_accuracy=0.499, train_correct_abstentions=0.0578, train_incorrect_abstentions=0.000937]\n"
          ]
        },
        {
          "metadata": {
            "tags": null
          },
          "name": "stdout",
          "output_type": "stream",
          "text": [
            "\n",
            "Epoch 41 validation: val_loss: 1898.5026, val_abstention_rate: 0.0803, val_valid_accuracy: 0.2404, val_correct_abstentions: 0.0879, val_incorrect_abstentions: 0.0008\n"
          ]
        },
        {
          "metadata": {
            "tags": null
          },
          "name": "stderr",
          "output_type": "stream",
          "text": [
            "Epoch 43/80: 100%|██████████| 1125/1125 [00:30<00:00, 36.93it/s, train_loss=1.01e+3, train_abstention_rate=0.0488, train_valid_accuracy=0.425, train_correct_abstentions=0.0684, train_incorrect_abstentions=0.000313]\n"
          ]
        },
        {
          "metadata": {
            "tags": null
          },
          "name": "stdout",
          "output_type": "stream",
          "text": [
            "\n",
            "Epoch 42 validation: val_loss: 6586.1910, val_abstention_rate: 0.1008, val_valid_accuracy: 0.6854, val_correct_abstentions: 0.1042, val_incorrect_abstentions: 0.0008\n"
          ]
        },
        {
          "metadata": {
            "tags": null
          },
          "name": "stderr",
          "output_type": "stream",
          "text": [
            "Epoch 44/80: 100%|██████████| 1125/1125 [00:30<00:00, 37.24it/s, train_loss=2.36e+3, train_abstention_rate=0.0306, train_valid_accuracy=0.351, train_correct_abstentions=0.0628, train_incorrect_abstentions=0.000313]\n"
          ]
        },
        {
          "metadata": {
            "tags": null
          },
          "name": "stdout",
          "output_type": "stream",
          "text": [
            "\n",
            "Epoch 43 validation: val_loss: 1221.0643, val_abstention_rate: 0.0173, val_valid_accuracy: 0.2868, val_correct_abstentions: 0.0357, val_incorrect_abstentions: 0.0028\n"
          ]
        },
        {
          "metadata": {
            "tags": null
          },
          "name": "stderr",
          "output_type": "stream",
          "text": [
            "Epoch 45/80: 100%|██████████| 1125/1125 [00:30<00:00, 37.04it/s, train_loss=1.87e+3, train_abstention_rate=0.04, train_valid_accuracy=0.515, train_correct_abstentions=0.0628, train_incorrect_abstentions=0.00125]\n"
          ]
        },
        {
          "metadata": {
            "tags": null
          },
          "name": "stdout",
          "output_type": "stream",
          "text": [
            "\n",
            "Epoch 44 validation: val_loss: 1491.4734, val_abstention_rate: 0.1103, val_valid_accuracy: 0.6667, val_correct_abstentions: 0.1146, val_incorrect_abstentions: 0.0003\n"
          ]
        },
        {
          "metadata": {
            "tags": null
          },
          "name": "stderr",
          "output_type": "stream",
          "text": [
            "Epoch 46/80: 100%|██████████| 1125/1125 [00:30<00:00, 37.12it/s, train_loss=2.04e+3, train_abstention_rate=0.0341, train_valid_accuracy=0.36, train_correct_abstentions=0.0584, train_incorrect_abstentions=0.00156]\n"
          ]
        },
        {
          "metadata": {
            "tags": null
          },
          "name": "stdout",
          "output_type": "stream",
          "text": [
            "\n",
            "Epoch 45 validation: val_loss: 2672.9751, val_abstention_rate: 0.0418, val_valid_accuracy: 0.5974, val_correct_abstentions: 0.0536, val_incorrect_abstentions: 0.0013\n"
          ]
        },
        {
          "metadata": {
            "tags": null
          },
          "name": "stderr",
          "output_type": "stream",
          "text": [
            "Epoch 47/80: 100%|██████████| 1125/1125 [00:30<00:00, 37.11it/s, train_loss=1.51e+3, train_abstention_rate=0.0484, train_valid_accuracy=0.442, train_correct_abstentions=0.0659, train_incorrect_abstentions=0.000937]\n"
          ]
        },
        {
          "metadata": {
            "tags": null
          },
          "name": "stdout",
          "output_type": "stream",
          "text": [
            "\n",
            "Epoch 46 validation: val_loss: 2636.1773, val_abstention_rate: 0.0735, val_valid_accuracy: 0.2725, val_correct_abstentions: 0.0806, val_incorrect_abstentions: 0.0000\n"
          ]
        },
        {
          "metadata": {
            "tags": null
          },
          "name": "stderr",
          "output_type": "stream",
          "text": [
            "Epoch 48/80: 100%|██████████| 1125/1125 [00:30<00:00, 36.85it/s, train_loss=2.17e+3, train_abstention_rate=0.0469, train_valid_accuracy=0.483, train_correct_abstentions=0.0681, train_incorrect_abstentions=0]\n"
          ]
        },
        {
          "metadata": {
            "tags": null
          },
          "name": "stdout",
          "output_type": "stream",
          "text": [
            "\n",
            "Epoch 47 validation: val_loss: 1343.2131, val_abstention_rate: 0.1187, val_valid_accuracy: 0.7546, val_correct_abstentions: 0.1199, val_incorrect_abstentions: 0.0008\n"
          ]
        },
        {
          "metadata": {
            "tags": null
          },
          "name": "stderr",
          "output_type": "stream",
          "text": [
            "Epoch 49/80: 100%|██████████| 1125/1125 [00:30<00:00, 37.01it/s, train_loss=3.18e+3, train_abstention_rate=0.0512, train_valid_accuracy=0.38, train_correct_abstentions=0.0838, train_incorrect_abstentions=0.00125]\n"
          ]
        },
        {
          "metadata": {
            "tags": null
          },
          "name": "stdout",
          "output_type": "stream",
          "text": [
            "\n",
            "Epoch 48 validation: val_loss: 2409.2037, val_abstention_rate: 0.0173, val_valid_accuracy: 0.1688, val_correct_abstentions: 0.0385, val_incorrect_abstentions: 0.0000\n"
          ]
        },
        {
          "metadata": {
            "tags": null
          },
          "name": "stderr",
          "output_type": "stream",
          "text": [
            "Epoch 50/80: 100%|██████████| 1125/1125 [00:30<00:00, 36.99it/s, train_loss=1.9e+3, train_abstention_rate=0.0387, train_valid_accuracy=0.454, train_correct_abstentions=0.0553, train_incorrect_abstentions=0.00187]\n"
          ]
        },
        {
          "metadata": {
            "tags": null
          },
          "name": "stdout",
          "output_type": "stream",
          "text": [
            "\n",
            "Epoch 49 validation: val_loss: 2057.9998, val_abstention_rate: 0.0210, val_valid_accuracy: 0.4368, val_correct_abstentions: 0.0384, val_incorrect_abstentions: 0.0014\n"
          ]
        },
        {
          "output_type": "stream",
          "name": "stderr",
          "text": [
            "Epoch 51/80: 100%|██████████| 1125/1125 [00:30<00:00, 36.64it/s, train_loss=1.63e+3, train_abstention_rate=0.0806, train_valid_accuracy=0.685, train_correct_abstentions=0.0912, train_incorrect_abstentions=0.000625]\n"
          ]
        },
        {
          "output_type": "stream",
          "name": "stdout",
          "text": [
            "\n",
            "Epoch 50 validation: val_loss: 1056.0582, val_abstention_rate: 0.1283, val_valid_accuracy: 0.6580, val_correct_abstentions: 0.1283, val_incorrect_abstentions: 0.0010\n"
          ]
        },
        {
          "output_type": "stream",
          "name": "stderr",
          "text": [
            "Epoch 52/80: 100%|██████████| 1125/1125 [00:30<00:00, 37.19it/s, train_loss=1.12e+3, train_abstention_rate=0.0772, train_valid_accuracy=0.558, train_correct_abstentions=0.103, train_incorrect_abstentions=0]\n"
          ]
        },
        {
          "output_type": "stream",
          "name": "stdout",
          "text": [
            "\n",
            "Epoch 51 validation: val_loss: 1271.7875, val_abstention_rate: 0.0880, val_valid_accuracy: 0.6900, val_correct_abstentions: 0.0909, val_incorrect_abstentions: 0.0008\n"
          ]
        },
        {
          "output_type": "stream",
          "name": "stderr",
          "text": [
            "Epoch 53/80: 100%|██████████| 1125/1125 [00:30<00:00, 36.87it/s, train_loss=1.35e+3, train_abstention_rate=0.0625, train_valid_accuracy=0.404, train_correct_abstentions=0.0816, train_incorrect_abstentions=0.000625]\n"
          ]
        },
        {
          "output_type": "stream",
          "name": "stdout",
          "text": [
            "\n",
            "Epoch 52 validation: val_loss: 1226.0755, val_abstention_rate: 0.0350, val_valid_accuracy: 0.6153, val_correct_abstentions: 0.0521, val_incorrect_abstentions: 0.0000\n"
          ]
        },
        {
          "output_type": "stream",
          "name": "stderr",
          "text": [
            "Epoch 54/80: 100%|██████████| 1125/1125 [00:30<00:00, 37.17it/s, train_loss=1.22e+3, train_abstention_rate=0.0709, train_valid_accuracy=0.644, train_correct_abstentions=0.0866, train_incorrect_abstentions=0.000313]\n"
          ]
        },
        {
          "output_type": "stream",
          "name": "stdout",
          "text": [
            "\n",
            "Epoch 53 validation: val_loss: 2524.3190, val_abstention_rate: 0.0047, val_valid_accuracy: 0.4221, val_correct_abstentions: 0.0330, val_incorrect_abstentions: 0.0000\n"
          ]
        },
        {
          "output_type": "stream",
          "name": "stderr",
          "text": [
            "Epoch 55/80: 100%|██████████| 1125/1125 [00:30<00:00, 37.02it/s, train_loss=1.58e+3, train_abstention_rate=0.102, train_valid_accuracy=0.65, train_correct_abstentions=0.118, train_incorrect_abstentions=0.000313]\n"
          ]
        },
        {
          "output_type": "stream",
          "name": "stdout",
          "text": [
            "\n",
            "Epoch 54 validation: val_loss: 1610.9931, val_abstention_rate: 0.0097, val_valid_accuracy: 0.5267, val_correct_abstentions: 0.0260, val_incorrect_abstentions: 0.0078\n"
          ]
        },
        {
          "output_type": "stream",
          "name": "stderr",
          "text": [
            "Epoch 56/80: 100%|██████████| 1125/1125 [00:30<00:00, 37.11it/s, train_loss=1.28e+3, train_abstention_rate=0.0656, train_valid_accuracy=0.523, train_correct_abstentions=0.0934, train_incorrect_abstentions=0]\n"
          ]
        },
        {
          "output_type": "stream",
          "name": "stdout",
          "text": [
            "\n",
            "Epoch 55 validation: val_loss: 945.7693, val_abstention_rate: 0.0712, val_valid_accuracy: 0.4318, val_correct_abstentions: 0.0781, val_incorrect_abstentions: 0.0000\n"
          ]
        },
        {
          "output_type": "stream",
          "name": "stderr",
          "text": [
            "Epoch 57/80: 100%|██████████| 1125/1125 [00:30<00:00, 37.14it/s, train_loss=1.3e+3, train_abstention_rate=0.0494, train_valid_accuracy=0.551, train_correct_abstentions=0.0988, train_incorrect_abstentions=0.000937]\n"
          ]
        },
        {
          "output_type": "stream",
          "name": "stdout",
          "text": [
            "\n",
            "Epoch 56 validation: val_loss: 933.3637, val_abstention_rate: 0.1320, val_valid_accuracy: 0.7853, val_correct_abstentions: 0.1331, val_incorrect_abstentions: 0.0000\n"
          ]
        },
        {
          "output_type": "stream",
          "name": "stderr",
          "text": [
            "Epoch 58/80: 100%|██████████| 1125/1125 [00:30<00:00, 37.22it/s, train_loss=1.77e+3, train_abstention_rate=0.0659, train_valid_accuracy=0.682, train_correct_abstentions=0.0909, train_incorrect_abstentions=0.00125]\n"
          ]
        },
        {
          "output_type": "stream",
          "name": "stdout",
          "text": [
            "\n",
            "Epoch 57 validation: val_loss: 1506.0673, val_abstention_rate: 0.1145, val_valid_accuracy: 0.5668, val_correct_abstentions: 0.1171, val_incorrect_abstentions: 0.0003\n"
          ]
        },
        {
          "output_type": "stream",
          "name": "stderr",
          "text": [
            "Epoch 59/80: 100%|██████████| 1125/1125 [00:30<00:00, 37.20it/s, train_loss=2.23e+3, train_abstention_rate=0.0628, train_valid_accuracy=0.622, train_correct_abstentions=0.0853, train_incorrect_abstentions=0.000313]\n"
          ]
        },
        {
          "output_type": "stream",
          "name": "stdout",
          "text": [
            "\n",
            "Epoch 58 validation: val_loss: 703.4503, val_abstention_rate: 0.1182, val_valid_accuracy: 0.7719, val_correct_abstentions: 0.1206, val_incorrect_abstentions: 0.0005\n"
          ]
        },
        {
          "output_type": "stream",
          "name": "stderr",
          "text": [
            "Epoch 60/80: 100%|██████████| 1125/1125 [00:30<00:00, 36.98it/s, train_loss=955, train_abstention_rate=0.0622, train_valid_accuracy=0.603, train_correct_abstentions=0.0784, train_incorrect_abstentions=0.000937]\n"
          ]
        },
        {
          "output_type": "stream",
          "name": "stdout",
          "text": [
            "\n",
            "Epoch 59 validation: val_loss: 802.5581, val_abstention_rate: 0.0115, val_valid_accuracy: 0.2899, val_correct_abstentions: 0.0270, val_incorrect_abstentions: 0.0118\n"
          ]
        },
        {
          "output_type": "stream",
          "name": "stderr",
          "text": [
            "Epoch 61/80: 100%|██████████| 1125/1125 [00:30<00:00, 37.11it/s, train_loss=1.25e+3, train_abstention_rate=0.045, train_valid_accuracy=0.48, train_correct_abstentions=0.08, train_incorrect_abstentions=0.00125]\n"
          ]
        },
        {
          "output_type": "stream",
          "name": "stdout",
          "text": [
            "\n",
            "Epoch 60 validation: val_loss: 734.3439, val_abstention_rate: 0.0362, val_valid_accuracy: 0.4849, val_correct_abstentions: 0.0518, val_incorrect_abstentions: 0.0015\n"
          ]
        },
        {
          "output_type": "stream",
          "name": "stderr",
          "text": [
            "Epoch 62/80: 100%|██████████| 1125/1125 [00:30<00:00, 36.99it/s, train_loss=954, train_abstention_rate=0.0966, train_valid_accuracy=0.667, train_correct_abstentions=0.114, train_incorrect_abstentions=0.000625]\n"
          ]
        },
        {
          "output_type": "stream",
          "name": "stdout",
          "text": [
            "\n",
            "Epoch 61 validation: val_loss: 735.3696, val_abstention_rate: 0.0270, val_valid_accuracy: 0.6062, val_correct_abstentions: 0.0464, val_incorrect_abstentions: 0.0004\n"
          ]
        },
        {
          "output_type": "stream",
          "name": "stderr",
          "text": [
            "Epoch 63/80: 100%|██████████| 1125/1125 [00:30<00:00, 37.00it/s, train_loss=1.08e+3, train_abstention_rate=0.0753, train_valid_accuracy=0.476, train_correct_abstentions=0.1, train_incorrect_abstentions=0.000625]\n"
          ]
        },
        {
          "output_type": "stream",
          "name": "stdout",
          "text": [
            "\n",
            "Epoch 62 validation: val_loss: 735.7020, val_abstention_rate: 0.0727, val_valid_accuracy: 0.5317, val_correct_abstentions: 0.0765, val_incorrect_abstentions: 0.0019\n"
          ]
        },
        {
          "output_type": "stream",
          "name": "stderr",
          "text": [
            "Epoch 64/80: 100%|██████████| 1125/1125 [00:30<00:00, 37.12it/s, train_loss=2.18e+3, train_abstention_rate=0.0559, train_valid_accuracy=0.583, train_correct_abstentions=0.0831, train_incorrect_abstentions=0.000625]\n"
          ]
        },
        {
          "output_type": "stream",
          "name": "stdout",
          "text": [
            "\n",
            "Epoch 63 validation: val_loss: 1470.1059, val_abstention_rate: 0.0360, val_valid_accuracy: 0.3735, val_correct_abstentions: 0.0472, val_incorrect_abstentions: 0.0017\n"
          ]
        },
        {
          "output_type": "stream",
          "name": "stderr",
          "text": [
            "Epoch 65/80: 100%|██████████| 1125/1125 [00:30<00:00, 36.90it/s, train_loss=882, train_abstention_rate=0.0712, train_valid_accuracy=0.56, train_correct_abstentions=0.0784, train_incorrect_abstentions=0.000313]\n"
          ]
        },
        {
          "output_type": "stream",
          "name": "stdout",
          "text": [
            "\n",
            "Epoch 64 validation: val_loss: 1371.5195, val_abstention_rate: 0.0140, val_valid_accuracy: 0.2028, val_correct_abstentions: 0.0331, val_incorrect_abstentions: 0.0012\n"
          ]
        },
        {
          "output_type": "stream",
          "name": "stderr",
          "text": [
            "Epoch 66/80: 100%|██████████| 1125/1125 [00:30<00:00, 36.90it/s, train_loss=852, train_abstention_rate=0.0988, train_valid_accuracy=0.667, train_correct_abstentions=0.119, train_incorrect_abstentions=0.00156]\n"
          ]
        },
        {
          "output_type": "stream",
          "name": "stdout",
          "text": [
            "\n",
            "Epoch 65 validation: val_loss: 652.8808, val_abstention_rate: 0.1278, val_valid_accuracy: 0.4221, val_correct_abstentions: 0.1288, val_incorrect_abstentions: 0.0000\n"
          ]
        },
        {
          "output_type": "stream",
          "name": "stderr",
          "text": [
            "Epoch 67/80: 100%|██████████| 1125/1125 [00:30<00:00, 36.98it/s, train_loss=815, train_abstention_rate=0.0959, train_valid_accuracy=0.691, train_correct_abstentions=0.105, train_incorrect_abstentions=0.00125]\n"
          ]
        },
        {
          "output_type": "stream",
          "name": "stdout",
          "text": [
            "\n",
            "Epoch 66 validation: val_loss: 807.4120, val_abstention_rate: 0.0297, val_valid_accuracy: 0.5275, val_correct_abstentions: 0.0463, val_incorrect_abstentions: 0.0008\n"
          ]
        },
        {
          "output_type": "stream",
          "name": "stderr",
          "text": [
            "Epoch 68/80: 100%|██████████| 1125/1125 [00:30<00:00, 37.01it/s, train_loss=669, train_abstention_rate=0.102, train_valid_accuracy=0.796, train_correct_abstentions=0.108, train_incorrect_abstentions=0.000313]\n"
          ]
        },
        {
          "output_type": "stream",
          "name": "stdout",
          "text": [
            "\n",
            "Epoch 67 validation: val_loss: 547.0370, val_abstention_rate: 0.0245, val_valid_accuracy: 0.7197, val_correct_abstentions: 0.0421, val_incorrect_abstentions: 0.0023\n"
          ]
        },
        {
          "output_type": "stream",
          "name": "stderr",
          "text": [
            "Epoch 69/80: 100%|██████████| 1125/1125 [00:30<00:00, 37.05it/s, train_loss=915, train_abstention_rate=0.0644, train_valid_accuracy=0.722, train_correct_abstentions=0.0844, train_incorrect_abstentions=0.00125]\n"
          ]
        },
        {
          "output_type": "stream",
          "name": "stdout",
          "text": [
            "\n",
            "Epoch 68 validation: val_loss: 512.0655, val_abstention_rate: 0.0290, val_valid_accuracy: 0.6942, val_correct_abstentions: 0.0453, val_incorrect_abstentions: 0.0012\n"
          ]
        },
        {
          "output_type": "stream",
          "name": "stderr",
          "text": [
            "Epoch 70/80: 100%|██████████| 1125/1125 [00:30<00:00, 36.88it/s, train_loss=921, train_abstention_rate=0.0794, train_valid_accuracy=0.612, train_correct_abstentions=0.0928, train_incorrect_abstentions=0.000313]\n"
          ]
        },
        {
          "output_type": "stream",
          "name": "stdout",
          "text": [
            "\n",
            "Epoch 69 validation: val_loss: 558.1057, val_abstention_rate: 0.1170, val_valid_accuracy: 0.8140, val_correct_abstentions: 0.1198, val_incorrect_abstentions: 0.0010\n"
          ]
        },
        {
          "output_type": "stream",
          "name": "stderr",
          "text": [
            "Epoch 71/80: 100%|██████████| 1125/1125 [00:30<00:00, 36.90it/s, train_loss=631, train_abstention_rate=0.0869, train_valid_accuracy=0.66, train_correct_abstentions=0.104, train_incorrect_abstentions=0.000313]\n"
          ]
        },
        {
          "output_type": "stream",
          "name": "stdout",
          "text": [
            "\n",
            "Epoch 70 validation: val_loss: 820.8744, val_abstention_rate: 0.1395, val_valid_accuracy: 0.8293, val_correct_abstentions: 0.1408, val_incorrect_abstentions: 0.0010\n"
          ]
        },
        {
          "output_type": "stream",
          "name": "stderr",
          "text": [
            "Epoch 72/80: 100%|██████████| 1125/1125 [00:30<00:00, 36.75it/s, train_loss=1.12e+3, train_abstention_rate=0.0844, train_valid_accuracy=0.74, train_correct_abstentions=0.0988, train_incorrect_abstentions=0.00156]\n"
          ]
        },
        {
          "output_type": "stream",
          "name": "stdout",
          "text": [
            "\n",
            "Epoch 71 validation: val_loss: 662.7972, val_abstention_rate: 0.0840, val_valid_accuracy: 0.7066, val_correct_abstentions: 0.0887, val_incorrect_abstentions: 0.0003\n"
          ]
        },
        {
          "output_type": "stream",
          "name": "stderr",
          "text": [
            "Epoch 73/80: 100%|██████████| 1125/1125 [00:30<00:00, 36.92it/s, train_loss=1.12e+3, train_abstention_rate=0.0816, train_valid_accuracy=0.648, train_correct_abstentions=0.117, train_incorrect_abstentions=0.00156]\n"
          ]
        },
        {
          "output_type": "stream",
          "name": "stdout",
          "text": [
            "\n",
            "Epoch 72 validation: val_loss: 705.4869, val_abstention_rate: 0.0230, val_valid_accuracy: 0.7185, val_correct_abstentions: 0.0436, val_incorrect_abstentions: 0.0000\n"
          ]
        },
        {
          "output_type": "stream",
          "name": "stderr",
          "text": [
            "Epoch 74/80: 100%|██████████| 1125/1125 [00:30<00:00, 36.90it/s, train_loss=1.15e+3, train_abstention_rate=0.0481, train_valid_accuracy=0.581, train_correct_abstentions=0.0884, train_incorrect_abstentions=0.000937]\n"
          ]
        },
        {
          "output_type": "stream",
          "name": "stdout",
          "text": [
            "\n",
            "Epoch 73 validation: val_loss: 621.9702, val_abstention_rate: 0.0525, val_valid_accuracy: 0.6936, val_correct_abstentions: 0.0637, val_incorrect_abstentions: 0.0000\n"
          ]
        },
        {
          "output_type": "stream",
          "name": "stderr",
          "text": [
            "Epoch 75/80: 100%|██████████| 1125/1125 [00:30<00:00, 36.87it/s, train_loss=576, train_abstention_rate=0.1, train_valid_accuracy=0.726, train_correct_abstentions=0.108, train_incorrect_abstentions=0.00156]\n"
          ]
        },
        {
          "output_type": "stream",
          "name": "stdout",
          "text": [
            "\n",
            "Epoch 74 validation: val_loss: 370.2412, val_abstention_rate: 0.1400, val_valid_accuracy: 0.8053, val_correct_abstentions: 0.1404, val_incorrect_abstentions: 0.0008\n"
          ]
        },
        {
          "output_type": "stream",
          "name": "stderr",
          "text": [
            "Epoch 76/80: 100%|██████████| 1125/1125 [00:30<00:00, 37.08it/s, train_loss=585, train_abstention_rate=0.0878, train_valid_accuracy=0.773, train_correct_abstentions=0.0931, train_incorrect_abstentions=0.000313]\n"
          ]
        },
        {
          "output_type": "stream",
          "name": "stdout",
          "text": [
            "\n",
            "Epoch 75 validation: val_loss: 382.9400, val_abstention_rate: 0.1260, val_valid_accuracy: 0.8994, val_correct_abstentions: 0.1268, val_incorrect_abstentions: 0.0013\n"
          ]
        },
        {
          "output_type": "stream",
          "name": "stderr",
          "text": [
            "Epoch 77/80: 100%|██████████| 1125/1125 [00:30<00:00, 36.75it/s, train_loss=1.55e+3, train_abstention_rate=0.0838, train_valid_accuracy=0.625, train_correct_abstentions=0.11, train_incorrect_abstentions=0.00125]\n"
          ]
        },
        {
          "output_type": "stream",
          "name": "stdout",
          "text": [
            "\n",
            "Epoch 76 validation: val_loss: 3581.8822, val_abstention_rate: 0.0085, val_valid_accuracy: 0.2805, val_correct_abstentions: 0.0254, val_incorrect_abstentions: 0.0078\n"
          ]
        },
        {
          "output_type": "stream",
          "name": "stderr",
          "text": [
            "Epoch 78/80: 100%|██████████| 1125/1125 [00:30<00:00, 36.88it/s, train_loss=320, train_abstention_rate=0.127, train_valid_accuracy=0.778, train_correct_abstentions=0.134, train_incorrect_abstentions=0.000313]\n"
          ]
        },
        {
          "output_type": "stream",
          "name": "stdout",
          "text": [
            "\n",
            "Epoch 77 validation: val_loss: 371.0580, val_abstention_rate: 0.0675, val_valid_accuracy: 0.8157, val_correct_abstentions: 0.0744, val_incorrect_abstentions: 0.0003\n"
          ]
        },
        {
          "output_type": "stream",
          "name": "stderr",
          "text": [
            "Epoch 79/80: 100%|██████████| 1125/1125 [00:30<00:00, 36.92it/s, train_loss=596, train_abstention_rate=0.0769, train_valid_accuracy=0.647, train_correct_abstentions=0.108, train_incorrect_abstentions=0.000937]\n"
          ]
        },
        {
          "output_type": "stream",
          "name": "stdout",
          "text": [
            "\n",
            "Epoch 78 validation: val_loss: 680.7531, val_abstention_rate: 0.1507, val_valid_accuracy: 0.8230, val_correct_abstentions: 0.1492, val_incorrect_abstentions: 0.0015\n"
          ]
        },
        {
          "output_type": "stream",
          "name": "stderr",
          "text": [
            "Epoch 80/80: 100%|██████████| 1125/1125 [00:30<00:00, 36.76it/s, train_loss=818, train_abstention_rate=0.104, train_valid_accuracy=0.775, train_correct_abstentions=0.117, train_incorrect_abstentions=0]\n"
          ]
        },
        {
          "output_type": "stream",
          "name": "stdout",
          "text": [
            "\n",
            "Epoch 79 validation: val_loss: 632.0640, val_abstention_rate: 0.0978, val_valid_accuracy: 0.8105, val_correct_abstentions: 0.1007, val_incorrect_abstentions: 0.0003\n",
            "\n",
            "Performing landscape analysis for epoch 79 on input_space_adv...\n",
            "Computing Lipschitz surface...\n",
            "Completed 1/20 LLC rows\n",
            "Completed 6/20 LLC rows\n",
            "Completed 11/20 LLC rows\n",
            "Completed 16/20 LLC rows\n",
            "Computing Distance to Decision Boundary surface...\n",
            "Computing loss surface...\n",
            "Completed 1/20 rows\n",
            "Completed 6/20 rows\n",
            "Completed 11/20 rows\n",
            "Completed 16/20 rows\n",
            "Saved landscape visualization to experiment_results/landscapes/input_space_adv/landscape_epoch_79_input_space_adv_random.png\n",
            "Computing Lipschitz surface...\n",
            "Completed 1/20 LLC rows\n",
            "Completed 6/20 LLC rows\n",
            "Completed 11/20 LLC rows\n",
            "Completed 16/20 LLC rows\n",
            "Computing Distance to Decision Boundary surface...\n",
            "Computing loss surface...\n",
            "Completed 1/20 rows\n",
            "Completed 6/20 rows\n",
            "Completed 11/20 rows\n",
            "Completed 16/20 rows\n",
            "Saved landscape visualization to experiment_results/landscapes/input_space_adv/landscape_epoch_79_input_space_adv_pca.png\n",
            "  [Landscape] Alpha Sharpness: 82599440.0000\n",
            "  [Landscape] Top Eigenvalues:\n",
            "    λ1: 217966608.0000\n",
            "    λ2: 45855936.0000\n",
            "    λ3: 37785876.0000\n",
            "  [Landscape] Multiscale Sharpness:\n",
            "    alpha_0.1: 170922240.0000\n",
            "    alpha_0.01: 97182.0781\n",
            "    alpha_0.001: 788.6077\n",
            "  [Landscape] Valley Asymmetry: 327.4940\n",
            "Training decay_control model:\n",
            "Trainer settings:\n",
            " {'model': ArithmeticNet(\n",
            "  (num_embedder): Linear(in_features=2, out_features=128, bias=True)\n",
            "  (op_embedding): Embedding(3, 128)\n",
            "  (layer1): Linear(in_features=256, out_features=128, bias=True)\n",
            "  (layer2): Linear(in_features=128, out_features=128, bias=True)\n",
            "  (layer3): Linear(in_features=128, out_features=64, bias=True)\n",
            "  (output): Linear(in_features=64, out_features=1, bias=True)\n",
            "), 'optimizer': Adam (\n",
            "Parameter Group 0\n",
            "    amsgrad: False\n",
            "    betas: (0.9, 0.999)\n",
            "    capturable: False\n",
            "    differentiable: False\n",
            "    eps: 1e-08\n",
            "    foreach: None\n",
            "    fused: None\n",
            "    lr: 0.001\n",
            "    maximize: False\n",
            "    weight_decay: 0.0001\n",
            "), 'criterion': MSELoss(), 'scheduler': <torch.optim.lr_scheduler.ReduceLROnPlateau object at 0x799cccc9a290>, 'loss_computer': <__main__.UnifiedLossComputer object at 0x799cccdb6310>, 'tracker': <__main__.UnifiedTracker object at 0x799cccedfa90>}\n"
          ]
        },
        {
          "output_type": "stream",
          "name": "stderr",
          "text": [
            "Epoch 1/80: 100%|██████████| 1125/1125 [00:27<00:00, 41.58it/s, train_loss=3.84e+4, train_abstention_rate=0.00625, train_valid_accuracy=0.00826, train_correct_abstentions=0.0238, train_incorrect_abstentions=0.0141]\n"
          ]
        },
        {
          "output_type": "stream",
          "name": "stdout",
          "text": [
            "\n",
            "Epoch 0 validation: val_loss: 32660.1357, val_abstention_rate: 0.0040, val_valid_accuracy: 0.0053, val_correct_abstentions: 0.0357, val_incorrect_abstentions: 0.0000\n"
          ]
        },
        {
          "output_type": "stream",
          "name": "stderr",
          "text": [
            "Epoch 2/80: 100%|██████████| 1125/1125 [00:27<00:00, 41.05it/s, train_loss=2.2e+4, train_abstention_rate=0.01, train_valid_accuracy=0.0294, train_correct_abstentions=0.0316, train_incorrect_abstentions=0.00375]\n"
          ]
        },
        {
          "output_type": "stream",
          "name": "stdout",
          "text": [
            "\n",
            "Epoch 1 validation: val_loss: 25186.7469, val_abstention_rate: 0.0080, val_valid_accuracy: 0.0046, val_correct_abstentions: 0.0345, val_incorrect_abstentions: 0.0000\n"
          ]
        },
        {
          "output_type": "stream",
          "name": "stderr",
          "text": [
            "Epoch 3/80: 100%|██████████| 1125/1125 [00:27<00:00, 40.99it/s, train_loss=1.8e+4, train_abstention_rate=0.00438, train_valid_accuracy=0.036, train_correct_abstentions=0.0378, train_incorrect_abstentions=0.00125]\n"
          ]
        },
        {
          "output_type": "stream",
          "name": "stdout",
          "text": [
            "\n",
            "Epoch 2 validation: val_loss: 15036.6671, val_abstention_rate: 0.0057, val_valid_accuracy: 0.0478, val_correct_abstentions: 0.0359, val_incorrect_abstentions: 0.0000\n"
          ]
        },
        {
          "output_type": "stream",
          "name": "stderr",
          "text": [
            "Epoch 4/80: 100%|██████████| 1125/1125 [00:27<00:00, 41.12it/s, train_loss=1.61e+4, train_abstention_rate=0.00469, train_valid_accuracy=0.0649, train_correct_abstentions=0.0328, train_incorrect_abstentions=0.00187]\n"
          ]
        },
        {
          "output_type": "stream",
          "name": "stdout",
          "text": [
            "\n",
            "Epoch 3 validation: val_loss: 17949.6659, val_abstention_rate: 0.0043, val_valid_accuracy: 0.0876, val_correct_abstentions: 0.0312, val_incorrect_abstentions: 0.0020\n"
          ]
        },
        {
          "output_type": "stream",
          "name": "stderr",
          "text": [
            "Epoch 5/80: 100%|██████████| 1125/1125 [00:27<00:00, 40.85it/s, train_loss=1.32e+4, train_abstention_rate=0.00781, train_valid_accuracy=0.07, train_correct_abstentions=0.0344, train_incorrect_abstentions=0.000625]\n"
          ]
        },
        {
          "output_type": "stream",
          "name": "stdout",
          "text": [
            "\n",
            "Epoch 4 validation: val_loss: 13937.6594, val_abstention_rate: 0.0010, val_valid_accuracy: 0.0305, val_correct_abstentions: 0.0312, val_incorrect_abstentions: 0.0000\n"
          ]
        },
        {
          "output_type": "stream",
          "name": "stderr",
          "text": [
            "Epoch 6/80: 100%|██████████| 1125/1125 [00:27<00:00, 41.04it/s, train_loss=1.17e+4, train_abstention_rate=0.00937, train_valid_accuracy=0.0931, train_correct_abstentions=0.0369, train_incorrect_abstentions=0.000625]\n"
          ]
        },
        {
          "output_type": "stream",
          "name": "stdout",
          "text": [
            "\n",
            "Epoch 5 validation: val_loss: 8124.2820, val_abstention_rate: 0.0053, val_valid_accuracy: 0.0351, val_correct_abstentions: 0.0281, val_incorrect_abstentions: 0.0047\n"
          ]
        },
        {
          "output_type": "stream",
          "name": "stderr",
          "text": [
            "Epoch 7/80: 100%|██████████| 1125/1125 [00:27<00:00, 41.16it/s, train_loss=1.11e+4, train_abstention_rate=0.0103, train_valid_accuracy=0.115, train_correct_abstentions=0.0362, train_incorrect_abstentions=0.00156]\n"
          ]
        },
        {
          "output_type": "stream",
          "name": "stdout",
          "text": [
            "\n",
            "Epoch 6 validation: val_loss: 6836.6118, val_abstention_rate: 0.0195, val_valid_accuracy: 0.1655, val_correct_abstentions: 0.0437, val_incorrect_abstentions: 0.0006\n"
          ]
        },
        {
          "output_type": "stream",
          "name": "stderr",
          "text": [
            "Epoch 8/80: 100%|██████████| 1125/1125 [00:27<00:00, 40.97it/s, train_loss=6.99e+3, train_abstention_rate=0.015, train_valid_accuracy=0.2, train_correct_abstentions=0.0406, train_incorrect_abstentions=0]\n"
          ]
        },
        {
          "output_type": "stream",
          "name": "stdout",
          "text": [
            "\n",
            "Epoch 7 validation: val_loss: 11459.1211, val_abstention_rate: 0.0110, val_valid_accuracy: 0.1296, val_correct_abstentions: 0.0363, val_incorrect_abstentions: 0.0008\n"
          ]
        },
        {
          "output_type": "stream",
          "name": "stderr",
          "text": [
            "Epoch 9/80: 100%|██████████| 1125/1125 [00:27<00:00, 41.03it/s, train_loss=1.99e+4, train_abstention_rate=0.00813, train_valid_accuracy=0.0634, train_correct_abstentions=0.0375, train_incorrect_abstentions=0.00219]\n"
          ]
        },
        {
          "output_type": "stream",
          "name": "stdout",
          "text": [
            "\n",
            "Epoch 8 validation: val_loss: 14859.1164, val_abstention_rate: 0.0140, val_valid_accuracy: 0.0610, val_correct_abstentions: 0.0407, val_incorrect_abstentions: 0.0000\n"
          ]
        },
        {
          "output_type": "stream",
          "name": "stderr",
          "text": [
            "Epoch 10/80: 100%|██████████| 1125/1125 [00:27<00:00, 40.91it/s, train_loss=6.79e+3, train_abstention_rate=0.0225, train_valid_accuracy=0.19, train_correct_abstentions=0.0488, train_incorrect_abstentions=0.000937]\n"
          ]
        },
        {
          "output_type": "stream",
          "name": "stdout",
          "text": [
            "\n",
            "Epoch 9 validation: val_loss: 3844.3961, val_abstention_rate: 0.0310, val_valid_accuracy: 0.1177, val_correct_abstentions: 0.0493, val_incorrect_abstentions: 0.0004\n"
          ]
        },
        {
          "output_type": "stream",
          "name": "stderr",
          "text": [
            "Epoch 11/80: 100%|██████████| 1125/1125 [00:27<00:00, 40.99it/s, train_loss=1.28e+4, train_abstention_rate=0.00719, train_valid_accuracy=0.151, train_correct_abstentions=0.0362, train_incorrect_abstentions=0.000625]\n"
          ]
        },
        {
          "output_type": "stream",
          "name": "stdout",
          "text": [
            "\n",
            "Epoch 10 validation: val_loss: 22417.5162, val_abstention_rate: 0.0060, val_valid_accuracy: 0.0303, val_correct_abstentions: 0.0213, val_incorrect_abstentions: 0.0128\n"
          ]
        },
        {
          "output_type": "stream",
          "name": "stderr",
          "text": [
            "Epoch 12/80: 100%|██████████| 1125/1125 [00:27<00:00, 41.13it/s, train_loss=1.03e+4, train_abstention_rate=0.01, train_valid_accuracy=0.121, train_correct_abstentions=0.0347, train_incorrect_abstentions=0.00375]\n"
          ]
        },
        {
          "output_type": "stream",
          "name": "stdout",
          "text": [
            "\n",
            "Epoch 11 validation: val_loss: 5820.4533, val_abstention_rate: 0.0005, val_valid_accuracy: 0.0045, val_correct_abstentions: 0.0312, val_incorrect_abstentions: 0.0000\n"
          ]
        },
        {
          "output_type": "stream",
          "name": "stderr",
          "text": [
            "Epoch 13/80: 100%|██████████| 1125/1125 [00:27<00:00, 41.05it/s, train_loss=6.77e+3, train_abstention_rate=0.0169, train_valid_accuracy=0.121, train_correct_abstentions=0.0425, train_incorrect_abstentions=0.000625]\n"
          ]
        },
        {
          "output_type": "stream",
          "name": "stdout",
          "text": [
            "\n",
            "Epoch 12 validation: val_loss: 5311.4307, val_abstention_rate: 0.0118, val_valid_accuracy: 0.1410, val_correct_abstentions: 0.0417, val_incorrect_abstentions: 0.0028\n"
          ]
        },
        {
          "output_type": "stream",
          "name": "stderr",
          "text": [
            "Epoch 14/80: 100%|██████████| 1125/1125 [00:27<00:00, 41.12it/s, train_loss=7.31e+3, train_abstention_rate=0.0147, train_valid_accuracy=0.13, train_correct_abstentions=0.0397, train_incorrect_abstentions=0.00219]\n"
          ]
        },
        {
          "output_type": "stream",
          "name": "stdout",
          "text": [
            "\n",
            "Epoch 13 validation: val_loss: 5987.5500, val_abstention_rate: 0.0090, val_valid_accuracy: 0.1875, val_correct_abstentions: 0.0331, val_incorrect_abstentions: 0.0000\n"
          ]
        },
        {
          "output_type": "stream",
          "name": "stderr",
          "text": [
            "Epoch 15/80: 100%|██████████| 1125/1125 [00:27<00:00, 40.87it/s, train_loss=5.53e+3, train_abstention_rate=0.0178, train_valid_accuracy=0.171, train_correct_abstentions=0.0366, train_incorrect_abstentions=0.00313]\n"
          ]
        },
        {
          "output_type": "stream",
          "name": "stdout",
          "text": [
            "\n",
            "Epoch 14 validation: val_loss: 3797.5341, val_abstention_rate: 0.0168, val_valid_accuracy: 0.3344, val_correct_abstentions: 0.0370, val_incorrect_abstentions: 0.0017\n"
          ]
        },
        {
          "output_type": "stream",
          "name": "stderr",
          "text": [
            "Epoch 16/80: 100%|██████████| 1125/1125 [00:27<00:00, 40.89it/s, train_loss=7.82e+3, train_abstention_rate=0.0106, train_valid_accuracy=0.125, train_correct_abstentions=0.0344, train_incorrect_abstentions=0.00219]\n"
          ]
        },
        {
          "output_type": "stream",
          "name": "stdout",
          "text": [
            "\n",
            "Epoch 15 validation: val_loss: 8734.7666, val_abstention_rate: 0.0083, val_valid_accuracy: 0.0544, val_correct_abstentions: 0.0344, val_incorrect_abstentions: 0.0000\n"
          ]
        },
        {
          "output_type": "stream",
          "name": "stderr",
          "text": [
            "Epoch 17/80: 100%|██████████| 1125/1125 [00:27<00:00, 40.88it/s, train_loss=6.03e+3, train_abstention_rate=0.0166, train_valid_accuracy=0.192, train_correct_abstentions=0.0403, train_incorrect_abstentions=0.000625]\n"
          ]
        },
        {
          "output_type": "stream",
          "name": "stdout",
          "text": [
            "\n",
            "Epoch 16 validation: val_loss: 8066.5540, val_abstention_rate: 0.0080, val_valid_accuracy: 0.0442, val_correct_abstentions: 0.0312, val_incorrect_abstentions: 0.0000\n"
          ]
        },
        {
          "output_type": "stream",
          "name": "stderr",
          "text": [
            "Epoch 18/80: 100%|██████████| 1125/1125 [00:27<00:00, 41.07it/s, train_loss=6.11e+3, train_abstention_rate=0.01, train_valid_accuracy=0.146, train_correct_abstentions=0.0403, train_incorrect_abstentions=0.00125]\n"
          ]
        },
        {
          "output_type": "stream",
          "name": "stdout",
          "text": [
            "\n",
            "Epoch 17 validation: val_loss: 3350.1095, val_abstention_rate: 0.0118, val_valid_accuracy: 0.2452, val_correct_abstentions: 0.0336, val_incorrect_abstentions: 0.0031\n"
          ]
        },
        {
          "output_type": "stream",
          "name": "stderr",
          "text": [
            "Epoch 19/80: 100%|██████████| 1125/1125 [00:27<00:00, 40.85it/s, train_loss=1.07e+4, train_abstention_rate=0.0131, train_valid_accuracy=0.126, train_correct_abstentions=0.0425, train_incorrect_abstentions=0.00156]\n"
          ]
        },
        {
          "output_type": "stream",
          "name": "stdout",
          "text": [
            "\n",
            "Epoch 18 validation: val_loss: 17746.6323, val_abstention_rate: 0.0003, val_valid_accuracy: 0.0963, val_correct_abstentions: 0.0312, val_incorrect_abstentions: 0.0000\n"
          ]
        },
        {
          "output_type": "stream",
          "name": "stderr",
          "text": [
            "Epoch 20/80: 100%|██████████| 1125/1125 [00:27<00:00, 40.87it/s, train_loss=1.04e+4, train_abstention_rate=0.0128, train_valid_accuracy=0.166, train_correct_abstentions=0.0419, train_incorrect_abstentions=0.000937]\n"
          ]
        },
        {
          "output_type": "stream",
          "name": "stdout",
          "text": [
            "\n",
            "Epoch 19 validation: val_loss: 7686.3764, val_abstention_rate: 0.0010, val_valid_accuracy: 0.2463, val_correct_abstentions: 0.0156, val_incorrect_abstentions: 0.0156\n"
          ]
        },
        {
          "output_type": "stream",
          "name": "stderr",
          "text": [
            "Epoch 21/80: 100%|██████████| 1125/1125 [00:27<00:00, 40.84it/s, train_loss=4.38e+3, train_abstention_rate=0.0153, train_valid_accuracy=0.201, train_correct_abstentions=0.0406, train_incorrect_abstentions=0]\n"
          ]
        },
        {
          "output_type": "stream",
          "name": "stdout",
          "text": [
            "\n",
            "Epoch 20 validation: val_loss: 9460.9873, val_abstention_rate: 0.0275, val_valid_accuracy: 0.1595, val_correct_abstentions: 0.0448, val_incorrect_abstentions: 0.0017\n"
          ]
        },
        {
          "output_type": "stream",
          "name": "stderr",
          "text": [
            "Epoch 22/80: 100%|██████████| 1125/1125 [00:27<00:00, 40.89it/s, train_loss=6.03e+3, train_abstention_rate=0.0147, train_valid_accuracy=0.185, train_correct_abstentions=0.0356, train_incorrect_abstentions=0.00125]\n"
          ]
        },
        {
          "output_type": "stream",
          "name": "stdout",
          "text": [
            "\n",
            "Epoch 21 validation: val_loss: 4354.5479, val_abstention_rate: 0.0180, val_valid_accuracy: 0.3347, val_correct_abstentions: 0.0433, val_incorrect_abstentions: 0.0000\n"
          ]
        },
        {
          "output_type": "stream",
          "name": "stderr",
          "text": [
            "Epoch 23/80: 100%|██████████| 1125/1125 [00:27<00:00, 40.78it/s, train_loss=9.74e+3, train_abstention_rate=0.00906, train_valid_accuracy=0.185, train_correct_abstentions=0.0356, train_incorrect_abstentions=0.00156]\n"
          ]
        },
        {
          "output_type": "stream",
          "name": "stdout",
          "text": [
            "\n",
            "Epoch 22 validation: val_loss: 8848.1241, val_abstention_rate: 0.0037, val_valid_accuracy: 0.2030, val_correct_abstentions: 0.0312, val_incorrect_abstentions: 0.0000\n"
          ]
        },
        {
          "output_type": "stream",
          "name": "stderr",
          "text": [
            "Epoch 24/80: 100%|██████████| 1125/1125 [00:27<00:00, 40.90it/s, train_loss=8.02e+3, train_abstention_rate=0.0109, train_valid_accuracy=0.209, train_correct_abstentions=0.0466, train_incorrect_abstentions=0.000937]\n"
          ]
        },
        {
          "output_type": "stream",
          "name": "stdout",
          "text": [
            "\n",
            "Epoch 23 validation: val_loss: 22692.1290, val_abstention_rate: 0.0075, val_valid_accuracy: 0.0482, val_correct_abstentions: 0.0339, val_incorrect_abstentions: 0.0052\n"
          ]
        },
        {
          "output_type": "stream",
          "name": "stderr",
          "text": [
            "Epoch 25/80: 100%|██████████| 1125/1125 [00:27<00:00, 40.60it/s, train_loss=8.69e+3, train_abstention_rate=0.0222, train_valid_accuracy=0.308, train_correct_abstentions=0.0481, train_incorrect_abstentions=0.000625]\n"
          ]
        },
        {
          "output_type": "stream",
          "name": "stdout",
          "text": [
            "\n",
            "Epoch 24 validation: val_loss: 8723.6480, val_abstention_rate: 0.0107, val_valid_accuracy: 0.0909, val_correct_abstentions: 0.0337, val_incorrect_abstentions: 0.0008\n"
          ]
        },
        {
          "output_type": "stream",
          "name": "stderr",
          "text": [
            "Epoch 26/80: 100%|██████████| 1125/1125 [00:27<00:00, 40.70it/s, train_loss=8.66e+3, train_abstention_rate=0.0194, train_valid_accuracy=0.226, train_correct_abstentions=0.04, train_incorrect_abstentions=0.00125]\n"
          ]
        },
        {
          "output_type": "stream",
          "name": "stdout",
          "text": [
            "\n",
            "Epoch 25 validation: val_loss: 11263.6822, val_abstention_rate: 0.0182, val_valid_accuracy: 0.1094, val_correct_abstentions: 0.0393, val_incorrect_abstentions: 0.0000\n"
          ]
        },
        {
          "output_type": "stream",
          "name": "stderr",
          "text": [
            "Epoch 27/80: 100%|██████████| 1125/1125 [00:27<00:00, 40.36it/s, train_loss=1.16e+4, train_abstention_rate=0.0163, train_valid_accuracy=0.262, train_correct_abstentions=0.0525, train_incorrect_abstentions=0.000937]\n"
          ]
        },
        {
          "output_type": "stream",
          "name": "stdout",
          "text": [
            "\n",
            "Epoch 26 validation: val_loss: 5553.1596, val_abstention_rate: 0.0140, val_valid_accuracy: 0.4278, val_correct_abstentions: 0.0374, val_incorrect_abstentions: 0.0007\n"
          ]
        },
        {
          "output_type": "stream",
          "name": "stderr",
          "text": [
            "Epoch 28/80: 100%|██████████| 1125/1125 [00:27<00:00, 40.48it/s, train_loss=4.3e+3, train_abstention_rate=0.0281, train_valid_accuracy=0.476, train_correct_abstentions=0.0512, train_incorrect_abstentions=0.000313]\n"
          ]
        },
        {
          "output_type": "stream",
          "name": "stdout",
          "text": [
            "\n",
            "Epoch 27 validation: val_loss: 7068.4401, val_abstention_rate: 0.0302, val_valid_accuracy: 0.3884, val_correct_abstentions: 0.0473, val_incorrect_abstentions: 0.0000\n"
          ]
        },
        {
          "output_type": "stream",
          "name": "stderr",
          "text": [
            "Epoch 29/80: 100%|██████████| 1125/1125 [00:27<00:00, 40.49it/s, train_loss=5.9e+3, train_abstention_rate=0.0328, train_valid_accuracy=0.455, train_correct_abstentions=0.0466, train_incorrect_abstentions=0]\n"
          ]
        },
        {
          "output_type": "stream",
          "name": "stdout",
          "text": [
            "\n",
            "Epoch 28 validation: val_loss: 5122.3343, val_abstention_rate: 0.0338, val_valid_accuracy: 0.6100, val_correct_abstentions: 0.0540, val_incorrect_abstentions: 0.0008\n"
          ]
        },
        {
          "output_type": "stream",
          "name": "stderr",
          "text": [
            "Epoch 30/80: 100%|██████████| 1125/1125 [00:27<00:00, 40.57it/s, train_loss=5.92e+3, train_abstention_rate=0.0141, train_valid_accuracy=0.317, train_correct_abstentions=0.0419, train_incorrect_abstentions=0.000625]\n"
          ]
        },
        {
          "output_type": "stream",
          "name": "stdout",
          "text": [
            "\n",
            "Epoch 29 validation: val_loss: 2723.0676, val_abstention_rate: 0.0177, val_valid_accuracy: 0.4092, val_correct_abstentions: 0.0403, val_incorrect_abstentions: 0.0000\n"
          ]
        },
        {
          "output_type": "stream",
          "name": "stderr",
          "text": [
            "Epoch 31/80: 100%|██████████| 1125/1125 [00:27<00:00, 40.37it/s, train_loss=3.6e+3, train_abstention_rate=0.0184, train_valid_accuracy=0.289, train_correct_abstentions=0.0456, train_incorrect_abstentions=0]\n"
          ]
        },
        {
          "output_type": "stream",
          "name": "stdout",
          "text": [
            "\n",
            "Epoch 30 validation: val_loss: 2944.2975, val_abstention_rate: 0.0330, val_valid_accuracy: 0.0794, val_correct_abstentions: 0.0497, val_incorrect_abstentions: 0.0000\n"
          ]
        },
        {
          "output_type": "stream",
          "name": "stderr",
          "text": [
            "Epoch 32/80: 100%|██████████| 1125/1125 [00:27<00:00, 40.33it/s, train_loss=3.92e+3, train_abstention_rate=0.0197, train_valid_accuracy=0.333, train_correct_abstentions=0.04, train_incorrect_abstentions=0.0025]\n"
          ]
        },
        {
          "output_type": "stream",
          "name": "stdout",
          "text": [
            "\n",
            "Epoch 31 validation: val_loss: 4485.9479, val_abstention_rate: 0.0100, val_valid_accuracy: 0.0634, val_correct_abstentions: 0.0330, val_incorrect_abstentions: 0.0027\n"
          ]
        },
        {
          "output_type": "stream",
          "name": "stderr",
          "text": [
            "Epoch 33/80: 100%|██████████| 1125/1125 [00:28<00:00, 40.11it/s, train_loss=2.24e+3, train_abstention_rate=0.0234, train_valid_accuracy=0.457, train_correct_abstentions=0.0475, train_incorrect_abstentions=0.000937]\n"
          ]
        },
        {
          "output_type": "stream",
          "name": "stdout",
          "text": [
            "\n",
            "Epoch 32 validation: val_loss: 10748.0109, val_abstention_rate: 0.0345, val_valid_accuracy: 0.6211, val_correct_abstentions: 0.0546, val_incorrect_abstentions: 0.0000\n"
          ]
        },
        {
          "output_type": "stream",
          "name": "stderr",
          "text": [
            "Epoch 34/80: 100%|██████████| 1125/1125 [00:28<00:00, 39.98it/s, train_loss=8.79e+3, train_abstention_rate=0.0312, train_valid_accuracy=0.388, train_correct_abstentions=0.0509, train_incorrect_abstentions=0]\n"
          ]
        },
        {
          "output_type": "stream",
          "name": "stdout",
          "text": [
            "\n",
            "Epoch 33 validation: val_loss: 2459.5333, val_abstention_rate: 0.0377, val_valid_accuracy: 0.5750, val_correct_abstentions: 0.0530, val_incorrect_abstentions: 0.0000\n"
          ]
        },
        {
          "output_type": "stream",
          "name": "stderr",
          "text": [
            "Epoch 35/80: 100%|██████████| 1125/1125 [00:28<00:00, 39.84it/s, train_loss=3.14e+3, train_abstention_rate=0.0184, train_valid_accuracy=0.381, train_correct_abstentions=0.0453, train_incorrect_abstentions=0.000625]\n"
          ]
        },
        {
          "output_type": "stream",
          "name": "stdout",
          "text": [
            "\n",
            "Epoch 34 validation: val_loss: 1712.7171, val_abstention_rate: 0.0190, val_valid_accuracy: 0.6115, val_correct_abstentions: 0.0403, val_incorrect_abstentions: 0.0000\n"
          ]
        },
        {
          "output_type": "stream",
          "name": "stderr",
          "text": [
            "Epoch 36/80: 100%|██████████| 1125/1125 [00:28<00:00, 39.67it/s, train_loss=6.39e+3, train_abstention_rate=0.0187, train_valid_accuracy=0.308, train_correct_abstentions=0.0453, train_incorrect_abstentions=0.000937]\n"
          ]
        },
        {
          "output_type": "stream",
          "name": "stdout",
          "text": [
            "\n",
            "Epoch 35 validation: val_loss: 5646.4171, val_abstention_rate: 0.0105, val_valid_accuracy: 0.2611, val_correct_abstentions: 0.0312, val_incorrect_abstentions: 0.0033\n"
          ]
        },
        {
          "output_type": "stream",
          "name": "stderr",
          "text": [
            "Epoch 37/80: 100%|██████████| 1125/1125 [00:28<00:00, 39.14it/s, train_loss=4.73e+3, train_abstention_rate=0.0234, train_valid_accuracy=0.392, train_correct_abstentions=0.0494, train_incorrect_abstentions=0.000313]\n"
          ]
        },
        {
          "output_type": "stream",
          "name": "stdout",
          "text": [
            "\n",
            "Epoch 36 validation: val_loss: 3698.6464, val_abstention_rate: 0.0310, val_valid_accuracy: 0.5200, val_correct_abstentions: 0.0524, val_incorrect_abstentions: 0.0000\n"
          ]
        },
        {
          "output_type": "stream",
          "name": "stderr",
          "text": [
            "Epoch 38/80: 100%|██████████| 1125/1125 [00:28<00:00, 39.34it/s, train_loss=5.96e+3, train_abstention_rate=0.0316, train_valid_accuracy=0.399, train_correct_abstentions=0.0525, train_incorrect_abstentions=0.00125]\n"
          ]
        },
        {
          "output_type": "stream",
          "name": "stdout",
          "text": [
            "\n",
            "Epoch 37 validation: val_loss: 6069.4257, val_abstention_rate: 0.0047, val_valid_accuracy: 0.6266, val_correct_abstentions: 0.0349, val_incorrect_abstentions: 0.0000\n"
          ]
        },
        {
          "output_type": "stream",
          "name": "stderr",
          "text": [
            "Epoch 39/80: 100%|██████████| 1125/1125 [00:28<00:00, 39.18it/s, train_loss=4.15e+3, train_abstention_rate=0.0266, train_valid_accuracy=0.393, train_correct_abstentions=0.0494, train_incorrect_abstentions=0.000937]\n"
          ]
        },
        {
          "output_type": "stream",
          "name": "stdout",
          "text": [
            "\n",
            "Epoch 38 validation: val_loss: 3808.6303, val_abstention_rate: 0.0310, val_valid_accuracy: 0.4154, val_correct_abstentions: 0.0497, val_incorrect_abstentions: 0.0000\n"
          ]
        },
        {
          "output_type": "stream",
          "name": "stderr",
          "text": [
            "Epoch 40/80: 100%|██████████| 1125/1125 [00:28<00:00, 39.53it/s, train_loss=9.2e+3, train_abstention_rate=0.0209, train_valid_accuracy=0.33, train_correct_abstentions=0.0525, train_incorrect_abstentions=0.000937]\n"
          ]
        },
        {
          "output_type": "stream",
          "name": "stdout",
          "text": [
            "\n",
            "Epoch 39 validation: val_loss: 4142.5031, val_abstention_rate: 0.0027, val_valid_accuracy: 0.3201, val_correct_abstentions: 0.0256, val_incorrect_abstentions: 0.0057\n"
          ]
        },
        {
          "output_type": "stream",
          "name": "stderr",
          "text": [
            "Epoch 41/80: 100%|██████████| 1125/1125 [00:28<00:00, 39.54it/s, train_loss=7.17e+3, train_abstention_rate=0.0369, train_valid_accuracy=0.415, train_correct_abstentions=0.0528, train_incorrect_abstentions=0.00125]\n"
          ]
        },
        {
          "output_type": "stream",
          "name": "stdout",
          "text": [
            "\n",
            "Epoch 40 validation: val_loss: 4829.0131, val_abstention_rate: 0.0095, val_valid_accuracy: 0.2693, val_correct_abstentions: 0.0371, val_incorrect_abstentions: 0.0000\n"
          ]
        },
        {
          "output_type": "stream",
          "name": "stderr",
          "text": [
            "Epoch 42/80: 100%|██████████| 1125/1125 [00:28<00:00, 39.99it/s, train_loss=2.69e+3, train_abstention_rate=0.0391, train_valid_accuracy=0.567, train_correct_abstentions=0.065, train_incorrect_abstentions=0.00125]\n"
          ]
        },
        {
          "output_type": "stream",
          "name": "stdout",
          "text": [
            "\n",
            "Epoch 41 validation: val_loss: 1200.5654, val_abstention_rate: 0.0328, val_valid_accuracy: 0.7658, val_correct_abstentions: 0.0506, val_incorrect_abstentions: 0.0012\n"
          ]
        },
        {
          "output_type": "stream",
          "name": "stderr",
          "text": [
            "Epoch 43/80: 100%|██████████| 1125/1125 [00:28<00:00, 40.02it/s, train_loss=4.23e+3, train_abstention_rate=0.0219, train_valid_accuracy=0.516, train_correct_abstentions=0.0528, train_incorrect_abstentions=0.00125]\n"
          ]
        },
        {
          "output_type": "stream",
          "name": "stdout",
          "text": [
            "\n",
            "Epoch 42 validation: val_loss: 3798.3073, val_abstention_rate: 0.0022, val_valid_accuracy: 0.4523, val_correct_abstentions: 0.0312, val_incorrect_abstentions: 0.0000\n"
          ]
        },
        {
          "output_type": "stream",
          "name": "stderr",
          "text": [
            "Epoch 44/80: 100%|██████████| 1125/1125 [00:28<00:00, 39.79it/s, train_loss=4.19e+3, train_abstention_rate=0.055, train_valid_accuracy=0.678, train_correct_abstentions=0.0788, train_incorrect_abstentions=0.000625]\n"
          ]
        },
        {
          "output_type": "stream",
          "name": "stdout",
          "text": [
            "\n",
            "Epoch 43 validation: val_loss: 1906.1380, val_abstention_rate: 0.0120, val_valid_accuracy: 0.2384, val_correct_abstentions: 0.0353, val_incorrect_abstentions: 0.0032\n"
          ]
        },
        {
          "output_type": "stream",
          "name": "stderr",
          "text": [
            "Epoch 45/80: 100%|██████████| 1125/1125 [00:28<00:00, 39.39it/s, train_loss=973, train_abstention_rate=0.0525, train_valid_accuracy=0.631, train_correct_abstentions=0.0616, train_incorrect_abstentions=0.000625]\n"
          ]
        },
        {
          "output_type": "stream",
          "name": "stdout",
          "text": [
            "\n",
            "Epoch 44 validation: val_loss: 1283.3318, val_abstention_rate: 0.0795, val_valid_accuracy: 0.4133, val_correct_abstentions: 0.0849, val_incorrect_abstentions: 0.0000\n"
          ]
        },
        {
          "output_type": "stream",
          "name": "stderr",
          "text": [
            "Epoch 46/80: 100%|██████████| 1125/1125 [00:28<00:00, 39.07it/s, train_loss=2.11e+3, train_abstention_rate=0.0466, train_valid_accuracy=0.641, train_correct_abstentions=0.0616, train_incorrect_abstentions=0.000625]\n"
          ]
        },
        {
          "output_type": "stream",
          "name": "stdout",
          "text": [
            "\n",
            "Epoch 45 validation: val_loss: 944.3340, val_abstention_rate: 0.0377, val_valid_accuracy: 0.6608, val_correct_abstentions: 0.0507, val_incorrect_abstentions: 0.0000\n"
          ]
        },
        {
          "output_type": "stream",
          "name": "stderr",
          "text": [
            "Epoch 47/80: 100%|██████████| 1125/1125 [00:28<00:00, 39.24it/s, train_loss=2.86e+3, train_abstention_rate=0.0469, train_valid_accuracy=0.634, train_correct_abstentions=0.0638, train_incorrect_abstentions=0.000313]\n"
          ]
        },
        {
          "output_type": "stream",
          "name": "stdout",
          "text": [
            "\n",
            "Epoch 46 validation: val_loss: 1073.9831, val_abstention_rate: 0.0285, val_valid_accuracy: 0.7604, val_correct_abstentions: 0.0495, val_incorrect_abstentions: 0.0000\n"
          ]
        },
        {
          "output_type": "stream",
          "name": "stderr",
          "text": [
            "Epoch 48/80: 100%|██████████| 1125/1125 [00:28<00:00, 39.24it/s, train_loss=4.64e+3, train_abstention_rate=0.0225, train_valid_accuracy=0.404, train_correct_abstentions=0.0425, train_incorrect_abstentions=0.000937]\n"
          ]
        },
        {
          "output_type": "stream",
          "name": "stdout",
          "text": [
            "\n",
            "Epoch 47 validation: val_loss: 2410.7882, val_abstention_rate: 0.0318, val_valid_accuracy: 0.5533, val_correct_abstentions: 0.0509, val_incorrect_abstentions: 0.0000\n"
          ]
        },
        {
          "output_type": "stream",
          "name": "stderr",
          "text": [
            "Epoch 49/80: 100%|██████████| 1125/1125 [00:28<00:00, 39.25it/s, train_loss=1.07e+3, train_abstention_rate=0.0306, train_valid_accuracy=0.582, train_correct_abstentions=0.0575, train_incorrect_abstentions=0.000625]\n"
          ]
        },
        {
          "output_type": "stream",
          "name": "stdout",
          "text": [
            "\n",
            "Epoch 48 validation: val_loss: 2483.7424, val_abstention_rate: 0.0375, val_valid_accuracy: 0.4760, val_correct_abstentions: 0.0534, val_incorrect_abstentions: 0.0011\n"
          ]
        },
        {
          "output_type": "stream",
          "name": "stderr",
          "text": [
            "Epoch 50/80: 100%|██████████| 1125/1125 [00:28<00:00, 39.44it/s, train_loss=2.69e+3, train_abstention_rate=0.0387, train_valid_accuracy=0.478, train_correct_abstentions=0.0584, train_incorrect_abstentions=0.000313]\n"
          ]
        },
        {
          "output_type": "stream",
          "name": "stdout",
          "text": [
            "\n",
            "Epoch 49 validation: val_loss: 3845.5306, val_abstention_rate: 0.0210, val_valid_accuracy: 0.5361, val_correct_abstentions: 0.0386, val_incorrect_abstentions: 0.0024\n"
          ]
        },
        {
          "output_type": "stream",
          "name": "stderr",
          "text": [
            "Epoch 51/80: 100%|██████████| 1125/1125 [00:28<00:00, 38.96it/s, train_loss=3.18e+3, train_abstention_rate=0.0341, train_valid_accuracy=0.509, train_correct_abstentions=0.0544, train_incorrect_abstentions=0.00187]\n"
          ]
        },
        {
          "output_type": "stream",
          "name": "stdout",
          "text": [
            "\n",
            "Epoch 50 validation: val_loss: 8395.3959, val_abstention_rate: 0.0080, val_valid_accuracy: 0.1372, val_correct_abstentions: 0.0246, val_incorrect_abstentions: 0.0112\n"
          ]
        },
        {
          "output_type": "stream",
          "name": "stderr",
          "text": [
            "Epoch 52/80: 100%|██████████| 1125/1125 [00:28<00:00, 39.58it/s, train_loss=3.21e+3, train_abstention_rate=0.0378, train_valid_accuracy=0.47, train_correct_abstentions=0.0666, train_incorrect_abstentions=0.000313]\n"
          ]
        },
        {
          "output_type": "stream",
          "name": "stdout",
          "text": [
            "\n",
            "Epoch 51 validation: val_loss: 7616.1913, val_abstention_rate: 0.0845, val_valid_accuracy: 0.6507, val_correct_abstentions: 0.0857, val_incorrect_abstentions: 0.0045\n"
          ]
        },
        {
          "output_type": "stream",
          "name": "stderr",
          "text": [
            "Epoch 53/80: 100%|██████████| 1125/1125 [00:28<00:00, 39.29it/s, train_loss=1.09e+3, train_abstention_rate=0.0456, train_valid_accuracy=0.783, train_correct_abstentions=0.0656, train_incorrect_abstentions=0.000625]\n"
          ]
        },
        {
          "output_type": "stream",
          "name": "stdout",
          "text": [
            "\n",
            "Epoch 52 validation: val_loss: 766.0204, val_abstention_rate: 0.0705, val_valid_accuracy: 0.8683, val_correct_abstentions: 0.0787, val_incorrect_abstentions: 0.0000\n"
          ]
        },
        {
          "output_type": "stream",
          "name": "stderr",
          "text": [
            "Epoch 54/80: 100%|██████████| 1125/1125 [00:28<00:00, 39.19it/s, train_loss=1.42e+3, train_abstention_rate=0.0478, train_valid_accuracy=0.777, train_correct_abstentions=0.0688, train_incorrect_abstentions=0.000625]\n"
          ]
        },
        {
          "output_type": "stream",
          "name": "stdout",
          "text": [
            "\n",
            "Epoch 53 validation: val_loss: 1059.0468, val_abstention_rate: 0.0187, val_valid_accuracy: 0.5924, val_correct_abstentions: 0.0409, val_incorrect_abstentions: 0.0017\n"
          ]
        },
        {
          "output_type": "stream",
          "name": "stderr",
          "text": [
            "Epoch 55/80: 100%|██████████| 1125/1125 [00:28<00:00, 39.02it/s, train_loss=1.56e+3, train_abstention_rate=0.0384, train_valid_accuracy=0.591, train_correct_abstentions=0.0606, train_incorrect_abstentions=0]\n"
          ]
        },
        {
          "output_type": "stream",
          "name": "stdout",
          "text": [
            "\n",
            "Epoch 54 validation: val_loss: 649.6318, val_abstention_rate: 0.0810, val_valid_accuracy: 0.6666, val_correct_abstentions: 0.0880, val_incorrect_abstentions: 0.0000\n"
          ]
        },
        {
          "output_type": "stream",
          "name": "stderr",
          "text": [
            "Epoch 56/80: 100%|██████████| 1125/1125 [00:28<00:00, 39.49it/s, train_loss=1.17e+3, train_abstention_rate=0.0478, train_valid_accuracy=0.744, train_correct_abstentions=0.0659, train_incorrect_abstentions=0.000313]\n"
          ]
        },
        {
          "output_type": "stream",
          "name": "stdout",
          "text": [
            "\n",
            "Epoch 55 validation: val_loss: 759.1747, val_abstention_rate: 0.0640, val_valid_accuracy: 0.9228, val_correct_abstentions: 0.0721, val_incorrect_abstentions: 0.0000\n"
          ]
        },
        {
          "output_type": "stream",
          "name": "stderr",
          "text": [
            "Epoch 57/80: 100%|██████████| 1125/1125 [00:28<00:00, 38.98it/s, train_loss=778, train_abstention_rate=0.0512, train_valid_accuracy=0.833, train_correct_abstentions=0.0616, train_incorrect_abstentions=0]\n"
          ]
        },
        {
          "output_type": "stream",
          "name": "stdout",
          "text": [
            "\n",
            "Epoch 56 validation: val_loss: 732.1494, val_abstention_rate: 0.0450, val_valid_accuracy: 0.8889, val_correct_abstentions: 0.0605, val_incorrect_abstentions: 0.0000\n"
          ]
        },
        {
          "output_type": "stream",
          "name": "stderr",
          "text": [
            "Epoch 58/80: 100%|██████████| 1125/1125 [00:28<00:00, 39.35it/s, train_loss=1.42e+3, train_abstention_rate=0.0456, train_valid_accuracy=0.629, train_correct_abstentions=0.0606, train_incorrect_abstentions=0]\n"
          ]
        },
        {
          "output_type": "stream",
          "name": "stdout",
          "text": [
            "\n",
            "Epoch 57 validation: val_loss: 1107.0371, val_abstention_rate: 0.0350, val_valid_accuracy: 0.7481, val_correct_abstentions: 0.0507, val_incorrect_abstentions: 0.0007\n"
          ]
        },
        {
          "output_type": "stream",
          "name": "stderr",
          "text": [
            "Epoch 59/80: 100%|██████████| 1125/1125 [00:28<00:00, 39.08it/s, train_loss=3.11e+3, train_abstention_rate=0.0481, train_valid_accuracy=0.788, train_correct_abstentions=0.0612, train_incorrect_abstentions=0]\n"
          ]
        },
        {
          "output_type": "stream",
          "name": "stdout",
          "text": [
            "\n",
            "Epoch 58 validation: val_loss: 845.6226, val_abstention_rate: 0.0712, val_valid_accuracy: 0.8305, val_correct_abstentions: 0.0795, val_incorrect_abstentions: 0.0000\n"
          ]
        },
        {
          "output_type": "stream",
          "name": "stderr",
          "text": [
            "Epoch 60/80: 100%|██████████| 1125/1125 [00:28<00:00, 39.39it/s, train_loss=1.71e+3, train_abstention_rate=0.0481, train_valid_accuracy=0.678, train_correct_abstentions=0.0603, train_incorrect_abstentions=0]\n"
          ]
        },
        {
          "output_type": "stream",
          "name": "stdout",
          "text": [
            "\n",
            "Epoch 59 validation: val_loss: 775.5690, val_abstention_rate: 0.0848, val_valid_accuracy: 0.8463, val_correct_abstentions: 0.0898, val_incorrect_abstentions: 0.0000\n"
          ]
        },
        {
          "output_type": "stream",
          "name": "stderr",
          "text": [
            "Epoch 61/80: 100%|██████████| 1125/1125 [00:28<00:00, 39.27it/s, train_loss=1.67e+3, train_abstention_rate=0.0525, train_valid_accuracy=0.73, train_correct_abstentions=0.0756, train_incorrect_abstentions=0.000937]\n"
          ]
        },
        {
          "output_type": "stream",
          "name": "stdout",
          "text": [
            "\n",
            "Epoch 60 validation: val_loss: 2371.3248, val_abstention_rate: 0.0740, val_valid_accuracy: 0.6828, val_correct_abstentions: 0.0777, val_incorrect_abstentions: 0.0000\n"
          ]
        },
        {
          "output_type": "stream",
          "name": "stderr",
          "text": [
            "Epoch 62/80: 100%|██████████| 1125/1125 [00:28<00:00, 39.42it/s, train_loss=1.02e+3, train_abstention_rate=0.0425, train_valid_accuracy=0.784, train_correct_abstentions=0.0719, train_incorrect_abstentions=0.000937]\n"
          ]
        },
        {
          "output_type": "stream",
          "name": "stdout",
          "text": [
            "\n",
            "Epoch 61 validation: val_loss: 605.2864, val_abstention_rate: 0.0465, val_valid_accuracy: 0.7926, val_correct_abstentions: 0.0625, val_incorrect_abstentions: 0.0000\n"
          ]
        },
        {
          "output_type": "stream",
          "name": "stderr",
          "text": [
            "Epoch 63/80: 100%|██████████| 1125/1125 [00:28<00:00, 39.27it/s, train_loss=803, train_abstention_rate=0.0884, train_valid_accuracy=0.853, train_correct_abstentions=0.0972, train_incorrect_abstentions=0]\n"
          ]
        },
        {
          "output_type": "stream",
          "name": "stdout",
          "text": [
            "\n",
            "Epoch 62 validation: val_loss: 1150.3477, val_abstention_rate: 0.1008, val_valid_accuracy: 0.8576, val_correct_abstentions: 0.1049, val_incorrect_abstentions: 0.0000\n"
          ]
        },
        {
          "output_type": "stream",
          "name": "stderr",
          "text": [
            "Epoch 64/80: 100%|██████████| 1125/1125 [00:28<00:00, 39.55it/s, train_loss=678, train_abstention_rate=0.101, train_valid_accuracy=0.857, train_correct_abstentions=0.108, train_incorrect_abstentions=0]\n"
          ]
        },
        {
          "output_type": "stream",
          "name": "stdout",
          "text": [
            "\n",
            "Epoch 63 validation: val_loss: 1458.9208, val_abstention_rate: 0.1197, val_valid_accuracy: 0.8342, val_correct_abstentions: 0.1212, val_incorrect_abstentions: 0.0015\n"
          ]
        },
        {
          "output_type": "stream",
          "name": "stderr",
          "text": [
            "Epoch 65/80: 100%|██████████| 1125/1125 [00:28<00:00, 39.46it/s, train_loss=798, train_abstention_rate=0.0878, train_valid_accuracy=0.846, train_correct_abstentions=0.105, train_incorrect_abstentions=0]\n"
          ]
        },
        {
          "output_type": "stream",
          "name": "stdout",
          "text": [
            "\n",
            "Epoch 64 validation: val_loss: 653.9755, val_abstention_rate: 0.1230, val_valid_accuracy: 0.8209, val_correct_abstentions: 0.1260, val_incorrect_abstentions: 0.0000\n"
          ]
        },
        {
          "output_type": "stream",
          "name": "stderr",
          "text": [
            "Epoch 66/80: 100%|██████████| 1125/1125 [00:28<00:00, 39.53it/s, train_loss=1.19e+3, train_abstention_rate=0.0722, train_valid_accuracy=0.706, train_correct_abstentions=0.0956, train_incorrect_abstentions=0.000313]\n"
          ]
        },
        {
          "output_type": "stream",
          "name": "stdout",
          "text": [
            "\n",
            "Epoch 65 validation: val_loss: 1767.6555, val_abstention_rate: 0.0943, val_valid_accuracy: 0.6577, val_correct_abstentions: 0.1033, val_incorrect_abstentions: 0.0000\n"
          ]
        },
        {
          "output_type": "stream",
          "name": "stderr",
          "text": [
            "Epoch 67/80: 100%|██████████| 1125/1125 [00:28<00:00, 39.35it/s, train_loss=644, train_abstention_rate=0.106, train_valid_accuracy=0.864, train_correct_abstentions=0.11, train_incorrect_abstentions=0]\n"
          ]
        },
        {
          "output_type": "stream",
          "name": "stdout",
          "text": [
            "\n",
            "Epoch 66 validation: val_loss: 485.7210, val_abstention_rate: 0.0882, val_valid_accuracy: 0.8561, val_correct_abstentions: 0.0951, val_incorrect_abstentions: 0.0008\n"
          ]
        },
        {
          "output_type": "stream",
          "name": "stderr",
          "text": [
            "Epoch 68/80: 100%|██████████| 1125/1125 [00:28<00:00, 39.28it/s, train_loss=636, train_abstention_rate=0.116, train_valid_accuracy=0.907, train_correct_abstentions=0.122, train_incorrect_abstentions=0]\n"
          ]
        },
        {
          "output_type": "stream",
          "name": "stdout",
          "text": [
            "\n",
            "Epoch 67 validation: val_loss: 365.3601, val_abstention_rate: 0.1373, val_valid_accuracy: 0.9061, val_correct_abstentions: 0.1418, val_incorrect_abstentions: 0.0000\n"
          ]
        },
        {
          "output_type": "stream",
          "name": "stderr",
          "text": [
            "Epoch 69/80: 100%|██████████| 1125/1125 [00:28<00:00, 39.36it/s, train_loss=2.34e+3, train_abstention_rate=0.0922, train_valid_accuracy=0.684, train_correct_abstentions=0.115, train_incorrect_abstentions=0.000625]\n"
          ]
        },
        {
          "output_type": "stream",
          "name": "stdout",
          "text": [
            "\n",
            "Epoch 68 validation: val_loss: 904.3757, val_abstention_rate: 0.1480, val_valid_accuracy: 0.8646, val_correct_abstentions: 0.1526, val_incorrect_abstentions: 0.0003\n"
          ]
        },
        {
          "output_type": "stream",
          "name": "stderr",
          "text": [
            "Epoch 70/80: 100%|██████████| 1125/1125 [00:28<00:00, 39.26it/s, train_loss=399, train_abstention_rate=0.0791, train_valid_accuracy=0.889, train_correct_abstentions=0.0869, train_incorrect_abstentions=0]\n"
          ]
        },
        {
          "output_type": "stream",
          "name": "stdout",
          "text": [
            "\n",
            "Epoch 69 validation: val_loss: 313.5977, val_abstention_rate: 0.0890, val_valid_accuracy: 0.8400, val_correct_abstentions: 0.0940, val_incorrect_abstentions: 0.0003\n"
          ]
        },
        {
          "output_type": "stream",
          "name": "stderr",
          "text": [
            "Epoch 71/80: 100%|██████████| 1125/1125 [00:28<00:00, 39.38it/s, train_loss=779, train_abstention_rate=0.0788, train_valid_accuracy=0.85, train_correct_abstentions=0.0909, train_incorrect_abstentions=0]\n"
          ]
        },
        {
          "output_type": "stream",
          "name": "stdout",
          "text": [
            "\n",
            "Epoch 70 validation: val_loss: 762.0994, val_abstention_rate: 0.1060, val_valid_accuracy: 0.7936, val_correct_abstentions: 0.1094, val_incorrect_abstentions: 0.0010\n"
          ]
        },
        {
          "output_type": "stream",
          "name": "stderr",
          "text": [
            "Epoch 72/80: 100%|██████████| 1125/1125 [00:28<00:00, 39.41it/s, train_loss=1.62e+3, train_abstention_rate=0.0453, train_valid_accuracy=0.605, train_correct_abstentions=0.0663, train_incorrect_abstentions=0.000313]\n"
          ]
        },
        {
          "output_type": "stream",
          "name": "stdout",
          "text": [
            "\n",
            "Epoch 71 validation: val_loss: 653.3207, val_abstention_rate: 0.0545, val_valid_accuracy: 0.6626, val_correct_abstentions: 0.0643, val_incorrect_abstentions: 0.0018\n"
          ]
        },
        {
          "output_type": "stream",
          "name": "stderr",
          "text": [
            "Epoch 73/80: 100%|██████████| 1125/1125 [00:28<00:00, 39.30it/s, train_loss=900, train_abstention_rate=0.0859, train_valid_accuracy=0.763, train_correct_abstentions=0.101, train_incorrect_abstentions=0]\n"
          ]
        },
        {
          "output_type": "stream",
          "name": "stdout",
          "text": [
            "\n",
            "Epoch 72 validation: val_loss: 439.2919, val_abstention_rate: 0.0985, val_valid_accuracy: 0.8869, val_correct_abstentions: 0.1061, val_incorrect_abstentions: 0.0000\n"
          ]
        },
        {
          "output_type": "stream",
          "name": "stderr",
          "text": [
            "Epoch 74/80: 100%|██████████| 1125/1125 [00:28<00:00, 39.54it/s, train_loss=740, train_abstention_rate=0.0959, train_valid_accuracy=0.893, train_correct_abstentions=0.103, train_incorrect_abstentions=0.000313]\n"
          ]
        },
        {
          "output_type": "stream",
          "name": "stdout",
          "text": [
            "\n",
            "Epoch 73 validation: val_loss: 269.9814, val_abstention_rate: 0.0177, val_valid_accuracy: 0.8814, val_correct_abstentions: 0.0411, val_incorrect_abstentions: 0.0000\n"
          ]
        },
        {
          "output_type": "stream",
          "name": "stderr",
          "text": [
            "Epoch 75/80: 100%|██████████| 1125/1125 [00:28<00:00, 39.32it/s, train_loss=1.58e+3, train_abstention_rate=0.0766, train_valid_accuracy=0.712, train_correct_abstentions=0.102, train_incorrect_abstentions=0]\n"
          ]
        },
        {
          "output_type": "stream",
          "name": "stdout",
          "text": [
            "\n",
            "Epoch 74 validation: val_loss: 2446.3760, val_abstention_rate: 0.0400, val_valid_accuracy: 0.0960, val_correct_abstentions: 0.0538, val_incorrect_abstentions: 0.0000\n"
          ]
        },
        {
          "output_type": "stream",
          "name": "stderr",
          "text": [
            "Epoch 76/80: 100%|██████████| 1125/1125 [00:28<00:00, 39.38it/s, train_loss=3.38e+3, train_abstention_rate=0.0528, train_valid_accuracy=0.659, train_correct_abstentions=0.0678, train_incorrect_abstentions=0.000313]\n"
          ]
        },
        {
          "output_type": "stream",
          "name": "stdout",
          "text": [
            "\n",
            "Epoch 75 validation: val_loss: 1917.5846, val_abstention_rate: 0.0668, val_valid_accuracy: 0.8935, val_correct_abstentions: 0.0773, val_incorrect_abstentions: 0.0000\n"
          ]
        },
        {
          "output_type": "stream",
          "name": "stderr",
          "text": [
            "Epoch 77/80: 100%|██████████| 1125/1125 [00:28<00:00, 39.24it/s, train_loss=602, train_abstention_rate=0.0853, train_valid_accuracy=0.76, train_correct_abstentions=0.108, train_incorrect_abstentions=0]\n"
          ]
        },
        {
          "output_type": "stream",
          "name": "stdout",
          "text": [
            "\n",
            "Epoch 76 validation: val_loss: 1053.7168, val_abstention_rate: 0.0645, val_valid_accuracy: 0.8355, val_correct_abstentions: 0.0740, val_incorrect_abstentions: 0.0000\n"
          ]
        },
        {
          "output_type": "stream",
          "name": "stderr",
          "text": [
            "Epoch 78/80: 100%|██████████| 1125/1125 [00:28<00:00, 39.43it/s, train_loss=1.32e+3, train_abstention_rate=0.0909, train_valid_accuracy=0.826, train_correct_abstentions=0.101, train_incorrect_abstentions=0.000625]\n"
          ]
        },
        {
          "output_type": "stream",
          "name": "stdout",
          "text": [
            "\n",
            "Epoch 77 validation: val_loss: 417.4310, val_abstention_rate: 0.1325, val_valid_accuracy: 0.8290, val_correct_abstentions: 0.1347, val_incorrect_abstentions: 0.0000\n"
          ]
        },
        {
          "output_type": "stream",
          "name": "stderr",
          "text": [
            "Epoch 79/80: 100%|██████████| 1125/1125 [00:28<00:00, 39.02it/s, train_loss=774, train_abstention_rate=0.0653, train_valid_accuracy=0.732, train_correct_abstentions=0.0753, train_incorrect_abstentions=0.000625]\n"
          ]
        },
        {
          "output_type": "stream",
          "name": "stdout",
          "text": [
            "\n",
            "Epoch 78 validation: val_loss: 373.3573, val_abstention_rate: 0.1210, val_valid_accuracy: 0.8529, val_correct_abstentions: 0.1230, val_incorrect_abstentions: 0.0000\n"
          ]
        },
        {
          "output_type": "stream",
          "name": "stderr",
          "text": [
            "Epoch 80/80: 100%|██████████| 1125/1125 [00:28<00:00, 39.31it/s, train_loss=851, train_abstention_rate=0.0859, train_valid_accuracy=0.727, train_correct_abstentions=0.0922, train_incorrect_abstentions=0]\n"
          ]
        },
        {
          "output_type": "stream",
          "name": "stdout",
          "text": [
            "\n",
            "Epoch 79 validation: val_loss: 335.5715, val_abstention_rate: 0.0008, val_valid_accuracy: 0.8746, val_correct_abstentions: 0.0312, val_incorrect_abstentions: 0.0000\n",
            "\n",
            "Performing landscape analysis for epoch 79 on decay_control...\n",
            "Computing Lipschitz surface...\n",
            "Completed 1/20 LLC rows\n",
            "Completed 6/20 LLC rows\n",
            "Completed 11/20 LLC rows\n",
            "Completed 16/20 LLC rows\n",
            "Computing Distance to Decision Boundary surface...\n",
            "Computing loss surface...\n",
            "Completed 1/20 rows\n",
            "Completed 6/20 rows\n",
            "Completed 11/20 rows\n",
            "Completed 16/20 rows\n",
            "Saved landscape visualization to experiment_results/landscapes/decay_control/landscape_epoch_79_decay_control_random.png\n",
            "Computing Lipschitz surface...\n",
            "Completed 1/20 LLC rows\n",
            "Completed 6/20 LLC rows\n",
            "Completed 11/20 LLC rows\n",
            "Completed 16/20 LLC rows\n",
            "Computing Distance to Decision Boundary surface...\n",
            "Computing loss surface...\n",
            "Completed 1/20 rows\n",
            "Completed 6/20 rows\n",
            "Completed 11/20 rows\n",
            "Completed 16/20 rows\n",
            "Saved landscape visualization to experiment_results/landscapes/decay_control/landscape_epoch_79_decay_control_pca.png\n",
            "  [Landscape] Alpha Sharpness: 635405376.0000\n",
            "  [Landscape] Top Eigenvalues:\n",
            "    λ1: 123488520.0000\n",
            "    λ2: 48016052.0000\n",
            "    λ3: 28313444.0000\n",
            "  [Landscape] Multiscale Sharpness:\n",
            "    alpha_0.1: 548213312.0000\n",
            "    alpha_0.01: 868606.1250\n",
            "    alpha_0.001: 7532.0015\n",
            "  [Landscape] Valley Asymmetry: 841.1360\n",
            "Training full_pgd model:\n",
            "Trainer settings:\n",
            " {'model': ArithmeticNet(\n",
            "  (num_embedder): Linear(in_features=2, out_features=128, bias=True)\n",
            "  (op_embedding): Embedding(3, 128)\n",
            "  (layer1): Linear(in_features=256, out_features=128, bias=True)\n",
            "  (layer2): Linear(in_features=128, out_features=128, bias=True)\n",
            "  (layer3): Linear(in_features=128, out_features=64, bias=True)\n",
            "  (output): Linear(in_features=64, out_features=1, bias=True)\n",
            "), 'optimizer': Adam (\n",
            "Parameter Group 0\n",
            "    amsgrad: False\n",
            "    betas: (0.9, 0.999)\n",
            "    capturable: False\n",
            "    differentiable: False\n",
            "    eps: 1e-08\n",
            "    foreach: None\n",
            "    fused: None\n",
            "    lr: 0.001\n",
            "    maximize: False\n",
            "    weight_decay: 0\n",
            "), 'criterion': MSELoss(), 'scheduler': <torch.optim.lr_scheduler.ReduceLROnPlateau object at 0x799ccc5b7850>, 'loss_computer': <__main__.UnifiedLossComputer object at 0x799ccc6dd390>, 'tracker': <__main__.UnifiedTracker object at 0x799ccc8ad910>, 'alpha': 0.016, 'k': 2, 'weight': 6.5}\n"
          ]
        },
        {
          "output_type": "stream",
          "name": "stderr",
          "text": [
            "Epoch 1/80: 100%|██████████| 1125/1125 [00:36<00:00, 31.24it/s, train_loss=3.28e+4, train_abstention_rate=0.00313, train_valid_accuracy=0.0146, train_correct_abstentions=0.0256, train_incorrect_abstentions=0.0106]\n"
          ]
        },
        {
          "output_type": "stream",
          "name": "stdout",
          "text": [
            "\n",
            "Epoch 0 validation: val_loss: 33821.5721, val_abstention_rate: 0.0055, val_valid_accuracy: 0.0151, val_correct_abstentions: 0.0281, val_incorrect_abstentions: 0.0063\n"
          ]
        },
        {
          "output_type": "stream",
          "name": "stderr",
          "text": [
            "Epoch 2/80: 100%|██████████| 1125/1125 [00:36<00:00, 30.85it/s, train_loss=2.22e+4, train_abstention_rate=0.00688, train_valid_accuracy=0.0268, train_correct_abstentions=0.0328, train_incorrect_abstentions=0.00375]\n"
          ]
        },
        {
          "output_type": "stream",
          "name": "stdout",
          "text": [
            "\n",
            "Epoch 1 validation: val_loss: 25662.2987, val_abstention_rate: 0.0022, val_valid_accuracy: 0.0201, val_correct_abstentions: 0.0312, val_incorrect_abstentions: 0.0000\n"
          ]
        },
        {
          "output_type": "stream",
          "name": "stderr",
          "text": [
            "Epoch 3/80: 100%|██████████| 1125/1125 [00:36<00:00, 31.05it/s, train_loss=1.41e+4, train_abstention_rate=0.0134, train_valid_accuracy=0.0956, train_correct_abstentions=0.0362, train_incorrect_abstentions=0.00156]\n"
          ]
        },
        {
          "output_type": "stream",
          "name": "stdout",
          "text": [
            "\n",
            "Epoch 2 validation: val_loss: 15976.8024, val_abstention_rate: 0.0110, val_valid_accuracy: 0.1278, val_correct_abstentions: 0.0353, val_incorrect_abstentions: 0.0000\n"
          ]
        },
        {
          "output_type": "stream",
          "name": "stderr",
          "text": [
            "Epoch 4/80: 100%|██████████| 1125/1125 [00:36<00:00, 30.92it/s, train_loss=1.29e+4, train_abstention_rate=0.01, train_valid_accuracy=0.0924, train_correct_abstentions=0.0362, train_incorrect_abstentions=0.00156]\n"
          ]
        },
        {
          "output_type": "stream",
          "name": "stdout",
          "text": [
            "\n",
            "Epoch 3 validation: val_loss: 10216.0804, val_abstention_rate: 0.0100, val_valid_accuracy: 0.0507, val_correct_abstentions: 0.0343, val_incorrect_abstentions: 0.0060\n"
          ]
        },
        {
          "output_type": "stream",
          "name": "stderr",
          "text": [
            "Epoch 5/80: 100%|██████████| 1125/1125 [00:36<00:00, 30.80it/s, train_loss=1.47e+4, train_abstention_rate=0.00969, train_valid_accuracy=0.128, train_correct_abstentions=0.0372, train_incorrect_abstentions=0.000625]\n"
          ]
        },
        {
          "output_type": "stream",
          "name": "stdout",
          "text": [
            "\n",
            "Epoch 4 validation: val_loss: 7615.7541, val_abstention_rate: 0.0047, val_valid_accuracy: 0.3647, val_correct_abstentions: 0.0349, val_incorrect_abstentions: 0.0000\n"
          ]
        },
        {
          "output_type": "stream",
          "name": "stderr",
          "text": [
            "Epoch 6/80: 100%|██████████| 1125/1125 [00:36<00:00, 30.72it/s, train_loss=1e+4, train_abstention_rate=0.00781, train_valid_accuracy=0.133, train_correct_abstentions=0.0384, train_incorrect_abstentions=0.000937]\n"
          ]
        },
        {
          "output_type": "stream",
          "name": "stdout",
          "text": [
            "\n",
            "Epoch 5 validation: val_loss: 11619.3359, val_abstention_rate: 0.0115, val_valid_accuracy: 0.0210, val_correct_abstentions: 0.0345, val_incorrect_abstentions: 0.0033\n"
          ]
        },
        {
          "output_type": "stream",
          "name": "stderr",
          "text": [
            "Epoch 7/80: 100%|██████████| 1125/1125 [00:36<00:00, 30.57it/s, train_loss=9.23e+3, train_abstention_rate=0.0112, train_valid_accuracy=0.131, train_correct_abstentions=0.0369, train_incorrect_abstentions=0.00156]\n"
          ]
        },
        {
          "output_type": "stream",
          "name": "stdout",
          "text": [
            "\n",
            "Epoch 6 validation: val_loss: 20251.3013, val_abstention_rate: 0.0073, val_valid_accuracy: 0.2820, val_correct_abstentions: 0.0378, val_incorrect_abstentions: 0.0000\n"
          ]
        },
        {
          "output_type": "stream",
          "name": "stderr",
          "text": [
            "Epoch 8/80: 100%|██████████| 1125/1125 [00:36<00:00, 30.50it/s, train_loss=2.53e+4, train_abstention_rate=0.0103, train_valid_accuracy=0.101, train_correct_abstentions=0.0387, train_incorrect_abstentions=0.00187]\n"
          ]
        },
        {
          "output_type": "stream",
          "name": "stdout",
          "text": [
            "\n",
            "Epoch 7 validation: val_loss: 15321.9607, val_abstention_rate: 0.0047, val_valid_accuracy: 0.0656, val_correct_abstentions: 0.0312, val_incorrect_abstentions: 0.0017\n"
          ]
        },
        {
          "output_type": "stream",
          "name": "stderr",
          "text": [
            "Epoch 9/80: 100%|██████████| 1125/1125 [00:36<00:00, 30.52it/s, train_loss=1.03e+4, train_abstention_rate=0.0213, train_valid_accuracy=0.107, train_correct_abstentions=0.04, train_incorrect_abstentions=0.00187]\n"
          ]
        },
        {
          "output_type": "stream",
          "name": "stdout",
          "text": [
            "\n",
            "Epoch 8 validation: val_loss: 5177.1744, val_abstention_rate: 0.0393, val_valid_accuracy: 0.1645, val_correct_abstentions: 0.0488, val_incorrect_abstentions: 0.0052\n"
          ]
        },
        {
          "output_type": "stream",
          "name": "stderr",
          "text": [
            "Epoch 10/80: 100%|██████████| 1125/1125 [00:36<00:00, 30.48it/s, train_loss=7.22e+3, train_abstention_rate=0.00969, train_valid_accuracy=0.158, train_correct_abstentions=0.0406, train_incorrect_abstentions=0.000937]\n"
          ]
        },
        {
          "output_type": "stream",
          "name": "stdout",
          "text": [
            "\n",
            "Epoch 9 validation: val_loss: 6324.5512, val_abstention_rate: 0.0018, val_valid_accuracy: 0.1705, val_correct_abstentions: 0.0268, val_incorrect_abstentions: 0.0045\n"
          ]
        },
        {
          "output_type": "stream",
          "name": "stderr",
          "text": [
            "Epoch 11/80: 100%|██████████| 1125/1125 [00:37<00:00, 30.39it/s, train_loss=1e+4, train_abstention_rate=0.0187, train_valid_accuracy=0.192, train_correct_abstentions=0.04, train_incorrect_abstentions=0.000625]\n"
          ]
        },
        {
          "output_type": "stream",
          "name": "stdout",
          "text": [
            "\n",
            "Epoch 10 validation: val_loss: 14395.7557, val_abstention_rate: 0.0080, val_valid_accuracy: 0.1024, val_correct_abstentions: 0.0385, val_incorrect_abstentions: 0.0000\n"
          ]
        },
        {
          "output_type": "stream",
          "name": "stderr",
          "text": [
            "Epoch 12/80: 100%|██████████| 1125/1125 [00:37<00:00, 30.34it/s, train_loss=4.7e+3, train_abstention_rate=0.0109, train_valid_accuracy=0.239, train_correct_abstentions=0.0366, train_incorrect_abstentions=0.00219]\n"
          ]
        },
        {
          "output_type": "stream",
          "name": "stdout",
          "text": [
            "\n",
            "Epoch 11 validation: val_loss: 8993.8057, val_abstention_rate: 0.0088, val_valid_accuracy: 0.2314, val_correct_abstentions: 0.0312, val_incorrect_abstentions: 0.0040\n"
          ]
        },
        {
          "output_type": "stream",
          "name": "stderr",
          "text": [
            "Epoch 13/80: 100%|██████████| 1125/1125 [00:37<00:00, 30.09it/s, train_loss=2.48e+4, train_abstention_rate=0.00594, train_valid_accuracy=0.083, train_correct_abstentions=0.0356, train_incorrect_abstentions=0.00219]\n"
          ]
        },
        {
          "output_type": "stream",
          "name": "stdout",
          "text": [
            "\n",
            "Epoch 12 validation: val_loss: 23050.5952, val_abstention_rate: 0.0040, val_valid_accuracy: 0.0383, val_correct_abstentions: 0.0312, val_incorrect_abstentions: 0.0000\n"
          ]
        },
        {
          "output_type": "stream",
          "name": "stderr",
          "text": [
            "Epoch 14/80: 100%|██████████| 1125/1125 [00:37<00:00, 30.26it/s, train_loss=7.09e+3, train_abstention_rate=0.0159, train_valid_accuracy=0.188, train_correct_abstentions=0.0403, train_incorrect_abstentions=0.000937]\n"
          ]
        },
        {
          "output_type": "stream",
          "name": "stdout",
          "text": [
            "\n",
            "Epoch 13 validation: val_loss: 8364.1080, val_abstention_rate: 0.0090, val_valid_accuracy: 0.2704, val_correct_abstentions: 0.0312, val_incorrect_abstentions: 0.0050\n"
          ]
        },
        {
          "output_type": "stream",
          "name": "stderr",
          "text": [
            "Epoch 15/80: 100%|██████████| 1125/1125 [00:37<00:00, 30.28it/s, train_loss=1.01e+4, train_abstention_rate=0.0119, train_valid_accuracy=0.202, train_correct_abstentions=0.0369, train_incorrect_abstentions=0.00156]\n"
          ]
        },
        {
          "output_type": "stream",
          "name": "stdout",
          "text": [
            "\n",
            "Epoch 14 validation: val_loss: 18607.1056, val_abstention_rate: 0.0100, val_valid_accuracy: 0.0441, val_correct_abstentions: 0.0117, val_incorrect_abstentions: 0.0273\n"
          ]
        },
        {
          "output_type": "stream",
          "name": "stderr",
          "text": [
            "Epoch 16/80: 100%|██████████| 1125/1125 [00:37<00:00, 30.33it/s, train_loss=6.48e+3, train_abstention_rate=0.0116, train_valid_accuracy=0.299, train_correct_abstentions=0.0387, train_incorrect_abstentions=0.00125]\n"
          ]
        },
        {
          "output_type": "stream",
          "name": "stdout",
          "text": [
            "\n",
            "Epoch 15 validation: val_loss: 2916.0190, val_abstention_rate: 0.0150, val_valid_accuracy: 0.3904, val_correct_abstentions: 0.0370, val_incorrect_abstentions: 0.0013\n"
          ]
        },
        {
          "output_type": "stream",
          "name": "stderr",
          "text": [
            "Epoch 17/80: 100%|██████████| 1125/1125 [00:37<00:00, 30.18it/s, train_loss=5.16e+3, train_abstention_rate=0.0244, train_valid_accuracy=0.361, train_correct_abstentions=0.0456, train_incorrect_abstentions=0.000937]\n"
          ]
        },
        {
          "output_type": "stream",
          "name": "stdout",
          "text": [
            "\n",
            "Epoch 16 validation: val_loss: 7386.0492, val_abstention_rate: 0.0248, val_valid_accuracy: 0.4226, val_correct_abstentions: 0.0448, val_incorrect_abstentions: 0.0000\n"
          ]
        },
        {
          "output_type": "stream",
          "name": "stderr",
          "text": [
            "Epoch 18/80: 100%|██████████| 1125/1125 [00:37<00:00, 30.28it/s, train_loss=5.4e+3, train_abstention_rate=0.0228, train_valid_accuracy=0.387, train_correct_abstentions=0.0416, train_incorrect_abstentions=0]\n"
          ]
        },
        {
          "output_type": "stream",
          "name": "stdout",
          "text": [
            "\n",
            "Epoch 17 validation: val_loss: 8314.0875, val_abstention_rate: 0.0180, val_valid_accuracy: 0.2132, val_correct_abstentions: 0.0402, val_incorrect_abstentions: 0.0000\n"
          ]
        },
        {
          "output_type": "stream",
          "name": "stderr",
          "text": [
            "Epoch 19/80: 100%|██████████| 1125/1125 [00:37<00:00, 30.25it/s, train_loss=5.55e+3, train_abstention_rate=0.0206, train_valid_accuracy=0.298, train_correct_abstentions=0.0469, train_incorrect_abstentions=0.000313]\n"
          ]
        },
        {
          "output_type": "stream",
          "name": "stdout",
          "text": [
            "\n",
            "Epoch 18 validation: val_loss: 3124.8213, val_abstention_rate: 0.0187, val_valid_accuracy: 0.3996, val_correct_abstentions: 0.0411, val_incorrect_abstentions: 0.0000\n"
          ]
        },
        {
          "output_type": "stream",
          "name": "stderr",
          "text": [
            "Epoch 20/80: 100%|██████████| 1125/1125 [00:37<00:00, 30.23it/s, train_loss=6.06e+3, train_abstention_rate=0.0384, train_valid_accuracy=0.479, train_correct_abstentions=0.0594, train_incorrect_abstentions=0]\n"
          ]
        },
        {
          "output_type": "stream",
          "name": "stdout",
          "text": [
            "\n",
            "Epoch 19 validation: val_loss: 3096.7438, val_abstention_rate: 0.0635, val_valid_accuracy: 0.5944, val_correct_abstentions: 0.0749, val_incorrect_abstentions: 0.0000\n"
          ]
        },
        {
          "output_type": "stream",
          "name": "stderr",
          "text": [
            "Epoch 21/80: 100%|██████████| 1125/1125 [00:37<00:00, 30.32it/s, train_loss=3.85e+3, train_abstention_rate=0.0331, train_valid_accuracy=0.484, train_correct_abstentions=0.0541, train_incorrect_abstentions=0]\n"
          ]
        },
        {
          "output_type": "stream",
          "name": "stdout",
          "text": [
            "\n",
            "Epoch 20 validation: val_loss: 6382.8538, val_abstention_rate: 0.0120, val_valid_accuracy: 0.3948, val_correct_abstentions: 0.0375, val_incorrect_abstentions: 0.0000\n"
          ]
        },
        {
          "output_type": "stream",
          "name": "stderr",
          "text": [
            "Epoch 22/80: 100%|██████████| 1125/1125 [00:37<00:00, 30.20it/s, train_loss=4.12e+3, train_abstention_rate=0.0278, train_valid_accuracy=0.495, train_correct_abstentions=0.0475, train_incorrect_abstentions=0.000625]\n"
          ]
        },
        {
          "output_type": "stream",
          "name": "stdout",
          "text": [
            "\n",
            "Epoch 21 validation: val_loss: 1960.4064, val_abstention_rate: 0.0240, val_valid_accuracy: 0.3640, val_correct_abstentions: 0.0405, val_incorrect_abstentions: 0.0000\n"
          ]
        },
        {
          "output_type": "stream",
          "name": "stderr",
          "text": [
            "Epoch 23/80: 100%|██████████| 1125/1125 [00:37<00:00, 30.18it/s, train_loss=6.28e+3, train_abstention_rate=0.0175, train_valid_accuracy=0.299, train_correct_abstentions=0.0434, train_incorrect_abstentions=0.000937]\n"
          ]
        },
        {
          "output_type": "stream",
          "name": "stdout",
          "text": [
            "\n",
            "Epoch 22 validation: val_loss: 2512.9976, val_abstention_rate: 0.0045, val_valid_accuracy: 0.6356, val_correct_abstentions: 0.0331, val_incorrect_abstentions: 0.0000\n"
          ]
        },
        {
          "output_type": "stream",
          "name": "stderr",
          "text": [
            "Epoch 24/80: 100%|██████████| 1125/1125 [00:37<00:00, 30.11it/s, train_loss=6.85e+3, train_abstention_rate=0.0275, train_valid_accuracy=0.381, train_correct_abstentions=0.0519, train_incorrect_abstentions=0.00156]\n"
          ]
        },
        {
          "output_type": "stream",
          "name": "stdout",
          "text": [
            "\n",
            "Epoch 23 validation: val_loss: 9533.6397, val_abstention_rate: 0.0127, val_valid_accuracy: 0.1932, val_correct_abstentions: 0.0379, val_incorrect_abstentions: 0.0000\n"
          ]
        },
        {
          "output_type": "stream",
          "name": "stderr",
          "text": [
            "Epoch 25/80: 100%|██████████| 1125/1125 [00:37<00:00, 30.13it/s, train_loss=6.4e+3, train_abstention_rate=0.0191, train_valid_accuracy=0.242, train_correct_abstentions=0.0422, train_incorrect_abstentions=0.00281]\n"
          ]
        },
        {
          "output_type": "stream",
          "name": "stdout",
          "text": [
            "\n",
            "Epoch 24 validation: val_loss: 3730.8710, val_abstention_rate: 0.0457, val_valid_accuracy: 0.4132, val_correct_abstentions: 0.0574, val_incorrect_abstentions: 0.0003\n"
          ]
        },
        {
          "output_type": "stream",
          "name": "stderr",
          "text": [
            "Epoch 26/80: 100%|██████████| 1125/1125 [00:37<00:00, 29.96it/s, train_loss=2.07e+3, train_abstention_rate=0.0525, train_valid_accuracy=0.492, train_correct_abstentions=0.0628, train_incorrect_abstentions=0]\n"
          ]
        },
        {
          "output_type": "stream",
          "name": "stdout",
          "text": [
            "\n",
            "Epoch 25 validation: val_loss: 10884.3940, val_abstention_rate: 0.0375, val_valid_accuracy: 0.7522, val_correct_abstentions: 0.0527, val_incorrect_abstentions: 0.0000\n"
          ]
        },
        {
          "output_type": "stream",
          "name": "stderr",
          "text": [
            "Epoch 27/80: 100%|██████████| 1125/1125 [00:37<00:00, 30.06it/s, train_loss=5.08e+3, train_abstention_rate=0.0378, train_valid_accuracy=0.42, train_correct_abstentions=0.0603, train_incorrect_abstentions=0.000625]\n"
          ]
        },
        {
          "output_type": "stream",
          "name": "stdout",
          "text": [
            "\n",
            "Epoch 26 validation: val_loss: 5828.6430, val_abstention_rate: 0.0340, val_valid_accuracy: 0.5087, val_correct_abstentions: 0.0507, val_incorrect_abstentions: 0.0011\n"
          ]
        },
        {
          "output_type": "stream",
          "name": "stderr",
          "text": [
            "Epoch 28/80: 100%|██████████| 1125/1125 [00:37<00:00, 29.99it/s, train_loss=4.06e+3, train_abstention_rate=0.0303, train_valid_accuracy=0.432, train_correct_abstentions=0.0509, train_incorrect_abstentions=0]\n"
          ]
        },
        {
          "output_type": "stream",
          "name": "stdout",
          "text": [
            "\n",
            "Epoch 27 validation: val_loss: 4036.8462, val_abstention_rate: 0.0035, val_valid_accuracy: 0.1137, val_correct_abstentions: 0.0312, val_incorrect_abstentions: 0.0000\n"
          ]
        },
        {
          "output_type": "stream",
          "name": "stderr",
          "text": [
            "Epoch 29/80: 100%|██████████| 1125/1125 [00:37<00:00, 30.14it/s, train_loss=2.63e+3, train_abstention_rate=0.0591, train_valid_accuracy=0.644, train_correct_abstentions=0.0675, train_incorrect_abstentions=0]\n"
          ]
        },
        {
          "output_type": "stream",
          "name": "stdout",
          "text": [
            "\n",
            "Epoch 28 validation: val_loss: 2481.5797, val_abstention_rate: 0.0597, val_valid_accuracy: 0.5984, val_correct_abstentions: 0.0705, val_incorrect_abstentions: 0.0000\n"
          ]
        },
        {
          "output_type": "stream",
          "name": "stderr",
          "text": [
            "Epoch 30/80: 100%|██████████| 1125/1125 [00:37<00:00, 29.99it/s, train_loss=4.05e+3, train_abstention_rate=0.0522, train_valid_accuracy=0.552, train_correct_abstentions=0.0638, train_incorrect_abstentions=0.000313]\n"
          ]
        },
        {
          "output_type": "stream",
          "name": "stdout",
          "text": [
            "\n",
            "Epoch 29 validation: val_loss: 3466.6721, val_abstention_rate: 0.0862, val_valid_accuracy: 0.6545, val_correct_abstentions: 0.0906, val_incorrect_abstentions: 0.0000\n"
          ]
        },
        {
          "output_type": "stream",
          "name": "stderr",
          "text": [
            "Epoch 31/80: 100%|██████████| 1125/1125 [00:37<00:00, 30.07it/s, train_loss=4.12e+3, train_abstention_rate=0.0862, train_valid_accuracy=0.645, train_correct_abstentions=0.0931, train_incorrect_abstentions=0]\n"
          ]
        },
        {
          "output_type": "stream",
          "name": "stdout",
          "text": [
            "\n",
            "Epoch 30 validation: val_loss: 2609.2037, val_abstention_rate: 0.0680, val_valid_accuracy: 0.6907, val_correct_abstentions: 0.0780, val_incorrect_abstentions: 0.0000\n"
          ]
        },
        {
          "output_type": "stream",
          "name": "stderr",
          "text": [
            "Epoch 32/80: 100%|██████████| 1125/1125 [00:37<00:00, 29.98it/s, train_loss=8.07e+3, train_abstention_rate=0.0622, train_valid_accuracy=0.481, train_correct_abstentions=0.0778, train_incorrect_abstentions=0.000313]\n"
          ]
        },
        {
          "output_type": "stream",
          "name": "stdout",
          "text": [
            "\n",
            "Epoch 31 validation: val_loss: 6830.9980, val_abstention_rate: 0.0265, val_valid_accuracy: 0.6727, val_correct_abstentions: 0.0411, val_incorrect_abstentions: 0.0008\n"
          ]
        },
        {
          "output_type": "stream",
          "name": "stderr",
          "text": [
            "Epoch 33/80: 100%|██████████| 1125/1125 [00:37<00:00, 29.92it/s, train_loss=4.42e+3, train_abstention_rate=0.0672, train_valid_accuracy=0.725, train_correct_abstentions=0.0737, train_incorrect_abstentions=0]\n"
          ]
        },
        {
          "output_type": "stream",
          "name": "stdout",
          "text": [
            "\n",
            "Epoch 32 validation: val_loss: 2516.1160, val_abstention_rate: 0.0432, val_valid_accuracy: 0.7640, val_correct_abstentions: 0.0588, val_incorrect_abstentions: 0.0000\n"
          ]
        },
        {
          "output_type": "stream",
          "name": "stderr",
          "text": [
            "Epoch 34/80: 100%|██████████| 1125/1125 [00:37<00:00, 29.97it/s, train_loss=3.92e+3, train_abstention_rate=0.0525, train_valid_accuracy=0.573, train_correct_abstentions=0.0675, train_incorrect_abstentions=0]\n"
          ]
        },
        {
          "output_type": "stream",
          "name": "stdout",
          "text": [
            "\n",
            "Epoch 33 validation: val_loss: 2806.6172, val_abstention_rate: 0.0788, val_valid_accuracy: 0.8441, val_correct_abstentions: 0.0849, val_incorrect_abstentions: 0.0000\n"
          ]
        },
        {
          "output_type": "stream",
          "name": "stderr",
          "text": [
            "Epoch 35/80: 100%|██████████| 1125/1125 [00:37<00:00, 29.90it/s, train_loss=2.65e+3, train_abstention_rate=0.0737, train_valid_accuracy=0.699, train_correct_abstentions=0.0909, train_incorrect_abstentions=0]\n"
          ]
        },
        {
          "output_type": "stream",
          "name": "stdout",
          "text": [
            "\n",
            "Epoch 34 validation: val_loss: 2384.6007, val_abstention_rate: 0.0717, val_valid_accuracy: 0.6897, val_correct_abstentions: 0.0765, val_incorrect_abstentions: 0.0008\n"
          ]
        },
        {
          "output_type": "stream",
          "name": "stderr",
          "text": [
            "Epoch 36/80: 100%|██████████| 1125/1125 [00:37<00:00, 30.02it/s, train_loss=2.7e+3, train_abstention_rate=0.0791, train_valid_accuracy=0.716, train_correct_abstentions=0.0988, train_incorrect_abstentions=0.000313]\n"
          ]
        },
        {
          "output_type": "stream",
          "name": "stdout",
          "text": [
            "\n",
            "Epoch 35 validation: val_loss: 1587.5794, val_abstention_rate: 0.0377, val_valid_accuracy: 0.6806, val_correct_abstentions: 0.0513, val_incorrect_abstentions: 0.0000\n"
          ]
        },
        {
          "output_type": "stream",
          "name": "stderr",
          "text": [
            "Epoch 37/80: 100%|██████████| 1125/1125 [00:37<00:00, 29.95it/s, train_loss=1.82e+3, train_abstention_rate=0.102, train_valid_accuracy=0.812, train_correct_abstentions=0.106, train_incorrect_abstentions=0]\n"
          ]
        },
        {
          "output_type": "stream",
          "name": "stdout",
          "text": [
            "\n",
            "Epoch 36 validation: val_loss: 1088.8169, val_abstention_rate: 0.1177, val_valid_accuracy: 0.7626, val_correct_abstentions: 0.1189, val_incorrect_abstentions: 0.0008\n"
          ]
        },
        {
          "output_type": "stream",
          "name": "stderr",
          "text": [
            "Epoch 38/80: 100%|██████████| 1125/1125 [00:37<00:00, 29.81it/s, train_loss=1.93e+3, train_abstention_rate=0.0938, train_valid_accuracy=0.704, train_correct_abstentions=0.105, train_incorrect_abstentions=0.000313]\n"
          ]
        },
        {
          "output_type": "stream",
          "name": "stdout",
          "text": [
            "\n",
            "Epoch 37 validation: val_loss: 2095.4827, val_abstention_rate: 0.0640, val_valid_accuracy: 0.7098, val_correct_abstentions: 0.0727, val_incorrect_abstentions: 0.0000\n"
          ]
        },
        {
          "output_type": "stream",
          "name": "stderr",
          "text": [
            "Epoch 39/80: 100%|██████████| 1125/1125 [00:37<00:00, 29.76it/s, train_loss=923, train_abstention_rate=0.0806, train_valid_accuracy=0.806, train_correct_abstentions=0.0966, train_incorrect_abstentions=0.000313]\n"
          ]
        },
        {
          "output_type": "stream",
          "name": "stdout",
          "text": [
            "\n",
            "Epoch 38 validation: val_loss: 684.0692, val_abstention_rate: 0.1150, val_valid_accuracy: 0.9347, val_correct_abstentions: 0.1178, val_incorrect_abstentions: 0.0000\n"
          ]
        },
        {
          "output_type": "stream",
          "name": "stderr",
          "text": [
            "Epoch 40/80: 100%|██████████| 1125/1125 [00:37<00:00, 29.70it/s, train_loss=2.4e+3, train_abstention_rate=0.0859, train_valid_accuracy=0.742, train_correct_abstentions=0.102, train_incorrect_abstentions=0]\n"
          ]
        },
        {
          "output_type": "stream",
          "name": "stdout",
          "text": [
            "\n",
            "Epoch 39 validation: val_loss: 3226.5787, val_abstention_rate: 0.0882, val_valid_accuracy: 0.8126, val_correct_abstentions: 0.0943, val_incorrect_abstentions: 0.0000\n"
          ]
        },
        {
          "output_type": "stream",
          "name": "stderr",
          "text": [
            "Epoch 41/80: 100%|██████████| 1125/1125 [00:37<00:00, 29.74it/s, train_loss=1.28e+3, train_abstention_rate=0.102, train_valid_accuracy=0.782, train_correct_abstentions=0.113, train_incorrect_abstentions=0]\n"
          ]
        },
        {
          "output_type": "stream",
          "name": "stdout",
          "text": [
            "\n",
            "Epoch 40 validation: val_loss: 1687.8204, val_abstention_rate: 0.0995, val_valid_accuracy: 0.4845, val_correct_abstentions: 0.1028, val_incorrect_abstentions: 0.0000\n"
          ]
        },
        {
          "output_type": "stream",
          "name": "stderr",
          "text": [
            "Epoch 42/80: 100%|██████████| 1125/1125 [00:38<00:00, 29.56it/s, train_loss=2.66e+3, train_abstention_rate=0.0675, train_valid_accuracy=0.603, train_correct_abstentions=0.0834, train_incorrect_abstentions=0.000625]\n"
          ]
        },
        {
          "output_type": "stream",
          "name": "stdout",
          "text": [
            "\n",
            "Epoch 41 validation: val_loss: 1868.3599, val_abstention_rate: 0.0823, val_valid_accuracy: 0.6586, val_correct_abstentions: 0.0879, val_incorrect_abstentions: 0.0000\n"
          ]
        },
        {
          "output_type": "stream",
          "name": "stderr",
          "text": [
            "Epoch 43/80: 100%|██████████| 1125/1125 [00:38<00:00, 29.52it/s, train_loss=1.37e+3, train_abstention_rate=0.102, train_valid_accuracy=0.822, train_correct_abstentions=0.106, train_incorrect_abstentions=0.000313]\n"
          ]
        },
        {
          "output_type": "stream",
          "name": "stdout",
          "text": [
            "\n",
            "Epoch 42 validation: val_loss: 1297.9637, val_abstention_rate: 0.0955, val_valid_accuracy: 0.8249, val_correct_abstentions: 0.1012, val_incorrect_abstentions: 0.0000\n"
          ]
        },
        {
          "output_type": "stream",
          "name": "stderr",
          "text": [
            "Epoch 44/80: 100%|██████████| 1125/1125 [00:38<00:00, 29.38it/s, train_loss=1.72e+3, train_abstention_rate=0.112, train_valid_accuracy=0.763, train_correct_abstentions=0.115, train_incorrect_abstentions=0]\n"
          ]
        },
        {
          "output_type": "stream",
          "name": "stdout",
          "text": [
            "\n",
            "Epoch 43 validation: val_loss: 649.5949, val_abstention_rate: 0.1232, val_valid_accuracy: 0.8869, val_correct_abstentions: 0.1263, val_incorrect_abstentions: 0.0000\n"
          ]
        },
        {
          "output_type": "stream",
          "name": "stderr",
          "text": [
            "Epoch 45/80: 100%|██████████| 1125/1125 [00:38<00:00, 29.38it/s, train_loss=5.23e+3, train_abstention_rate=0.0881, train_valid_accuracy=0.641, train_correct_abstentions=0.0956, train_incorrect_abstentions=0]\n"
          ]
        },
        {
          "output_type": "stream",
          "name": "stdout",
          "text": [
            "\n",
            "Epoch 44 validation: val_loss: 3553.0446, val_abstention_rate: 0.0990, val_valid_accuracy: 0.6733, val_correct_abstentions: 0.1020, val_incorrect_abstentions: 0.0003\n"
          ]
        },
        {
          "output_type": "stream",
          "name": "stderr",
          "text": [
            "Epoch 46/80: 100%|██████████| 1125/1125 [00:38<00:00, 29.48it/s, train_loss=1.7e+3, train_abstention_rate=0.105, train_valid_accuracy=0.728, train_correct_abstentions=0.111, train_incorrect_abstentions=0.000313]\n"
          ]
        },
        {
          "output_type": "stream",
          "name": "stdout",
          "text": [
            "\n",
            "Epoch 45 validation: val_loss: 1466.8338, val_abstention_rate: 0.0328, val_valid_accuracy: 0.8906, val_correct_abstentions: 0.0476, val_incorrect_abstentions: 0.0000\n"
          ]
        },
        {
          "output_type": "stream",
          "name": "stderr",
          "text": [
            "Epoch 47/80: 100%|██████████| 1125/1125 [00:38<00:00, 29.42it/s, train_loss=2.31e+3, train_abstention_rate=0.0978, train_valid_accuracy=0.668, train_correct_abstentions=0.106, train_incorrect_abstentions=0]\n"
          ]
        },
        {
          "output_type": "stream",
          "name": "stdout",
          "text": [
            "\n",
            "Epoch 46 validation: val_loss: 1210.8174, val_abstention_rate: 0.0208, val_valid_accuracy: 0.7196, val_correct_abstentions: 0.0415, val_incorrect_abstentions: 0.0010\n"
          ]
        },
        {
          "output_type": "stream",
          "name": "stderr",
          "text": [
            "Epoch 48/80: 100%|██████████| 1125/1125 [00:38<00:00, 29.36it/s, train_loss=3.5e+3, train_abstention_rate=0.0775, train_valid_accuracy=0.692, train_correct_abstentions=0.0819, train_incorrect_abstentions=0.000625]\n"
          ]
        },
        {
          "output_type": "stream",
          "name": "stdout",
          "text": [
            "\n",
            "Epoch 47 validation: val_loss: 1087.6474, val_abstention_rate: 0.1200, val_valid_accuracy: 0.7357, val_correct_abstentions: 0.1240, val_incorrect_abstentions: 0.0000\n"
          ]
        },
        {
          "output_type": "stream",
          "name": "stderr",
          "text": [
            "Epoch 49/80: 100%|██████████| 1125/1125 [00:38<00:00, 29.44it/s, train_loss=2.47e+3, train_abstention_rate=0.0722, train_valid_accuracy=0.633, train_correct_abstentions=0.0966, train_incorrect_abstentions=0.000313]\n"
          ]
        },
        {
          "output_type": "stream",
          "name": "stdout",
          "text": [
            "\n",
            "Epoch 48 validation: val_loss: 2261.8100, val_abstention_rate: 0.0833, val_valid_accuracy: 0.2597, val_correct_abstentions: 0.0881, val_incorrect_abstentions: 0.0016\n"
          ]
        },
        {
          "output_type": "stream",
          "name": "stderr",
          "text": [
            "Epoch 50/80: 100%|██████████| 1125/1125 [00:38<00:00, 29.18it/s, train_loss=2.18e+3, train_abstention_rate=0.0822, train_valid_accuracy=0.631, train_correct_abstentions=0.104, train_incorrect_abstentions=0]\n"
          ]
        },
        {
          "output_type": "stream",
          "name": "stdout",
          "text": [
            "\n",
            "Epoch 49 validation: val_loss: 2571.8015, val_abstention_rate: 0.0075, val_valid_accuracy: 0.5740, val_correct_abstentions: 0.0260, val_incorrect_abstentions: 0.0130\n"
          ]
        },
        {
          "output_type": "stream",
          "name": "stderr",
          "text": [
            "Epoch 51/80: 100%|██████████| 1125/1125 [00:38<00:00, 29.19it/s, train_loss=958, train_abstention_rate=0.103, train_valid_accuracy=0.732, train_correct_abstentions=0.111, train_incorrect_abstentions=0]\n"
          ]
        },
        {
          "output_type": "stream",
          "name": "stdout",
          "text": [
            "\n",
            "Epoch 50 validation: val_loss: 1341.9890, val_abstention_rate: 0.1253, val_valid_accuracy: 0.5328, val_correct_abstentions: 0.1263, val_incorrect_abstentions: 0.0000\n"
          ]
        },
        {
          "output_type": "stream",
          "name": "stderr",
          "text": [
            "Epoch 52/80: 100%|██████████| 1125/1125 [00:38<00:00, 29.21it/s, train_loss=449, train_abstention_rate=0.132, train_valid_accuracy=0.792, train_correct_abstentions=0.134, train_incorrect_abstentions=0]\n"
          ]
        },
        {
          "output_type": "stream",
          "name": "stdout",
          "text": [
            "\n",
            "Epoch 51 validation: val_loss: 3476.3711, val_abstention_rate: 0.1325, val_valid_accuracy: 0.8342, val_correct_abstentions: 0.1347, val_incorrect_abstentions: 0.0000\n"
          ]
        },
        {
          "output_type": "stream",
          "name": "stderr",
          "text": [
            "Epoch 53/80: 100%|██████████| 1125/1125 [00:38<00:00, 29.33it/s, train_loss=1.86e+3, train_abstention_rate=0.0803, train_valid_accuracy=0.703, train_correct_abstentions=0.0975, train_incorrect_abstentions=0]\n"
          ]
        },
        {
          "output_type": "stream",
          "name": "stdout",
          "text": [
            "\n",
            "Epoch 52 validation: val_loss: 631.9776, val_abstention_rate: 0.1225, val_valid_accuracy: 0.7982, val_correct_abstentions: 0.1245, val_incorrect_abstentions: 0.0000\n"
          ]
        },
        {
          "output_type": "stream",
          "name": "stderr",
          "text": [
            "Epoch 54/80: 100%|██████████| 1125/1125 [00:38<00:00, 29.30it/s, train_loss=1.06e+3, train_abstention_rate=0.113, train_valid_accuracy=0.717, train_correct_abstentions=0.115, train_incorrect_abstentions=0]\n"
          ]
        },
        {
          "output_type": "stream",
          "name": "stdout",
          "text": [
            "\n",
            "Epoch 53 validation: val_loss: 351.1575, val_abstention_rate: 0.1370, val_valid_accuracy: 0.8280, val_correct_abstentions: 0.1392, val_incorrect_abstentions: 0.0000\n"
          ]
        },
        {
          "output_type": "stream",
          "name": "stderr",
          "text": [
            "Epoch 55/80: 100%|██████████| 1125/1125 [00:38<00:00, 29.37it/s, train_loss=1.23e+3, train_abstention_rate=0.123, train_valid_accuracy=0.656, train_correct_abstentions=0.129, train_incorrect_abstentions=0]\n"
          ]
        },
        {
          "output_type": "stream",
          "name": "stdout",
          "text": [
            "\n",
            "Epoch 54 validation: val_loss: 566.0348, val_abstention_rate: 0.0882, val_valid_accuracy: 0.6176, val_correct_abstentions: 0.0914, val_incorrect_abstentions: 0.0021\n"
          ]
        },
        {
          "output_type": "stream",
          "name": "stderr",
          "text": [
            "Epoch 56/80: 100%|██████████| 1125/1125 [00:38<00:00, 29.18it/s, train_loss=663, train_abstention_rate=0.11, train_valid_accuracy=0.701, train_correct_abstentions=0.117, train_incorrect_abstentions=0]\n"
          ]
        },
        {
          "output_type": "stream",
          "name": "stdout",
          "text": [
            "\n",
            "Epoch 55 validation: val_loss: 882.6942, val_abstention_rate: 0.0660, val_valid_accuracy: 0.5820, val_correct_abstentions: 0.0717, val_incorrect_abstentions: 0.0000\n"
          ]
        },
        {
          "output_type": "stream",
          "name": "stderr",
          "text": [
            "Epoch 57/80: 100%|██████████| 1125/1125 [00:38<00:00, 29.11it/s, train_loss=922, train_abstention_rate=0.124, train_valid_accuracy=0.731, train_correct_abstentions=0.131, train_incorrect_abstentions=0.000313]\n"
          ]
        },
        {
          "output_type": "stream",
          "name": "stdout",
          "text": [
            "\n",
            "Epoch 56 validation: val_loss: 946.5795, val_abstention_rate: 0.1095, val_valid_accuracy: 0.4486, val_correct_abstentions: 0.1095, val_incorrect_abstentions: 0.0000\n"
          ]
        },
        {
          "output_type": "stream",
          "name": "stderr",
          "text": [
            "Epoch 58/80: 100%|██████████| 1125/1125 [00:38<00:00, 29.17it/s, train_loss=1e+3, train_abstention_rate=0.121, train_valid_accuracy=0.736, train_correct_abstentions=0.126, train_incorrect_abstentions=0]\n"
          ]
        },
        {
          "output_type": "stream",
          "name": "stdout",
          "text": [
            "\n",
            "Epoch 57 validation: val_loss: 454.8046, val_abstention_rate: 0.1618, val_valid_accuracy: 0.8269, val_correct_abstentions: 0.1618, val_incorrect_abstentions: 0.0000\n"
          ]
        },
        {
          "output_type": "stream",
          "name": "stderr",
          "text": [
            "Epoch 59/80: 100%|██████████| 1125/1125 [00:38<00:00, 29.10it/s, train_loss=796, train_abstention_rate=0.125, train_valid_accuracy=0.829, train_correct_abstentions=0.128, train_incorrect_abstentions=0]\n"
          ]
        },
        {
          "output_type": "stream",
          "name": "stdout",
          "text": [
            "\n",
            "Epoch 58 validation: val_loss: 225.8353, val_abstention_rate: 0.1265, val_valid_accuracy: 0.7785, val_correct_abstentions: 0.1288, val_incorrect_abstentions: 0.0008\n"
          ]
        },
        {
          "output_type": "stream",
          "name": "stderr",
          "text": [
            "Epoch 60/80: 100%|██████████| 1125/1125 [00:38<00:00, 29.12it/s, train_loss=517, train_abstention_rate=0.11, train_valid_accuracy=0.832, train_correct_abstentions=0.115, train_incorrect_abstentions=0]\n"
          ]
        },
        {
          "output_type": "stream",
          "name": "stdout",
          "text": [
            "\n",
            "Epoch 59 validation: val_loss: 1051.9461, val_abstention_rate: 0.0435, val_valid_accuracy: 0.8488, val_correct_abstentions: 0.0561, val_incorrect_abstentions: 0.0000\n"
          ]
        },
        {
          "output_type": "stream",
          "name": "stderr",
          "text": [
            "Epoch 61/80: 100%|██████████| 1125/1125 [00:38<00:00, 28.97it/s, train_loss=684, train_abstention_rate=0.119, train_valid_accuracy=0.827, train_correct_abstentions=0.121, train_incorrect_abstentions=0]\n"
          ]
        },
        {
          "output_type": "stream",
          "name": "stdout",
          "text": [
            "\n",
            "Epoch 60 validation: val_loss: 2078.2399, val_abstention_rate: 0.0573, val_valid_accuracy: 0.8288, val_correct_abstentions: 0.0688, val_incorrect_abstentions: 0.0000\n"
          ]
        },
        {
          "output_type": "stream",
          "name": "stderr",
          "text": [
            "Epoch 62/80: 100%|██████████| 1125/1125 [00:38<00:00, 29.07it/s, train_loss=1.41e+3, train_abstention_rate=0.103, train_valid_accuracy=0.805, train_correct_abstentions=0.104, train_incorrect_abstentions=0]\n"
          ]
        },
        {
          "output_type": "stream",
          "name": "stdout",
          "text": [
            "\n",
            "Epoch 61 validation: val_loss: 1117.1381, val_abstention_rate: 0.1130, val_valid_accuracy: 0.7212, val_correct_abstentions: 0.1167, val_incorrect_abstentions: 0.0000\n"
          ]
        },
        {
          "output_type": "stream",
          "name": "stderr",
          "text": [
            "Epoch 63/80: 100%|██████████| 1125/1125 [00:38<00:00, 29.02it/s, train_loss=896, train_abstention_rate=0.0819, train_valid_accuracy=0.776, train_correct_abstentions=0.0997, train_incorrect_abstentions=0]\n"
          ]
        },
        {
          "output_type": "stream",
          "name": "stdout",
          "text": [
            "\n",
            "Epoch 62 validation: val_loss: 308.7322, val_abstention_rate: 0.0225, val_valid_accuracy: 0.7362, val_correct_abstentions: 0.0426, val_incorrect_abstentions: 0.0000\n"
          ]
        },
        {
          "output_type": "stream",
          "name": "stderr",
          "text": [
            "Epoch 64/80: 100%|██████████| 1125/1125 [00:38<00:00, 29.14it/s, train_loss=741, train_abstention_rate=0.0963, train_valid_accuracy=0.78, train_correct_abstentions=0.106, train_incorrect_abstentions=0]\n"
          ]
        },
        {
          "output_type": "stream",
          "name": "stdout",
          "text": [
            "\n",
            "Epoch 63 validation: val_loss: 293.9250, val_abstention_rate: 0.1217, val_valid_accuracy: 0.8516, val_correct_abstentions: 0.1247, val_incorrect_abstentions: 0.0000\n"
          ]
        },
        {
          "output_type": "stream",
          "name": "stderr",
          "text": [
            "Epoch 65/80: 100%|██████████| 1125/1125 [00:38<00:00, 28.99it/s, train_loss=1.71e+3, train_abstention_rate=0.0887, train_valid_accuracy=0.678, train_correct_abstentions=0.106, train_incorrect_abstentions=0.000313]\n"
          ]
        },
        {
          "output_type": "stream",
          "name": "stdout",
          "text": [
            "\n",
            "Epoch 64 validation: val_loss: 3066.6736, val_abstention_rate: 0.0587, val_valid_accuracy: 0.6245, val_correct_abstentions: 0.0653, val_incorrect_abstentions: 0.0003\n"
          ]
        },
        {
          "output_type": "stream",
          "name": "stderr",
          "text": [
            "Epoch 66/80: 100%|██████████| 1125/1125 [00:38<00:00, 28.90it/s, train_loss=222, train_abstention_rate=0.145, train_valid_accuracy=0.859, train_correct_abstentions=0.148, train_incorrect_abstentions=0]\n"
          ]
        },
        {
          "output_type": "stream",
          "name": "stdout",
          "text": [
            "\n",
            "Epoch 65 validation: val_loss: 354.6766, val_abstention_rate: 0.0970, val_valid_accuracy: 0.8475, val_correct_abstentions: 0.1010, val_incorrect_abstentions: 0.0000\n"
          ]
        },
        {
          "output_type": "stream",
          "name": "stderr",
          "text": [
            "Epoch 67/80: 100%|██████████| 1125/1125 [00:38<00:00, 29.15it/s, train_loss=345, train_abstention_rate=0.138, train_valid_accuracy=0.859, train_correct_abstentions=0.141, train_incorrect_abstentions=0]\n"
          ]
        },
        {
          "output_type": "stream",
          "name": "stdout",
          "text": [
            "\n",
            "Epoch 66 validation: val_loss: 1197.3208, val_abstention_rate: 0.1318, val_valid_accuracy: 0.9110, val_correct_abstentions: 0.1318, val_incorrect_abstentions: 0.0000\n"
          ]
        },
        {
          "output_type": "stream",
          "name": "stderr",
          "text": [
            "Epoch 68/80: 100%|██████████| 1125/1125 [00:38<00:00, 29.22it/s, train_loss=605, train_abstention_rate=0.124, train_valid_accuracy=0.845, train_correct_abstentions=0.132, train_incorrect_abstentions=0]\n"
          ]
        },
        {
          "output_type": "stream",
          "name": "stdout",
          "text": [
            "\n",
            "Epoch 67 validation: val_loss: 288.7174, val_abstention_rate: 0.1492, val_valid_accuracy: 0.8602, val_correct_abstentions: 0.1517, val_incorrect_abstentions: 0.0000\n"
          ]
        },
        {
          "output_type": "stream",
          "name": "stderr",
          "text": [
            "Epoch 69/80: 100%|██████████| 1125/1125 [00:38<00:00, 29.04it/s, train_loss=214, train_abstention_rate=0.132, train_valid_accuracy=0.841, train_correct_abstentions=0.133, train_incorrect_abstentions=0]\n"
          ]
        },
        {
          "output_type": "stream",
          "name": "stdout",
          "text": [
            "\n",
            "Epoch 68 validation: val_loss: 226.6738, val_abstention_rate: 0.1358, val_valid_accuracy: 0.8941, val_correct_abstentions: 0.1368, val_incorrect_abstentions: 0.0000\n"
          ]
        },
        {
          "output_type": "stream",
          "name": "stderr",
          "text": [
            "Epoch 70/80: 100%|██████████| 1125/1125 [00:38<00:00, 29.24it/s, train_loss=295, train_abstention_rate=0.14, train_valid_accuracy=0.893, train_correct_abstentions=0.144, train_incorrect_abstentions=0]\n"
          ]
        },
        {
          "output_type": "stream",
          "name": "stdout",
          "text": [
            "\n",
            "Epoch 69 validation: val_loss: 347.0283, val_abstention_rate: 0.1240, val_valid_accuracy: 0.8816, val_correct_abstentions: 0.1270, val_incorrect_abstentions: 0.0000\n"
          ]
        },
        {
          "output_type": "stream",
          "name": "stderr",
          "text": [
            "Epoch 71/80: 100%|██████████| 1125/1125 [00:38<00:00, 29.16it/s, train_loss=452, train_abstention_rate=0.135, train_valid_accuracy=0.876, train_correct_abstentions=0.138, train_incorrect_abstentions=0]\n"
          ]
        },
        {
          "output_type": "stream",
          "name": "stdout",
          "text": [
            "\n",
            "Epoch 70 validation: val_loss: 193.2403, val_abstention_rate: 0.1512, val_valid_accuracy: 0.9003, val_correct_abstentions: 0.1522, val_incorrect_abstentions: 0.0003\n"
          ]
        },
        {
          "output_type": "stream",
          "name": "stderr",
          "text": [
            "Epoch 72/80: 100%|██████████| 1125/1125 [00:38<00:00, 29.10it/s, train_loss=158, train_abstention_rate=0.14, train_valid_accuracy=0.877, train_correct_abstentions=0.142, train_incorrect_abstentions=0.000313]\n"
          ]
        },
        {
          "output_type": "stream",
          "name": "stdout",
          "text": [
            "\n",
            "Epoch 71 validation: val_loss: 150.0103, val_abstention_rate: 0.1355, val_valid_accuracy: 0.9010, val_correct_abstentions: 0.1377, val_incorrect_abstentions: 0.0000\n"
          ]
        },
        {
          "output_type": "stream",
          "name": "stderr",
          "text": [
            "Epoch 73/80: 100%|██████████| 1125/1125 [00:38<00:00, 29.21it/s, train_loss=1.59e+3, train_abstention_rate=0.132, train_valid_accuracy=0.871, train_correct_abstentions=0.136, train_incorrect_abstentions=0]\n"
          ]
        },
        {
          "output_type": "stream",
          "name": "stdout",
          "text": [
            "\n",
            "Epoch 72 validation: val_loss: 501.9807, val_abstention_rate: 0.1355, val_valid_accuracy: 0.8744, val_correct_abstentions: 0.1353, val_incorrect_abstentions: 0.0003\n"
          ]
        },
        {
          "output_type": "stream",
          "name": "stderr",
          "text": [
            "Epoch 74/80: 100%|██████████| 1125/1125 [00:38<00:00, 29.10it/s, train_loss=1.2e+3, train_abstention_rate=0.112, train_valid_accuracy=0.85, train_correct_abstentions=0.115, train_incorrect_abstentions=0.000313]\n"
          ]
        },
        {
          "output_type": "stream",
          "name": "stdout",
          "text": [
            "\n",
            "Epoch 73 validation: val_loss: 508.1384, val_abstention_rate: 0.1472, val_valid_accuracy: 0.8639, val_correct_abstentions: 0.1470, val_incorrect_abstentions: 0.0003\n"
          ]
        },
        {
          "output_type": "stream",
          "name": "stderr",
          "text": [
            "Epoch 75/80: 100%|██████████| 1125/1125 [00:38<00:00, 29.19it/s, train_loss=137, train_abstention_rate=0.124, train_valid_accuracy=0.847, train_correct_abstentions=0.124, train_incorrect_abstentions=0.000625]\n"
          ]
        },
        {
          "output_type": "stream",
          "name": "stdout",
          "text": [
            "\n",
            "Epoch 74 validation: val_loss: 154.4668, val_abstention_rate: 0.1452, val_valid_accuracy: 0.8872, val_correct_abstentions: 0.1476, val_incorrect_abstentions: 0.0000\n"
          ]
        },
        {
          "output_type": "stream",
          "name": "stderr",
          "text": [
            "Epoch 76/80: 100%|██████████| 1125/1125 [00:38<00:00, 29.11it/s, train_loss=423, train_abstention_rate=0.134, train_valid_accuracy=0.868, train_correct_abstentions=0.134, train_incorrect_abstentions=0]\n"
          ]
        },
        {
          "output_type": "stream",
          "name": "stdout",
          "text": [
            "\n",
            "Epoch 75 validation: val_loss: 557.9854, val_abstention_rate: 0.1485, val_valid_accuracy: 0.8783, val_correct_abstentions: 0.1509, val_incorrect_abstentions: 0.0000\n"
          ]
        },
        {
          "output_type": "stream",
          "name": "stderr",
          "text": [
            "Epoch 77/80: 100%|██████████| 1125/1125 [00:38<00:00, 29.17it/s, train_loss=426, train_abstention_rate=0.142, train_valid_accuracy=0.855, train_correct_abstentions=0.144, train_incorrect_abstentions=0]\n"
          ]
        },
        {
          "output_type": "stream",
          "name": "stdout",
          "text": [
            "\n",
            "Epoch 76 validation: val_loss: 182.8153, val_abstention_rate: 0.1472, val_valid_accuracy: 0.8303, val_correct_abstentions: 0.1472, val_incorrect_abstentions: 0.0000\n"
          ]
        },
        {
          "output_type": "stream",
          "name": "stderr",
          "text": [
            "Epoch 78/80: 100%|██████████| 1125/1125 [00:38<00:00, 29.01it/s, train_loss=306, train_abstention_rate=0.138, train_valid_accuracy=0.843, train_correct_abstentions=0.139, train_incorrect_abstentions=0]\n"
          ]
        },
        {
          "output_type": "stream",
          "name": "stdout",
          "text": [
            "\n",
            "Epoch 77 validation: val_loss: 464.6472, val_abstention_rate: 0.1190, val_valid_accuracy: 0.7974, val_correct_abstentions: 0.1219, val_incorrect_abstentions: 0.0000\n"
          ]
        },
        {
          "output_type": "stream",
          "name": "stderr",
          "text": [
            "Epoch 79/80: 100%|██████████| 1125/1125 [00:38<00:00, 29.15it/s, train_loss=270, train_abstention_rate=0.138, train_valid_accuracy=0.881, train_correct_abstentions=0.141, train_incorrect_abstentions=0]\n"
          ]
        },
        {
          "output_type": "stream",
          "name": "stdout",
          "text": [
            "\n",
            "Epoch 78 validation: val_loss: 115.6175, val_abstention_rate: 0.1500, val_valid_accuracy: 0.8589, val_correct_abstentions: 0.1524, val_incorrect_abstentions: 0.0000\n"
          ]
        },
        {
          "output_type": "stream",
          "name": "stderr",
          "text": [
            "Epoch 80/80: 100%|██████████| 1125/1125 [00:38<00:00, 28.99it/s, train_loss=380, train_abstention_rate=0.138, train_valid_accuracy=0.856, train_correct_abstentions=0.14, train_incorrect_abstentions=0]\n"
          ]
        },
        {
          "output_type": "stream",
          "name": "stdout",
          "text": [
            "\n",
            "Epoch 79 validation: val_loss: 145.1502, val_abstention_rate: 0.1455, val_valid_accuracy: 0.8596, val_correct_abstentions: 0.1479, val_incorrect_abstentions: 0.0000\n",
            "\n",
            "Performing landscape analysis for epoch 79 on full_pgd...\n",
            "Computing Lipschitz surface...\n",
            "Completed 1/20 LLC rows\n",
            "Completed 6/20 LLC rows\n",
            "Completed 11/20 LLC rows\n",
            "Completed 16/20 LLC rows\n",
            "Computing Distance to Decision Boundary surface...\n",
            "Computing loss surface...\n",
            "Completed 1/20 rows\n",
            "Completed 6/20 rows\n",
            "Completed 11/20 rows\n",
            "Completed 16/20 rows\n",
            "Saved landscape visualization to experiment_results/landscapes/full_pgd/landscape_epoch_79_full_pgd_random.png\n",
            "Computing Lipschitz surface...\n",
            "Completed 1/20 LLC rows\n",
            "Completed 6/20 LLC rows\n",
            "Completed 11/20 LLC rows\n",
            "Completed 16/20 LLC rows\n",
            "Computing Distance to Decision Boundary surface...\n",
            "Computing loss surface...\n",
            "Completed 1/20 rows\n",
            "Completed 6/20 rows\n",
            "Completed 11/20 rows\n",
            "Completed 16/20 rows\n",
            "Saved landscape visualization to experiment_results/landscapes/full_pgd/landscape_epoch_79_full_pgd_pca.png\n",
            "  [Landscape] Alpha Sharpness: 130447440.0000\n",
            "  [Landscape] Top Eigenvalues:\n",
            "    λ1: 92084720.0000\n",
            "    λ2: 42775988.0000\n",
            "    λ3: 27270852.0000\n",
            "  [Landscape] Multiscale Sharpness:\n",
            "    alpha_0.1: 90707760.0000\n",
            "    alpha_0.01: 70111.3906\n",
            "    alpha_0.001: 461.9290\n",
            "  [Landscape] Valley Asymmetry: 239.6838\n",
            "Training pgd model:\n",
            "Trainer settings:\n",
            " {'model': ArithmeticNet(\n",
            "  (num_embedder): Linear(in_features=2, out_features=128, bias=True)\n",
            "  (op_embedding): Embedding(3, 128)\n",
            "  (layer1): Linear(in_features=256, out_features=128, bias=True)\n",
            "  (layer2): Linear(in_features=128, out_features=128, bias=True)\n",
            "  (layer3): Linear(in_features=128, out_features=64, bias=True)\n",
            "  (output): Linear(in_features=64, out_features=1, bias=True)\n",
            "), 'optimizer': Adam (\n",
            "Parameter Group 0\n",
            "    amsgrad: False\n",
            "    betas: (0.9, 0.999)\n",
            "    capturable: False\n",
            "    differentiable: False\n",
            "    eps: 1e-08\n",
            "    foreach: None\n",
            "    fused: None\n",
            "    lr: 0.001\n",
            "    maximize: False\n",
            "    weight_decay: 0\n",
            "), 'criterion': MSELoss(), 'scheduler': <torch.optim.lr_scheduler.ReduceLROnPlateau object at 0x799c946fbf90>, 'loss_computer': <__main__.UnifiedLossComputer object at 0x799ccc21b810>, 'tracker': <__main__.UnifiedTracker object at 0x799ccc0a57d0>, 'alpha': 0.016, 'k': 2, 'weight': 6.5, 'sample_ratio': 0.3, 'seed': 42}\n"
          ]
        },
        {
          "output_type": "stream",
          "name": "stderr",
          "text": [
            "Epoch 1/80: 100%|██████████| 1125/1125 [00:36<00:00, 30.63it/s, train_loss=4.46e+4, train_abstention_rate=0.0112, train_valid_accuracy=0.00824, train_correct_abstentions=0.0225, train_incorrect_abstentions=0.0131]\n"
          ]
        },
        {
          "output_type": "stream",
          "name": "stdout",
          "text": [
            "\n",
            "Epoch 0 validation: val_loss: 29473.5963, val_abstention_rate: 0.0035, val_valid_accuracy: 0.0170, val_correct_abstentions: 0.0246, val_incorrect_abstentions: 0.0067\n"
          ]
        },
        {
          "output_type": "stream",
          "name": "stderr",
          "text": [
            "Epoch 2/80: 100%|██████████| 1125/1125 [00:36<00:00, 30.56it/s, train_loss=1.85e+4, train_abstention_rate=0.00969, train_valid_accuracy=0.0366, train_correct_abstentions=0.0331, train_incorrect_abstentions=0.0025]\n"
          ]
        },
        {
          "output_type": "stream",
          "name": "stdout",
          "text": [
            "\n",
            "Epoch 1 validation: val_loss: 12911.5128, val_abstention_rate: 0.0027, val_valid_accuracy: 0.0548, val_correct_abstentions: 0.0312, val_incorrect_abstentions: 0.0000\n"
          ]
        },
        {
          "output_type": "stream",
          "name": "stderr",
          "text": [
            "Epoch 3/80: 100%|██████████| 1125/1125 [00:36<00:00, 30.67it/s, train_loss=1.46e+4, train_abstention_rate=0.0103, train_valid_accuracy=0.102, train_correct_abstentions=0.0338, train_incorrect_abstentions=0.00156]\n"
          ]
        },
        {
          "output_type": "stream",
          "name": "stdout",
          "text": [
            "\n",
            "Epoch 2 validation: val_loss: 27123.1449, val_abstention_rate: 0.0208, val_valid_accuracy: 0.0407, val_correct_abstentions: 0.0447, val_incorrect_abstentions: 0.0000\n"
          ]
        },
        {
          "output_type": "stream",
          "name": "stderr",
          "text": [
            "Epoch 4/80: 100%|██████████| 1125/1125 [00:36<00:00, 30.58it/s, train_loss=1.71e+4, train_abstention_rate=0.0163, train_valid_accuracy=0.0956, train_correct_abstentions=0.0387, train_incorrect_abstentions=0.000313]\n"
          ]
        },
        {
          "output_type": "stream",
          "name": "stdout",
          "text": [
            "\n",
            "Epoch 3 validation: val_loss: 9580.3919, val_abstention_rate: 0.0190, val_valid_accuracy: 0.0849, val_correct_abstentions: 0.0424, val_incorrect_abstentions: 0.0000\n"
          ]
        },
        {
          "output_type": "stream",
          "name": "stderr",
          "text": [
            "Epoch 5/80: 100%|██████████| 1125/1125 [00:37<00:00, 30.35it/s, train_loss=1.33e+4, train_abstention_rate=0.01, train_valid_accuracy=0.062, train_correct_abstentions=0.0381, train_incorrect_abstentions=0.00125]\n"
          ]
        },
        {
          "output_type": "stream",
          "name": "stdout",
          "text": [
            "\n",
            "Epoch 4 validation: val_loss: 11563.6342, val_abstention_rate: 0.0100, val_valid_accuracy: 0.0900, val_correct_abstentions: 0.0347, val_incorrect_abstentions: 0.0000\n"
          ]
        },
        {
          "output_type": "stream",
          "name": "stderr",
          "text": [
            "Epoch 6/80: 100%|██████████| 1125/1125 [00:36<00:00, 30.51it/s, train_loss=1.18e+4, train_abstention_rate=0.0169, train_valid_accuracy=0.124, train_correct_abstentions=0.0441, train_incorrect_abstentions=0]\n"
          ]
        },
        {
          "output_type": "stream",
          "name": "stdout",
          "text": [
            "\n",
            "Epoch 5 validation: val_loss: 6694.4906, val_abstention_rate: 0.0377, val_valid_accuracy: 0.1805, val_correct_abstentions: 0.0524, val_incorrect_abstentions: 0.0000\n"
          ]
        },
        {
          "output_type": "stream",
          "name": "stderr",
          "text": [
            "Epoch 7/80: 100%|██████████| 1125/1125 [00:37<00:00, 30.39it/s, train_loss=8.97e+3, train_abstention_rate=0.0216, train_valid_accuracy=0.143, train_correct_abstentions=0.0481, train_incorrect_abstentions=0.000313]\n"
          ]
        },
        {
          "output_type": "stream",
          "name": "stdout",
          "text": [
            "\n",
            "Epoch 6 validation: val_loss: 10181.5298, val_abstention_rate: 0.0227, val_valid_accuracy: 0.1181, val_correct_abstentions: 0.0426, val_incorrect_abstentions: 0.0005\n"
          ]
        },
        {
          "output_type": "stream",
          "name": "stderr",
          "text": [
            "Epoch 8/80: 100%|██████████| 1125/1125 [00:37<00:00, 30.26it/s, train_loss=8.79e+3, train_abstention_rate=0.0559, train_valid_accuracy=0.229, train_correct_abstentions=0.0716, train_incorrect_abstentions=0]\n"
          ]
        },
        {
          "output_type": "stream",
          "name": "stdout",
          "text": [
            "\n",
            "Epoch 7 validation: val_loss: 5229.6396, val_abstention_rate: 0.0483, val_valid_accuracy: 0.3014, val_correct_abstentions: 0.0609, val_incorrect_abstentions: 0.0000\n"
          ]
        },
        {
          "output_type": "stream",
          "name": "stderr",
          "text": [
            "Epoch 9/80: 100%|██████████| 1125/1125 [00:37<00:00, 30.27it/s, train_loss=1.13e+4, train_abstention_rate=0.0516, train_valid_accuracy=0.231, train_correct_abstentions=0.0691, train_incorrect_abstentions=0.000313]\n"
          ]
        },
        {
          "output_type": "stream",
          "name": "stdout",
          "text": [
            "\n",
            "Epoch 8 validation: val_loss: 13750.0643, val_abstention_rate: 0.0390, val_valid_accuracy: 0.2225, val_correct_abstentions: 0.0513, val_incorrect_abstentions: 0.0000\n"
          ]
        },
        {
          "output_type": "stream",
          "name": "stderr",
          "text": [
            "Epoch 10/80: 100%|██████████| 1125/1125 [00:37<00:00, 30.22it/s, train_loss=8.65e+3, train_abstention_rate=0.0413, train_valid_accuracy=0.12, train_correct_abstentions=0.0572, train_incorrect_abstentions=0]\n"
          ]
        },
        {
          "output_type": "stream",
          "name": "stdout",
          "text": [
            "\n",
            "Epoch 9 validation: val_loss: 3888.2786, val_abstention_rate: 0.0825, val_valid_accuracy: 0.1817, val_correct_abstentions: 0.0881, val_incorrect_abstentions: 0.0000\n"
          ]
        },
        {
          "output_type": "stream",
          "name": "stderr",
          "text": [
            "Epoch 11/80: 100%|██████████| 1125/1125 [00:37<00:00, 30.17it/s, train_loss=1.39e+4, train_abstention_rate=0.00937, train_valid_accuracy=0.085, train_correct_abstentions=0.0406, train_incorrect_abstentions=0.00219]\n"
          ]
        },
        {
          "output_type": "stream",
          "name": "stdout",
          "text": [
            "\n",
            "Epoch 10 validation: val_loss: 8562.5534, val_abstention_rate: 0.0267, val_valid_accuracy: 0.0757, val_correct_abstentions: 0.0458, val_incorrect_abstentions: 0.0000\n"
          ]
        },
        {
          "output_type": "stream",
          "name": "stderr",
          "text": [
            "Epoch 12/80: 100%|██████████| 1125/1125 [00:37<00:00, 30.02it/s, train_loss=9.06e+3, train_abstention_rate=0.0112, train_valid_accuracy=0.0742, train_correct_abstentions=0.0369, train_incorrect_abstentions=0.00281]\n"
          ]
        },
        {
          "output_type": "stream",
          "name": "stdout",
          "text": [
            "\n",
            "Epoch 11 validation: val_loss: 11117.7321, val_abstention_rate: 0.0230, val_valid_accuracy: 0.0465, val_correct_abstentions: 0.0290, val_incorrect_abstentions: 0.0127\n"
          ]
        },
        {
          "output_type": "stream",
          "name": "stderr",
          "text": [
            "Epoch 13/80: 100%|██████████| 1125/1125 [00:37<00:00, 30.03it/s, train_loss=1.06e+4, train_abstention_rate=0.0119, train_valid_accuracy=0.0776, train_correct_abstentions=0.0378, train_incorrect_abstentions=0.00344]\n"
          ]
        },
        {
          "output_type": "stream",
          "name": "stdout",
          "text": [
            "\n",
            "Epoch 12 validation: val_loss: 8517.2224, val_abstention_rate: 0.0230, val_valid_accuracy: 0.1285, val_correct_abstentions: 0.0444, val_incorrect_abstentions: 0.0005\n"
          ]
        },
        {
          "output_type": "stream",
          "name": "stderr",
          "text": [
            "Epoch 14/80: 100%|██████████| 1125/1125 [00:37<00:00, 29.78it/s, train_loss=1.4e+4, train_abstention_rate=0.00844, train_valid_accuracy=0.101, train_correct_abstentions=0.0366, train_incorrect_abstentions=0.00125]\n"
          ]
        },
        {
          "output_type": "stream",
          "name": "stdout",
          "text": [
            "\n",
            "Epoch 13 validation: val_loss: 7309.6626, val_abstention_rate: 0.0027, val_valid_accuracy: 0.0855, val_correct_abstentions: 0.0344, val_incorrect_abstentions: 0.0000\n"
          ]
        },
        {
          "output_type": "stream",
          "name": "stderr",
          "text": [
            "Epoch 15/80: 100%|██████████| 1125/1125 [00:37<00:00, 29.90it/s, train_loss=7.15e+3, train_abstention_rate=0.0106, train_valid_accuracy=0.105, train_correct_abstentions=0.0372, train_incorrect_abstentions=0.00156]\n"
          ]
        },
        {
          "output_type": "stream",
          "name": "stdout",
          "text": [
            "\n",
            "Epoch 14 validation: val_loss: 5892.1330, val_abstention_rate: 0.0043, val_valid_accuracy: 0.1440, val_correct_abstentions: 0.0332, val_incorrect_abstentions: 0.0000\n"
          ]
        },
        {
          "output_type": "stream",
          "name": "stderr",
          "text": [
            "Epoch 16/80: 100%|██████████| 1125/1125 [00:37<00:00, 29.92it/s, train_loss=1.28e+4, train_abstention_rate=0.0159, train_valid_accuracy=0.1, train_correct_abstentions=0.0422, train_incorrect_abstentions=0.000937]\n"
          ]
        },
        {
          "output_type": "stream",
          "name": "stdout",
          "text": [
            "\n",
            "Epoch 15 validation: val_loss: 5356.2456, val_abstention_rate: 0.0192, val_valid_accuracy: 0.1167, val_correct_abstentions: 0.0437, val_incorrect_abstentions: 0.0000\n"
          ]
        },
        {
          "output_type": "stream",
          "name": "stderr",
          "text": [
            "Epoch 17/80: 100%|██████████| 1125/1125 [00:37<00:00, 29.86it/s, train_loss=9.03e+3, train_abstention_rate=0.0187, train_valid_accuracy=0.19, train_correct_abstentions=0.0406, train_incorrect_abstentions=0.00187]\n"
          ]
        },
        {
          "output_type": "stream",
          "name": "stdout",
          "text": [
            "\n",
            "Epoch 16 validation: val_loss: 5703.3285, val_abstention_rate: 0.0103, val_valid_accuracy: 0.2639, val_correct_abstentions: 0.0377, val_incorrect_abstentions: 0.0000\n"
          ]
        },
        {
          "output_type": "stream",
          "name": "stderr",
          "text": [
            "Epoch 18/80: 100%|██████████| 1125/1125 [00:37<00:00, 29.79it/s, train_loss=4.78e+3, train_abstention_rate=0.0144, train_valid_accuracy=0.28, train_correct_abstentions=0.0416, train_incorrect_abstentions=0.000625]\n"
          ]
        },
        {
          "output_type": "stream",
          "name": "stdout",
          "text": [
            "\n",
            "Epoch 17 validation: val_loss: 5918.3522, val_abstention_rate: 0.0118, val_valid_accuracy: 0.1984, val_correct_abstentions: 0.0358, val_incorrect_abstentions: 0.0000\n"
          ]
        },
        {
          "output_type": "stream",
          "name": "stderr",
          "text": [
            "Epoch 19/80: 100%|██████████| 1125/1125 [00:37<00:00, 29.90it/s, train_loss=6.43e+3, train_abstention_rate=0.0144, train_valid_accuracy=0.274, train_correct_abstentions=0.0459, train_incorrect_abstentions=0.000625]\n"
          ]
        },
        {
          "output_type": "stream",
          "name": "stdout",
          "text": [
            "\n",
            "Epoch 18 validation: val_loss: 5340.1492, val_abstention_rate: 0.0035, val_valid_accuracy: 0.1221, val_correct_abstentions: 0.0286, val_incorrect_abstentions: 0.0078\n"
          ]
        },
        {
          "output_type": "stream",
          "name": "stderr",
          "text": [
            "Epoch 20/80: 100%|██████████| 1125/1125 [00:37<00:00, 29.84it/s, train_loss=6.29e+3, train_abstention_rate=0.0181, train_valid_accuracy=0.204, train_correct_abstentions=0.0469, train_incorrect_abstentions=0.000313]\n"
          ]
        },
        {
          "output_type": "stream",
          "name": "stdout",
          "text": [
            "\n",
            "Epoch 19 validation: val_loss: 5849.8321, val_abstention_rate: 0.0015, val_valid_accuracy: 0.1080, val_correct_abstentions: 0.0312, val_incorrect_abstentions: 0.0000\n"
          ]
        },
        {
          "output_type": "stream",
          "name": "stderr",
          "text": [
            "Epoch 21/80: 100%|██████████| 1125/1125 [00:37<00:00, 29.92it/s, train_loss=3.56e+3, train_abstention_rate=0.0238, train_valid_accuracy=0.211, train_correct_abstentions=0.0503, train_incorrect_abstentions=0]\n"
          ]
        },
        {
          "output_type": "stream",
          "name": "stdout",
          "text": [
            "\n",
            "Epoch 20 validation: val_loss: 2589.8739, val_abstention_rate: 0.0420, val_valid_accuracy: 0.2387, val_correct_abstentions: 0.0556, val_incorrect_abstentions: 0.0021\n"
          ]
        },
        {
          "output_type": "stream",
          "name": "stderr",
          "text": [
            "Epoch 22/80: 100%|██████████| 1125/1125 [00:37<00:00, 29.83it/s, train_loss=4.57e+3, train_abstention_rate=0.0216, train_valid_accuracy=0.259, train_correct_abstentions=0.0491, train_incorrect_abstentions=0.000937]\n"
          ]
        },
        {
          "output_type": "stream",
          "name": "stdout",
          "text": [
            "\n",
            "Epoch 21 validation: val_loss: 4980.9615, val_abstention_rate: 0.0367, val_valid_accuracy: 0.1081, val_correct_abstentions: 0.0506, val_incorrect_abstentions: 0.0022\n"
          ]
        },
        {
          "output_type": "stream",
          "name": "stderr",
          "text": [
            "Epoch 23/80: 100%|██████████| 1125/1125 [00:37<00:00, 29.78it/s, train_loss=4.7e+3, train_abstention_rate=0.025, train_valid_accuracy=0.33, train_correct_abstentions=0.0472, train_incorrect_abstentions=0.000313]\n"
          ]
        },
        {
          "output_type": "stream",
          "name": "stdout",
          "text": [
            "\n",
            "Epoch 22 validation: val_loss: 2842.8062, val_abstention_rate: 0.0318, val_valid_accuracy: 0.4753, val_correct_abstentions: 0.0511, val_incorrect_abstentions: 0.0004\n"
          ]
        },
        {
          "output_type": "stream",
          "name": "stderr",
          "text": [
            "Epoch 24/80: 100%|██████████| 1125/1125 [00:37<00:00, 29.77it/s, train_loss=5e+3, train_abstention_rate=0.0122, train_valid_accuracy=0.169, train_correct_abstentions=0.0453, train_incorrect_abstentions=0.000937]\n"
          ]
        },
        {
          "output_type": "stream",
          "name": "stdout",
          "text": [
            "\n",
            "Epoch 23 validation: val_loss: 3185.6017, val_abstention_rate: 0.0022, val_valid_accuracy: 0.1181, val_correct_abstentions: 0.0208, val_incorrect_abstentions: 0.0104\n"
          ]
        },
        {
          "output_type": "stream",
          "name": "stderr",
          "text": [
            "Epoch 25/80: 100%|██████████| 1125/1125 [00:37<00:00, 29.77it/s, train_loss=4.43e+3, train_abstention_rate=0.0209, train_valid_accuracy=0.239, train_correct_abstentions=0.0419, train_incorrect_abstentions=0.000937]\n"
          ]
        },
        {
          "output_type": "stream",
          "name": "stdout",
          "text": [
            "\n",
            "Epoch 24 validation: val_loss: 6369.3029, val_abstention_rate: 0.0013, val_valid_accuracy: 0.3858, val_correct_abstentions: 0.0187, val_incorrect_abstentions: 0.0125\n"
          ]
        },
        {
          "output_type": "stream",
          "name": "stderr",
          "text": [
            "Epoch 26/80: 100%|██████████| 1125/1125 [00:37<00:00, 29.86it/s, train_loss=8.39e+3, train_abstention_rate=0.0112, train_valid_accuracy=0.138, train_correct_abstentions=0.0475, train_incorrect_abstentions=0.000313]\n"
          ]
        },
        {
          "output_type": "stream",
          "name": "stdout",
          "text": [
            "\n",
            "Epoch 25 validation: val_loss: 8259.3051, val_abstention_rate: 0.0015, val_valid_accuracy: 0.0704, val_correct_abstentions: 0.0104, val_incorrect_abstentions: 0.0208\n"
          ]
        },
        {
          "output_type": "stream",
          "name": "stderr",
          "text": [
            "Epoch 27/80: 100%|██████████| 1125/1125 [00:37<00:00, 29.90it/s, train_loss=5.11e+3, train_abstention_rate=0.0125, train_valid_accuracy=0.226, train_correct_abstentions=0.0466, train_incorrect_abstentions=0.000937]\n"
          ]
        },
        {
          "output_type": "stream",
          "name": "stdout",
          "text": [
            "\n",
            "Epoch 26 validation: val_loss: 3856.5256, val_abstention_rate: 0.0020, val_valid_accuracy: 0.2116, val_correct_abstentions: 0.0312, val_incorrect_abstentions: 0.0000\n"
          ]
        },
        {
          "output_type": "stream",
          "name": "stderr",
          "text": [
            "Epoch 28/80: 100%|██████████| 1125/1125 [00:37<00:00, 29.76it/s, train_loss=3.2e+3, train_abstention_rate=0.0247, train_valid_accuracy=0.456, train_correct_abstentions=0.0606, train_incorrect_abstentions=0.000313]\n"
          ]
        },
        {
          "output_type": "stream",
          "name": "stdout",
          "text": [
            "\n",
            "Epoch 27 validation: val_loss: 2080.6222, val_abstention_rate: 0.0390, val_valid_accuracy: 0.5506, val_correct_abstentions: 0.0563, val_incorrect_abstentions: 0.0004\n"
          ]
        },
        {
          "output_type": "stream",
          "name": "stderr",
          "text": [
            "Epoch 29/80: 100%|██████████| 1125/1125 [00:37<00:00, 29.83it/s, train_loss=3.93e+3, train_abstention_rate=0.0294, train_valid_accuracy=0.317, train_correct_abstentions=0.0659, train_incorrect_abstentions=0.000625]\n"
          ]
        },
        {
          "output_type": "stream",
          "name": "stdout",
          "text": [
            "\n",
            "Epoch 28 validation: val_loss: 2422.7480, val_abstention_rate: 0.0302, val_valid_accuracy: 0.2818, val_correct_abstentions: 0.0457, val_incorrect_abstentions: 0.0016\n"
          ]
        },
        {
          "output_type": "stream",
          "name": "stderr",
          "text": [
            "Epoch 30/80: 100%|██████████| 1125/1125 [00:37<00:00, 29.74it/s, train_loss=3.55e+3, train_abstention_rate=0.0434, train_valid_accuracy=0.4, train_correct_abstentions=0.0884, train_incorrect_abstentions=0]\n"
          ]
        },
        {
          "output_type": "stream",
          "name": "stdout",
          "text": [
            "\n",
            "Epoch 29 validation: val_loss: 1500.0088, val_abstention_rate: 0.0568, val_valid_accuracy: 0.6308, val_correct_abstentions: 0.0648, val_incorrect_abstentions: 0.0003\n"
          ]
        },
        {
          "output_type": "stream",
          "name": "stderr",
          "text": [
            "Epoch 31/80: 100%|██████████| 1125/1125 [00:37<00:00, 29.81it/s, train_loss=4.79e+3, train_abstention_rate=0.0278, train_valid_accuracy=0.31, train_correct_abstentions=0.0556, train_incorrect_abstentions=0.000937]\n"
          ]
        },
        {
          "output_type": "stream",
          "name": "stdout",
          "text": [
            "\n",
            "Epoch 30 validation: val_loss: 4183.1558, val_abstention_rate: 0.0185, val_valid_accuracy: 0.3740, val_correct_abstentions: 0.0388, val_incorrect_abstentions: 0.0011\n"
          ]
        },
        {
          "output_type": "stream",
          "name": "stderr",
          "text": [
            "Epoch 32/80: 100%|██████████| 1125/1125 [00:37<00:00, 29.74it/s, train_loss=3.32e+3, train_abstention_rate=0.0434, train_valid_accuracy=0.45, train_correct_abstentions=0.0659, train_incorrect_abstentions=0.000937]\n"
          ]
        },
        {
          "output_type": "stream",
          "name": "stdout",
          "text": [
            "\n",
            "Epoch 31 validation: val_loss: 9069.1142, val_abstention_rate: 0.0047, val_valid_accuracy: 0.0786, val_correct_abstentions: 0.0296, val_incorrect_abstentions: 0.0016\n"
          ]
        },
        {
          "output_type": "stream",
          "name": "stderr",
          "text": [
            "Epoch 33/80: 100%|██████████| 1125/1125 [00:37<00:00, 29.80it/s, train_loss=4.32e+3, train_abstention_rate=0.0156, train_valid_accuracy=0.276, train_correct_abstentions=0.0628, train_incorrect_abstentions=0]\n"
          ]
        },
        {
          "output_type": "stream",
          "name": "stdout",
          "text": [
            "\n",
            "Epoch 32 validation: val_loss: 4636.4756, val_abstention_rate: 0.0018, val_valid_accuracy: 0.2532, val_correct_abstentions: 0.0179, val_incorrect_abstentions: 0.0134\n"
          ]
        },
        {
          "output_type": "stream",
          "name": "stderr",
          "text": [
            "Epoch 34/80: 100%|██████████| 1125/1125 [00:37<00:00, 29.75it/s, train_loss=5.95e+3, train_abstention_rate=0.0303, train_valid_accuracy=0.242, train_correct_abstentions=0.0578, train_incorrect_abstentions=0.00125]\n"
          ]
        },
        {
          "output_type": "stream",
          "name": "stdout",
          "text": [
            "\n",
            "Epoch 33 validation: val_loss: 8752.4305, val_abstention_rate: 0.0037, val_valid_accuracy: 0.0409, val_correct_abstentions: 0.0223, val_incorrect_abstentions: 0.0112\n"
          ]
        },
        {
          "output_type": "stream",
          "name": "stderr",
          "text": [
            "Epoch 35/80: 100%|██████████| 1125/1125 [00:37<00:00, 29.76it/s, train_loss=1.02e+4, train_abstention_rate=0.0125, train_valid_accuracy=0.282, train_correct_abstentions=0.0534, train_incorrect_abstentions=0.000625]\n"
          ]
        },
        {
          "output_type": "stream",
          "name": "stdout",
          "text": [
            "\n",
            "Epoch 34 validation: val_loss: 6164.2377, val_abstention_rate: 0.0037, val_valid_accuracy: 0.4160, val_correct_abstentions: 0.0335, val_incorrect_abstentions: 0.0000\n"
          ]
        },
        {
          "output_type": "stream",
          "name": "stderr",
          "text": [
            "Epoch 36/80: 100%|██████████| 1125/1125 [00:37<00:00, 29.76it/s, train_loss=4.77e+3, train_abstention_rate=0.0234, train_valid_accuracy=0.366, train_correct_abstentions=0.0569, train_incorrect_abstentions=0.00125]\n"
          ]
        },
        {
          "output_type": "stream",
          "name": "stdout",
          "text": [
            "\n",
            "Epoch 35 validation: val_loss: 4112.7288, val_abstention_rate: 0.0018, val_valid_accuracy: 0.1781, val_correct_abstentions: 0.0312, val_incorrect_abstentions: 0.0000\n"
          ]
        },
        {
          "output_type": "stream",
          "name": "stderr",
          "text": [
            "Epoch 37/80: 100%|██████████| 1125/1125 [00:38<00:00, 29.60it/s, train_loss=2.4e+3, train_abstention_rate=0.0394, train_valid_accuracy=0.448, train_correct_abstentions=0.0681, train_incorrect_abstentions=0]\n"
          ]
        },
        {
          "output_type": "stream",
          "name": "stdout",
          "text": [
            "\n",
            "Epoch 36 validation: val_loss: 2030.2910, val_abstention_rate: 0.0065, val_valid_accuracy: 0.3311, val_correct_abstentions: 0.0339, val_incorrect_abstentions: 0.0000\n"
          ]
        },
        {
          "output_type": "stream",
          "name": "stderr",
          "text": [
            "Epoch 38/80: 100%|██████████| 1125/1125 [00:37<00:00, 29.78it/s, train_loss=1.16e+4, train_abstention_rate=0.0175, train_valid_accuracy=0.328, train_correct_abstentions=0.0716, train_incorrect_abstentions=0.000625]\n"
          ]
        },
        {
          "output_type": "stream",
          "name": "stdout",
          "text": [
            "\n",
            "Epoch 37 validation: val_loss: 3774.3771, val_abstention_rate: 0.0220, val_valid_accuracy: 0.6077, val_correct_abstentions: 0.0417, val_incorrect_abstentions: 0.0000\n"
          ]
        },
        {
          "output_type": "stream",
          "name": "stderr",
          "text": [
            "Epoch 39/80: 100%|██████████| 1125/1125 [00:38<00:00, 29.52it/s, train_loss=1.98e+3, train_abstention_rate=0.0322, train_valid_accuracy=0.553, train_correct_abstentions=0.0828, train_incorrect_abstentions=0]\n"
          ]
        },
        {
          "output_type": "stream",
          "name": "stdout",
          "text": [
            "\n",
            "Epoch 38 validation: val_loss: 2132.9591, val_abstention_rate: 0.0112, val_valid_accuracy: 0.3092, val_correct_abstentions: 0.0343, val_incorrect_abstentions: 0.0000\n"
          ]
        },
        {
          "output_type": "stream",
          "name": "stderr",
          "text": [
            "Epoch 40/80: 100%|██████████| 1125/1125 [00:38<00:00, 29.44it/s, train_loss=2.72e+3, train_abstention_rate=0.0647, train_valid_accuracy=0.417, train_correct_abstentions=0.095, train_incorrect_abstentions=0.000625]\n"
          ]
        },
        {
          "output_type": "stream",
          "name": "stdout",
          "text": [
            "\n",
            "Epoch 39 validation: val_loss: 4232.3471, val_abstention_rate: 0.0050, val_valid_accuracy: 0.2421, val_correct_abstentions: 0.0347, val_incorrect_abstentions: 0.0000\n"
          ]
        },
        {
          "output_type": "stream",
          "name": "stderr",
          "text": [
            "Epoch 41/80: 100%|██████████| 1125/1125 [00:38<00:00, 29.45it/s, train_loss=2.66e+3, train_abstention_rate=0.0475, train_valid_accuracy=0.511, train_correct_abstentions=0.0959, train_incorrect_abstentions=0]\n"
          ]
        },
        {
          "output_type": "stream",
          "name": "stdout",
          "text": [
            "\n",
            "Epoch 40 validation: val_loss: 3012.3765, val_abstention_rate: 0.1470, val_valid_accuracy: 0.6308, val_correct_abstentions: 0.1470, val_incorrect_abstentions: 0.0000\n"
          ]
        },
        {
          "output_type": "stream",
          "name": "stderr",
          "text": [
            "Epoch 42/80: 100%|██████████| 1125/1125 [00:38<00:00, 29.35it/s, train_loss=2.76e+3, train_abstention_rate=0.0478, train_valid_accuracy=0.534, train_correct_abstentions=0.0806, train_incorrect_abstentions=0]\n"
          ]
        },
        {
          "output_type": "stream",
          "name": "stdout",
          "text": [
            "\n",
            "Epoch 41 validation: val_loss: 2269.4994, val_abstention_rate: 0.0050, val_valid_accuracy: 0.3606, val_correct_abstentions: 0.0329, val_incorrect_abstentions: 0.0000\n"
          ]
        },
        {
          "output_type": "stream",
          "name": "stderr",
          "text": [
            "Epoch 43/80: 100%|██████████| 1125/1125 [00:38<00:00, 29.35it/s, train_loss=1.64e+3, train_abstention_rate=0.0669, train_valid_accuracy=0.629, train_correct_abstentions=0.112, train_incorrect_abstentions=0]\n"
          ]
        },
        {
          "output_type": "stream",
          "name": "stdout",
          "text": [
            "\n",
            "Epoch 42 validation: val_loss: 724.0656, val_abstention_rate: 0.0695, val_valid_accuracy: 0.7841, val_correct_abstentions: 0.0755, val_incorrect_abstentions: 0.0000\n"
          ]
        },
        {
          "output_type": "stream",
          "name": "stderr",
          "text": [
            "Epoch 44/80: 100%|██████████| 1125/1125 [00:38<00:00, 29.37it/s, train_loss=2.4e+3, train_abstention_rate=0.0688, train_valid_accuracy=0.622, train_correct_abstentions=0.0897, train_incorrect_abstentions=0]\n"
          ]
        },
        {
          "output_type": "stream",
          "name": "stdout",
          "text": [
            "\n",
            "Epoch 43 validation: val_loss: 701.2004, val_abstention_rate: 0.0367, val_valid_accuracy: 0.7708, val_correct_abstentions: 0.0516, val_incorrect_abstentions: 0.0000\n"
          ]
        },
        {
          "output_type": "stream",
          "name": "stderr",
          "text": [
            "Epoch 45/80: 100%|██████████| 1125/1125 [00:38<00:00, 29.26it/s, train_loss=1.29e+3, train_abstention_rate=0.065, train_valid_accuracy=0.718, train_correct_abstentions=0.0897, train_incorrect_abstentions=0]\n"
          ]
        },
        {
          "output_type": "stream",
          "name": "stdout",
          "text": [
            "\n",
            "Epoch 44 validation: val_loss: 840.2521, val_abstention_rate: 0.0083, val_valid_accuracy: 0.5017, val_correct_abstentions: 0.0356, val_incorrect_abstentions: 0.0000\n"
          ]
        },
        {
          "output_type": "stream",
          "name": "stderr",
          "text": [
            "Epoch 46/80: 100%|██████████| 1125/1125 [00:38<00:00, 29.19it/s, train_loss=1.22e+3, train_abstention_rate=0.0784, train_valid_accuracy=0.739, train_correct_abstentions=0.0928, train_incorrect_abstentions=0]\n"
          ]
        },
        {
          "output_type": "stream",
          "name": "stdout",
          "text": [
            "\n",
            "Epoch 45 validation: val_loss: 1125.4099, val_abstention_rate: 0.1045, val_valid_accuracy: 0.5816, val_correct_abstentions: 0.1071, val_incorrect_abstentions: 0.0000\n"
          ]
        },
        {
          "output_type": "stream",
          "name": "stderr",
          "text": [
            "Epoch 47/80: 100%|██████████| 1125/1125 [00:38<00:00, 29.12it/s, train_loss=1.82e+3, train_abstention_rate=0.0697, train_valid_accuracy=0.632, train_correct_abstentions=0.0862, train_incorrect_abstentions=0.000313]\n"
          ]
        },
        {
          "output_type": "stream",
          "name": "stdout",
          "text": [
            "\n",
            "Epoch 46 validation: val_loss: 603.7659, val_abstention_rate: 0.1118, val_valid_accuracy: 0.8191, val_correct_abstentions: 0.1111, val_incorrect_abstentions: 0.0015\n"
          ]
        },
        {
          "output_type": "stream",
          "name": "stderr",
          "text": [
            "Epoch 48/80: 100%|██████████| 1125/1125 [00:38<00:00, 29.17it/s, train_loss=780, train_abstention_rate=0.0706, train_valid_accuracy=0.742, train_correct_abstentions=0.0862, train_incorrect_abstentions=0.000625]\n"
          ]
        },
        {
          "output_type": "stream",
          "name": "stdout",
          "text": [
            "\n",
            "Epoch 47 validation: val_loss: 420.1248, val_abstention_rate: 0.0813, val_valid_accuracy: 0.8666, val_correct_abstentions: 0.0896, val_incorrect_abstentions: 0.0003\n"
          ]
        },
        {
          "output_type": "stream",
          "name": "stderr",
          "text": [
            "Epoch 49/80: 100%|██████████| 1125/1125 [00:38<00:00, 29.15it/s, train_loss=1.08e+3, train_abstention_rate=0.0712, train_valid_accuracy=0.733, train_correct_abstentions=0.0884, train_incorrect_abstentions=0]\n"
          ]
        },
        {
          "output_type": "stream",
          "name": "stdout",
          "text": [
            "\n",
            "Epoch 48 validation: val_loss: 1709.4082, val_abstention_rate: 0.0057, val_valid_accuracy: 0.7367, val_correct_abstentions: 0.0328, val_incorrect_abstentions: 0.0031\n"
          ]
        },
        {
          "output_type": "stream",
          "name": "stderr",
          "text": [
            "Epoch 50/80: 100%|██████████| 1125/1125 [00:38<00:00, 29.08it/s, train_loss=2.28e+3, train_abstention_rate=0.0544, train_valid_accuracy=0.598, train_correct_abstentions=0.0881, train_incorrect_abstentions=0]\n"
          ]
        },
        {
          "output_type": "stream",
          "name": "stdout",
          "text": [
            "\n",
            "Epoch 49 validation: val_loss: 1226.9512, val_abstention_rate: 0.0965, val_valid_accuracy: 0.7889, val_correct_abstentions: 0.0994, val_incorrect_abstentions: 0.0003\n"
          ]
        },
        {
          "output_type": "stream",
          "name": "stderr",
          "text": [
            "Epoch 51/80: 100%|██████████| 1125/1125 [00:38<00:00, 28.99it/s, train_loss=2.09e+3, train_abstention_rate=0.0563, train_valid_accuracy=0.6, train_correct_abstentions=0.0894, train_incorrect_abstentions=0]\n"
          ]
        },
        {
          "output_type": "stream",
          "name": "stdout",
          "text": [
            "\n",
            "Epoch 50 validation: val_loss: 893.9782, val_abstention_rate: 0.0467, val_valid_accuracy: 0.8098, val_correct_abstentions: 0.0593, val_incorrect_abstentions: 0.0003\n"
          ]
        },
        {
          "output_type": "stream",
          "name": "stderr",
          "text": [
            "Epoch 52/80: 100%|██████████| 1125/1125 [00:38<00:00, 29.20it/s, train_loss=2.62e+3, train_abstention_rate=0.0572, train_valid_accuracy=0.617, train_correct_abstentions=0.111, train_incorrect_abstentions=0.000625]\n"
          ]
        },
        {
          "output_type": "stream",
          "name": "stdout",
          "text": [
            "\n",
            "Epoch 51 validation: val_loss: 646.2382, val_abstention_rate: 0.1318, val_valid_accuracy: 0.8131, val_correct_abstentions: 0.1328, val_incorrect_abstentions: 0.0000\n"
          ]
        },
        {
          "output_type": "stream",
          "name": "stderr",
          "text": [
            "Epoch 53/80: 100%|██████████| 1125/1125 [00:38<00:00, 29.07it/s, train_loss=792, train_abstention_rate=0.0688, train_valid_accuracy=0.695, train_correct_abstentions=0.119, train_incorrect_abstentions=0.000313]\n"
          ]
        },
        {
          "output_type": "stream",
          "name": "stdout",
          "text": [
            "\n",
            "Epoch 52 validation: val_loss: 949.9191, val_abstention_rate: 0.1350, val_valid_accuracy: 0.6927, val_correct_abstentions: 0.1350, val_incorrect_abstentions: 0.0000\n"
          ]
        },
        {
          "output_type": "stream",
          "name": "stderr",
          "text": [
            "Epoch 54/80: 100%|██████████| 1125/1125 [00:38<00:00, 29.05it/s, train_loss=634, train_abstention_rate=0.1, train_valid_accuracy=0.654, train_correct_abstentions=0.107, train_incorrect_abstentions=0.000625]\n"
          ]
        },
        {
          "output_type": "stream",
          "name": "stdout",
          "text": [
            "\n",
            "Epoch 53 validation: val_loss: 1107.3744, val_abstention_rate: 0.1675, val_valid_accuracy: 0.7653, val_correct_abstentions: 0.1675, val_incorrect_abstentions: 0.0000\n"
          ]
        },
        {
          "output_type": "stream",
          "name": "stderr",
          "text": [
            "Epoch 55/80: 100%|██████████| 1125/1125 [00:38<00:00, 29.00it/s, train_loss=380, train_abstention_rate=0.12, train_valid_accuracy=0.804, train_correct_abstentions=0.13, train_incorrect_abstentions=0.000313]\n"
          ]
        },
        {
          "output_type": "stream",
          "name": "stdout",
          "text": [
            "\n",
            "Epoch 54 validation: val_loss: 379.9145, val_abstention_rate: 0.1663, val_valid_accuracy: 0.8505, val_correct_abstentions: 0.1663, val_incorrect_abstentions: 0.0000\n"
          ]
        },
        {
          "output_type": "stream",
          "name": "stderr",
          "text": [
            "Epoch 56/80: 100%|██████████| 1125/1125 [00:38<00:00, 28.97it/s, train_loss=449, train_abstention_rate=0.0988, train_valid_accuracy=0.831, train_correct_abstentions=0.12, train_incorrect_abstentions=0.000313]\n"
          ]
        },
        {
          "output_type": "stream",
          "name": "stdout",
          "text": [
            "\n",
            "Epoch 55 validation: val_loss: 361.4570, val_abstention_rate: 0.1665, val_valid_accuracy: 0.8865, val_correct_abstentions: 0.1658, val_incorrect_abstentions: 0.0008\n"
          ]
        },
        {
          "output_type": "stream",
          "name": "stderr",
          "text": [
            "Epoch 57/80: 100%|██████████| 1125/1125 [00:38<00:00, 28.95it/s, train_loss=1.11e+3, train_abstention_rate=0.0887, train_valid_accuracy=0.725, train_correct_abstentions=0.118, train_incorrect_abstentions=0.000313]\n"
          ]
        },
        {
          "output_type": "stream",
          "name": "stdout",
          "text": [
            "\n",
            "Epoch 56 validation: val_loss: 307.4468, val_abstention_rate: 0.0800, val_valid_accuracy: 0.6050, val_correct_abstentions: 0.0838, val_incorrect_abstentions: 0.0003\n"
          ]
        },
        {
          "output_type": "stream",
          "name": "stderr",
          "text": [
            "Epoch 58/80: 100%|██████████| 1125/1125 [00:38<00:00, 29.09it/s, train_loss=1.04e+3, train_abstention_rate=0.108, train_valid_accuracy=0.706, train_correct_abstentions=0.13, train_incorrect_abstentions=0]\n"
          ]
        },
        {
          "output_type": "stream",
          "name": "stdout",
          "text": [
            "\n",
            "Epoch 57 validation: val_loss: 304.4503, val_abstention_rate: 0.1560, val_valid_accuracy: 0.7791, val_correct_abstentions: 0.1560, val_incorrect_abstentions: 0.0000\n"
          ]
        },
        {
          "output_type": "stream",
          "name": "stderr",
          "text": [
            "Epoch 59/80: 100%|██████████| 1125/1125 [00:38<00:00, 28.97it/s, train_loss=2e+3, train_abstention_rate=0.0778, train_valid_accuracy=0.687, train_correct_abstentions=0.125, train_incorrect_abstentions=0]\n"
          ]
        },
        {
          "output_type": "stream",
          "name": "stdout",
          "text": [
            "\n",
            "Epoch 58 validation: val_loss: 903.8930, val_abstention_rate: 0.1497, val_valid_accuracy: 0.8395, val_correct_abstentions: 0.1497, val_incorrect_abstentions: 0.0000\n"
          ]
        },
        {
          "output_type": "stream",
          "name": "stderr",
          "text": [
            "Epoch 60/80: 100%|██████████| 1125/1125 [00:38<00:00, 29.08it/s, train_loss=86.7, train_abstention_rate=0.14, train_valid_accuracy=0.833, train_correct_abstentions=0.142, train_incorrect_abstentions=0]\n"
          ]
        },
        {
          "output_type": "stream",
          "name": "stdout",
          "text": [
            "\n",
            "Epoch 59 validation: val_loss: 179.0591, val_abstention_rate: 0.1678, val_valid_accuracy: 0.8779, val_correct_abstentions: 0.1675, val_incorrect_abstentions: 0.0003\n"
          ]
        },
        {
          "output_type": "stream",
          "name": "stderr",
          "text": [
            "Epoch 61/80: 100%|██████████| 1125/1125 [00:38<00:00, 29.01it/s, train_loss=784, train_abstention_rate=0.136, train_valid_accuracy=0.743, train_correct_abstentions=0.143, train_incorrect_abstentions=0.000313]\n"
          ]
        },
        {
          "output_type": "stream",
          "name": "stdout",
          "text": [
            "\n",
            "Epoch 60 validation: val_loss: 234.4031, val_abstention_rate: 0.0605, val_valid_accuracy: 0.5752, val_correct_abstentions: 0.0669, val_incorrect_abstentions: 0.0000\n"
          ]
        },
        {
          "output_type": "stream",
          "name": "stderr",
          "text": [
            "Epoch 62/80: 100%|██████████| 1125/1125 [00:38<00:00, 28.96it/s, train_loss=671, train_abstention_rate=0.0972, train_valid_accuracy=0.674, train_correct_abstentions=0.129, train_incorrect_abstentions=0]\n"
          ]
        },
        {
          "output_type": "stream",
          "name": "stdout",
          "text": [
            "\n",
            "Epoch 61 validation: val_loss: 725.5219, val_abstention_rate: 0.1583, val_valid_accuracy: 0.6700, val_correct_abstentions: 0.1580, val_incorrect_abstentions: 0.0003\n"
          ]
        },
        {
          "output_type": "stream",
          "name": "stderr",
          "text": [
            "Epoch 63/80: 100%|██████████| 1125/1125 [00:38<00:00, 28.91it/s, train_loss=384, train_abstention_rate=0.125, train_valid_accuracy=0.777, train_correct_abstentions=0.136, train_incorrect_abstentions=0.000625]\n"
          ]
        },
        {
          "output_type": "stream",
          "name": "stdout",
          "text": [
            "\n",
            "Epoch 62 validation: val_loss: 197.4350, val_abstention_rate: 0.1618, val_valid_accuracy: 0.7871, val_correct_abstentions: 0.1615, val_incorrect_abstentions: 0.0003\n"
          ]
        },
        {
          "output_type": "stream",
          "name": "stderr",
          "text": [
            "Epoch 64/80: 100%|██████████| 1125/1125 [00:38<00:00, 28.95it/s, train_loss=1.51e+3, train_abstention_rate=0.119, train_valid_accuracy=0.692, train_correct_abstentions=0.135, train_incorrect_abstentions=0]\n"
          ]
        },
        {
          "output_type": "stream",
          "name": "stdout",
          "text": [
            "\n",
            "Epoch 63 validation: val_loss: 1844.8070, val_abstention_rate: 0.1110, val_valid_accuracy: 0.6256, val_correct_abstentions: 0.1147, val_incorrect_abstentions: 0.0000\n"
          ]
        },
        {
          "output_type": "stream",
          "name": "stderr",
          "text": [
            "Epoch 65/80: 100%|██████████| 1125/1125 [00:38<00:00, 28.97it/s, train_loss=893, train_abstention_rate=0.11, train_valid_accuracy=0.684, train_correct_abstentions=0.138, train_incorrect_abstentions=0]\n"
          ]
        },
        {
          "output_type": "stream",
          "name": "stdout",
          "text": [
            "\n",
            "Epoch 64 validation: val_loss: 294.0495, val_abstention_rate: 0.1680, val_valid_accuracy: 0.6742, val_correct_abstentions: 0.1675, val_incorrect_abstentions: 0.0005\n"
          ]
        },
        {
          "output_type": "stream",
          "name": "stderr",
          "text": [
            "Epoch 66/80: 100%|██████████| 1125/1125 [00:38<00:00, 28.94it/s, train_loss=1.28e+3, train_abstention_rate=0.0903, train_valid_accuracy=0.655, train_correct_abstentions=0.125, train_incorrect_abstentions=0]\n"
          ]
        },
        {
          "output_type": "stream",
          "name": "stdout",
          "text": [
            "\n",
            "Epoch 65 validation: val_loss: 409.7591, val_abstention_rate: 0.0060, val_valid_accuracy: 0.8038, val_correct_abstentions: 0.0326, val_incorrect_abstentions: 0.0000\n"
          ]
        },
        {
          "output_type": "stream",
          "name": "stderr",
          "text": [
            "Epoch 67/80: 100%|██████████| 1125/1125 [00:38<00:00, 28.89it/s, train_loss=164, train_abstention_rate=0.143, train_valid_accuracy=0.787, train_correct_abstentions=0.148, train_incorrect_abstentions=0.000937]\n"
          ]
        },
        {
          "output_type": "stream",
          "name": "stdout",
          "text": [
            "\n",
            "Epoch 66 validation: val_loss: 123.3086, val_abstention_rate: 0.1255, val_valid_accuracy: 0.8276, val_correct_abstentions: 0.1286, val_incorrect_abstentions: 0.0000\n"
          ]
        },
        {
          "output_type": "stream",
          "name": "stderr",
          "text": [
            "Epoch 68/80: 100%|██████████| 1125/1125 [00:38<00:00, 28.96it/s, train_loss=413, train_abstention_rate=0.124, train_valid_accuracy=0.767, train_correct_abstentions=0.139, train_incorrect_abstentions=0]\n"
          ]
        },
        {
          "output_type": "stream",
          "name": "stdout",
          "text": [
            "\n",
            "Epoch 67 validation: val_loss: 156.4449, val_abstention_rate: 0.1608, val_valid_accuracy: 0.7430, val_correct_abstentions: 0.1608, val_incorrect_abstentions: 0.0000\n"
          ]
        },
        {
          "output_type": "stream",
          "name": "stderr",
          "text": [
            "Epoch 69/80: 100%|██████████| 1125/1125 [00:38<00:00, 28.88it/s, train_loss=262, train_abstention_rate=0.168, train_valid_accuracy=0.775, train_correct_abstentions=0.167, train_incorrect_abstentions=0.000625]\n"
          ]
        },
        {
          "output_type": "stream",
          "name": "stdout",
          "text": [
            "\n",
            "Epoch 68 validation: val_loss: 230.0327, val_abstention_rate: 0.1683, val_valid_accuracy: 0.7893, val_correct_abstentions: 0.1680, val_incorrect_abstentions: 0.0003\n"
          ]
        },
        {
          "output_type": "stream",
          "name": "stderr",
          "text": [
            "Epoch 70/80: 100%|██████████| 1125/1125 [00:38<00:00, 28.96it/s, train_loss=298, train_abstention_rate=0.152, train_valid_accuracy=0.741, train_correct_abstentions=0.158, train_incorrect_abstentions=0.000625]\n"
          ]
        },
        {
          "output_type": "stream",
          "name": "stdout",
          "text": [
            "\n",
            "Epoch 69 validation: val_loss: 141.4849, val_abstention_rate: 0.1685, val_valid_accuracy: 0.8208, val_correct_abstentions: 0.1683, val_incorrect_abstentions: 0.0003\n"
          ]
        },
        {
          "output_type": "stream",
          "name": "stderr",
          "text": [
            "Epoch 71/80: 100%|██████████| 1125/1125 [00:38<00:00, 28.89it/s, train_loss=300, train_abstention_rate=0.118, train_valid_accuracy=0.739, train_correct_abstentions=0.133, train_incorrect_abstentions=0]\n"
          ]
        },
        {
          "output_type": "stream",
          "name": "stdout",
          "text": [
            "\n",
            "Epoch 70 validation: val_loss: 363.7684, val_abstention_rate: 0.1658, val_valid_accuracy: 0.7490, val_correct_abstentions: 0.1655, val_incorrect_abstentions: 0.0003\n"
          ]
        },
        {
          "output_type": "stream",
          "name": "stderr",
          "text": [
            "Epoch 72/80: 100%|██████████| 1125/1125 [00:38<00:00, 28.89it/s, train_loss=144, train_abstention_rate=0.154, train_valid_accuracy=0.774, train_correct_abstentions=0.16, train_incorrect_abstentions=0]\n"
          ]
        },
        {
          "output_type": "stream",
          "name": "stdout",
          "text": [
            "\n",
            "Epoch 71 validation: val_loss: 154.8551, val_abstention_rate: 0.1685, val_valid_accuracy: 0.8383, val_correct_abstentions: 0.1685, val_incorrect_abstentions: 0.0000\n"
          ]
        },
        {
          "output_type": "stream",
          "name": "stderr",
          "text": [
            "Epoch 73/80: 100%|██████████| 1125/1125 [00:38<00:00, 28.95it/s, train_loss=203, train_abstention_rate=0.14, train_valid_accuracy=0.774, train_correct_abstentions=0.145, train_incorrect_abstentions=0]\n"
          ]
        },
        {
          "output_type": "stream",
          "name": "stdout",
          "text": [
            "\n",
            "Epoch 72 validation: val_loss: 202.1999, val_abstention_rate: 0.1383, val_valid_accuracy: 0.6032, val_correct_abstentions: 0.1394, val_incorrect_abstentions: 0.0000\n"
          ]
        },
        {
          "output_type": "stream",
          "name": "stderr",
          "text": [
            "Epoch 74/80: 100%|██████████| 1125/1125 [00:38<00:00, 28.95it/s, train_loss=191, train_abstention_rate=0.165, train_valid_accuracy=0.762, train_correct_abstentions=0.166, train_incorrect_abstentions=0.000313]\n"
          ]
        },
        {
          "output_type": "stream",
          "name": "stdout",
          "text": [
            "\n",
            "Epoch 73 validation: val_loss: 91.5045, val_abstention_rate: 0.1650, val_valid_accuracy: 0.8117, val_correct_abstentions: 0.1645, val_incorrect_abstentions: 0.0005\n"
          ]
        },
        {
          "output_type": "stream",
          "name": "stderr",
          "text": [
            "Epoch 75/80: 100%|██████████| 1125/1125 [00:39<00:00, 28.83it/s, train_loss=272, train_abstention_rate=0.137, train_valid_accuracy=0.779, train_correct_abstentions=0.146, train_incorrect_abstentions=0.000313]\n"
          ]
        },
        {
          "output_type": "stream",
          "name": "stdout",
          "text": [
            "\n",
            "Epoch 74 validation: val_loss: 154.5045, val_abstention_rate: 0.1675, val_valid_accuracy: 0.7994, val_correct_abstentions: 0.1675, val_incorrect_abstentions: 0.0000\n"
          ]
        },
        {
          "output_type": "stream",
          "name": "stderr",
          "text": [
            "Epoch 76/80: 100%|██████████| 1125/1125 [00:39<00:00, 28.84it/s, train_loss=244, train_abstention_rate=0.142, train_valid_accuracy=0.764, train_correct_abstentions=0.147, train_incorrect_abstentions=0]\n"
          ]
        },
        {
          "output_type": "stream",
          "name": "stdout",
          "text": [
            "\n",
            "Epoch 75 validation: val_loss: 96.4883, val_abstention_rate: 0.0988, val_valid_accuracy: 0.7532, val_correct_abstentions: 0.1020, val_incorrect_abstentions: 0.0000\n"
          ]
        },
        {
          "output_type": "stream",
          "name": "stderr",
          "text": [
            "Epoch 77/80: 100%|██████████| 1125/1125 [00:38<00:00, 28.92it/s, train_loss=222, train_abstention_rate=0.154, train_valid_accuracy=0.781, train_correct_abstentions=0.166, train_incorrect_abstentions=0]\n"
          ]
        },
        {
          "output_type": "stream",
          "name": "stdout",
          "text": [
            "\n",
            "Epoch 76 validation: val_loss: 101.8986, val_abstention_rate: 0.1683, val_valid_accuracy: 0.7771, val_correct_abstentions: 0.1683, val_incorrect_abstentions: 0.0000\n"
          ]
        },
        {
          "output_type": "stream",
          "name": "stderr",
          "text": [
            "Epoch 78/80: 100%|██████████| 1125/1125 [00:38<00:00, 28.97it/s, train_loss=47.5, train_abstention_rate=0.162, train_valid_accuracy=0.808, train_correct_abstentions=0.162, train_incorrect_abstentions=0]\n"
          ]
        },
        {
          "output_type": "stream",
          "name": "stdout",
          "text": [
            "\n",
            "Epoch 77 validation: val_loss: 85.6082, val_abstention_rate: 0.1685, val_valid_accuracy: 0.8374, val_correct_abstentions: 0.1685, val_incorrect_abstentions: 0.0000\n"
          ]
        },
        {
          "output_type": "stream",
          "name": "stderr",
          "text": [
            "Epoch 79/80: 100%|██████████| 1125/1125 [00:38<00:00, 28.93it/s, train_loss=253, train_abstention_rate=0.151, train_valid_accuracy=0.776, train_correct_abstentions=0.155, train_incorrect_abstentions=0]\n"
          ]
        },
        {
          "output_type": "stream",
          "name": "stdout",
          "text": [
            "\n",
            "Epoch 78 validation: val_loss: 117.6015, val_abstention_rate: 0.0333, val_valid_accuracy: 0.8114, val_correct_abstentions: 0.0495, val_incorrect_abstentions: 0.0000\n"
          ]
        },
        {
          "output_type": "stream",
          "name": "stderr",
          "text": [
            "Epoch 80/80: 100%|██████████| 1125/1125 [00:38<00:00, 28.93it/s, train_loss=233, train_abstention_rate=0.145, train_valid_accuracy=0.781, train_correct_abstentions=0.147, train_incorrect_abstentions=0.000313]\n"
          ]
        },
        {
          "output_type": "stream",
          "name": "stdout",
          "text": [
            "\n",
            "Epoch 79 validation: val_loss: 150.7897, val_abstention_rate: 0.1678, val_valid_accuracy: 0.8058, val_correct_abstentions: 0.1678, val_incorrect_abstentions: 0.0000\n",
            "\n",
            "Performing landscape analysis for epoch 79 on pgd...\n",
            "Computing Lipschitz surface...\n",
            "Completed 1/20 LLC rows\n",
            "Completed 6/20 LLC rows\n",
            "Completed 11/20 LLC rows\n",
            "Completed 16/20 LLC rows\n",
            "Computing Distance to Decision Boundary surface...\n",
            "Computing loss surface...\n",
            "Completed 1/20 rows\n",
            "Completed 6/20 rows\n",
            "Completed 11/20 rows\n",
            "Completed 16/20 rows\n",
            "Saved landscape visualization to experiment_results/landscapes/pgd/landscape_epoch_79_pgd_random.png\n",
            "Computing Lipschitz surface...\n",
            "Completed 1/20 LLC rows\n",
            "Completed 6/20 LLC rows\n",
            "Completed 11/20 LLC rows\n",
            "Completed 16/20 LLC rows\n",
            "Computing Distance to Decision Boundary surface...\n",
            "Computing loss surface...\n",
            "Completed 1/20 rows\n",
            "Completed 6/20 rows\n",
            "Completed 11/20 rows\n",
            "Completed 16/20 rows\n",
            "Saved landscape visualization to experiment_results/landscapes/pgd/landscape_epoch_79_pgd_pca.png\n",
            "  [Landscape] Alpha Sharpness: 550107456.0000\n",
            "  [Landscape] Top Eigenvalues:\n",
            "    λ1: 47477368.0000\n",
            "    λ2: 44633860.0000\n",
            "    λ3: 30398814.0000\n",
            "  [Landscape] Multiscale Sharpness:\n",
            "    alpha_0.1: 959898880.0000\n",
            "    alpha_0.01: 69189.2578\n",
            "    alpha_0.001: 198.3294\n",
            "  [Landscape] Valley Asymmetry: 260.6737\n",
            "Evaluating models on standard test set:\n",
            "\n",
            "Evaluating base_adam Model...\n",
            "  Test Loss:            237.9530\n",
            "  Test Accuracy:        83.9021%\n",
            "  Abstention Rate:      14.5250%\n",
            "  Abstention Precision: 100.0000%\n",
            "  Abstention Recall:    84.3251%\n",
            "\n",
            "Evaluating input_space_adv Model...\n",
            "  Test Loss:            883.0097\n",
            "  Test Accuracy:        79.8248%\n",
            "  Abstention Rate:      9.5500%\n",
            "  Abstention Precision: 99.4764%\n",
            "  Abstention Recall:    55.1524%\n",
            "\n",
            "Evaluating decay_control Model...\n",
            "  Test Loss:            506.6854\n",
            "  Test Accuracy:        86.3787%\n",
            "  Abstention Rate:      0.1500%\n",
            "  Abstention Precision: 100.0000%\n",
            "  Abstention Recall:    0.8708%\n",
            "\n",
            "Evaluating full_pgd Model...\n",
            "  Test Loss:            503.6328\n",
            "  Test Accuracy:        85.5633%\n",
            "  Abstention Rate:      14.2750%\n",
            "  Abstention Precision: 100.0000%\n",
            "  Abstention Recall:    82.8737%\n",
            "\n",
            "Evaluating pgd Model...\n",
            "  Test Loss:            374.8803\n",
            "  Test Accuracy:        79.4926%\n",
            "  Abstention Rate:      16.7250%\n",
            "  Abstention Precision: 100.0000%\n",
            "  Abstention Recall:    97.0972%\n",
            "Evaluating models on boundary challenge set:\n",
            "\n",
            "Evaluating base_adam Model...\n",
            "  Test Loss:            42348.0262\n",
            "  Test Accuracy:        70.4545%\n",
            "  Abstention Rate:      18.8000%\n",
            "  Abstention Precision: 100.0000%\n",
            "  Abstention Recall:    43.9252%\n",
            "\n",
            "Evaluating input_space_adv Model...\n",
            "  Test Loss:            43717.7744\n",
            "  Test Accuracy:        63.1119%\n",
            "  Abstention Rate:      33.5000%\n",
            "  Abstention Precision: 100.0000%\n",
            "  Abstention Recall:    78.2710%\n",
            "\n",
            "Evaluating decay_control Model...\n",
            "  Test Loss:            42817.6844\n",
            "  Test Accuracy:        73.6014%\n",
            "  Abstention Rate:      0.3000%\n",
            "  Abstention Precision: 100.0000%\n",
            "  Abstention Recall:    0.7009%\n",
            "\n",
            "Evaluating full_pgd Model...\n",
            "  Test Loss:            60825.2419\n",
            "  Test Accuracy:        67.4825%\n",
            "  Abstention Rate:      19.0000%\n",
            "  Abstention Precision: 100.0000%\n",
            "  Abstention Recall:    44.3925%\n",
            "\n",
            "Evaluating pgd Model...\n",
            "  Test Loss:            297903.5591\n",
            "  Test Accuracy:        70.4545%\n",
            "  Abstention Rate:      36.3000%\n",
            "  Abstention Precision: 100.0000%\n",
            "  Abstention Recall:    84.8131%\n"
          ]
        },
        {
          "output_type": "stream",
          "name": "stderr",
          "text": [
            "Testing noise levels: 100%|██████████| 14/14 [02:34<00:00, 11.03s/it]\n"
          ]
        },
        {
          "output_type": "stream",
          "name": "stdout",
          "text": [
            "\n",
            "Running OOD evaluations...\n",
            "Drive already mounted at /content/drive; to attempt to forcibly remount, call drive.mount(\"/content/drive\", force_remount=True).\n"
          ]
        },
        {
          "output_type": "stream",
          "name": "stderr",
          "text": [
            "Adding files: 100%|██████████| 30/30 [00:00<00:00, 73.28it/s]\n"
          ]
        },
        {
          "output_type": "stream",
          "name": "stdout",
          "text": [
            "\n",
            "Saved experiment archive to Google Drive: /content/drive/MyDrive/abstention_experiments/abstention_experiment_s1_n0.3_20250126_234459.zip\n"
          ]
        },
        {
          "output_type": "stream",
          "name": "stderr",
          "text": [
            "Adding files: 100%|██████████| 30/30 [00:00<00:00, 73.74it/s]\n"
          ]
        },
        {
          "output_type": "display_data",
          "data": {
            "text/plain": [
              "<IPython.core.display.Javascript object>"
            ],
            "application/javascript": [
              "\n",
              "    async function download(id, filename, size) {\n",
              "      if (!google.colab.kernel.accessAllowed) {\n",
              "        return;\n",
              "      }\n",
              "      const div = document.createElement('div');\n",
              "      const label = document.createElement('label');\n",
              "      label.textContent = `Downloading \"${filename}\": `;\n",
              "      div.appendChild(label);\n",
              "      const progress = document.createElement('progress');\n",
              "      progress.max = size;\n",
              "      div.appendChild(progress);\n",
              "      document.body.appendChild(div);\n",
              "\n",
              "      const buffers = [];\n",
              "      let downloaded = 0;\n",
              "\n",
              "      const channel = await google.colab.kernel.comms.open(id);\n",
              "      // Send a message to notify the kernel that we're ready.\n",
              "      channel.send({})\n",
              "\n",
              "      for await (const message of channel.messages) {\n",
              "        // Send a message to notify the kernel that we're ready.\n",
              "        channel.send({})\n",
              "        if (message.buffers) {\n",
              "          for (const buffer of message.buffers) {\n",
              "            buffers.push(buffer);\n",
              "            downloaded += buffer.byteLength;\n",
              "            progress.value = downloaded;\n",
              "          }\n",
              "        }\n",
              "      }\n",
              "      const blob = new Blob(buffers, {type: 'application/binary'});\n",
              "      const a = document.createElement('a');\n",
              "      a.href = window.URL.createObjectURL(blob);\n",
              "      a.download = filename;\n",
              "      div.appendChild(a);\n",
              "      a.click();\n",
              "      div.remove();\n",
              "    }\n",
              "  "
            ]
          },
          "metadata": {}
        },
        {
          "output_type": "display_data",
          "data": {
            "text/plain": [
              "<IPython.core.display.Javascript object>"
            ],
            "application/javascript": [
              "download(\"download_c4056e2d-56ef-40fa-9e06-cc5c4a214d79\", \"abstention_experiment_s1_n0.3_20250126_234459.zip\", 7711151)"
            ]
          },
          "metadata": {}
        }
      ]
    },
    {
      "cell_type": "code",
      "source": [
        "@dataclass\n",
        "class VisualizationConfig:\n",
        "    \"\"\"Configuration for visualization styling.\"\"\"\n",
        "    color_map: Dict[str, str]\n",
        "    figsize: Tuple[int, int] = (12, 6)\n",
        "    grid_alpha: float = 0.2\n",
        "    bar_width_ratio: float = 0.8\n",
        "\n",
        "    def __init__(self) -> None:\n",
        "        \"\"\"Initialize with default color map for the actual models.\"\"\"\n",
        "        self.color_map = {\n",
        "            'pgd': '#FF7043',          # Orange\n",
        "            'full_pgd': '#FFAB91',     # Light orange\n",
        "            'base_adam': '#A5D6A7',    # Green\n",
        "            'input_space_adv': '#90CAF9', # Blue\n",
        "            'decay_control': '#CE93D8'  # Purple\n",
        "        }\n",
        "\n",
        "\n",
        "def load_and_process_metrics(\n",
        "    json_path: str,\n",
        "    baseline_model: str = \"base_adam\"\n",
        ") -> Tuple[Dict[str, List[float]], List[str], List[str], Dict[str, float]]:\n",
        "    \"\"\"\n",
        "    Load and process computational metrics data from JSON file.\n",
        "\n",
        "    Args:\n",
        "        json_path: Path to JSON file containing metrics\n",
        "        baseline_model: Name of model to use as baseline\n",
        "\n",
        "    Returns:\n",
        "        Tuple containing:\n",
        "        - Dictionary of relative values for each model\n",
        "        - List of model names\n",
        "        - List of metric names\n",
        "        - Dictionary of baseline values\n",
        "    \"\"\"\n",
        "    with open(json_path, 'r') as f:\n",
        "        data = json.load(f)\n",
        "\n",
        "    # Extract computational metrics section\n",
        "    metrics_data = data.get('computational_metrics', {})\n",
        "    if not metrics_data:\n",
        "        raise ValueError(\"No computational metrics found in JSON file\")\n",
        "\n",
        "    models = list(metrics_data.keys())\n",
        "    # Get metrics from first model\n",
        "    metrics = list(metrics_data[baseline_model].keys())\n",
        "\n",
        "    # Get baseline values\n",
        "    baseline_values = {\n",
        "        metric: metrics_data[baseline_model][metric]\n",
        "        for metric in metrics\n",
        "    }\n",
        "\n",
        "    # Calculate relative values\n",
        "    relative_values = {}\n",
        "    for model in models:\n",
        "        relative_values[model] = [\n",
        "            metrics_data[model][metric] / baseline_values[metric]\n",
        "            for metric in metrics\n",
        "        ]\n",
        "\n",
        "    return relative_values, models, metrics, baseline_values\n",
        "\n",
        "\n",
        "def create_bar_plot(\n",
        "    relative_values: Dict[str, List[float]],\n",
        "    models: List[str],\n",
        "    metrics: List[str],\n",
        "    config: VisualizationConfig,\n",
        "    baseline_model: str\n",
        ") -> Tuple[Figure, Axes]:\n",
        "    \"\"\"\n",
        "    Create bar plot visualization of relative metrics.\n",
        "\n",
        "    Args:\n",
        "        relative_values: Dictionary of relative values for each model\n",
        "        models: List of model names\n",
        "        metrics: List of metric names\n",
        "        config: Visualization configuration\n",
        "        baseline_model: Name of baseline model\n",
        "\n",
        "    Returns:\n",
        "        Tuple of (Figure, Axes) for the created plot\n",
        "    \"\"\"\n",
        "    fig, ax = plt.subplots(figsize=config.figsize)\n",
        "\n",
        "    # Calculate bar positions\n",
        "    x = np.arange(len(metrics))\n",
        "    width = config.bar_width_ratio / len(models)\n",
        "\n",
        "    # Plot bars for each model\n",
        "    for i, model in enumerate(models):\n",
        "        positions = x + width * (i - len(models)/2 + 0.5)\n",
        "        bars = ax.bar(\n",
        "            positions,\n",
        "            relative_values[model],\n",
        "            width,\n",
        "            label=model,\n",
        "            color=config.color_map[model]\n",
        "        )\n",
        "\n",
        "        # Add value labels\n",
        "        _add_value_labels(ax, bars)\n",
        "\n",
        "    _customize_plot(\n",
        "        ax, baseline_model, metrics,\n",
        "        config.grid_alpha\n",
        "    )\n",
        "\n",
        "    plt.tight_layout()\n",
        "    return fig, ax\n",
        "\n",
        "\n",
        "def _add_value_labels(ax: Axes, bars) -> None:\n",
        "    \"\"\"Add value labels on top of bars.\"\"\"\n",
        "    for bar in bars:\n",
        "        height = bar.get_height()\n",
        "        ax.text(\n",
        "            bar.get_x() + bar.get_width()/2.,\n",
        "            height,\n",
        "            f'{height:.2f}x',\n",
        "            ha='center',\n",
        "            va='bottom',\n",
        "            rotation=0\n",
        "        )\n",
        "\n",
        "\n",
        "def _customize_plot(\n",
        "    ax: Axes,\n",
        "    baseline_model: str,\n",
        "    metrics: List[str],\n",
        "    grid_alpha: float\n",
        ") -> None:\n",
        "    \"\"\"Apply custom styling to the plot.\"\"\"\n",
        "    # Set labels and title\n",
        "    ax.set_ylabel(f'Relative Cost ({baseline_model} = 1.0)')\n",
        "    ax.set_title('Computational Metrics Comparison')\n",
        "\n",
        "    # Configure x-axis with better metric names\n",
        "    ax.set_xticks(np.arange(len(metrics)))\n",
        "    metric_display_names = {\n",
        "        'forward_passes': 'Forward Passes',\n",
        "        'backward_passes': 'Backward Passes',\n",
        "        'total_flops': 'Total FLOPs',\n",
        "        'wall_time': 'Wall Time'\n",
        "    }\n",
        "    ax.set_xticklabels([metric_display_names.get(m, m) for m in metrics], rotation=45)\n",
        "\n",
        "    # Add baseline reference line\n",
        "    ax.axhline(y=1, color='gray', linestyle='--', alpha=0.5)\n",
        "\n",
        "    # Configure grid\n",
        "    ax.grid(True, axis='y', linestyle='-', alpha=grid_alpha)\n",
        "    ax.set_axisbelow(True)\n",
        "\n",
        "    # Remove top and right spines\n",
        "    ax.spines['top'].set_visible(False)\n",
        "    ax.spines['right'].set_visible(False)\n",
        "\n",
        "    # Configure legend with better model names\n",
        "    model_display_names = {\n",
        "        'pgd': 'PGD (Ours)',\n",
        "        'full_pgd': 'Full PGD',\n",
        "        'base_adam': 'Base Adam',\n",
        "        'input_space_adv': 'Input Space Adv',\n",
        "        'decay_control': 'Weight Decay'\n",
        "    }\n",
        "\n",
        "    handles, labels = ax.get_legend_handles_labels()\n",
        "    ax.legend(\n",
        "        handles,\n",
        "        [model_display_names.get(label, label) for label in labels],\n",
        "        title='Models',\n",
        "        bbox_to_anchor=(1.05, 1),\n",
        "        loc='upper left'\n",
        "    )\n",
        "\n",
        "\n",
        "def visualize_computational_metrics(\n",
        "    json_path: str,\n",
        "    baseline_model: str = \"base_adam\",\n",
        "    figsize: Tuple[int, int] = (12, 6),\n",
        "    save_path: Optional[str] = None\n",
        ") -> Tuple[Figure, Axes]:\n",
        "    \"\"\"\n",
        "    Create visualization of computational metrics comparison.\n",
        "\n",
        "    Args:\n",
        "        json_path: Path to JSON file containing metrics data\n",
        "        baseline_model: Name of model to use as baseline for comparison\n",
        "        figsize: Tuple of (width, height) for the figure\n",
        "        save_path: Optional path to save the visualization\n",
        "\n",
        "    Returns:\n",
        "        Tuple of (Figure, Axes) for the created plot\n",
        "\n",
        "    Example:\n",
        "        >>> fig, ax = visualize_computational_metrics(\n",
        "        ...     'results.json',\n",
        "        ...     save_path='computational_metrics.png'\n",
        "        ... )\n",
        "    \"\"\"\n",
        "    # Initialize configuration\n",
        "    config = VisualizationConfig()\n",
        "    config.figsize = figsize\n",
        "\n",
        "    # Load and process data\n",
        "    relative_values, models, metrics, _ = load_and_process_metrics(\n",
        "        json_path, baseline_model\n",
        "    )\n",
        "\n",
        "    # Create visualization\n",
        "    fig, ax = create_bar_plot(\n",
        "        relative_values, models, metrics,\n",
        "        config, baseline_model\n",
        "    )\n",
        "\n",
        "    # Save if path provided\n",
        "    if save_path:\n",
        "        plt.savefig(\n",
        "            save_path,\n",
        "            bbox_inches='tight',\n",
        "            dpi=300\n",
        "        )\n",
        "        print(f\"Saved visualization to {save_path}\")\n",
        "\n",
        "    return fig, ax"
      ],
      "metadata": {
        "id": "Fm4z62TaSJTw",
        "collapsed": true
      },
      "execution_count": null,
      "outputs": []
    },
    {
      "cell_type": "code",
      "source": [
        "def load_model(\n",
        "    file_path: Union[str, Path],\n",
        ") -> Optional[nn.Module]:\n",
        "    \"\"\"\n",
        "    Load a PyTorch model from a checkpoint file.\n",
        "\n",
        "    Supports loading from a state dictionary saved as OrderedDict in .pt format.\n",
        "    Args:\n",
        "        file_path: Path to the model checkpoint file\n",
        "\n",
        "    Returns:\n",
        "        Loaded PyTorch model\n",
        "    \"\"\"\n",
        "    try:\n",
        "        # Convert path to Path object for better handling\n",
        "        file_path = Path(file_path)\n",
        "        model = ArithmeticNet()  # Create new model instance\n",
        "\n",
        "        # Load checkpoint (state dict)\n",
        "        state_dict = torch.load(file_path)\n",
        "        # If it's already a state dict (OrderedDict), use it directly\n",
        "        model.load_state_dict(state_dict)\n",
        "\n",
        "        # Set to evaluation mode\n",
        "        model.eval()\n",
        "\n",
        "        print(f\"Successfully loaded model from {file_path}\")\n",
        "        return model\n",
        "\n",
        "    except Exception as e:\n",
        "        print(f\"Error loading model from {file_path}: {str(e)}\")\n",
        "        print(\"Detailed error info:\")\n",
        "        print(f\"  - File exists: {file_path.exists()}\")\n",
        "        print(f\"  - File size: {file_path.stat().st_size if file_path.exists() else 'N/A'}\")\n",
        "        print(f\"  - Error type: {type(e).__name__}\")\n",
        "        return None"
      ],
      "metadata": {
        "id": "T-cgm-gmTrG9"
      },
      "execution_count": null,
      "outputs": []
    },
    {
      "cell_type": "code",
      "source": [
        "def create_ood_comparison_plots(json_path, save_dir):\n",
        "    \"\"\"\n",
        "    Create comparison plots for different test types, showing relative performance\n",
        "    between different models.\n",
        "\n",
        "    Args:\n",
        "        json_path: Path to the JSON file containing test results\n",
        "        save_dir: Directory to save the generated plots\n",
        "    \"\"\"\n",
        "    # Read JSON file\n",
        "    with open(json_path, 'r') as f:\n",
        "        results = json.load(f)\n",
        "\n",
        "    plt.style.use('seaborn-v0_8-whitegrid')\n",
        "\n",
        "    # Define colors for each model\n",
        "    colors = {\n",
        "        'pgd': '#FF7043',          # Orange\n",
        "        'full_pgd': '#FFAB91',     # Light orange\n",
        "        'base_adam': '#A5D6A7',    # Green\n",
        "        'input_space_adv': '#90CAF9', # Blue\n",
        "        'decay_control': '#CE93D8'  # Purple\n",
        "    }\n",
        "\n",
        "    # Define display names for models and test types\n",
        "    model_display_names = {\n",
        "        'pgd': 'PGD',\n",
        "        'full_pgd': 'Full PGD',\n",
        "        'base_adam': 'Base Adam',\n",
        "        'input_space_adv': 'Input Space Adv',\n",
        "        'decay_control': 'Weight Decay'\n",
        "    }\n",
        "\n",
        "    test_types = {\n",
        "        'number_format': 'Number Format Tests',\n",
        "        'novel_operator': 'Novel Operator Tests',\n",
        "        'cross_boundary': 'Cross Boundary Tests'\n",
        "    }\n",
        "\n",
        "    # Create save directory if it doesn't exist\n",
        "    os.makedirs(save_dir, exist_ok=True)\n",
        "\n",
        "    # Create a separate plot for each test type\n",
        "    for test_type, title in test_types.items():\n",
        "        # Prepare data\n",
        "        model_names = list(results.keys())\n",
        "        recalls = [results[m][test_type]['abstention_recall'] for m in model_names]\n",
        "\n",
        "        # Convert recalls to percentages\n",
        "        recalls = [r * 100 for r in recalls]\n",
        "\n",
        "        x = np.arange(len(model_names))\n",
        "\n",
        "        fig, ax = plt.subplots(figsize=(12, 7))\n",
        "\n",
        "        # Plot bars\n",
        "        bar_width = 0.7\n",
        "        bars = ax.bar(x, recalls, width=bar_width,\n",
        "                     color=[colors[name] for name in model_names])\n",
        "\n",
        "        # Configure axes\n",
        "        y_max = max(recalls)\n",
        "        ax.set_ylim(0, y_max * 1.2)  # 20% padding on top\n",
        "        ax.grid(True, which=\"major\", ls=\"-\", alpha=0.2)\n",
        "\n",
        "        # Format y-axis to show percentages\n",
        "        ax.yaxis.set_major_formatter(plt.FuncFormatter(lambda y, _: f'{y:.1f}%'))\n",
        "\n",
        "        # Configure labels\n",
        "        ax.set_ylabel('Abstention Recall Rate (%)', fontsize=12, fontweight='bold')\n",
        "        ax.set_xticks(x)\n",
        "        ax.set_xticklabels([model_display_names[name] for name in model_names],\n",
        "                          fontsize=11, fontweight='bold', rotation=45, ha='right')\n",
        "\n",
        "        # Add value labels on bars\n",
        "        for bar, val in zip(bars, recalls):\n",
        "            height = bar.get_height()\n",
        "            ax.text(bar.get_x() + bar.get_width()/2, height + (y_max * 0.01),\n",
        "                   f'{val:.1f}%',\n",
        "                   ha='center', va='bottom',\n",
        "                   fontsize=11, fontweight='bold',\n",
        "                   color='black')\n",
        "\n",
        "        # Add title\n",
        "        ax.set_title(title, fontsize=14, fontweight='bold', pad=20)\n",
        "\n",
        "        # Calculate performance comparison for PGD vs others\n",
        "        pgd_val = results['pgd'][test_type]['abstention_recall'] * 100\n",
        "        other_models = [m for m in model_names if m != 'pgd']\n",
        "        best_other = max(results[m][test_type]['abstention_recall'] * 100\n",
        "                        for m in other_models)\n",
        "\n",
        "        # Calculate relative difference\n",
        "        diff_percentage = ((pgd_val - best_other) / max(best_other, 1e-9)) * 100.0\n",
        "\n",
        "        # Add performance comparison annotation\n",
        "        is_better = pgd_val > best_other\n",
        "        annotation_text = (\n",
        "            f\"+{abs(diff_percentage):.0f}% improvement\"\n",
        "            if is_better\n",
        "            else f\"{abs(diff_percentage):.0f}% lower\"\n",
        "        )\n",
        "\n",
        "        # Position annotation\n",
        "        pgd_idx = model_names.index('pgd')\n",
        "        arrow_start = pgd_idx\n",
        "        text_x = pgd_idx + 1.5\n",
        "\n",
        "        if is_better:\n",
        "            text_y = pgd_val * 1.05\n",
        "            connection_style = \"arc3,rad=0.2\"\n",
        "        else:\n",
        "            text_y = pgd_val * 0.95\n",
        "            connection_style = \"arc3,rad=-0.2\"\n",
        "\n",
        "        ax.annotate(\n",
        "            annotation_text,\n",
        "            xy=(arrow_start, pgd_val),\n",
        "            xytext=(text_x, text_y),\n",
        "            arrowprops=dict(\n",
        "                arrowstyle='->',\n",
        "                color=colors['pgd'],\n",
        "                linewidth=2,\n",
        "                connectionstyle=connection_style,\n",
        "                shrinkA=5,\n",
        "                shrinkB=5\n",
        "            ),\n",
        "            ha='left',\n",
        "            va='center',\n",
        "            color=colors['pgd'],\n",
        "            fontweight='bold',\n",
        "            fontsize=11\n",
        "        )\n",
        "\n",
        "        plt.tight_layout()\n",
        "\n",
        "        # Save figure\n",
        "        outfile = os.path.join(save_dir, f'{test_type}_recall_comparison.png')\n",
        "        plt.savefig(outfile, dpi=300, bbox_inches='tight', pad_inches=0.2)\n",
        "        plt.close()\n",
        "# create_ood_comparison_plots('ood_results1.json', 'output_plots')"
      ],
      "metadata": {
        "id": "CKOMY8YOI70x"
      },
      "execution_count": null,
      "outputs": []
    },
    {
      "cell_type": "code",
      "source": [
        "def fishers_method(pvalues):\n",
        "    \"\"\"Implement Fisher's method for combining p-values.\"\"\"\n",
        "    valid_pvals = [p for p in pvalues if p is not None and 0 < p < 1]\n",
        "\n",
        "    if not valid_pvals:\n",
        "        return None\n",
        "\n",
        "    statistic = -2 * np.sum(np.log(valid_pvals))\n",
        "    df = 2 * len(valid_pvals)\n",
        "    combined_p = 1 - chi2.cdf(statistic, df)\n",
        "\n",
        "    return float(combined_p)\n",
        "\n",
        "def analyze_ood_test(results, test_type, models):\n",
        "    \"\"\"Analyze a specific OOD test type across all seeds.\"\"\"\n",
        "    # Extract recalls for this test type\n",
        "    model_recalls = {model: [] for model in models}\n",
        "    for result in results:\n",
        "        for model in models:\n",
        "            if model in result and test_type in result[model]:\n",
        "                recall = result[model][test_type]['abstention_recall']\n",
        "                model_recalls[model].append(recall)\n",
        "\n",
        "    # Calculate mean performance\n",
        "    model_means = {model: np.mean(recalls) for model, recalls in model_recalls.items()}\n",
        "\n",
        "    # Perform pairwise comparisons\n",
        "    comparison_pvalues = {}\n",
        "    for i, model1 in enumerate(models):\n",
        "        for j, model2 in enumerate(models):\n",
        "            if i < j:  # Only compare each pair once\n",
        "                recalls1 = model_recalls[model1]\n",
        "                recalls2 = model_recalls[model2]\n",
        "\n",
        "                if model_means[model1] > model_means[model2]:\n",
        "                    better_model = model1\n",
        "                    worse_model = model2\n",
        "                    better_recalls = recalls1\n",
        "                    worse_recalls = recalls2\n",
        "                else:\n",
        "                    better_model = model2\n",
        "                    worse_model = model1\n",
        "                    better_recalls = recalls2\n",
        "                    worse_recalls = recalls1\n",
        "\n",
        "                key = f\"{better_model}_better_than_{worse_model}\"\n",
        "\n",
        "                try:\n",
        "                    _, p_value = mannwhitneyu(better_recalls, worse_recalls, alternative='greater')\n",
        "                    comparison_pvalues[key] = [float(p_value)]\n",
        "                except Exception as e:\n",
        "                    print(f\"Error in Mann-Whitney U test for {key}: {str(e)}\")\n",
        "                    comparison_pvalues[key] = [1.0]\n",
        "\n",
        "    # Apply Fisher's method\n",
        "    combined_results = {}\n",
        "    for comparison, pvalues in comparison_pvalues.items():\n",
        "        combined_p = fishers_method(pvalues)\n",
        "        combined_results[comparison] = {\n",
        "            'individual_pvalues': pvalues,\n",
        "            'combined_pvalue': combined_p,\n",
        "            'significant': combined_p < 0.05 if combined_p is not None else None\n",
        "        }\n",
        "\n",
        "    # Calculate statistics\n",
        "    mean_recalls_across_seeds = {}\n",
        "    for model in models:\n",
        "        values = model_recalls[model]\n",
        "        mean_recalls_across_seeds[model] = {\n",
        "            'values': [float(v) for v in values],\n",
        "            'mean': float(np.mean(values)),\n",
        "            'std': float(np.std(values))\n",
        "        }\n",
        "\n",
        "    return {\n",
        "        'fishers_method_results': combined_results,\n",
        "        'mean_recalls_across_seeds': mean_recalls_across_seeds,\n",
        "        'number_of_seeds': len(results)\n",
        "    }\n",
        "\n",
        "def combine_seed_results(results_dir):\n",
        "    \"\"\"Combine results from multiple seed files.\"\"\"\n",
        "    result_files = list(Path(results_dir).glob('*.json'))\n",
        "    all_results = []\n",
        "\n",
        "    print(f\"Found {len(result_files)} files\")\n",
        "\n",
        "    # Expected models and test types\n",
        "    models = ['base_adam', 'input_space_adv', 'decay_control', 'full_pgd', 'pgd']\n",
        "    test_types = ['number_format', 'novel_operator', 'cross_boundary']\n",
        "\n",
        "    for file_path in result_files:\n",
        "        try:\n",
        "            with open(file_path, 'r') as f:\n",
        "                data = json.load(f)\n",
        "                all_results.append(data)\n",
        "                print(f\"Successfully loaded OOD results from {file_path}\")\n",
        "        except Exception as e:\n",
        "            print(f\"Error loading {file_path}: {str(e)}\")\n",
        "\n",
        "    if not all_results:\n",
        "        raise ValueError(\"No results found in the files\")\n",
        "\n",
        "    # Analyze each test type separately\n",
        "    final_results = {}\n",
        "    for test_type in test_types:\n",
        "        final_results[test_type] = analyze_ood_test(all_results, test_type, models)\n",
        "\n",
        "    return final_results\n",
        "\n",
        "def analyze_directory(directory_path):\n",
        "    \"\"\"Run analysis pipeline on a directory of OOD test results.\"\"\"\n",
        "    directory_path = Path(directory_path)\n",
        "    output_path = directory_path / 'fishers_analysis_ood.json'\n",
        "\n",
        "    # Run analysis\n",
        "    final_results = combine_seed_results(directory_path)\n",
        "\n",
        "    # Save results\n",
        "    with open(output_path, 'w') as f:\n",
        "        json.dump(final_results, f, indent=2)\n",
        "\n",
        "    # Print summary for each test type\n",
        "    for test_type, results in final_results.items():\n",
        "        print(f\"\\nFisher's Method Analysis Summary - {test_type}:\")\n",
        "        print(\"=\" * (42 + len(test_type)))\n",
        "        print(f\"Number of seeds analyzed: {results['number_of_seeds']}\")\n",
        "\n",
        "        print(f\"\\nMean Abstention Recalls Across Seeds ({test_type}):\")\n",
        "        for model, stats in results['mean_recalls_across_seeds'].items():\n",
        "            print(f\"{model}: {stats['mean']:.4f} ± {stats['std']:.4f}\")\n",
        "\n",
        "        print(f\"\\nSignificant Results for {test_type} (p < 0.05):\")\n",
        "        for comparison, comp_results in results['fishers_method_results'].items():\n",
        "            if comp_results['significant']:\n",
        "                print(f\"\\n{comparison}:\")\n",
        "                print(f\"  Combined p-value: {comp_results['combined_pvalue']:.6f} (SIGNIFICANT)\")\n",
        "                print(f\"  Individual p-values: {[f'{p:.6f}' for p in comp_results['individual_pvalues']]}\")\n",
        "\n",
        "    print(f\"\\nFull results saved to: {output_path}\")\n",
        "\n",
        "    return final_results"
      ],
      "metadata": {
        "id": "7OT_e9b6AUiU"
      },
      "execution_count": null,
      "outputs": []
    }
  ]
}